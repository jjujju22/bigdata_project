{
 "cells": [
  {
   "cell_type": "code",
   "execution_count": 1,
   "id": "709ad279",
   "metadata": {
    "ExecuteTime": {
     "end_time": "2022-03-17T02:59:22.509287Z",
     "start_time": "2022-03-17T02:59:21.450849Z"
    }
   },
   "outputs": [],
   "source": [
    "import pandas as pd\n",
    "import numpy as np\n",
    "import seaborn as sns\n",
    "import matplotlib\n",
    "import matplotlib.pyplot as plt\n",
    "\n",
    "from sklearn.preprocessing import MinMaxScaler\n",
    "# 데이터 분할:train, test\n",
    "from sklearn.model_selection import train_test_split\n",
    "# 분류 SVM\n",
    "from sklearn.svm import SVC\n",
    "# 최적 모델, 파라미터 탐색\n",
    "from sklearn.model_selection import GridSearchCV\n",
    "\n",
    "# 분류모델 평가 함수\n",
    "from sklearn.metrics import accuracy_score, f1_score \n",
    "from sklearn.metrics import confusion_matrix, classification_report"
   ]
  },
  {
   "cell_type": "code",
   "execution_count": 2,
   "id": "d9d944cd",
   "metadata": {
    "ExecuteTime": {
     "end_time": "2022-03-17T02:59:23.354683Z",
     "start_time": "2022-03-17T02:59:23.348556Z"
    }
   },
   "outputs": [],
   "source": [
    "# 데이터 소수점 지정\n",
    "pd.options.display.precision = 2\n",
    "\n",
    "# 한글 깨짐 방지\n",
    "plt.rcParams['axes.unicode_minus'] = False\n",
    "plt.rcParams['font.family'] = 'AppleGothic'\n",
    "# plt.rcParams['font.family'] = 'Malgun Gothic'\n",
    "\n",
    "\n",
    "# 불필요한 경고 메시지를 나오지 않도록 한다.\n",
    "import warnings\n",
    "warnings.filterwarnings('ignore')"
   ]
  },
  {
   "cell_type": "code",
   "execution_count": 3,
   "id": "bb30fe3e",
   "metadata": {
    "ExecuteTime": {
     "end_time": "2022-03-17T02:59:23.908901Z",
     "start_time": "2022-03-17T02:59:23.845691Z"
    }
   },
   "outputs": [],
   "source": [
    "df_raw = pd.read_csv('add_variable_customer.csv', encoding='euc-kr')"
   ]
  },
  {
   "cell_type": "code",
   "execution_count": 4,
   "id": "debdffb8",
   "metadata": {
    "ExecuteTime": {
     "end_time": "2022-03-17T02:59:24.367504Z",
     "start_time": "2022-03-17T02:59:24.356501Z"
    }
   },
   "outputs": [],
   "source": [
    "df_raw.drop('Unnamed: 0', axis = 1, inplace=True)"
   ]
  },
  {
   "cell_type": "code",
   "execution_count": 5,
   "id": "b27afd76",
   "metadata": {
    "ExecuteTime": {
     "end_time": "2022-03-17T02:59:25.157786Z",
     "start_time": "2022-03-17T02:59:25.119162Z"
    }
   },
   "outputs": [
    {
     "data": {
      "text/html": [
       "<div>\n",
       "<style scoped>\n",
       "    .dataframe tbody tr th:only-of-type {\n",
       "        vertical-align: middle;\n",
       "    }\n",
       "\n",
       "    .dataframe tbody tr th {\n",
       "        vertical-align: top;\n",
       "    }\n",
       "\n",
       "    .dataframe thead th {\n",
       "        text-align: right;\n",
       "    }\n",
       "</style>\n",
       "<table border=\"1\" class=\"dataframe\">\n",
       "  <thead>\n",
       "    <tr style=\"text-align: right;\">\n",
       "      <th></th>\n",
       "      <th>CustomerId</th>\n",
       "      <th>Gender</th>\n",
       "      <th>Age</th>\n",
       "      <th>AgeGroup</th>\n",
       "      <th>Married</th>\n",
       "      <th>Dependents</th>\n",
       "      <th>noDependents</th>\n",
       "      <th>Referrals</th>\n",
       "      <th>noReferrals</th>\n",
       "      <th>PaperlessBilling</th>\n",
       "      <th>...</th>\n",
       "      <th>SatisScore</th>\n",
       "      <th>TotalExtraDataCharge</th>\n",
       "      <th>AvgRoamCharge</th>\n",
       "      <th>TotalRoamCharge</th>\n",
       "      <th>TenureMonths</th>\n",
       "      <th>AvgCharge</th>\n",
       "      <th>TotalCharge</th>\n",
       "      <th>TotalRevenue</th>\n",
       "      <th>MonthRoamCharge</th>\n",
       "      <th>AvgExtraDataCharge</th>\n",
       "    </tr>\n",
       "  </thead>\n",
       "  <tbody>\n",
       "    <tr>\n",
       "      <th>0</th>\n",
       "      <td>C-10001</td>\n",
       "      <td>여성</td>\n",
       "      <td>37</td>\n",
       "      <td>30</td>\n",
       "      <td>Yes</td>\n",
       "      <td>No</td>\n",
       "      <td>0</td>\n",
       "      <td>Yes</td>\n",
       "      <td>2</td>\n",
       "      <td>Yes</td>\n",
       "      <td>...</td>\n",
       "      <td>3</td>\n",
       "      <td>0</td>\n",
       "      <td>47910</td>\n",
       "      <td>431100</td>\n",
       "      <td>21</td>\n",
       "      <td>83590.48</td>\n",
       "      <td>1755400</td>\n",
       "      <td>2186500</td>\n",
       "      <td>20528</td>\n",
       "      <td>0</td>\n",
       "    </tr>\n",
       "    <tr>\n",
       "      <th>1</th>\n",
       "      <td>C-10002</td>\n",
       "      <td>남성</td>\n",
       "      <td>46</td>\n",
       "      <td>40</td>\n",
       "      <td>No</td>\n",
       "      <td>No</td>\n",
       "      <td>0</td>\n",
       "      <td>No</td>\n",
       "      <td>0</td>\n",
       "      <td>No</td>\n",
       "      <td>...</td>\n",
       "      <td>5</td>\n",
       "      <td>11300</td>\n",
       "      <td>12090</td>\n",
       "      <td>108710</td>\n",
       "      <td>21</td>\n",
       "      <td>68928.57</td>\n",
       "      <td>1447500</td>\n",
       "      <td>1567510</td>\n",
       "      <td>5176</td>\n",
       "      <td>538</td>\n",
       "    </tr>\n",
       "    <tr>\n",
       "      <th>2</th>\n",
       "      <td>C-10003</td>\n",
       "      <td>남성</td>\n",
       "      <td>50</td>\n",
       "      <td>50</td>\n",
       "      <td>No</td>\n",
       "      <td>No</td>\n",
       "      <td>0</td>\n",
       "      <td>No</td>\n",
       "      <td>0</td>\n",
       "      <td>Yes</td>\n",
       "      <td>...</td>\n",
       "      <td>1</td>\n",
       "      <td>0</td>\n",
       "      <td>38080</td>\n",
       "      <td>152100</td>\n",
       "      <td>4</td>\n",
       "      <td>98180.00</td>\n",
       "      <td>490900</td>\n",
       "      <td>643000</td>\n",
       "      <td>38025</td>\n",
       "      <td>0</td>\n",
       "    </tr>\n",
       "    <tr>\n",
       "      <th>3</th>\n",
       "      <td>C-10004</td>\n",
       "      <td>남성</td>\n",
       "      <td>78</td>\n",
       "      <td>70</td>\n",
       "      <td>Yes</td>\n",
       "      <td>No</td>\n",
       "      <td>0</td>\n",
       "      <td>Yes</td>\n",
       "      <td>1</td>\n",
       "      <td>Yes</td>\n",
       "      <td>...</td>\n",
       "      <td>1</td>\n",
       "      <td>0</td>\n",
       "      <td>31410</td>\n",
       "      <td>408720</td>\n",
       "      <td>13</td>\n",
       "      <td>112742.86</td>\n",
       "      <td>1578400</td>\n",
       "      <td>1987120</td>\n",
       "      <td>31440</td>\n",
       "      <td>0</td>\n",
       "    </tr>\n",
       "    <tr>\n",
       "      <th>4</th>\n",
       "      <td>C-10005</td>\n",
       "      <td>여성</td>\n",
       "      <td>75</td>\n",
       "      <td>70</td>\n",
       "      <td>Yes</td>\n",
       "      <td>No</td>\n",
       "      <td>0</td>\n",
       "      <td>Yes</td>\n",
       "      <td>3</td>\n",
       "      <td>Yes</td>\n",
       "      <td>...</td>\n",
       "      <td>1</td>\n",
       "      <td>0</td>\n",
       "      <td>8360</td>\n",
       "      <td>24970</td>\n",
       "      <td>3</td>\n",
       "      <td>94500.00</td>\n",
       "      <td>378000</td>\n",
       "      <td>402970</td>\n",
       "      <td>8323</td>\n",
       "      <td>0</td>\n",
       "    </tr>\n",
       "    <tr>\n",
       "      <th>...</th>\n",
       "      <td>...</td>\n",
       "      <td>...</td>\n",
       "      <td>...</td>\n",
       "      <td>...</td>\n",
       "      <td>...</td>\n",
       "      <td>...</td>\n",
       "      <td>...</td>\n",
       "      <td>...</td>\n",
       "      <td>...</td>\n",
       "      <td>...</td>\n",
       "      <td>...</td>\n",
       "      <td>...</td>\n",
       "      <td>...</td>\n",
       "      <td>...</td>\n",
       "      <td>...</td>\n",
       "      <td>...</td>\n",
       "      <td>...</td>\n",
       "      <td>...</td>\n",
       "      <td>...</td>\n",
       "      <td>...</td>\n",
       "      <td>...</td>\n",
       "    </tr>\n",
       "    <tr>\n",
       "      <th>6858</th>\n",
       "      <td>C-17039</td>\n",
       "      <td>여성</td>\n",
       "      <td>20</td>\n",
       "      <td>20</td>\n",
       "      <td>No</td>\n",
       "      <td>No</td>\n",
       "      <td>0</td>\n",
       "      <td>No</td>\n",
       "      <td>0</td>\n",
       "      <td>No</td>\n",
       "      <td>...</td>\n",
       "      <td>4</td>\n",
       "      <td>0</td>\n",
       "      <td>52770</td>\n",
       "      <td>685680</td>\n",
       "      <td>25</td>\n",
       "      <td>64428.00</td>\n",
       "      <td>1610700</td>\n",
       "      <td>2296380</td>\n",
       "      <td>27427</td>\n",
       "      <td>0</td>\n",
       "    </tr>\n",
       "    <tr>\n",
       "      <th>6859</th>\n",
       "      <td>C-17040</td>\n",
       "      <td>남성</td>\n",
       "      <td>40</td>\n",
       "      <td>40</td>\n",
       "      <td>Yes</td>\n",
       "      <td>No</td>\n",
       "      <td>0</td>\n",
       "      <td>Yes</td>\n",
       "      <td>1</td>\n",
       "      <td>Yes</td>\n",
       "      <td>...</td>\n",
       "      <td>1</td>\n",
       "      <td>0</td>\n",
       "      <td>18310</td>\n",
       "      <td>402730</td>\n",
       "      <td>22</td>\n",
       "      <td>101891.30</td>\n",
       "      <td>2343500</td>\n",
       "      <td>2746230</td>\n",
       "      <td>18305</td>\n",
       "      <td>0</td>\n",
       "    </tr>\n",
       "    <tr>\n",
       "      <th>6860</th>\n",
       "      <td>C-17041</td>\n",
       "      <td>남성</td>\n",
       "      <td>22</td>\n",
       "      <td>20</td>\n",
       "      <td>No</td>\n",
       "      <td>No</td>\n",
       "      <td>0</td>\n",
       "      <td>No</td>\n",
       "      <td>0</td>\n",
       "      <td>Yes</td>\n",
       "      <td>...</td>\n",
       "      <td>5</td>\n",
       "      <td>0</td>\n",
       "      <td>21020</td>\n",
       "      <td>42040</td>\n",
       "      <td>14</td>\n",
       "      <td>56600.00</td>\n",
       "      <td>792400</td>\n",
       "      <td>834440</td>\n",
       "      <td>3002</td>\n",
       "      <td>0</td>\n",
       "    </tr>\n",
       "    <tr>\n",
       "      <th>6861</th>\n",
       "      <td>C-17042</td>\n",
       "      <td>남성</td>\n",
       "      <td>21</td>\n",
       "      <td>20</td>\n",
       "      <td>No</td>\n",
       "      <td>No</td>\n",
       "      <td>0</td>\n",
       "      <td>Yes</td>\n",
       "      <td>5</td>\n",
       "      <td>No</td>\n",
       "      <td>...</td>\n",
       "      <td>3</td>\n",
       "      <td>0</td>\n",
       "      <td>2370</td>\n",
       "      <td>160460</td>\n",
       "      <td>79</td>\n",
       "      <td>80107.59</td>\n",
       "      <td>6328500</td>\n",
       "      <td>6488960</td>\n",
       "      <td>2031</td>\n",
       "      <td>0</td>\n",
       "    </tr>\n",
       "    <tr>\n",
       "      <th>6862</th>\n",
       "      <td>C-17043</td>\n",
       "      <td>남성</td>\n",
       "      <td>36</td>\n",
       "      <td>30</td>\n",
       "      <td>Yes</td>\n",
       "      <td>No</td>\n",
       "      <td>0</td>\n",
       "      <td>Yes</td>\n",
       "      <td>1</td>\n",
       "      <td>No</td>\n",
       "      <td>...</td>\n",
       "      <td>3</td>\n",
       "      <td>0</td>\n",
       "      <td>0</td>\n",
       "      <td>0</td>\n",
       "      <td>75</td>\n",
       "      <td>69281.33</td>\n",
       "      <td>5196100</td>\n",
       "      <td>5196100</td>\n",
       "      <td>0</td>\n",
       "      <td>0</td>\n",
       "    </tr>\n",
       "  </tbody>\n",
       "</table>\n",
       "<p>6863 rows × 34 columns</p>\n",
       "</div>"
      ],
      "text/plain": [
       "     CustomerId Gender  Age  AgeGroup Married Dependents  noDependents  \\\n",
       "0       C-10001     여성   37        30     Yes         No             0   \n",
       "1       C-10002     남성   46        40      No         No             0   \n",
       "2       C-10003     남성   50        50      No         No             0   \n",
       "3       C-10004     남성   78        70     Yes         No             0   \n",
       "4       C-10005     여성   75        70     Yes         No             0   \n",
       "...         ...    ...  ...       ...     ...        ...           ...   \n",
       "6858    C-17039     여성   20        20      No         No             0   \n",
       "6859    C-17040     남성   40        40     Yes         No             0   \n",
       "6860    C-17041     남성   22        20      No         No             0   \n",
       "6861    C-17042     남성   21        20      No         No             0   \n",
       "6862    C-17043     남성   36        30     Yes         No             0   \n",
       "\n",
       "     Referrals  noReferrals PaperlessBilling  ... SatisScore  \\\n",
       "0          Yes            2              Yes  ...          3   \n",
       "1           No            0               No  ...          5   \n",
       "2           No            0              Yes  ...          1   \n",
       "3          Yes            1              Yes  ...          1   \n",
       "4          Yes            3              Yes  ...          1   \n",
       "...        ...          ...              ...  ...        ...   \n",
       "6858        No            0               No  ...          4   \n",
       "6859       Yes            1              Yes  ...          1   \n",
       "6860        No            0              Yes  ...          5   \n",
       "6861       Yes            5               No  ...          3   \n",
       "6862       Yes            1               No  ...          3   \n",
       "\n",
       "     TotalExtraDataCharge AvgRoamCharge TotalRoamCharge TenureMonths  \\\n",
       "0                       0         47910          431100           21   \n",
       "1                   11300         12090          108710           21   \n",
       "2                       0         38080          152100            4   \n",
       "3                       0         31410          408720           13   \n",
       "4                       0          8360           24970            3   \n",
       "...                   ...           ...             ...          ...   \n",
       "6858                    0         52770          685680           25   \n",
       "6859                    0         18310          402730           22   \n",
       "6860                    0         21020           42040           14   \n",
       "6861                    0          2370          160460           79   \n",
       "6862                    0             0               0           75   \n",
       "\n",
       "      AvgCharge TotalCharge TotalRevenue MonthRoamCharge  AvgExtraDataCharge  \n",
       "0      83590.48     1755400      2186500           20528                   0  \n",
       "1      68928.57     1447500      1567510            5176                 538  \n",
       "2      98180.00      490900       643000           38025                   0  \n",
       "3     112742.86     1578400      1987120           31440                   0  \n",
       "4      94500.00      378000       402970            8323                   0  \n",
       "...         ...         ...          ...             ...                 ...  \n",
       "6858   64428.00     1610700      2296380           27427                   0  \n",
       "6859  101891.30     2343500      2746230           18305                   0  \n",
       "6860   56600.00      792400       834440            3002                   0  \n",
       "6861   80107.59     6328500      6488960            2031                   0  \n",
       "6862   69281.33     5196100      5196100               0                   0  \n",
       "\n",
       "[6863 rows x 34 columns]"
      ]
     },
     "execution_count": 5,
     "metadata": {},
     "output_type": "execute_result"
    }
   ],
   "source": [
    "df_raw"
   ]
  },
  {
   "cell_type": "markdown",
   "id": "a2f05548",
   "metadata": {},
   "source": [
    "우리의 잠재고객 층!!"
   ]
  },
  {
   "cell_type": "code",
   "execution_count": 174,
   "id": "046b0d84",
   "metadata": {
    "ExecuteTime": {
     "end_time": "2022-03-17T02:49:31.096549Z",
     "start_time": "2022-03-17T02:49:31.087729Z"
    }
   },
   "outputs": [],
   "source": [
    "pros_cust_lst = df_raw[(df_raw['SatisScore'] >= 3) & (df_raw['ChurnScore'] >= 65) & (df_raw['ChurnScore'] <=80) & (df_raw['ChurnLabel']==0)]['CustomerId']"
   ]
  },
  {
   "cell_type": "code",
   "execution_count": 175,
   "id": "24e94e70",
   "metadata": {
    "ExecuteTime": {
     "end_time": "2022-03-17T02:49:31.338619Z",
     "start_time": "2022-03-17T02:49:31.329536Z"
    }
   },
   "outputs": [
    {
     "data": {
      "text/plain": [
       "0       C-10001\n",
       "1       C-10002\n",
       "22      C-10023\n",
       "25      C-10027\n",
       "28      C-10030\n",
       "         ...   \n",
       "6846    C-17027\n",
       "6849    C-17030\n",
       "6850    C-17031\n",
       "6853    C-17034\n",
       "6854    C-17035\n",
       "Name: CustomerId, Length: 1381, dtype: object"
      ]
     },
     "execution_count": 175,
     "metadata": {},
     "output_type": "execute_result"
    }
   ],
   "source": [
    "pros_cust_lst"
   ]
  },
  {
   "cell_type": "markdown",
   "id": "026a13e2",
   "metadata": {},
   "source": [
    "##### @Gender : 여성(1), 남성(0)"
   ]
  },
  {
   "cell_type": "code",
   "execution_count": 6,
   "id": "c1d36a13",
   "metadata": {
    "ExecuteTime": {
     "end_time": "2022-03-17T02:59:28.004904Z",
     "start_time": "2022-03-17T02:59:27.989115Z"
    }
   },
   "outputs": [],
   "source": [
    "df_raw['Gender'] = df_raw['Gender'].replace(to_replace='여성', value=1)\n",
    "df_raw['Gender'] = df_raw['Gender'].replace(to_replace='남성', value=0)"
   ]
  },
  {
   "cell_type": "markdown",
   "id": "51117ec0",
   "metadata": {},
   "source": [
    "##### @Married : Yes(1), No(0)"
   ]
  },
  {
   "cell_type": "code",
   "execution_count": 7,
   "id": "b15b1372",
   "metadata": {
    "ExecuteTime": {
     "end_time": "2022-03-17T02:59:28.454586Z",
     "start_time": "2022-03-17T02:59:28.440243Z"
    }
   },
   "outputs": [],
   "source": [
    "df_raw['Married'] = df_raw['Married'].replace(to_replace='Yes', value=1)\n",
    "df_raw['Married'] = df_raw['Married'].replace(to_replace='No', value=0)"
   ]
  },
  {
   "cell_type": "markdown",
   "id": "f33fa8bd",
   "metadata": {},
   "source": [
    "##### @Referrals : Yes(1), No(0)"
   ]
  },
  {
   "cell_type": "code",
   "execution_count": 8,
   "id": "9b40f4e9",
   "metadata": {
    "ExecuteTime": {
     "end_time": "2022-03-17T02:59:28.743092Z",
     "start_time": "2022-03-17T02:59:28.729120Z"
    }
   },
   "outputs": [],
   "source": [
    "df_raw['Referrals'] = df_raw['Referrals'].replace(to_replace='Yes', value=1)\n",
    "df_raw['Referrals'] = df_raw['Referrals'].replace(to_replace='No', value=0)"
   ]
  },
  {
   "cell_type": "markdown",
   "id": "49f36b31",
   "metadata": {
    "ExecuteTime": {
     "end_time": "2022-03-13T09:00:42.804650Z",
     "start_time": "2022-03-13T09:00:42.768109Z"
    }
   },
   "source": [
    "##### @Dependents: Yes(1), No(0)"
   ]
  },
  {
   "cell_type": "code",
   "execution_count": 9,
   "id": "c2894f1a",
   "metadata": {
    "ExecuteTime": {
     "end_time": "2022-03-17T02:59:29.509812Z",
     "start_time": "2022-03-17T02:59:29.496036Z"
    }
   },
   "outputs": [],
   "source": [
    "df_raw['Dependents'] = df_raw['Dependents'].replace(to_replace='Yes', value=1)\n",
    "df_raw['Dependents'] = df_raw['Dependents'].replace(to_replace='No', value=0)"
   ]
  },
  {
   "cell_type": "markdown",
   "id": "4fda3f29",
   "metadata": {},
   "source": [
    "##### @PaperlessBilling  : Yes(1), No(0)"
   ]
  },
  {
   "cell_type": "code",
   "execution_count": 10,
   "id": "0c27fecb",
   "metadata": {
    "ExecuteTime": {
     "end_time": "2022-03-17T02:59:29.968069Z",
     "start_time": "2022-03-17T02:59:29.953803Z"
    }
   },
   "outputs": [],
   "source": [
    "df_raw['PaperlessBilling'] = df_raw['PaperlessBilling'].replace(to_replace='Yes', value=1)\n",
    "df_raw['PaperlessBilling'] = df_raw['PaperlessBilling'].replace(to_replace='No', value=0)"
   ]
  },
  {
   "cell_type": "markdown",
   "id": "ba4f1a95",
   "metadata": {},
   "source": [
    "##### @PaymentMethod"
   ]
  },
  {
   "cell_type": "code",
   "execution_count": 11,
   "id": "fa37662f",
   "metadata": {
    "ExecuteTime": {
     "end_time": "2022-03-17T02:59:30.396284Z",
     "start_time": "2022-03-17T02:59:30.380242Z"
    }
   },
   "outputs": [],
   "source": [
    "df_raw['PaymentMethod'] = df_raw['PaymentMethod'].replace(to_replace='신용카드', value=1)\n",
    "df_raw['PaymentMethod'] = df_raw['PaymentMethod'].replace(to_replace='계좌이체', value=0)\n",
    "df_raw['PaymentMethod'] = df_raw['PaymentMethod'].replace(to_replace='이체/메일확인', value=2)"
   ]
  },
  {
   "cell_type": "markdown",
   "id": "86ab7ca3",
   "metadata": {},
   "source": [
    "##### @OnlineSecurity"
   ]
  },
  {
   "cell_type": "code",
   "execution_count": 12,
   "id": "e9fc8c85",
   "metadata": {
    "ExecuteTime": {
     "end_time": "2022-03-17T02:59:30.907288Z",
     "start_time": "2022-03-17T02:59:30.893225Z"
    }
   },
   "outputs": [],
   "source": [
    "df_raw['OnlineSecurity'] = df_raw['OnlineSecurity'].replace(to_replace='Yes', value=1)\n",
    "df_raw['OnlineSecurity'] = df_raw['OnlineSecurity'].replace(to_replace='No', value=0)"
   ]
  },
  {
   "cell_type": "markdown",
   "id": "7c844b98",
   "metadata": {},
   "source": [
    "##### @OnlineBackup  : Yes(1), No(0)"
   ]
  },
  {
   "cell_type": "code",
   "execution_count": 13,
   "id": "c049d4c3",
   "metadata": {
    "ExecuteTime": {
     "end_time": "2022-03-17T02:59:31.323105Z",
     "start_time": "2022-03-17T02:59:31.307769Z"
    }
   },
   "outputs": [],
   "source": [
    "df_raw['OnlineBackup'] = df_raw['OnlineBackup'].replace(to_replace='Yes', value=1)\n",
    "df_raw['OnlineBackup'] = df_raw['OnlineBackup'].replace(to_replace='No', value=0)"
   ]
  },
  {
   "cell_type": "markdown",
   "id": "6bb94f0f",
   "metadata": {},
   "source": [
    "##### @TechSupport  : Yes(1), No(0)"
   ]
  },
  {
   "cell_type": "code",
   "execution_count": 14,
   "id": "791f8c71",
   "metadata": {
    "ExecuteTime": {
     "end_time": "2022-03-17T02:59:31.679129Z",
     "start_time": "2022-03-17T02:59:31.666155Z"
    }
   },
   "outputs": [],
   "source": [
    "df_raw['TechSupport'] = df_raw['TechSupport'].replace(to_replace='Yes', value=1)\n",
    "df_raw['TechSupport'] = df_raw['TechSupport'].replace(to_replace='No', value=0)"
   ]
  },
  {
   "cell_type": "markdown",
   "id": "91b3c02f",
   "metadata": {},
   "source": [
    "##### @UnlimitedData : Yes(1), No(0)"
   ]
  },
  {
   "cell_type": "code",
   "execution_count": 15,
   "id": "b4d03e31",
   "metadata": {
    "ExecuteTime": {
     "end_time": "2022-03-17T02:59:32.107574Z",
     "start_time": "2022-03-17T02:59:32.090781Z"
    }
   },
   "outputs": [],
   "source": [
    "df_raw['UnlimitedData'] = df_raw['UnlimitedData'].replace(to_replace='Yes', value=1)\n",
    "df_raw['UnlimitedData'] = df_raw['UnlimitedData'].replace(to_replace='No', value=0)"
   ]
  },
  {
   "cell_type": "markdown",
   "id": "8cd5edd4",
   "metadata": {},
   "source": [
    "# DT"
   ]
  },
  {
   "cell_type": "code",
   "execution_count": 16,
   "id": "02fdf5ec",
   "metadata": {
    "ExecuteTime": {
     "end_time": "2022-03-17T02:59:35.263234Z",
     "start_time": "2022-03-17T02:59:35.185180Z"
    }
   },
   "outputs": [],
   "source": [
    "# export_graphviz: 나무 구조 생성 및 저장 \n",
    "from sklearn.tree import export_graphviz\n",
    "# graphviz : 나무 구조 시각화  (.dot 확장자 파일 불러오기 등)\n",
    "import graphviz\n",
    "\n",
    "# 데이터 분할:train, test\n",
    "from sklearn.model_selection import train_test_split\n",
    "# 분류 Decision Tree\n",
    "from sklearn.tree import DecisionTreeClassifier\n",
    "# 최적 모델, 파라미터 탐색\n",
    "from sklearn.model_selection import GridSearchCV\n",
    "\n",
    "# 분류모델 평가 함수\n",
    "from sklearn.metrics import accuracy_score, f1_score \n",
    "from sklearn.metrics import confusion_matrix, classification_report\n"
   ]
  },
  {
   "cell_type": "code",
   "execution_count": 187,
   "id": "5e80943e",
   "metadata": {
    "ExecuteTime": {
     "end_time": "2022-03-17T02:49:37.997942Z",
     "start_time": "2022-03-17T02:49:37.993186Z"
    }
   },
   "outputs": [],
   "source": [
    "# df_raw['StartDate'] = pd.to_datetime(df_raw['StartDate'])\n",
    "# df_raw = df_raw[(df_raw[\"StartDate\"].dt.year>=2020)]"
   ]
  },
  {
   "cell_type": "code",
   "execution_count": 17,
   "id": "cd883445",
   "metadata": {
    "ExecuteTime": {
     "end_time": "2022-03-17T02:59:59.827648Z",
     "start_time": "2022-03-17T02:59:59.815119Z"
    }
   },
   "outputs": [],
   "source": [
    "df_raw.drop(['CustomerId', 'StartDate', 'EndDate',\n",
    "             'EndDateTmp', 'ChurnCategory', 'ChurnReason', 'SatisScore', 'ChurnScore'], axis=1, inplace=True)"
   ]
  },
  {
   "cell_type": "markdown",
   "id": "b33f6ed7",
   "metadata": {},
   "source": [
    "## 데이터 분할"
   ]
  },
  {
   "cell_type": "code",
   "execution_count": 18,
   "id": "e5348a07",
   "metadata": {
    "ExecuteTime": {
     "end_time": "2022-03-17T03:00:02.137973Z",
     "start_time": "2022-03-17T03:00:02.123049Z"
    }
   },
   "outputs": [],
   "source": [
    "# 설명변수, 목표변수 데이터 구분\n",
    "df_raw_x = df_raw.drop('ChurnLabel', axis=1, inplace=False)\n",
    "df_raw_y = df_raw['ChurnLabel']\n",
    "\n",
    "\n",
    "df_train_x, df_test_x, df_train_y, df_test_y = train_test_split(df_raw_x, df_raw_y,\n",
    "                                                               test_size=0.35, random_state=42)"
   ]
  },
  {
   "cell_type": "code",
   "execution_count": 19,
   "id": "fabe1ec7",
   "metadata": {
    "ExecuteTime": {
     "end_time": "2022-03-17T03:00:03.875405Z",
     "start_time": "2022-03-17T03:00:03.854366Z"
    },
    "scrolled": false
   },
   "outputs": [
    {
     "name": "stdout",
     "output_type": "stream",
     "text": [
      "<class 'pandas.core.frame.DataFrame'>\n",
      "RangeIndex: 6863 entries, 0 to 6862\n",
      "Data columns (total 26 columns):\n",
      " #   Column                Non-Null Count  Dtype  \n",
      "---  ------                --------------  -----  \n",
      " 0   Gender                6863 non-null   int64  \n",
      " 1   Age                   6863 non-null   int64  \n",
      " 2   AgeGroup              6863 non-null   int64  \n",
      " 3   Married               6863 non-null   int64  \n",
      " 4   Dependents            6863 non-null   int64  \n",
      " 5   noDependents          6863 non-null   int64  \n",
      " 6   Referrals             6863 non-null   int64  \n",
      " 7   noReferrals           6863 non-null   int64  \n",
      " 8   PaperlessBilling      6863 non-null   int64  \n",
      " 9   PaymentMethod         6863 non-null   int64  \n",
      " 10  OnlineSecurity        6863 non-null   int64  \n",
      " 11  OnlineBackup          6863 non-null   int64  \n",
      " 12  TechSupport           6863 non-null   int64  \n",
      " 13  UnlimitedData         6863 non-null   int64  \n",
      " 14  AvgDownloadGB         6863 non-null   int64  \n",
      " 15  ChurnLabel            6863 non-null   int64  \n",
      " 16  CustomerLTV           6863 non-null   int64  \n",
      " 17  TotalExtraDataCharge  6863 non-null   int64  \n",
      " 18  AvgRoamCharge         6863 non-null   int64  \n",
      " 19  TotalRoamCharge       6863 non-null   int64  \n",
      " 20  TenureMonths          6863 non-null   int64  \n",
      " 21  AvgCharge             6863 non-null   float64\n",
      " 22  TotalCharge           6863 non-null   int64  \n",
      " 23  TotalRevenue          6863 non-null   int64  \n",
      " 24  MonthRoamCharge       6863 non-null   int64  \n",
      " 25  AvgExtraDataCharge    6863 non-null   int64  \n",
      "dtypes: float64(1), int64(25)\n",
      "memory usage: 1.4 MB\n"
     ]
    }
   ],
   "source": [
    "df_raw.info()"
   ]
  },
  {
   "cell_type": "code",
   "execution_count": 20,
   "id": "1418e909",
   "metadata": {
    "ExecuteTime": {
     "end_time": "2022-03-17T03:00:08.470308Z",
     "start_time": "2022-03-17T03:00:08.463054Z"
    }
   },
   "outputs": [
    {
     "name": "stdout",
     "output_type": "stream",
     "text": [
      "분할 전 설명변수 데이터:  (6863, 25)\n",
      "분할 후 설명변수 데이터 \n",
      "train :  (4460, 25)  test:  (2403, 25)\n"
     ]
    }
   ],
   "source": [
    "print('분할 전 설명변수 데이터: ', df_raw_x.shape)\n",
    "print('분할 후 설명변수 데이터 \\ntrain : ', df_train_x.shape, ' test: ', df_test_x.shape)"
   ]
  },
  {
   "cell_type": "code",
   "execution_count": 21,
   "id": "0593d2bd",
   "metadata": {
    "ExecuteTime": {
     "end_time": "2022-03-17T03:00:09.195346Z",
     "start_time": "2022-03-17T03:00:09.125794Z"
    }
   },
   "outputs": [
    {
     "name": "stdout",
     "output_type": "stream",
     "text": [
      "Accuracy on training set: 1.000\n",
      "Accuracy on test set: 0.945\n"
     ]
    }
   ],
   "source": [
    "tree_uncustomized = DecisionTreeClassifier(random_state=42 )\n",
    "tree_uncustomized.fit(df_train_x, df_train_y)\n",
    "\n",
    "# train 데이터 정확도\n",
    "print(\"Accuracy on training set: {:.3f}\".format(tree_uncustomized.score(df_train_x, df_train_y)))\n",
    "# test 데이터 정확도å\n",
    "print(\"Accuracy on test set: {:.3f}\".format(tree_uncustomized.score(df_test_x, df_test_y)))"
   ]
  },
  {
   "cell_type": "code",
   "execution_count": 22,
   "id": "93efb175",
   "metadata": {
    "ExecuteTime": {
     "end_time": "2022-03-17T03:00:11.414202Z",
     "start_time": "2022-03-17T03:00:11.409782Z"
    }
   },
   "outputs": [],
   "source": [
    "v_feature_name = df_train_x.columns"
   ]
  },
  {
   "cell_type": "code",
   "execution_count": 23,
   "id": "0298ed1f",
   "metadata": {
    "ExecuteTime": {
     "end_time": "2022-03-17T03:00:11.976381Z",
     "start_time": "2022-03-17T03:00:11.950134Z"
    }
   },
   "outputs": [
    {
     "data": {
      "text/html": [
       "<div>\n",
       "<style scoped>\n",
       "    .dataframe tbody tr th:only-of-type {\n",
       "        vertical-align: middle;\n",
       "    }\n",
       "\n",
       "    .dataframe tbody tr th {\n",
       "        vertical-align: top;\n",
       "    }\n",
       "\n",
       "    .dataframe thead th {\n",
       "        text-align: right;\n",
       "    }\n",
       "</style>\n",
       "<table border=\"1\" class=\"dataframe\">\n",
       "  <thead>\n",
       "    <tr style=\"text-align: right;\">\n",
       "      <th></th>\n",
       "      <th>Feature</th>\n",
       "      <th>Importance</th>\n",
       "    </tr>\n",
       "  </thead>\n",
       "  <tbody>\n",
       "    <tr>\n",
       "      <th>19</th>\n",
       "      <td>TenureMonths</td>\n",
       "      <td>5.01e-01</td>\n",
       "    </tr>\n",
       "    <tr>\n",
       "      <th>23</th>\n",
       "      <td>MonthRoamCharge</td>\n",
       "      <td>2.29e-01</td>\n",
       "    </tr>\n",
       "    <tr>\n",
       "      <th>17</th>\n",
       "      <td>AvgRoamCharge</td>\n",
       "      <td>1.13e-01</td>\n",
       "    </tr>\n",
       "    <tr>\n",
       "      <th>20</th>\n",
       "      <td>AvgCharge</td>\n",
       "      <td>5.40e-02</td>\n",
       "    </tr>\n",
       "    <tr>\n",
       "      <th>14</th>\n",
       "      <td>AvgDownloadGB</td>\n",
       "      <td>1.50e-02</td>\n",
       "    </tr>\n",
       "    <tr>\n",
       "      <th>15</th>\n",
       "      <td>CustomerLTV</td>\n",
       "      <td>1.40e-02</td>\n",
       "    </tr>\n",
       "    <tr>\n",
       "      <th>22</th>\n",
       "      <td>TotalRevenue</td>\n",
       "      <td>1.30e-02</td>\n",
       "    </tr>\n",
       "    <tr>\n",
       "      <th>1</th>\n",
       "      <td>Age</td>\n",
       "      <td>1.20e-02</td>\n",
       "    </tr>\n",
       "    <tr>\n",
       "      <th>21</th>\n",
       "      <td>TotalCharge</td>\n",
       "      <td>7.00e-03</td>\n",
       "    </tr>\n",
       "    <tr>\n",
       "      <th>7</th>\n",
       "      <td>noReferrals</td>\n",
       "      <td>5.00e-03</td>\n",
       "    </tr>\n",
       "    <tr>\n",
       "      <th>24</th>\n",
       "      <td>AvgExtraDataCharge</td>\n",
       "      <td>5.00e-03</td>\n",
       "    </tr>\n",
       "    <tr>\n",
       "      <th>9</th>\n",
       "      <td>PaymentMethod</td>\n",
       "      <td>4.00e-03</td>\n",
       "    </tr>\n",
       "    <tr>\n",
       "      <th>18</th>\n",
       "      <td>TotalRoamCharge</td>\n",
       "      <td>4.00e-03</td>\n",
       "    </tr>\n",
       "    <tr>\n",
       "      <th>2</th>\n",
       "      <td>AgeGroup</td>\n",
       "      <td>4.00e-03</td>\n",
       "    </tr>\n",
       "    <tr>\n",
       "      <th>8</th>\n",
       "      <td>PaperlessBilling</td>\n",
       "      <td>3.00e-03</td>\n",
       "    </tr>\n",
       "    <tr>\n",
       "      <th>16</th>\n",
       "      <td>TotalExtraDataCharge</td>\n",
       "      <td>2.00e-03</td>\n",
       "    </tr>\n",
       "    <tr>\n",
       "      <th>4</th>\n",
       "      <td>Dependents</td>\n",
       "      <td>2.00e-03</td>\n",
       "    </tr>\n",
       "    <tr>\n",
       "      <th>3</th>\n",
       "      <td>Married</td>\n",
       "      <td>2.00e-03</td>\n",
       "    </tr>\n",
       "    <tr>\n",
       "      <th>6</th>\n",
       "      <td>Referrals</td>\n",
       "      <td>2.00e-03</td>\n",
       "    </tr>\n",
       "    <tr>\n",
       "      <th>0</th>\n",
       "      <td>Gender</td>\n",
       "      <td>1.00e-03</td>\n",
       "    </tr>\n",
       "    <tr>\n",
       "      <th>11</th>\n",
       "      <td>OnlineBackup</td>\n",
       "      <td>1.00e-03</td>\n",
       "    </tr>\n",
       "    <tr>\n",
       "      <th>13</th>\n",
       "      <td>UnlimitedData</td>\n",
       "      <td>1.00e-03</td>\n",
       "    </tr>\n",
       "    <tr>\n",
       "      <th>10</th>\n",
       "      <td>OnlineSecurity</td>\n",
       "      <td>1.00e-03</td>\n",
       "    </tr>\n",
       "    <tr>\n",
       "      <th>12</th>\n",
       "      <td>TechSupport</td>\n",
       "      <td>1.00e-03</td>\n",
       "    </tr>\n",
       "    <tr>\n",
       "      <th>5</th>\n",
       "      <td>noDependents</td>\n",
       "      <td>1.00e-03</td>\n",
       "    </tr>\n",
       "  </tbody>\n",
       "</table>\n",
       "</div>"
      ],
      "text/plain": [
       "                 Feature  Importance\n",
       "19          TenureMonths    5.01e-01\n",
       "23       MonthRoamCharge    2.29e-01\n",
       "17         AvgRoamCharge    1.13e-01\n",
       "20             AvgCharge    5.40e-02\n",
       "14         AvgDownloadGB    1.50e-02\n",
       "15           CustomerLTV    1.40e-02\n",
       "22          TotalRevenue    1.30e-02\n",
       "1                    Age    1.20e-02\n",
       "21           TotalCharge    7.00e-03\n",
       "7            noReferrals    5.00e-03\n",
       "24    AvgExtraDataCharge    5.00e-03\n",
       "9          PaymentMethod    4.00e-03\n",
       "18       TotalRoamCharge    4.00e-03\n",
       "2               AgeGroup    4.00e-03\n",
       "8       PaperlessBilling    3.00e-03\n",
       "16  TotalExtraDataCharge    2.00e-03\n",
       "4             Dependents    2.00e-03\n",
       "3                Married    2.00e-03\n",
       "6              Referrals    2.00e-03\n",
       "0                 Gender    1.00e-03\n",
       "11          OnlineBackup    1.00e-03\n",
       "13         UnlimitedData    1.00e-03\n",
       "10        OnlineSecurity    1.00e-03\n",
       "12           TechSupport    1.00e-03\n",
       "5           noDependents    1.00e-03"
      ]
     },
     "execution_count": 23,
     "metadata": {},
     "output_type": "execute_result"
    }
   ],
   "source": [
    "# tree.feature_importances_로 설명변수 중요도 확인 및 테이블로 저장\n",
    "df_importance = pd.DataFrame()\n",
    "df_importance[\"Feature\"] = v_feature_name\n",
    "df_importance[\"Importance\"] = tree_uncustomized.feature_importances_\n",
    "\n",
    "# df_feature_importance의 테이블을 중요도별로 정렬\n",
    "df_importance.sort_values(\"Importance\", ascending=False, inplace = True)\n",
    "df_importance.round(3)"
   ]
  },
  {
   "cell_type": "code",
   "execution_count": 24,
   "id": "76d0e885",
   "metadata": {
    "ExecuteTime": {
     "end_time": "2022-03-17T03:00:14.697167Z",
     "start_time": "2022-03-17T03:00:14.507034Z"
    }
   },
   "outputs": [
    {
     "data": {
      "text/plain": [
       "Text(0, 0.5, '설명변수')"
      ]
     },
     "execution_count": 24,
     "metadata": {},
     "output_type": "execute_result"
    },
    {
     "data": {
      "image/png": "[encoded data removed]",
      "text/plain": [
       "<Figure size 432x288 with 1 Axes>"
      ]
     },
     "metadata": {
      "needs_background": "light"
     },
     "output_type": "display_data"
    }
   ],
   "source": [
    "# 설명변수 중요도 그래프\n",
    "# sort_values : 중요도가 높은 변수를 상위에 그림. \n",
    "df_importance.sort_values(\"Importance\", ascending=True, inplace = True)\n",
    "coordinates = range(len(df_importance))\n",
    "plt.barh(y = coordinates, width = df_importance[\"Importance\"])\n",
    "plt.yticks(coordinates, df_importance[\"Feature\"])\n",
    "plt.xlabel(\"설명변수 중요도\")\n",
    "plt.ylabel(\"설명변수\")"
   ]
  },
  {
   "cell_type": "code",
   "execution_count": 25,
   "id": "fcd0b035",
   "metadata": {
    "ExecuteTime": {
     "end_time": "2022-03-17T03:00:20.769178Z",
     "start_time": "2022-03-17T03:00:20.739703Z"
    }
   },
   "outputs": [
    {
     "name": "stdout",
     "output_type": "stream",
     "text": [
      "Accuracy: 0.945\n",
      "\n",
      "Confusion matrix: \n",
      "[[1731   59]\n",
      " [  73  540]]\n",
      "              precision    recall  f1-score   support\n",
      "\n",
      "           0      0.960     0.967     0.963      1790\n",
      "           1      0.902     0.881     0.891       613\n",
      "\n",
      "    accuracy                          0.945      2403\n",
      "   macro avg      0.931     0.924     0.927      2403\n",
      "weighted avg      0.945     0.945     0.945      2403\n",
      "\n"
     ]
    }
   ],
   "source": [
    "# 평가\n",
    "y_pred = tree_uncustomized.predict(df_test_x)\n",
    "print(\"Accuracy: {0:.3f}\\n\".format(tree_uncustomized.score(df_test_x, df_test_y)))\n",
    "print(\"Confusion matrix: \\n{}\".format(confusion_matrix(df_test_y, y_pred)))\n",
    "\n",
    "# 목표변수의 빈도 불균a형 : f1 score로 모델 평가 \n",
    "print(classification_report(df_test_y, y_pred, digits=3))"
   ]
  },
  {
   "cell_type": "code",
   "execution_count": 31,
   "id": "62471445",
   "metadata": {
    "ExecuteTime": {
     "end_time": "2022-03-17T03:03:10.845133Z",
     "start_time": "2022-03-17T03:03:10.831082Z"
    }
   },
   "outputs": [
    {
     "data": {
      "text/plain": [
       "array([[1., 0.],\n",
       "       [1., 0.],\n",
       "       [0., 1.],\n",
       "       [1., 0.],\n",
       "       [0., 1.],\n",
       "       [0., 1.],\n",
       "       [1., 0.],\n",
       "       [1., 0.],\n",
       "       [0., 1.],\n",
       "       [0., 1.],\n",
       "       [0., 1.],\n",
       "       [1., 0.],\n",
       "       [1., 0.],\n",
       "       [1., 0.],\n",
       "       [1., 0.],\n",
       "       [1., 0.],\n",
       "       [1., 0.],\n",
       "       [1., 0.],\n",
       "       [1., 0.],\n",
       "       [1., 0.]])"
      ]
     },
     "execution_count": 31,
     "metadata": {},
     "output_type": "execute_result"
    }
   ],
   "source": [
    "tree_uncustomized.predict_proba(df_test_x[:20])"
   ]
  },
  {
   "cell_type": "code",
   "execution_count": 42,
   "id": "a6af0a73",
   "metadata": {
    "ExecuteTime": {
     "end_time": "2022-03-17T03:09:55.994943Z",
     "start_time": "2022-03-17T03:09:54.688790Z"
    }
   },
   "outputs": [],
   "source": [
    "# train 및 test 정확도 결과 저장용\n",
    "train_accuracy = []; test_accuracy = []\n",
    "# max_depth: 최대 깊이 변경\n",
    "para_depth = [depth *0.1 for depth in range(40, 101)]\n",
    "\n",
    "for v_max_depth in para_depth:\n",
    "    tree = DecisionTreeClassifier(max_depth = v_max_depth, random_state=42)\n",
    "    tree.fit(df_train_x, df_train_y)\n",
    "    train_accuracy.append(tree.score(df_train_x, df_train_y))\n",
    "    test_accuracy.append(tree.score(df_test_x, df_test_y))\n",
    "\n",
    "# 데이터 테이블로 저장\n",
    "df_accuracy_depth = pd.DataFrame()\n",
    "df_accuracy_depth[\"Depth\"] = para_depth\n",
    "df_accuracy_depth[\"TrainAccuracy\"] = train_accuracy\n",
    "df_accuracy_depth[\"TestAccuracy\"] = test_accuracy"
   ]
  },
  {
   "cell_type": "code",
   "execution_count": 40,
   "id": "047b2cf1",
   "metadata": {
    "ExecuteTime": {
     "end_time": "2022-03-17T03:09:36.960675Z",
     "start_time": "2022-03-17T03:09:36.952157Z"
    }
   },
   "outputs": [
    {
     "data": {
      "text/html": [
       "<div>\n",
       "<style scoped>\n",
       "    .dataframe tbody tr th:only-of-type {\n",
       "        vertical-align: middle;\n",
       "    }\n",
       "\n",
       "    .dataframe tbody tr th {\n",
       "        vertical-align: top;\n",
       "    }\n",
       "\n",
       "    .dataframe thead th {\n",
       "        text-align: right;\n",
       "    }\n",
       "</style>\n",
       "<table border=\"1\" class=\"dataframe\">\n",
       "  <thead>\n",
       "    <tr style=\"text-align: right;\">\n",
       "      <th></th>\n",
       "      <th>Depth</th>\n",
       "      <th>TrainAccuracy</th>\n",
       "      <th>TestAccuracy</th>\n",
       "    </tr>\n",
       "  </thead>\n",
       "  <tbody>\n",
       "    <tr>\n",
       "      <th>0</th>\n",
       "      <td>4.0</td>\n",
       "      <td>0.90</td>\n",
       "      <td>0.90</td>\n",
       "    </tr>\n",
       "    <tr>\n",
       "      <th>1</th>\n",
       "      <td>4.1</td>\n",
       "      <td>0.90</td>\n",
       "      <td>0.90</td>\n",
       "    </tr>\n",
       "    <tr>\n",
       "      <th>2</th>\n",
       "      <td>4.2</td>\n",
       "      <td>0.90</td>\n",
       "      <td>0.90</td>\n",
       "    </tr>\n",
       "    <tr>\n",
       "      <th>3</th>\n",
       "      <td>4.3</td>\n",
       "      <td>0.90</td>\n",
       "      <td>0.90</td>\n",
       "    </tr>\n",
       "    <tr>\n",
       "      <th>4</th>\n",
       "      <td>4.4</td>\n",
       "      <td>0.90</td>\n",
       "      <td>0.90</td>\n",
       "    </tr>\n",
       "    <tr>\n",
       "      <th>5</th>\n",
       "      <td>4.5</td>\n",
       "      <td>0.90</td>\n",
       "      <td>0.90</td>\n",
       "    </tr>\n",
       "    <tr>\n",
       "      <th>6</th>\n",
       "      <td>4.6</td>\n",
       "      <td>0.90</td>\n",
       "      <td>0.90</td>\n",
       "    </tr>\n",
       "    <tr>\n",
       "      <th>7</th>\n",
       "      <td>4.7</td>\n",
       "      <td>0.90</td>\n",
       "      <td>0.90</td>\n",
       "    </tr>\n",
       "    <tr>\n",
       "      <th>8</th>\n",
       "      <td>4.8</td>\n",
       "      <td>0.90</td>\n",
       "      <td>0.90</td>\n",
       "    </tr>\n",
       "    <tr>\n",
       "      <th>9</th>\n",
       "      <td>4.9</td>\n",
       "      <td>0.90</td>\n",
       "      <td>0.90</td>\n",
       "    </tr>\n",
       "    <tr>\n",
       "      <th>10</th>\n",
       "      <td>5.0</td>\n",
       "      <td>0.91</td>\n",
       "      <td>0.91</td>\n",
       "    </tr>\n",
       "    <tr>\n",
       "      <th>11</th>\n",
       "      <td>5.1</td>\n",
       "      <td>0.91</td>\n",
       "      <td>0.91</td>\n",
       "    </tr>\n",
       "    <tr>\n",
       "      <th>12</th>\n",
       "      <td>5.2</td>\n",
       "      <td>0.91</td>\n",
       "      <td>0.91</td>\n",
       "    </tr>\n",
       "    <tr>\n",
       "      <th>13</th>\n",
       "      <td>5.3</td>\n",
       "      <td>0.91</td>\n",
       "      <td>0.91</td>\n",
       "    </tr>\n",
       "    <tr>\n",
       "      <th>14</th>\n",
       "      <td>5.4</td>\n",
       "      <td>0.91</td>\n",
       "      <td>0.91</td>\n",
       "    </tr>\n",
       "    <tr>\n",
       "      <th>15</th>\n",
       "      <td>5.5</td>\n",
       "      <td>0.91</td>\n",
       "      <td>0.91</td>\n",
       "    </tr>\n",
       "    <tr>\n",
       "      <th>16</th>\n",
       "      <td>5.6</td>\n",
       "      <td>0.91</td>\n",
       "      <td>0.91</td>\n",
       "    </tr>\n",
       "    <tr>\n",
       "      <th>17</th>\n",
       "      <td>5.7</td>\n",
       "      <td>0.91</td>\n",
       "      <td>0.91</td>\n",
       "    </tr>\n",
       "    <tr>\n",
       "      <th>18</th>\n",
       "      <td>5.8</td>\n",
       "      <td>0.91</td>\n",
       "      <td>0.91</td>\n",
       "    </tr>\n",
       "    <tr>\n",
       "      <th>19</th>\n",
       "      <td>5.9</td>\n",
       "      <td>0.91</td>\n",
       "      <td>0.91</td>\n",
       "    </tr>\n",
       "    <tr>\n",
       "      <th>20</th>\n",
       "      <td>6.0</td>\n",
       "      <td>0.91</td>\n",
       "      <td>0.91</td>\n",
       "    </tr>\n",
       "    <tr>\n",
       "      <th>21</th>\n",
       "      <td>6.1</td>\n",
       "      <td>0.91</td>\n",
       "      <td>0.91</td>\n",
       "    </tr>\n",
       "    <tr>\n",
       "      <th>22</th>\n",
       "      <td>6.2</td>\n",
       "      <td>0.91</td>\n",
       "      <td>0.91</td>\n",
       "    </tr>\n",
       "    <tr>\n",
       "      <th>23</th>\n",
       "      <td>6.3</td>\n",
       "      <td>0.91</td>\n",
       "      <td>0.91</td>\n",
       "    </tr>\n",
       "    <tr>\n",
       "      <th>24</th>\n",
       "      <td>6.4</td>\n",
       "      <td>0.91</td>\n",
       "      <td>0.91</td>\n",
       "    </tr>\n",
       "    <tr>\n",
       "      <th>25</th>\n",
       "      <td>6.5</td>\n",
       "      <td>0.91</td>\n",
       "      <td>0.91</td>\n",
       "    </tr>\n",
       "    <tr>\n",
       "      <th>26</th>\n",
       "      <td>6.6</td>\n",
       "      <td>0.91</td>\n",
       "      <td>0.91</td>\n",
       "    </tr>\n",
       "    <tr>\n",
       "      <th>27</th>\n",
       "      <td>6.7</td>\n",
       "      <td>0.91</td>\n",
       "      <td>0.91</td>\n",
       "    </tr>\n",
       "    <tr>\n",
       "      <th>28</th>\n",
       "      <td>6.8</td>\n",
       "      <td>0.91</td>\n",
       "      <td>0.91</td>\n",
       "    </tr>\n",
       "    <tr>\n",
       "      <th>29</th>\n",
       "      <td>6.9</td>\n",
       "      <td>0.91</td>\n",
       "      <td>0.91</td>\n",
       "    </tr>\n",
       "    <tr>\n",
       "      <th>30</th>\n",
       "      <td>7.0</td>\n",
       "      <td>0.93</td>\n",
       "      <td>0.93</td>\n",
       "    </tr>\n",
       "    <tr>\n",
       "      <th>31</th>\n",
       "      <td>7.1</td>\n",
       "      <td>0.93</td>\n",
       "      <td>0.93</td>\n",
       "    </tr>\n",
       "    <tr>\n",
       "      <th>32</th>\n",
       "      <td>7.2</td>\n",
       "      <td>0.93</td>\n",
       "      <td>0.93</td>\n",
       "    </tr>\n",
       "    <tr>\n",
       "      <th>33</th>\n",
       "      <td>7.3</td>\n",
       "      <td>0.93</td>\n",
       "      <td>0.93</td>\n",
       "    </tr>\n",
       "    <tr>\n",
       "      <th>34</th>\n",
       "      <td>7.4</td>\n",
       "      <td>0.93</td>\n",
       "      <td>0.93</td>\n",
       "    </tr>\n",
       "    <tr>\n",
       "      <th>35</th>\n",
       "      <td>7.5</td>\n",
       "      <td>0.93</td>\n",
       "      <td>0.93</td>\n",
       "    </tr>\n",
       "    <tr>\n",
       "      <th>36</th>\n",
       "      <td>7.6</td>\n",
       "      <td>0.93</td>\n",
       "      <td>0.93</td>\n",
       "    </tr>\n",
       "    <tr>\n",
       "      <th>37</th>\n",
       "      <td>7.7</td>\n",
       "      <td>0.93</td>\n",
       "      <td>0.93</td>\n",
       "    </tr>\n",
       "    <tr>\n",
       "      <th>38</th>\n",
       "      <td>7.8</td>\n",
       "      <td>0.93</td>\n",
       "      <td>0.93</td>\n",
       "    </tr>\n",
       "    <tr>\n",
       "      <th>39</th>\n",
       "      <td>7.9</td>\n",
       "      <td>0.93</td>\n",
       "      <td>0.93</td>\n",
       "    </tr>\n",
       "    <tr>\n",
       "      <th>40</th>\n",
       "      <td>8.0</td>\n",
       "      <td>0.93</td>\n",
       "      <td>0.93</td>\n",
       "    </tr>\n",
       "    <tr>\n",
       "      <th>41</th>\n",
       "      <td>8.1</td>\n",
       "      <td>0.93</td>\n",
       "      <td>0.93</td>\n",
       "    </tr>\n",
       "    <tr>\n",
       "      <th>42</th>\n",
       "      <td>8.2</td>\n",
       "      <td>0.93</td>\n",
       "      <td>0.93</td>\n",
       "    </tr>\n",
       "    <tr>\n",
       "      <th>43</th>\n",
       "      <td>8.3</td>\n",
       "      <td>0.93</td>\n",
       "      <td>0.93</td>\n",
       "    </tr>\n",
       "    <tr>\n",
       "      <th>44</th>\n",
       "      <td>8.4</td>\n",
       "      <td>0.93</td>\n",
       "      <td>0.93</td>\n",
       "    </tr>\n",
       "    <tr>\n",
       "      <th>45</th>\n",
       "      <td>8.5</td>\n",
       "      <td>0.93</td>\n",
       "      <td>0.93</td>\n",
       "    </tr>\n",
       "    <tr>\n",
       "      <th>46</th>\n",
       "      <td>8.6</td>\n",
       "      <td>0.93</td>\n",
       "      <td>0.93</td>\n",
       "    </tr>\n",
       "    <tr>\n",
       "      <th>47</th>\n",
       "      <td>8.7</td>\n",
       "      <td>0.93</td>\n",
       "      <td>0.93</td>\n",
       "    </tr>\n",
       "    <tr>\n",
       "      <th>48</th>\n",
       "      <td>8.8</td>\n",
       "      <td>0.93</td>\n",
       "      <td>0.93</td>\n",
       "    </tr>\n",
       "    <tr>\n",
       "      <th>49</th>\n",
       "      <td>8.9</td>\n",
       "      <td>0.93</td>\n",
       "      <td>0.93</td>\n",
       "    </tr>\n",
       "    <tr>\n",
       "      <th>50</th>\n",
       "      <td>9.0</td>\n",
       "      <td>0.95</td>\n",
       "      <td>0.94</td>\n",
       "    </tr>\n",
       "    <tr>\n",
       "      <th>51</th>\n",
       "      <td>9.1</td>\n",
       "      <td>0.95</td>\n",
       "      <td>0.94</td>\n",
       "    </tr>\n",
       "    <tr>\n",
       "      <th>52</th>\n",
       "      <td>9.2</td>\n",
       "      <td>0.95</td>\n",
       "      <td>0.94</td>\n",
       "    </tr>\n",
       "    <tr>\n",
       "      <th>53</th>\n",
       "      <td>9.3</td>\n",
       "      <td>0.95</td>\n",
       "      <td>0.94</td>\n",
       "    </tr>\n",
       "    <tr>\n",
       "      <th>54</th>\n",
       "      <td>9.4</td>\n",
       "      <td>0.95</td>\n",
       "      <td>0.94</td>\n",
       "    </tr>\n",
       "    <tr>\n",
       "      <th>55</th>\n",
       "      <td>9.5</td>\n",
       "      <td>0.95</td>\n",
       "      <td>0.94</td>\n",
       "    </tr>\n",
       "    <tr>\n",
       "      <th>56</th>\n",
       "      <td>9.6</td>\n",
       "      <td>0.95</td>\n",
       "      <td>0.94</td>\n",
       "    </tr>\n",
       "    <tr>\n",
       "      <th>57</th>\n",
       "      <td>9.7</td>\n",
       "      <td>0.95</td>\n",
       "      <td>0.94</td>\n",
       "    </tr>\n",
       "    <tr>\n",
       "      <th>58</th>\n",
       "      <td>9.8</td>\n",
       "      <td>0.95</td>\n",
       "      <td>0.94</td>\n",
       "    </tr>\n",
       "    <tr>\n",
       "      <th>59</th>\n",
       "      <td>9.9</td>\n",
       "      <td>0.95</td>\n",
       "      <td>0.94</td>\n",
       "    </tr>\n",
       "  </tbody>\n",
       "</table>\n",
       "</div>"
      ],
      "text/plain": [
       "    Depth  TrainAccuracy  TestAccuracy\n",
       "0     4.0           0.90          0.90\n",
       "1     4.1           0.90          0.90\n",
       "2     4.2           0.90          0.90\n",
       "3     4.3           0.90          0.90\n",
       "4     4.4           0.90          0.90\n",
       "5     4.5           0.90          0.90\n",
       "6     4.6           0.90          0.90\n",
       "7     4.7           0.90          0.90\n",
       "8     4.8           0.90          0.90\n",
       "9     4.9           0.90          0.90\n",
       "10    5.0           0.91          0.91\n",
       "11    5.1           0.91          0.91\n",
       "12    5.2           0.91          0.91\n",
       "13    5.3           0.91          0.91\n",
       "14    5.4           0.91          0.91\n",
       "15    5.5           0.91          0.91\n",
       "16    5.6           0.91          0.91\n",
       "17    5.7           0.91          0.91\n",
       "18    5.8           0.91          0.91\n",
       "19    5.9           0.91          0.91\n",
       "20    6.0           0.91          0.91\n",
       "21    6.1           0.91          0.91\n",
       "22    6.2           0.91          0.91\n",
       "23    6.3           0.91          0.91\n",
       "24    6.4           0.91          0.91\n",
       "25    6.5           0.91          0.91\n",
       "26    6.6           0.91          0.91\n",
       "27    6.7           0.91          0.91\n",
       "28    6.8           0.91          0.91\n",
       "29    6.9           0.91          0.91\n",
       "30    7.0           0.93          0.93\n",
       "31    7.1           0.93          0.93\n",
       "32    7.2           0.93          0.93\n",
       "33    7.3           0.93          0.93\n",
       "34    7.4           0.93          0.93\n",
       "35    7.5           0.93          0.93\n",
       "36    7.6           0.93          0.93\n",
       "37    7.7           0.93          0.93\n",
       "38    7.8           0.93          0.93\n",
       "39    7.9           0.93          0.93\n",
       "40    8.0           0.93          0.93\n",
       "41    8.1           0.93          0.93\n",
       "42    8.2           0.93          0.93\n",
       "43    8.3           0.93          0.93\n",
       "44    8.4           0.93          0.93\n",
       "45    8.5           0.93          0.93\n",
       "46    8.6           0.93          0.93\n",
       "47    8.7           0.93          0.93\n",
       "48    8.8           0.93          0.93\n",
       "49    8.9           0.93          0.93\n",
       "50    9.0           0.95          0.94\n",
       "51    9.1           0.95          0.94\n",
       "52    9.2           0.95          0.94\n",
       "53    9.3           0.95          0.94\n",
       "54    9.4           0.95          0.94\n",
       "55    9.5           0.95          0.94\n",
       "56    9.6           0.95          0.94\n",
       "57    9.7           0.95          0.94\n",
       "58    9.8           0.95          0.94\n",
       "59    9.9           0.95          0.94"
      ]
     },
     "execution_count": 40,
     "metadata": {},
     "output_type": "execute_result"
    }
   ],
   "source": [
    "# 모델 정확도 확인\n",
    "df_accuracy_depth.round(3)"
   ]
  },
  {
   "cell_type": "code",
   "execution_count": 41,
   "id": "3d601935",
   "metadata": {
    "ExecuteTime": {
     "end_time": "2022-03-17T03:09:38.628937Z",
     "start_time": "2022-03-17T03:09:38.515550Z"
    }
   },
   "outputs": [
    {
     "data": {
      "text/plain": [
       "<matplotlib.legend.Legend at 0x14b15d400>"
      ]
     },
     "execution_count": 41,
     "metadata": {},
     "output_type": "execute_result"
    },
    {
     "data": {
      "image/png": "[encoded data removed]",
      "text/plain": [
       "<Figure size 432x288 with 1 Axes>"
      ]
     },
     "metadata": {
      "needs_background": "light"
     },
     "output_type": "display_data"
    }
   ],
   "source": [
    "# 모델 정확도 그래프 확인\n",
    "plt.plot(para_depth, train_accuracy, linestyle = \"-\", label = \"Train Accuracy\")\n",
    "plt.plot(para_depth, test_accuracy, linestyle = \"--\", label = \"Test Accuracy\")\n",
    "plt.legend()"
   ]
  },
  {
   "cell_type": "code",
   "execution_count": 43,
   "id": "af198f31",
   "metadata": {
    "ExecuteTime": {
     "end_time": "2022-03-17T03:10:02.836993Z",
     "start_time": "2022-03-17T03:10:02.833614Z"
    }
   },
   "outputs": [],
   "source": [
    "max_depth = 10"
   ]
  },
  {
   "cell_type": "code",
   "execution_count": 44,
   "id": "376ba3eb",
   "metadata": {
    "ExecuteTime": {
     "end_time": "2022-03-17T03:12:13.920189Z",
     "start_time": "2022-03-17T03:12:13.361335Z"
    }
   },
   "outputs": [],
   "source": [
    "# train 및 test 정확도 결과 저장용\n",
    "train_accuracy = []; test_accuracy = []\n",
    "# min_samples_split: 분할하기 위한 노드의 최소 샘플 수 \n",
    "para_split = [n_split * 3 for n_split in range(1, 21)]\n",
    "\n",
    "for v_min_samples_split in para_split:\n",
    "    tree = DecisionTreeClassifier(min_samples_split = v_min_samples_split, max_depth = max_depth, random_state=42)\n",
    "    tree.fit(df_train_x, df_train_y)\n",
    "    train_accuracy.append(tree.score(df_train_x, df_train_y))\n",
    "    test_accuracy.append(tree.score(df_test_x, df_test_y))\n",
    "\n",
    "# 데이터 테이블로 저장\n",
    "df_accuracy_split = pd.DataFrame()\n",
    "df_accuracy_split[\"MinSamplesSplit\"] = para_split\n",
    "df_accuracy_split[\"TrainAccuracy\"] = train_accuracy\n",
    "df_accuracy_split[\"TestAccuracy\"] = test_accuracy"
   ]
  },
  {
   "cell_type": "code",
   "execution_count": 45,
   "id": "44d0cae0",
   "metadata": {
    "ExecuteTime": {
     "end_time": "2022-03-17T03:12:19.920423Z",
     "start_time": "2022-03-17T03:12:19.900897Z"
    }
   },
   "outputs": [
    {
     "data": {
      "text/html": [
       "<div>\n",
       "<style scoped>\n",
       "    .dataframe tbody tr th:only-of-type {\n",
       "        vertical-align: middle;\n",
       "    }\n",
       "\n",
       "    .dataframe tbody tr th {\n",
       "        vertical-align: top;\n",
       "    }\n",
       "\n",
       "    .dataframe thead th {\n",
       "        text-align: right;\n",
       "    }\n",
       "</style>\n",
       "<table border=\"1\" class=\"dataframe\">\n",
       "  <thead>\n",
       "    <tr style=\"text-align: right;\">\n",
       "      <th></th>\n",
       "      <th>MinSamplesSplit</th>\n",
       "      <th>TrainAccuracy</th>\n",
       "      <th>TestAccuracy</th>\n",
       "    </tr>\n",
       "  </thead>\n",
       "  <tbody>\n",
       "    <tr>\n",
       "      <th>0</th>\n",
       "      <td>3</td>\n",
       "      <td>0.95</td>\n",
       "      <td>0.94</td>\n",
       "    </tr>\n",
       "    <tr>\n",
       "      <th>1</th>\n",
       "      <td>6</td>\n",
       "      <td>0.95</td>\n",
       "      <td>0.94</td>\n",
       "    </tr>\n",
       "    <tr>\n",
       "      <th>2</th>\n",
       "      <td>9</td>\n",
       "      <td>0.95</td>\n",
       "      <td>0.94</td>\n",
       "    </tr>\n",
       "    <tr>\n",
       "      <th>3</th>\n",
       "      <td>12</td>\n",
       "      <td>0.95</td>\n",
       "      <td>0.94</td>\n",
       "    </tr>\n",
       "    <tr>\n",
       "      <th>4</th>\n",
       "      <td>15</td>\n",
       "      <td>0.95</td>\n",
       "      <td>0.94</td>\n",
       "    </tr>\n",
       "    <tr>\n",
       "      <th>5</th>\n",
       "      <td>18</td>\n",
       "      <td>0.95</td>\n",
       "      <td>0.94</td>\n",
       "    </tr>\n",
       "    <tr>\n",
       "      <th>6</th>\n",
       "      <td>21</td>\n",
       "      <td>0.95</td>\n",
       "      <td>0.94</td>\n",
       "    </tr>\n",
       "    <tr>\n",
       "      <th>7</th>\n",
       "      <td>24</td>\n",
       "      <td>0.95</td>\n",
       "      <td>0.94</td>\n",
       "    </tr>\n",
       "    <tr>\n",
       "      <th>8</th>\n",
       "      <td>27</td>\n",
       "      <td>0.95</td>\n",
       "      <td>0.94</td>\n",
       "    </tr>\n",
       "    <tr>\n",
       "      <th>9</th>\n",
       "      <td>30</td>\n",
       "      <td>0.95</td>\n",
       "      <td>0.94</td>\n",
       "    </tr>\n",
       "    <tr>\n",
       "      <th>10</th>\n",
       "      <td>33</td>\n",
       "      <td>0.95</td>\n",
       "      <td>0.94</td>\n",
       "    </tr>\n",
       "    <tr>\n",
       "      <th>11</th>\n",
       "      <td>36</td>\n",
       "      <td>0.95</td>\n",
       "      <td>0.94</td>\n",
       "    </tr>\n",
       "    <tr>\n",
       "      <th>12</th>\n",
       "      <td>39</td>\n",
       "      <td>0.95</td>\n",
       "      <td>0.94</td>\n",
       "    </tr>\n",
       "    <tr>\n",
       "      <th>13</th>\n",
       "      <td>42</td>\n",
       "      <td>0.95</td>\n",
       "      <td>0.94</td>\n",
       "    </tr>\n",
       "    <tr>\n",
       "      <th>14</th>\n",
       "      <td>45</td>\n",
       "      <td>0.95</td>\n",
       "      <td>0.94</td>\n",
       "    </tr>\n",
       "    <tr>\n",
       "      <th>15</th>\n",
       "      <td>48</td>\n",
       "      <td>0.95</td>\n",
       "      <td>0.94</td>\n",
       "    </tr>\n",
       "    <tr>\n",
       "      <th>16</th>\n",
       "      <td>51</td>\n",
       "      <td>0.95</td>\n",
       "      <td>0.94</td>\n",
       "    </tr>\n",
       "    <tr>\n",
       "      <th>17</th>\n",
       "      <td>54</td>\n",
       "      <td>0.95</td>\n",
       "      <td>0.94</td>\n",
       "    </tr>\n",
       "    <tr>\n",
       "      <th>18</th>\n",
       "      <td>57</td>\n",
       "      <td>0.95</td>\n",
       "      <td>0.94</td>\n",
       "    </tr>\n",
       "    <tr>\n",
       "      <th>19</th>\n",
       "      <td>60</td>\n",
       "      <td>0.94</td>\n",
       "      <td>0.94</td>\n",
       "    </tr>\n",
       "  </tbody>\n",
       "</table>\n",
       "</div>"
      ],
      "text/plain": [
       "    MinSamplesSplit  TrainAccuracy  TestAccuracy\n",
       "0                 3           0.95          0.94\n",
       "1                 6           0.95          0.94\n",
       "2                 9           0.95          0.94\n",
       "3                12           0.95          0.94\n",
       "4                15           0.95          0.94\n",
       "5                18           0.95          0.94\n",
       "6                21           0.95          0.94\n",
       "7                24           0.95          0.94\n",
       "8                27           0.95          0.94\n",
       "9                30           0.95          0.94\n",
       "10               33           0.95          0.94\n",
       "11               36           0.95          0.94\n",
       "12               39           0.95          0.94\n",
       "13               42           0.95          0.94\n",
       "14               45           0.95          0.94\n",
       "15               48           0.95          0.94\n",
       "16               51           0.95          0.94\n",
       "17               54           0.95          0.94\n",
       "18               57           0.95          0.94\n",
       "19               60           0.94          0.94"
      ]
     },
     "execution_count": 45,
     "metadata": {},
     "output_type": "execute_result"
    }
   ],
   "source": [
    "# 모델 정확도 확인\n",
    "df_accuracy_split.round(3)"
   ]
  },
  {
   "cell_type": "code",
   "execution_count": 46,
   "id": "de31bb14",
   "metadata": {
    "ExecuteTime": {
     "end_time": "2022-03-17T03:12:27.256821Z",
     "start_time": "2022-03-17T03:12:27.150586Z"
    }
   },
   "outputs": [
    {
     "data": {
      "text/plain": [
       "<matplotlib.legend.Legend at 0x14b1c9790>"
      ]
     },
     "execution_count": 46,
     "metadata": {},
     "output_type": "execute_result"
    },
    {
     "data": {
      "image/png": "[encoded data removed]",
      "text/plain": [
       "<Figure size 432x288 with 1 Axes>"
      ]
     },
     "metadata": {
      "needs_background": "light"
     },
     "output_type": "display_data"
    }
   ],
   "source": [
    "# 정확도를 그래프로 표현\n",
    "plt.plot(para_split, train_accuracy, linestyle = \"-\", label = \"Train Accuracy\")\n",
    "plt.plot(para_split, test_accuracy, linestyle = \"--\", label = \"Test Accuracy\")\n",
    "plt.legend()"
   ]
  },
  {
   "cell_type": "code",
   "execution_count": null,
   "id": "42092092",
   "metadata": {},
   "outputs": [],
   "source": []
  },
  {
   "cell_type": "code",
   "execution_count": null,
   "id": "13e69f31",
   "metadata": {},
   "outputs": [],
   "source": []
  },
  {
   "cell_type": "code",
   "execution_count": null,
   "id": "94b0163d",
   "metadata": {},
   "outputs": [],
   "source": []
  },
  {
   "cell_type": "code",
   "execution_count": null,
   "id": "7106f8a0",
   "metadata": {},
   "outputs": [],
   "source": []
  },
  {
   "cell_type": "code",
   "execution_count": null,
   "id": "561d8d1a",
   "metadata": {},
   "outputs": [],
   "source": []
  },
  {
   "cell_type": "code",
   "execution_count": null,
   "id": "2bc4f307",
   "metadata": {},
   "outputs": [],
   "source": []
  },
  {
   "cell_type": "code",
   "execution_count": null,
   "id": "68075bbe",
   "metadata": {},
   "outputs": [],
   "source": []
  },
  {
   "cell_type": "code",
   "execution_count": 65,
   "id": "be0000e3",
   "metadata": {
    "ExecuteTime": {
     "end_time": "2022-03-16T19:06:19.503347Z",
     "start_time": "2022-03-16T19:06:18.716669Z"
    },
    "scrolled": false
   },
   "outputs": [
    {
     "data": {
      "image/svg+xml": [
       "<?xml version=\"1.0\" encoding=\"UTF-8\" standalone=\"no\"?>\n",
       "<!DOCTYPE svg PUBLIC \"-//W3C//DTD SVG 1.1//EN\"\n",
       " \"http://www.w3.org/Graphics/SVG/1.1/DTD/svg11.dtd\">\n",
       "<!-- Generated by graphviz version 2.50.0 (20211204.2007)\n",
       " -->\n",
       "<!-- Title: Tree Pages: 1 -->\n",
       "<svg width=\"752pt\" height=\"1147pt\"\n",
       " viewBox=\"0.00 0.00 751.50 1147.00\" xmlns=\"http://www.w3.org/2000/svg\" xmlns:xlink=\"http://www.w3.org/1999/xlink\">\n",
       "<g id=\"graph0\" class=\"graph\" transform=\"scale(1 1) rotate(0) translate(4 1143)\">\n",
       "<title>Tree</title>\n",
       "<polygon fill=\"white\" stroke=\"transparent\" points=\"-4,4 -4,-1143 747.5,-1143 747.5,4 -4,4\"/>\n",
       "<!-- 0 -->\n",
       "<g id=\"node1\" class=\"node\">\n",
       "<title>0</title>\n",
       "<polygon fill=\"#fcf2ea\" stroke=\"black\" points=\"390,-1139 237,-1139 237,-1056 390,-1056 390,-1139\"/>\n",
       "<text text-anchor=\"middle\" x=\"313.5\" y=\"-1123.8\" font-family=\"Helvetica,sans-Serif\" font-size=\"14.00\">TenureMonths &lt;= 12.5</text>\n",
       "<text text-anchor=\"middle\" x=\"313.5\" y=\"-1108.8\" font-family=\"Helvetica,sans-Serif\" font-size=\"14.00\">gini = 0.498</text>\n",
       "<text text-anchor=\"middle\" x=\"313.5\" y=\"-1093.8\" font-family=\"Helvetica,sans-Serif\" font-size=\"14.00\">samples = 1407</text>\n",
       "<text text-anchor=\"middle\" x=\"313.5\" y=\"-1078.8\" font-family=\"Helvetica,sans-Serif\" font-size=\"14.00\">value = [743, 664]</text>\n",
       "<text text-anchor=\"middle\" x=\"313.5\" y=\"-1063.8\" font-family=\"Helvetica,sans-Serif\" font-size=\"14.00\">class = 유지</text>\n",
       "</g>\n",
       "<!-- 1 -->\n",
       "<g id=\"node2\" class=\"node\">\n",
       "<title>1</title>\n",
       "<polygon fill=\"#399de5\" stroke=\"black\" points=\"300.5,-1012.5 190.5,-1012.5 190.5,-944.5 300.5,-944.5 300.5,-1012.5\"/>\n",
       "<text text-anchor=\"middle\" x=\"245.5\" y=\"-997.3\" font-family=\"Helvetica,sans-Serif\" font-size=\"14.00\">gini = 0.0</text>\n",
       "<text text-anchor=\"middle\" x=\"245.5\" y=\"-982.3\" font-family=\"Helvetica,sans-Serif\" font-size=\"14.00\">samples = 565</text>\n",
       "<text text-anchor=\"middle\" x=\"245.5\" y=\"-967.3\" font-family=\"Helvetica,sans-Serif\" font-size=\"14.00\">value = [0, 565]</text>\n",
       "<text text-anchor=\"middle\" x=\"245.5\" y=\"-952.3\" font-family=\"Helvetica,sans-Serif\" font-size=\"14.00\">class = 이탈</text>\n",
       "</g>\n",
       "<!-- 0&#45;&gt;1 -->\n",
       "<g id=\"edge1\" class=\"edge\">\n",
       "<title>0&#45;&gt;1</title>\n",
       "<path fill=\"none\" stroke=\"black\" d=\"M289.91,-1055.91C283.43,-1044.76 276.4,-1032.66 269.87,-1021.44\"/>\n",
       "<polygon fill=\"black\" stroke=\"black\" points=\"272.83,-1019.55 264.78,-1012.67 266.78,-1023.07 272.83,-1019.55\"/>\n",
       "<text text-anchor=\"middle\" x=\"258.38\" y=\"-1033.13\" font-family=\"Helvetica,sans-Serif\" font-size=\"14.00\">True</text>\n",
       "</g>\n",
       "<!-- 2 -->\n",
       "<g id=\"node3\" class=\"node\">\n",
       "<title>2</title>\n",
       "<polygon fill=\"#e89253\" stroke=\"black\" points=\"444,-1020 319,-1020 319,-937 444,-937 444,-1020\"/>\n",
       "<text text-anchor=\"middle\" x=\"381.5\" y=\"-1004.8\" font-family=\"Helvetica,sans-Serif\" font-size=\"14.00\">SatisScore &lt;= 2.5</text>\n",
       "<text text-anchor=\"middle\" x=\"381.5\" y=\"-989.8\" font-family=\"Helvetica,sans-Serif\" font-size=\"14.00\">gini = 0.208</text>\n",
       "<text text-anchor=\"middle\" x=\"381.5\" y=\"-974.8\" font-family=\"Helvetica,sans-Serif\" font-size=\"14.00\">samples = 842</text>\n",
       "<text text-anchor=\"middle\" x=\"381.5\" y=\"-959.8\" font-family=\"Helvetica,sans-Serif\" font-size=\"14.00\">value = [743, 99]</text>\n",
       "<text text-anchor=\"middle\" x=\"381.5\" y=\"-944.8\" font-family=\"Helvetica,sans-Serif\" font-size=\"14.00\">class = 유지</text>\n",
       "</g>\n",
       "<!-- 0&#45;&gt;2 -->\n",
       "<g id=\"edge2\" class=\"edge\">\n",
       "<title>0&#45;&gt;2</title>\n",
       "<path fill=\"none\" stroke=\"black\" d=\"M337.09,-1055.91C342.16,-1047.2 347.56,-1037.9 352.79,-1028.89\"/>\n",
       "<polygon fill=\"black\" stroke=\"black\" points=\"355.95,-1030.43 357.95,-1020.02 349.9,-1026.91 355.95,-1030.43\"/>\n",
       "<text text-anchor=\"middle\" x=\"364.35\" y=\"-1040.49\" font-family=\"Helvetica,sans-Serif\" font-size=\"14.00\">False</text>\n",
       "</g>\n",
       "<!-- 3 -->\n",
       "<g id=\"node4\" class=\"node\">\n",
       "<title>3</title>\n",
       "<polygon fill=\"#399de5\" stroke=\"black\" points=\"363.5,-893.5 261.5,-893.5 261.5,-825.5 363.5,-825.5 363.5,-893.5\"/>\n",
       "<text text-anchor=\"middle\" x=\"312.5\" y=\"-878.3\" font-family=\"Helvetica,sans-Serif\" font-size=\"14.00\">gini = 0.0</text>\n",
       "<text text-anchor=\"middle\" x=\"312.5\" y=\"-863.3\" font-family=\"Helvetica,sans-Serif\" font-size=\"14.00\">samples = 78</text>\n",
       "<text text-anchor=\"middle\" x=\"312.5\" y=\"-848.3\" font-family=\"Helvetica,sans-Serif\" font-size=\"14.00\">value = [0, 78]</text>\n",
       "<text text-anchor=\"middle\" x=\"312.5\" y=\"-833.3\" font-family=\"Helvetica,sans-Serif\" font-size=\"14.00\">class = 이탈</text>\n",
       "</g>\n",
       "<!-- 2&#45;&gt;3 -->\n",
       "<g id=\"edge3\" class=\"edge\">\n",
       "<title>2&#45;&gt;3</title>\n",
       "<path fill=\"none\" stroke=\"black\" d=\"M357.56,-936.91C350.99,-925.76 343.85,-913.66 337.23,-902.44\"/>\n",
       "<polygon fill=\"black\" stroke=\"black\" points=\"340.15,-900.5 332.06,-893.67 334.13,-904.06 340.15,-900.5\"/>\n",
       "</g>\n",
       "<!-- 4 -->\n",
       "<g id=\"node5\" class=\"node\">\n",
       "<title>4</title>\n",
       "<polygon fill=\"#e6853f\" stroke=\"black\" points=\"521,-901 382,-901 382,-818 521,-818 521,-901\"/>\n",
       "<text text-anchor=\"middle\" x=\"451.5\" y=\"-885.8\" font-family=\"Helvetica,sans-Serif\" font-size=\"14.00\">ChurnScore &lt;= 82.5</text>\n",
       "<text text-anchor=\"middle\" x=\"451.5\" y=\"-870.8\" font-family=\"Helvetica,sans-Serif\" font-size=\"14.00\">gini = 0.053</text>\n",
       "<text text-anchor=\"middle\" x=\"451.5\" y=\"-855.8\" font-family=\"Helvetica,sans-Serif\" font-size=\"14.00\">samples = 764</text>\n",
       "<text text-anchor=\"middle\" x=\"451.5\" y=\"-840.8\" font-family=\"Helvetica,sans-Serif\" font-size=\"14.00\">value = [743, 21]</text>\n",
       "<text text-anchor=\"middle\" x=\"451.5\" y=\"-825.8\" font-family=\"Helvetica,sans-Serif\" font-size=\"14.00\">class = 유지</text>\n",
       "</g>\n",
       "<!-- 2&#45;&gt;4 -->\n",
       "<g id=\"edge4\" class=\"edge\">\n",
       "<title>2&#45;&gt;4</title>\n",
       "<path fill=\"none\" stroke=\"black\" d=\"M405.79,-936.91C411.05,-928.1 416.68,-918.7 422.12,-909.61\"/>\n",
       "<polygon fill=\"black\" stroke=\"black\" points=\"425.13,-911.4 427.26,-901.02 419.12,-907.81 425.13,-911.4\"/>\n",
       "</g>\n",
       "<!-- 5 -->\n",
       "<g id=\"node6\" class=\"node\">\n",
       "<title>5</title>\n",
       "<polygon fill=\"#e5833c\" stroke=\"black\" points=\"469,-782 260,-782 260,-699 469,-699 469,-782\"/>\n",
       "<text text-anchor=\"middle\" x=\"364.5\" y=\"-766.8\" font-family=\"Helvetica,sans-Serif\" font-size=\"14.00\">MonthRoamCharge &lt;= 29883.5</text>\n",
       "<text text-anchor=\"middle\" x=\"364.5\" y=\"-751.8\" font-family=\"Helvetica,sans-Serif\" font-size=\"14.00\">gini = 0.029</text>\n",
       "<text text-anchor=\"middle\" x=\"364.5\" y=\"-736.8\" font-family=\"Helvetica,sans-Serif\" font-size=\"14.00\">samples = 754</text>\n",
       "<text text-anchor=\"middle\" x=\"364.5\" y=\"-721.8\" font-family=\"Helvetica,sans-Serif\" font-size=\"14.00\">value = [743, 11]</text>\n",
       "<text text-anchor=\"middle\" x=\"364.5\" y=\"-706.8\" font-family=\"Helvetica,sans-Serif\" font-size=\"14.00\">class = 유지</text>\n",
       "</g>\n",
       "<!-- 4&#45;&gt;5 -->\n",
       "<g id=\"edge5\" class=\"edge\">\n",
       "<title>4&#45;&gt;5</title>\n",
       "<path fill=\"none\" stroke=\"black\" d=\"M421.32,-817.91C414.64,-808.92 407.49,-799.32 400.6,-790.05\"/>\n",
       "<polygon fill=\"black\" stroke=\"black\" points=\"403.41,-787.96 394.63,-782.02 397.79,-792.13 403.41,-787.96\"/>\n",
       "</g>\n",
       "<!-- 24 -->\n",
       "<g id=\"node25\" class=\"node\">\n",
       "<title>24</title>\n",
       "<polygon fill=\"#399de5\" stroke=\"black\" points=\"589.5,-774.5 487.5,-774.5 487.5,-706.5 589.5,-706.5 589.5,-774.5\"/>\n",
       "<text text-anchor=\"middle\" x=\"538.5\" y=\"-759.3\" font-family=\"Helvetica,sans-Serif\" font-size=\"14.00\">gini = 0.0</text>\n",
       "<text text-anchor=\"middle\" x=\"538.5\" y=\"-744.3\" font-family=\"Helvetica,sans-Serif\" font-size=\"14.00\">samples = 10</text>\n",
       "<text text-anchor=\"middle\" x=\"538.5\" y=\"-729.3\" font-family=\"Helvetica,sans-Serif\" font-size=\"14.00\">value = [0, 10]</text>\n",
       "<text text-anchor=\"middle\" x=\"538.5\" y=\"-714.3\" font-family=\"Helvetica,sans-Serif\" font-size=\"14.00\">class = 이탈</text>\n",
       "</g>\n",
       "<!-- 4&#45;&gt;24 -->\n",
       "<g id=\"edge24\" class=\"edge\">\n",
       "<title>4&#45;&gt;24</title>\n",
       "<path fill=\"none\" stroke=\"black\" d=\"M481.68,-817.91C490.14,-806.54 499.33,-794.18 507.81,-782.77\"/>\n",
       "<polygon fill=\"black\" stroke=\"black\" points=\"510.68,-784.78 513.84,-774.67 505.06,-780.6 510.68,-784.78\"/>\n",
       "</g>\n",
       "<!-- 6 -->\n",
       "<g id=\"node7\" class=\"node\">\n",
       "<title>6</title>\n",
       "<polygon fill=\"#e5823a\" stroke=\"black\" points=\"377,-663 198,-663 198,-580 377,-580 377,-663\"/>\n",
       "<text text-anchor=\"middle\" x=\"287.5\" y=\"-647.8\" font-family=\"Helvetica,sans-Serif\" font-size=\"14.00\">AvgRoamCharge &lt;= 620.0</text>\n",
       "<text text-anchor=\"middle\" x=\"287.5\" y=\"-632.8\" font-family=\"Helvetica,sans-Serif\" font-size=\"14.00\">gini = 0.013</text>\n",
       "<text text-anchor=\"middle\" x=\"287.5\" y=\"-617.8\" font-family=\"Helvetica,sans-Serif\" font-size=\"14.00\">samples = 748</text>\n",
       "<text text-anchor=\"middle\" x=\"287.5\" y=\"-602.8\" font-family=\"Helvetica,sans-Serif\" font-size=\"14.00\">value = [743, 5]</text>\n",
       "<text text-anchor=\"middle\" x=\"287.5\" y=\"-587.8\" font-family=\"Helvetica,sans-Serif\" font-size=\"14.00\">class = 유지</text>\n",
       "</g>\n",
       "<!-- 5&#45;&gt;6 -->\n",
       "<g id=\"edge6\" class=\"edge\">\n",
       "<title>5&#45;&gt;6</title>\n",
       "<path fill=\"none\" stroke=\"black\" d=\"M337.79,-698.91C331.99,-690.1 325.8,-680.7 319.82,-671.61\"/>\n",
       "<polygon fill=\"black\" stroke=\"black\" points=\"322.59,-669.45 314.17,-663.02 316.74,-673.3 322.59,-669.45\"/>\n",
       "</g>\n",
       "<!-- 23 -->\n",
       "<g id=\"node24\" class=\"node\">\n",
       "<title>23</title>\n",
       "<polygon fill=\"#399de5\" stroke=\"black\" points=\"490,-655.5 395,-655.5 395,-587.5 490,-587.5 490,-655.5\"/>\n",
       "<text text-anchor=\"middle\" x=\"442.5\" y=\"-640.3\" font-family=\"Helvetica,sans-Serif\" font-size=\"14.00\">gini = 0.0</text>\n",
       "<text text-anchor=\"middle\" x=\"442.5\" y=\"-625.3\" font-family=\"Helvetica,sans-Serif\" font-size=\"14.00\">samples = 6</text>\n",
       "<text text-anchor=\"middle\" x=\"442.5\" y=\"-610.3\" font-family=\"Helvetica,sans-Serif\" font-size=\"14.00\">value = [0, 6]</text>\n",
       "<text text-anchor=\"middle\" x=\"442.5\" y=\"-595.3\" font-family=\"Helvetica,sans-Serif\" font-size=\"14.00\">class = 이탈</text>\n",
       "</g>\n",
       "<!-- 5&#45;&gt;23 -->\n",
       "<g id=\"edge23\" class=\"edge\">\n",
       "<title>5&#45;&gt;23</title>\n",
       "<path fill=\"none\" stroke=\"black\" d=\"M391.56,-698.91C399.07,-687.65 407.22,-675.42 414.76,-664.11\"/>\n",
       "<polygon fill=\"black\" stroke=\"black\" points=\"417.75,-665.93 420.39,-655.67 411.93,-662.05 417.75,-665.93\"/>\n",
       "</g>\n",
       "<!-- 7 -->\n",
       "<g id=\"node8\" class=\"node\">\n",
       "<title>7</title>\n",
       "<polygon fill=\"#e68742\" stroke=\"black\" points=\"278.5,-544 106.5,-544 106.5,-461 278.5,-461 278.5,-544\"/>\n",
       "<text text-anchor=\"middle\" x=\"192.5\" y=\"-528.8\" font-family=\"Helvetica,sans-Serif\" font-size=\"14.00\">AvgCharge &lt;= 51937.391</text>\n",
       "<text text-anchor=\"middle\" x=\"192.5\" y=\"-513.8\" font-family=\"Helvetica,sans-Serif\" font-size=\"14.00\">gini = 0.083</text>\n",
       "<text text-anchor=\"middle\" x=\"192.5\" y=\"-498.8\" font-family=\"Helvetica,sans-Serif\" font-size=\"14.00\">samples = 69</text>\n",
       "<text text-anchor=\"middle\" x=\"192.5\" y=\"-483.8\" font-family=\"Helvetica,sans-Serif\" font-size=\"14.00\">value = [66, 3]</text>\n",
       "<text text-anchor=\"middle\" x=\"192.5\" y=\"-468.8\" font-family=\"Helvetica,sans-Serif\" font-size=\"14.00\">class = 유지</text>\n",
       "</g>\n",
       "<!-- 6&#45;&gt;7 -->\n",
       "<g id=\"edge7\" class=\"edge\">\n",
       "<title>6&#45;&gt;7</title>\n",
       "<path fill=\"none\" stroke=\"black\" d=\"M254.54,-579.91C247.25,-570.92 239.44,-561.32 231.92,-552.05\"/>\n",
       "<polygon fill=\"black\" stroke=\"black\" points=\"234.42,-549.58 225.4,-544.02 228.99,-553.99 234.42,-549.58\"/>\n",
       "</g>\n",
       "<!-- 14 -->\n",
       "<g id=\"node15\" class=\"node\">\n",
       "<title>14</title>\n",
       "<polygon fill=\"#e5813a\" stroke=\"black\" points=\"468.5,-544 296.5,-544 296.5,-461 468.5,-461 468.5,-544\"/>\n",
       "<text text-anchor=\"middle\" x=\"382.5\" y=\"-528.8\" font-family=\"Helvetica,sans-Serif\" font-size=\"14.00\">AvgCharge &lt;= 92727.082</text>\n",
       "<text text-anchor=\"middle\" x=\"382.5\" y=\"-513.8\" font-family=\"Helvetica,sans-Serif\" font-size=\"14.00\">gini = 0.006</text>\n",
       "<text text-anchor=\"middle\" x=\"382.5\" y=\"-498.8\" font-family=\"Helvetica,sans-Serif\" font-size=\"14.00\">samples = 679</text>\n",
       "<text text-anchor=\"middle\" x=\"382.5\" y=\"-483.8\" font-family=\"Helvetica,sans-Serif\" font-size=\"14.00\">value = [677, 2]</text>\n",
       "<text text-anchor=\"middle\" x=\"382.5\" y=\"-468.8\" font-family=\"Helvetica,sans-Serif\" font-size=\"14.00\">class = 유지</text>\n",
       "</g>\n",
       "<!-- 6&#45;&gt;14 -->\n",
       "<g id=\"edge14\" class=\"edge\">\n",
       "<title>6&#45;&gt;14</title>\n",
       "<path fill=\"none\" stroke=\"black\" d=\"M320.46,-579.91C327.75,-570.92 335.56,-561.32 343.08,-552.05\"/>\n",
       "<polygon fill=\"black\" stroke=\"black\" points=\"346.01,-553.99 349.6,-544.02 340.58,-549.58 346.01,-553.99\"/>\n",
       "</g>\n",
       "<!-- 8 -->\n",
       "<g id=\"node9\" class=\"node\">\n",
       "<title>8</title>\n",
       "<polygon fill=\"#e58139\" stroke=\"black\" points=\"105.5,-417.5 3.5,-417.5 3.5,-349.5 105.5,-349.5 105.5,-417.5\"/>\n",
       "<text text-anchor=\"middle\" x=\"54.5\" y=\"-402.3\" font-family=\"Helvetica,sans-Serif\" font-size=\"14.00\">gini = 0.0</text>\n",
       "<text text-anchor=\"middle\" x=\"54.5\" y=\"-387.3\" font-family=\"Helvetica,sans-Serif\" font-size=\"14.00\">samples = 57</text>\n",
       "<text text-anchor=\"middle\" x=\"54.5\" y=\"-372.3\" font-family=\"Helvetica,sans-Serif\" font-size=\"14.00\">value = [57, 0]</text>\n",
       "<text text-anchor=\"middle\" x=\"54.5\" y=\"-357.3\" font-family=\"Helvetica,sans-Serif\" font-size=\"14.00\">class = 유지</text>\n",
       "</g>\n",
       "<!-- 7&#45;&gt;8 -->\n",
       "<g id=\"edge8\" class=\"edge\">\n",
       "<title>7&#45;&gt;8</title>\n",
       "<path fill=\"none\" stroke=\"black\" d=\"M144.62,-460.91C130.7,-449.1 115.5,-436.22 101.62,-424.45\"/>\n",
       "<polygon fill=\"black\" stroke=\"black\" points=\"103.51,-421.46 93.62,-417.67 98.98,-426.8 103.51,-421.46\"/>\n",
       "</g>\n",
       "<!-- 9 -->\n",
       "<g id=\"node10\" class=\"node\">\n",
       "<title>9</title>\n",
       "<polygon fill=\"#eeab7b\" stroke=\"black\" points=\"281,-425 124,-425 124,-342 281,-342 281,-425\"/>\n",
       "<text text-anchor=\"middle\" x=\"202.5\" y=\"-409.8\" font-family=\"Helvetica,sans-Serif\" font-size=\"14.00\">AvgCharge &lt;= 55430.0</text>\n",
       "<text text-anchor=\"middle\" x=\"202.5\" y=\"-394.8\" font-family=\"Helvetica,sans-Serif\" font-size=\"14.00\">gini = 0.375</text>\n",
       "<text text-anchor=\"middle\" x=\"202.5\" y=\"-379.8\" font-family=\"Helvetica,sans-Serif\" font-size=\"14.00\">samples = 12</text>\n",
       "<text text-anchor=\"middle\" x=\"202.5\" y=\"-364.8\" font-family=\"Helvetica,sans-Serif\" font-size=\"14.00\">value = [9, 3]</text>\n",
       "<text text-anchor=\"middle\" x=\"202.5\" y=\"-349.8\" font-family=\"Helvetica,sans-Serif\" font-size=\"14.00\">class = 유지</text>\n",
       "</g>\n",
       "<!-- 7&#45;&gt;9 -->\n",
       "<g id=\"edge9\" class=\"edge\">\n",
       "<title>7&#45;&gt;9</title>\n",
       "<path fill=\"none\" stroke=\"black\" d=\"M195.97,-460.91C196.68,-452.56 197.44,-443.67 198.18,-435.02\"/>\n",
       "<polygon fill=\"black\" stroke=\"black\" points=\"201.67,-435.28 199.04,-425.02 194.7,-434.69 201.67,-435.28\"/>\n",
       "</g>\n",
       "<!-- 10 -->\n",
       "<g id=\"node11\" class=\"node\">\n",
       "<title>10</title>\n",
       "<polygon fill=\"#bddef6\" stroke=\"black\" points=\"166,-306 41,-306 41,-223 166,-223 166,-306\"/>\n",
       "<text text-anchor=\"middle\" x=\"103.5\" y=\"-290.8\" font-family=\"Helvetica,sans-Serif\" font-size=\"14.00\">SatisScore &lt;= 3.5</text>\n",
       "<text text-anchor=\"middle\" x=\"103.5\" y=\"-275.8\" font-family=\"Helvetica,sans-Serif\" font-size=\"14.00\">gini = 0.48</text>\n",
       "<text text-anchor=\"middle\" x=\"103.5\" y=\"-260.8\" font-family=\"Helvetica,sans-Serif\" font-size=\"14.00\">samples = 5</text>\n",
       "<text text-anchor=\"middle\" x=\"103.5\" y=\"-245.8\" font-family=\"Helvetica,sans-Serif\" font-size=\"14.00\">value = [2, 3]</text>\n",
       "<text text-anchor=\"middle\" x=\"103.5\" y=\"-230.8\" font-family=\"Helvetica,sans-Serif\" font-size=\"14.00\">class = 이탈</text>\n",
       "</g>\n",
       "<!-- 9&#45;&gt;10 -->\n",
       "<g id=\"edge10\" class=\"edge\">\n",
       "<title>9&#45;&gt;10</title>\n",
       "<path fill=\"none\" stroke=\"black\" d=\"M168.15,-341.91C160.47,-332.83 152.26,-323.12 144.34,-313.77\"/>\n",
       "<polygon fill=\"black\" stroke=\"black\" points=\"146.92,-311.39 137.79,-306.02 141.57,-315.92 146.92,-311.39\"/>\n",
       "</g>\n",
       "<!-- 13 -->\n",
       "<g id=\"node14\" class=\"node\">\n",
       "<title>13</title>\n",
       "<polygon fill=\"#e58139\" stroke=\"black\" points=\"279,-298.5 184,-298.5 184,-230.5 279,-230.5 279,-298.5\"/>\n",
       "<text text-anchor=\"middle\" x=\"231.5\" y=\"-283.3\" font-family=\"Helvetica,sans-Serif\" font-size=\"14.00\">gini = 0.0</text>\n",
       "<text text-anchor=\"middle\" x=\"231.5\" y=\"-268.3\" font-family=\"Helvetica,sans-Serif\" font-size=\"14.00\">samples = 7</text>\n",
       "<text text-anchor=\"middle\" x=\"231.5\" y=\"-253.3\" font-family=\"Helvetica,sans-Serif\" font-size=\"14.00\">value = [7, 0]</text>\n",
       "<text text-anchor=\"middle\" x=\"231.5\" y=\"-238.3\" font-family=\"Helvetica,sans-Serif\" font-size=\"14.00\">class = 유지</text>\n",
       "</g>\n",
       "<!-- 9&#45;&gt;13 -->\n",
       "<g id=\"edge13\" class=\"edge\">\n",
       "<title>9&#45;&gt;13</title>\n",
       "<path fill=\"none\" stroke=\"black\" d=\"M212.56,-341.91C215.24,-331.09 218.15,-319.38 220.86,-308.44\"/>\n",
       "<polygon fill=\"black\" stroke=\"black\" points=\"224.27,-309.22 223.28,-298.67 217.48,-307.53 224.27,-309.22\"/>\n",
       "</g>\n",
       "<!-- 11 -->\n",
       "<g id=\"node12\" class=\"node\">\n",
       "<title>11</title>\n",
       "<polygon fill=\"#399de5\" stroke=\"black\" points=\"95,-179.5 0,-179.5 0,-111.5 95,-111.5 95,-179.5\"/>\n",
       "<text text-anchor=\"middle\" x=\"47.5\" y=\"-164.3\" font-family=\"Helvetica,sans-Serif\" font-size=\"14.00\">gini = 0.0</text>\n",
       "<text text-anchor=\"middle\" x=\"47.5\" y=\"-149.3\" font-family=\"Helvetica,sans-Serif\" font-size=\"14.00\">samples = 3</text>\n",
       "<text text-anchor=\"middle\" x=\"47.5\" y=\"-134.3\" font-family=\"Helvetica,sans-Serif\" font-size=\"14.00\">value = [0, 3]</text>\n",
       "<text text-anchor=\"middle\" x=\"47.5\" y=\"-119.3\" font-family=\"Helvetica,sans-Serif\" font-size=\"14.00\">class = 이탈</text>\n",
       "</g>\n",
       "<!-- 10&#45;&gt;11 -->\n",
       "<g id=\"edge11\" class=\"edge\">\n",
       "<title>10&#45;&gt;11</title>\n",
       "<path fill=\"none\" stroke=\"black\" d=\"M84.07,-222.91C78.79,-211.87 73.06,-199.9 67.73,-188.77\"/>\n",
       "<polygon fill=\"black\" stroke=\"black\" points=\"70.85,-187.18 63.37,-179.67 64.54,-190.2 70.85,-187.18\"/>\n",
       "</g>\n",
       "<!-- 12 -->\n",
       "<g id=\"node13\" class=\"node\">\n",
       "<title>12</title>\n",
       "<polygon fill=\"#e58139\" stroke=\"black\" points=\"208,-179.5 113,-179.5 113,-111.5 208,-111.5 208,-179.5\"/>\n",
       "<text text-anchor=\"middle\" x=\"160.5\" y=\"-164.3\" font-family=\"Helvetica,sans-Serif\" font-size=\"14.00\">gini = 0.0</text>\n",
       "<text text-anchor=\"middle\" x=\"160.5\" y=\"-149.3\" font-family=\"Helvetica,sans-Serif\" font-size=\"14.00\">samples = 2</text>\n",
       "<text text-anchor=\"middle\" x=\"160.5\" y=\"-134.3\" font-family=\"Helvetica,sans-Serif\" font-size=\"14.00\">value = [2, 0]</text>\n",
       "<text text-anchor=\"middle\" x=\"160.5\" y=\"-119.3\" font-family=\"Helvetica,sans-Serif\" font-size=\"14.00\">class = 유지</text>\n",
       "</g>\n",
       "<!-- 10&#45;&gt;12 -->\n",
       "<g id=\"edge12\" class=\"edge\">\n",
       "<title>10&#45;&gt;12</title>\n",
       "<path fill=\"none\" stroke=\"black\" d=\"M123.28,-222.91C128.65,-211.87 134.49,-199.9 139.91,-188.77\"/>\n",
       "<polygon fill=\"black\" stroke=\"black\" points=\"143.11,-190.19 144.34,-179.67 136.82,-187.12 143.11,-190.19\"/>\n",
       "</g>\n",
       "<!-- 15 -->\n",
       "<g id=\"node16\" class=\"node\">\n",
       "<title>15</title>\n",
       "<polygon fill=\"#e58139\" stroke=\"black\" points=\"428.5,-417.5 318.5,-417.5 318.5,-349.5 428.5,-349.5 428.5,-417.5\"/>\n",
       "<text text-anchor=\"middle\" x=\"373.5\" y=\"-402.3\" font-family=\"Helvetica,sans-Serif\" font-size=\"14.00\">gini = 0.0</text>\n",
       "<text text-anchor=\"middle\" x=\"373.5\" y=\"-387.3\" font-family=\"Helvetica,sans-Serif\" font-size=\"14.00\">samples = 589</text>\n",
       "<text text-anchor=\"middle\" x=\"373.5\" y=\"-372.3\" font-family=\"Helvetica,sans-Serif\" font-size=\"14.00\">value = [589, 0]</text>\n",
       "<text text-anchor=\"middle\" x=\"373.5\" y=\"-357.3\" font-family=\"Helvetica,sans-Serif\" font-size=\"14.00\">class = 유지</text>\n",
       "</g>\n",
       "<!-- 14&#45;&gt;15 -->\n",
       "<g id=\"edge15\" class=\"edge\">\n",
       "<title>14&#45;&gt;15</title>\n",
       "<path fill=\"none\" stroke=\"black\" d=\"M379.38,-460.91C378.55,-450.2 377.66,-438.62 376.83,-427.78\"/>\n",
       "<polygon fill=\"black\" stroke=\"black\" points=\"380.31,-427.37 376.05,-417.67 373.33,-427.91 380.31,-427.37\"/>\n",
       "</g>\n",
       "<!-- 16 -->\n",
       "<g id=\"node17\" class=\"node\">\n",
       "<title>16</title>\n",
       "<polygon fill=\"#e6843d\" stroke=\"black\" points=\"618.5,-425 446.5,-425 446.5,-342 618.5,-342 618.5,-425\"/>\n",
       "<text text-anchor=\"middle\" x=\"532.5\" y=\"-409.8\" font-family=\"Helvetica,sans-Serif\" font-size=\"14.00\">AvgCharge &lt;= 92878.332</text>\n",
       "<text text-anchor=\"middle\" x=\"532.5\" y=\"-394.8\" font-family=\"Helvetica,sans-Serif\" font-size=\"14.00\">gini = 0.043</text>\n",
       "<text text-anchor=\"middle\" x=\"532.5\" y=\"-379.8\" font-family=\"Helvetica,sans-Serif\" font-size=\"14.00\">samples = 90</text>\n",
       "<text text-anchor=\"middle\" x=\"532.5\" y=\"-364.8\" font-family=\"Helvetica,sans-Serif\" font-size=\"14.00\">value = [88, 2]</text>\n",
       "<text text-anchor=\"middle\" x=\"532.5\" y=\"-349.8\" font-family=\"Helvetica,sans-Serif\" font-size=\"14.00\">class = 유지</text>\n",
       "</g>\n",
       "<!-- 14&#45;&gt;16 -->\n",
       "<g id=\"edge16\" class=\"edge\">\n",
       "<title>14&#45;&gt;16</title>\n",
       "<path fill=\"none\" stroke=\"black\" d=\"M434.54,-460.91C446.76,-451.38 459.87,-441.15 472.41,-431.37\"/>\n",
       "<polygon fill=\"black\" stroke=\"black\" points=\"474.82,-433.93 480.55,-425.02 470.51,-428.41 474.82,-433.93\"/>\n",
       "</g>\n",
       "<!-- 17 -->\n",
       "<g id=\"node18\" class=\"node\">\n",
       "<title>17</title>\n",
       "<polygon fill=\"#399de5\" stroke=\"black\" points=\"500,-298.5 405,-298.5 405,-230.5 500,-230.5 500,-298.5\"/>\n",
       "<text text-anchor=\"middle\" x=\"452.5\" y=\"-283.3\" font-family=\"Helvetica,sans-Serif\" font-size=\"14.00\">gini = 0.0</text>\n",
       "<text text-anchor=\"middle\" x=\"452.5\" y=\"-268.3\" font-family=\"Helvetica,sans-Serif\" font-size=\"14.00\">samples = 1</text>\n",
       "<text text-anchor=\"middle\" x=\"452.5\" y=\"-253.3\" font-family=\"Helvetica,sans-Serif\" font-size=\"14.00\">value = [0, 1]</text>\n",
       "<text text-anchor=\"middle\" x=\"452.5\" y=\"-238.3\" font-family=\"Helvetica,sans-Serif\" font-size=\"14.00\">class = 이탈</text>\n",
       "</g>\n",
       "<!-- 16&#45;&gt;17 -->\n",
       "<g id=\"edge17\" class=\"edge\">\n",
       "<title>16&#45;&gt;17</title>\n",
       "<path fill=\"none\" stroke=\"black\" d=\"M504.74,-341.91C497.05,-330.65 488.68,-318.42 480.95,-307.11\"/>\n",
       "<polygon fill=\"black\" stroke=\"black\" points=\"483.71,-304.95 475.18,-298.67 477.93,-308.9 483.71,-304.95\"/>\n",
       "</g>\n",
       "<!-- 18 -->\n",
       "<g id=\"node19\" class=\"node\">\n",
       "<title>18</title>\n",
       "<polygon fill=\"#e5823b\" stroke=\"black\" points=\"704.5,-306 518.5,-306 518.5,-223 704.5,-223 704.5,-306\"/>\n",
       "<text text-anchor=\"middle\" x=\"611.5\" y=\"-290.8\" font-family=\"Helvetica,sans-Serif\" font-size=\"14.00\">AvgRoamCharge &lt;= 7965.0</text>\n",
       "<text text-anchor=\"middle\" x=\"611.5\" y=\"-275.8\" font-family=\"Helvetica,sans-Serif\" font-size=\"14.00\">gini = 0.022</text>\n",
       "<text text-anchor=\"middle\" x=\"611.5\" y=\"-260.8\" font-family=\"Helvetica,sans-Serif\" font-size=\"14.00\">samples = 89</text>\n",
       "<text text-anchor=\"middle\" x=\"611.5\" y=\"-245.8\" font-family=\"Helvetica,sans-Serif\" font-size=\"14.00\">value = [88, 1]</text>\n",
       "<text text-anchor=\"middle\" x=\"611.5\" y=\"-230.8\" font-family=\"Helvetica,sans-Serif\" font-size=\"14.00\">class = 유지</text>\n",
       "</g>\n",
       "<!-- 16&#45;&gt;18 -->\n",
       "<g id=\"edge18\" class=\"edge\">\n",
       "<title>16&#45;&gt;18</title>\n",
       "<path fill=\"none\" stroke=\"black\" d=\"M559.91,-341.91C565.91,-333.01 572.33,-323.51 578.53,-314.33\"/>\n",
       "<polygon fill=\"black\" stroke=\"black\" points=\"581.44,-316.27 584.14,-306.02 575.64,-312.35 581.44,-316.27\"/>\n",
       "</g>\n",
       "<!-- 19 -->\n",
       "<g id=\"node20\" class=\"node\">\n",
       "<title>19</title>\n",
       "<polygon fill=\"#e88e4d\" stroke=\"black\" points=\"623.5,-187 437.5,-187 437.5,-104 623.5,-104 623.5,-187\"/>\n",
       "<text text-anchor=\"middle\" x=\"530.5\" y=\"-171.8\" font-family=\"Helvetica,sans-Serif\" font-size=\"14.00\">AvgRoamCharge &lt;= 7515.0</text>\n",
       "<text text-anchor=\"middle\" x=\"530.5\" y=\"-156.8\" font-family=\"Helvetica,sans-Serif\" font-size=\"14.00\">gini = 0.165</text>\n",
       "<text text-anchor=\"middle\" x=\"530.5\" y=\"-141.8\" font-family=\"Helvetica,sans-Serif\" font-size=\"14.00\">samples = 11</text>\n",
       "<text text-anchor=\"middle\" x=\"530.5\" y=\"-126.8\" font-family=\"Helvetica,sans-Serif\" font-size=\"14.00\">value = [10, 1]</text>\n",
       "<text text-anchor=\"middle\" x=\"530.5\" y=\"-111.8\" font-family=\"Helvetica,sans-Serif\" font-size=\"14.00\">class = 유지</text>\n",
       "</g>\n",
       "<!-- 18&#45;&gt;19 -->\n",
       "<g id=\"edge19\" class=\"edge\">\n",
       "<title>18&#45;&gt;19</title>\n",
       "<path fill=\"none\" stroke=\"black\" d=\"M583.4,-222.91C577.24,-214.01 570.66,-204.51 564.31,-195.33\"/>\n",
       "<polygon fill=\"black\" stroke=\"black\" points=\"567.12,-193.25 558.55,-187.02 561.37,-197.24 567.12,-193.25\"/>\n",
       "</g>\n",
       "<!-- 22 -->\n",
       "<g id=\"node23\" class=\"node\">\n",
       "<title>22</title>\n",
       "<polygon fill=\"#e58139\" stroke=\"black\" points=\"743.5,-179.5 641.5,-179.5 641.5,-111.5 743.5,-111.5 743.5,-179.5\"/>\n",
       "<text text-anchor=\"middle\" x=\"692.5\" y=\"-164.3\" font-family=\"Helvetica,sans-Serif\" font-size=\"14.00\">gini = 0.0</text>\n",
       "<text text-anchor=\"middle\" x=\"692.5\" y=\"-149.3\" font-family=\"Helvetica,sans-Serif\" font-size=\"14.00\">samples = 78</text>\n",
       "<text text-anchor=\"middle\" x=\"692.5\" y=\"-134.3\" font-family=\"Helvetica,sans-Serif\" font-size=\"14.00\">value = [78, 0]</text>\n",
       "<text text-anchor=\"middle\" x=\"692.5\" y=\"-119.3\" font-family=\"Helvetica,sans-Serif\" font-size=\"14.00\">class = 유지</text>\n",
       "</g>\n",
       "<!-- 18&#45;&gt;22 -->\n",
       "<g id=\"edge22\" class=\"edge\">\n",
       "<title>18&#45;&gt;22</title>\n",
       "<path fill=\"none\" stroke=\"black\" d=\"M639.6,-222.91C647.39,-211.65 655.86,-199.42 663.7,-188.11\"/>\n",
       "<polygon fill=\"black\" stroke=\"black\" points=\"666.72,-189.88 669.54,-179.67 660.97,-185.9 666.72,-189.88\"/>\n",
       "</g>\n",
       "<!-- 20 -->\n",
       "<g id=\"node21\" class=\"node\">\n",
       "<title>20</title>\n",
       "<polygon fill=\"#e58139\" stroke=\"black\" points=\"522.5,-68 420.5,-68 420.5,0 522.5,0 522.5,-68\"/>\n",
       "<text text-anchor=\"middle\" x=\"471.5\" y=\"-52.8\" font-family=\"Helvetica,sans-Serif\" font-size=\"14.00\">gini = 0.0</text>\n",
       "<text text-anchor=\"middle\" x=\"471.5\" y=\"-37.8\" font-family=\"Helvetica,sans-Serif\" font-size=\"14.00\">samples = 10</text>\n",
       "<text text-anchor=\"middle\" x=\"471.5\" y=\"-22.8\" font-family=\"Helvetica,sans-Serif\" font-size=\"14.00\">value = [10, 0]</text>\n",
       "<text text-anchor=\"middle\" x=\"471.5\" y=\"-7.8\" font-family=\"Helvetica,sans-Serif\" font-size=\"14.00\">class = 유지</text>\n",
       "</g>\n",
       "<!-- 19&#45;&gt;20 -->\n",
       "<g id=\"edge20\" class=\"edge\">\n",
       "<title>19&#45;&gt;20</title>\n",
       "<path fill=\"none\" stroke=\"black\" d=\"M508.53,-103.73C503.86,-95.06 498.92,-85.9 494.23,-77.18\"/>\n",
       "<polygon fill=\"black\" stroke=\"black\" points=\"497.27,-75.44 489.44,-68.3 491.1,-78.76 497.27,-75.44\"/>\n",
       "</g>\n",
       "<!-- 21 -->\n",
       "<g id=\"node22\" class=\"node\">\n",
       "<title>21</title>\n",
       "<polygon fill=\"#399de5\" stroke=\"black\" points=\"636,-68 541,-68 541,0 636,0 636,-68\"/>\n",
       "<text text-anchor=\"middle\" x=\"588.5\" y=\"-52.8\" font-family=\"Helvetica,sans-Serif\" font-size=\"14.00\">gini = 0.0</text>\n",
       "<text text-anchor=\"middle\" x=\"588.5\" y=\"-37.8\" font-family=\"Helvetica,sans-Serif\" font-size=\"14.00\">samples = 1</text>\n",
       "<text text-anchor=\"middle\" x=\"588.5\" y=\"-22.8\" font-family=\"Helvetica,sans-Serif\" font-size=\"14.00\">value = [0, 1]</text>\n",
       "<text text-anchor=\"middle\" x=\"588.5\" y=\"-7.8\" font-family=\"Helvetica,sans-Serif\" font-size=\"14.00\">class = 이탈</text>\n",
       "</g>\n",
       "<!-- 19&#45;&gt;21 -->\n",
       "<g id=\"edge21\" class=\"edge\">\n",
       "<title>19&#45;&gt;21</title>\n",
       "<path fill=\"none\" stroke=\"black\" d=\"M552.1,-103.73C556.69,-95.06 561.54,-85.9 566.16,-77.18\"/>\n",
       "<polygon fill=\"black\" stroke=\"black\" points=\"569.27,-78.77 570.86,-68.3 563.09,-75.5 569.27,-78.77\"/>\n",
       "</g>\n",
       "</g>\n",
       "</svg>\n"
      ],
      "text/plain": [
       "<graphviz.sources.Source at 0x14cc2e670>"
      ]
     },
     "metadata": {},
     "output_type": "display_data"
    }
   ],
   "source": [
    "# tree_final.dot으로 결과 저장\n",
    "export_graphviz(tree_uncustomized, out_file=\"tree_uncustomized.dot\", class_names = [\"유지\", \"이탈\"],\n",
    "# export_graphviz(tree_final, out_file=\"tree_final.dot\", \n",
    "                feature_names = v_feature_name, impurity = True, filled = True)\n",
    "# tree_final.dot 그리기\n",
    "with open(\"tree_uncustomized.dot\") as f:\n",
    "    dot_graph = f.read()\n",
    "display(graphviz.Source(dot_graph))"
   ]
  },
  {
   "cell_type": "code",
   "execution_count": 82,
   "id": "a1828e94",
   "metadata": {
    "ExecuteTime": {
     "end_time": "2022-03-16T19:58:38.087043Z",
     "start_time": "2022-03-16T19:58:38.068119Z"
    }
   },
   "outputs": [
    {
     "data": {
      "text/plain": [
       "Gender                  1.00e+00\n",
       "Age                     3.70e+01\n",
       "AgeGroup                3.00e+01\n",
       "Married                 1.00e+00\n",
       "Dependents              0.00e+00\n",
       "noDependents            0.00e+00\n",
       "Referrals               1.00e+00\n",
       "noReferrals             2.00e+00\n",
       "PaperlessBilling        1.00e+00\n",
       "PaymentMethod           1.00e+00\n",
       "OnlineSecurity          0.00e+00\n",
       "OnlineBackup            1.00e+00\n",
       "TechSupport             1.00e+00\n",
       "UnlimitedData           1.00e+00\n",
       "AvgDownloadGB           1.60e+01\n",
       "ChurnLabel              0.00e+00\n",
       "ChurnScore              6.50e+01\n",
       "CustomerLTV             2.20e+03\n",
       "SatisScore              3.00e+00\n",
       "TotalExtraDataCharge    0.00e+00\n",
       "AvgRoamCharge           4.79e+04\n",
       "TotalRoamCharge         4.31e+05\n",
       "TenureMonths            2.10e+01\n",
       "AvgCharge               8.36e+04\n",
       "TotalCharge             1.76e+06\n",
       "TotalRevenue            2.19e+06\n",
       "MonthRoamCharge         2.05e+04\n",
       "AvgExtraDataCharge      0.00e+00\n",
       "Name: 0, dtype: float64"
      ]
     },
     "execution_count": 82,
     "metadata": {},
     "output_type": "execute_result"
    }
   ],
   "source": [
    "df_raw.iloc[0]"
   ]
  },
  {
   "cell_type": "code",
   "execution_count": 84,
   "id": "d3fcb210",
   "metadata": {
    "ExecuteTime": {
     "end_time": "2022-03-16T20:02:23.452678Z",
     "start_time": "2022-03-16T20:02:23.417754Z"
    }
   },
   "outputs": [
    {
     "data": {
      "text/plain": [
       "array([[1., 0.]])"
      ]
     },
     "execution_count": 84,
     "metadata": {},
     "output_type": "execute_result"
    }
   ],
   "source": [
    "tree_uncustomized.predict_proba([[ 1, 37, 30, 1, 0, 0, 1, 2, 1, 1, 0, 1, 1, 1, 16, 0, 65, 2200, 3, 47900, 431000, 21, 83600, 1760000, 2190000, 20500, 0 ]])"
   ]
  },
  {
   "cell_type": "markdown",
   "id": "38f7e4d0",
   "metadata": {},
   "source": [
    "# XGBoost"
   ]
  },
  {
   "cell_type": "code",
   "execution_count": 67,
   "id": "566799f6",
   "metadata": {
    "ExecuteTime": {
     "end_time": "2022-03-16T19:16:24.972061Z",
     "start_time": "2022-03-16T19:16:24.596335Z"
    }
   },
   "outputs": [],
   "source": [
    "# xgboost 패키지 불러오기 \n",
    "from xgboost import XGBClassifier\n",
    "\n",
    "# 변수 중요도 확인: F1 점수 기준\n",
    "from xgboost import plot_importance\n",
    "\n",
    "# 분류모델 평가 함수\n",
    "from sklearn.metrics import confusion_matrix, accuracy_score, roc_auc_score\n",
    "from sklearn.metrics import precision_score, recall_score, f1_score\n",
    "\n",
    "# 분류모델 통합 평가: 혼동행렬, 정확도, 정밀도, 재현율, F1, AUC 등\n",
    "def eval_class_model(y_test, y_pred):\n",
    "    confusion = confusion_matrix(y_test, y_pred)\n",
    "    accuracy = accuracy_score(y_test, y_pred)\n",
    "    precision = precision_score(y_test, y_pred)\n",
    "    recall = recall_score(y_test, y_pred)\n",
    "    F1 = f1_score(y_test, y_pred)\n",
    "    AUC = roc_auc_score(y_test, y_pred)\n",
    "    \n",
    "    print('오차행렬:\\n', confusion, '\\n')\n",
    "    print('정확도: {:.4f}'.format(accuracy))\n",
    "    print('정밀도: {:.4f}'.format(precision))\n",
    "    print('재현율: {:.4f}'.format(recall))\n",
    "    print('F1    : {:.4f}'.format(F1))\n",
    "    print('AUC   : {:.4f}'.format(AUC))\n"
   ]
  },
  {
   "cell_type": "code",
   "execution_count": 68,
   "id": "839070be",
   "metadata": {
    "ExecuteTime": {
     "end_time": "2022-03-16T19:16:30.779060Z",
     "start_time": "2022-03-16T19:16:30.723600Z"
    }
   },
   "outputs": [
    {
     "data": {
      "text/plain": [
       "XGBClassifier(base_score=None, booster=None, colsample_bylevel=None,\n",
       "              colsample_bynode=None, colsample_bytree=None,\n",
       "              enable_categorical=False, gamma=None, gpu_id=None,\n",
       "              importance_type=None, interaction_constraints=None,\n",
       "              learning_rate=None, max_delta_step=None, max_depth=None,\n",
       "              min_child_weight=None, missing=nan, monotone_constraints=None,\n",
       "              n_estimators=100, n_jobs=None, num_parallel_tree=None,\n",
       "              predictor=None, random_state=None, reg_alpha=None,\n",
       "              reg_lambda=None, scale_pos_weight=None, subsample=None,\n",
       "              tree_method=None, validate_parameters=None, verbosity=None)"
      ]
     },
     "execution_count": 68,
     "metadata": {},
     "output_type": "execute_result"
    }
   ],
   "source": [
    "# 기본 모델 지정 및 기본 옵션 확인\n",
    "xgboost_uncust = XGBClassifier()\n",
    "\n",
    "xgboost_uncust"
   ]
  },
  {
   "cell_type": "code",
   "execution_count": 69,
   "id": "ed2a087e",
   "metadata": {
    "ExecuteTime": {
     "end_time": "2022-03-16T19:16:42.202927Z",
     "start_time": "2022-03-16T19:16:41.937658Z"
    }
   },
   "outputs": [
    {
     "name": "stdout",
     "output_type": "stream",
     "text": [
      "[04:16:42] WARNING: /Users/runner/work/xgboost/xgboost/src/learner.cc:1115: Starting in XGBoost 1.3.0, the default evaluation metric used with the objective 'binary:logistic' was changed from 'error' to 'logloss'. Explicitly set eval_metric if you'd like to restore the old behavior.\n",
      "\n",
      " 모델 생성 및 평가 : Train \n",
      "\n",
      "오차행렬:\n",
      " [[743   0]\n",
      " [  0 664]] \n",
      "\n",
      "정확도: 1.0000\n",
      "정밀도: 1.0000\n",
      "재현율: 1.0000\n",
      "F1    : 1.0000\n",
      "AUC   : 1.0000\n",
      "\n",
      " 모델 생성 및 평가 : Test \n",
      "\n",
      "오차행렬:\n",
      " [[394   1]\n",
      " [  2 362]] \n",
      "\n",
      "정확도: 0.9960\n",
      "정밀도: 0.9972\n",
      "재현율: 0.9945\n",
      "F1    : 0.9959\n",
      "AUC   : 0.9960\n"
     ]
    }
   ],
   "source": [
    "# 모델 적합\n",
    "xgboost_uncust.fit(df_train_x, df_train_y)\n",
    "\n",
    "print('\\n 모델 생성 및 평가 : Train \\n')\n",
    "# 예측 및 모델 평가:train  \n",
    "xgb_pred_train = xgboost_uncust.predict(df_train_x)\n",
    "# 모델 평가\n",
    "eval_class_model(df_train_y, xgb_pred_train)\n",
    "\n",
    "print('\\n 모델 생성 및 평가 : Test \\n')\n",
    "# 예측 및 모델 평가:test \n",
    "xgb_pred_test = xgboost_uncust.predict(df_test_x)\n",
    "# 모델 평가\n",
    "eval_class_model(df_test_y, xgb_pred_test)"
   ]
  },
  {
   "cell_type": "code",
   "execution_count": 70,
   "id": "83cada35",
   "metadata": {
    "ExecuteTime": {
     "end_time": "2022-03-16T19:17:22.370038Z",
     "start_time": "2022-03-16T19:17:22.192284Z"
    }
   },
   "outputs": [
    {
     "name": "stdout",
     "output_type": "stream",
     "text": [
      "[04:17:22] WARNING: /Users/runner/work/xgboost/xgboost/src/learner.cc:1115: Starting in XGBoost 1.3.0, the default evaluation metric used with the objective 'binary:logistic' was changed from 'error' to 'logloss'. Explicitly set eval_metric if you'd like to restore the old behavior.\n",
      "\n",
      " 사용자 모델 평가 : Train \n",
      "\n",
      "오차행렬:\n",
      " [[743   0]\n",
      " [  0 664]] \n",
      "\n",
      "정확도: 1.0000\n",
      "정밀도: 1.0000\n",
      "재현율: 1.0000\n",
      "F1    : 1.0000\n",
      "AUC   : 1.0000\n",
      "\n",
      "               precision    recall  f1-score   support\n",
      "\n",
      "           0       1.00      1.00      1.00       743\n",
      "           1       1.00      1.00      1.00       664\n",
      "\n",
      "    accuracy                           1.00      1407\n",
      "   macro avg       1.00      1.00      1.00      1407\n",
      "weighted avg       1.00      1.00      1.00      1407\n",
      "\n",
      "\n",
      " 사용자 모델 평가 : Test \n",
      "\n",
      "오차행렬:\n",
      " [[395   0]\n",
      " [  3 361]] \n",
      "\n",
      "정확도: 0.9960\n",
      "정밀도: 1.0000\n",
      "재현율: 0.9918\n",
      "F1    : 0.9959\n",
      "AUC   : 0.9959\n",
      "\n",
      "               precision    recall  f1-score   support\n",
      "\n",
      "           0       0.99      1.00      1.00       395\n",
      "           1       1.00      0.99      1.00       364\n",
      "\n",
      "    accuracy                           1.00       759\n",
      "   macro avg       1.00      1.00      1.00       759\n",
      "weighted avg       1.00      1.00      1.00       759\n",
      "\n"
     ]
    }
   ],
   "source": [
    "# 사용자 모델 생성\n",
    "xgboost_user= XGBClassifier(n_estimators = 100, learning_rate = 0.1, max_depth = 5)\n",
    "# 모델 적합\n",
    "xgboost_user.fit(df_train_x, df_train_y)\n",
    "\n",
    "# 예측 및 모델 평가:Train  \n",
    "xgb_pred_train = xgboost_user.predict(df_train_x)\n",
    "\n",
    "print('\\n 사용자 모델 평가 : Train \\n')\n",
    "eval_class_model(df_train_y, xgb_pred_train)\n",
    "print('\\n',classification_report(df_train_y, xgb_pred_train))\n",
    "\n",
    "\n",
    "# 예측 및 모델 평가:Test  \n",
    "xgb_pred_test = xgboost_user.predict(df_test_x)\n",
    "\n",
    "print('\\n 사용자 모델 평가 : Test \\n')\n",
    "eval_class_model(df_test_y, xgb_pred_test)\n",
    "print('\\n',classification_report(df_test_y, xgb_pred_test))\n"
   ]
  },
  {
   "cell_type": "code",
   "execution_count": 71,
   "id": "f3c75a5a",
   "metadata": {
    "ExecuteTime": {
     "end_time": "2022-03-16T19:18:06.654069Z",
     "start_time": "2022-03-16T19:18:05.929808Z"
    }
   },
   "outputs": [
    {
     "name": "stdout",
     "output_type": "stream",
     "text": [
      "[0]\tvalidation_0-logloss:0.60079\n",
      "[1]\tvalidation_0-logloss:0.52504\n",
      "[2]\tvalidation_0-logloss:0.46183\n",
      "[3]\tvalidation_0-logloss:0.40840\n",
      "[4]\tvalidation_0-logloss:0.36276\n",
      "[5]\tvalidation_0-logloss:0.32348\n",
      "[6]\tvalidation_0-logloss:0.28945\n",
      "[7]\tvalidation_0-logloss:0.25980\n",
      "[8]\tvalidation_0-logloss:0.23386\n",
      "[9]\tvalidation_0-logloss:0.21108\n",
      "[10]\tvalidation_0-logloss:0.19101\n",
      "[11]\tvalidation_0-logloss:0.17329\n",
      "[12]\tvalidation_0-logloss:0.15768\n",
      "[13]\tvalidation_0-logloss:0.14383\n",
      "[14]\tvalidation_0-logloss:0.13152\n",
      "[15]\tvalidation_0-logloss:0.12056\n",
      "[16]\tvalidation_0-logloss:0.11083\n",
      "[17]\tvalidation_0-logloss:0.10192\n",
      "[18]\tvalidation_0-logloss:0.09416\n",
      "[19]\tvalidation_0-logloss:0.08701\n",
      "[20]\tvalidation_0-logloss:0.08047\n",
      "[21]\tvalidation_0-logloss:0.07472\n",
      "[22]\tvalidation_0-logloss:0.06941\n",
      "[23]\tvalidation_0-logloss:0.06425\n",
      "[24]\tvalidation_0-logloss:0.05964\n",
      "[25]\tvalidation_0-logloss:0.05544\n",
      "[26]\tvalidation_0-logloss:0.05163\n",
      "[27]\tvalidation_0-logloss:0.04822\n",
      "[28]\tvalidation_0-logloss:0.04537\n",
      "[29]\tvalidation_0-logloss:0.04263\n",
      "[30]\tvalidation_0-logloss:0.04019\n",
      "[31]\tvalidation_0-logloss:0.03818\n",
      "[32]\tvalidation_0-logloss:0.03584\n",
      "[33]\tvalidation_0-logloss:0.03404\n",
      "[34]\tvalidation_0-logloss:0.03250\n",
      "[35]\tvalidation_0-logloss:0.03112\n",
      "[36]\tvalidation_0-logloss:0.02991\n",
      "[37]\tvalidation_0-logloss:0.02883\n",
      "[38]\tvalidation_0-logloss:0.02779\n",
      "[39]\tvalidation_0-logloss:0.02690\n",
      "[40]\tvalidation_0-logloss:0.02604\n",
      "[41]\tvalidation_0-logloss:0.02523\n",
      "[42]\tvalidation_0-logloss:0.02456\n",
      "[43]\tvalidation_0-logloss:0.02398\n",
      "[44]\tvalidation_0-logloss:0.02338\n",
      "[45]\tvalidation_0-logloss:0.02289\n",
      "[46]\tvalidation_0-logloss:0.02246\n",
      "[47]\tvalidation_0-logloss:0.02166\n",
      "[48]\tvalidation_0-logloss:0.02122\n",
      "[49]\tvalidation_0-logloss:0.02077\n",
      "[50]\tvalidation_0-logloss:0.02044\n",
      "[51]\tvalidation_0-logloss:0.02001\n",
      "[52]\tvalidation_0-logloss:0.01978\n",
      "[53]\tvalidation_0-logloss:0.01928\n",
      "[54]\tvalidation_0-logloss:0.01901\n",
      "[55]\tvalidation_0-logloss:0.01894\n",
      "[56]\tvalidation_0-logloss:0.01856\n",
      "[57]\tvalidation_0-logloss:0.01807\n",
      "[58]\tvalidation_0-logloss:0.01772\n",
      "[59]\tvalidation_0-logloss:0.01752\n",
      "[60]\tvalidation_0-logloss:0.01737\n",
      "[61]\tvalidation_0-logloss:0.01727\n",
      "[62]\tvalidation_0-logloss:0.01686\n",
      "[63]\tvalidation_0-logloss:0.01651\n",
      "[64]\tvalidation_0-logloss:0.01639\n",
      "[65]\tvalidation_0-logloss:0.01632\n",
      "[66]\tvalidation_0-logloss:0.01601\n",
      "[67]\tvalidation_0-logloss:0.01588\n",
      "[68]\tvalidation_0-logloss:0.01582\n",
      "[69]\tvalidation_0-logloss:0.01551\n",
      "[70]\tvalidation_0-logloss:0.01547\n",
      "[71]\tvalidation_0-logloss:0.01522\n",
      "[72]\tvalidation_0-logloss:0.01520\n",
      "[73]\tvalidation_0-logloss:0.01512\n",
      "[74]\tvalidation_0-logloss:0.01504\n",
      "[75]\tvalidation_0-logloss:0.01501\n",
      "[76]\tvalidation_0-logloss:0.01482\n",
      "[77]\tvalidation_0-logloss:0.01487\n",
      "[78]\tvalidation_0-logloss:0.01479\n",
      "[79]\tvalidation_0-logloss:0.01469\n",
      "[80]\tvalidation_0-logloss:0.01468\n",
      "[81]\tvalidation_0-logloss:0.01468\n",
      "[82]\tvalidation_0-logloss:0.01468\n",
      "[83]\tvalidation_0-logloss:0.01447\n",
      "[84]\tvalidation_0-logloss:0.01443\n",
      "[85]\tvalidation_0-logloss:0.01424\n",
      "[86]\tvalidation_0-logloss:0.01413\n",
      "[87]\tvalidation_0-logloss:0.01398\n",
      "[88]\tvalidation_0-logloss:0.01389\n",
      "[89]\tvalidation_0-logloss:0.01383\n",
      "[90]\tvalidation_0-logloss:0.01383\n",
      "[91]\tvalidation_0-logloss:0.01387\n",
      "[92]\tvalidation_0-logloss:0.01376\n",
      "[93]\tvalidation_0-logloss:0.01366\n",
      "[94]\tvalidation_0-logloss:0.01369\n",
      "[95]\tvalidation_0-logloss:0.01355\n",
      "[96]\tvalidation_0-logloss:0.01346\n",
      "[97]\tvalidation_0-logloss:0.01345\n",
      "[98]\tvalidation_0-logloss:0.01344\n",
      "[99]\tvalidation_0-logloss:0.01345\n",
      "[100]\tvalidation_0-logloss:0.01333\n",
      "[101]\tvalidation_0-logloss:0.01319\n",
      "[102]\tvalidation_0-logloss:0.01310\n",
      "[103]\tvalidation_0-logloss:0.01308\n",
      "[104]\tvalidation_0-logloss:0.01296\n",
      "[105]\tvalidation_0-logloss:0.01291\n",
      "[106]\tvalidation_0-logloss:0.01291\n",
      "[107]\tvalidation_0-logloss:0.01292\n",
      "[108]\tvalidation_0-logloss:0.01283\n",
      "[109]\tvalidation_0-logloss:0.01273\n",
      "[110]\tvalidation_0-logloss:0.01264\n",
      "[111]\tvalidation_0-logloss:0.01263\n",
      "[112]\tvalidation_0-logloss:0.01249\n",
      "[113]\tvalidation_0-logloss:0.01253\n",
      "[114]\tvalidation_0-logloss:0.01249\n",
      "[115]\tvalidation_0-logloss:0.01244\n",
      "[116]\tvalidation_0-logloss:0.01235\n",
      "[117]\tvalidation_0-logloss:0.01236\n",
      "[118]\tvalidation_0-logloss:0.01228\n",
      "[119]\tvalidation_0-logloss:0.01223\n",
      "[120]\tvalidation_0-logloss:0.01217\n",
      "[121]\tvalidation_0-logloss:0.01220\n",
      "[122]\tvalidation_0-logloss:0.01218\n",
      "[123]\tvalidation_0-logloss:0.01214\n",
      "[124]\tvalidation_0-logloss:0.01208\n",
      "[125]\tvalidation_0-logloss:0.01205\n",
      "[126]\tvalidation_0-logloss:0.01203\n",
      "[127]\tvalidation_0-logloss:0.01193\n",
      "[128]\tvalidation_0-logloss:0.01195\n",
      "[129]\tvalidation_0-logloss:0.01192\n",
      "[130]\tvalidation_0-logloss:0.01196\n",
      "[131]\tvalidation_0-logloss:0.01199\n",
      "[132]\tvalidation_0-logloss:0.01190\n",
      "[133]\tvalidation_0-logloss:0.01191\n",
      "[134]\tvalidation_0-logloss:0.01190\n",
      "[135]\tvalidation_0-logloss:0.01184\n",
      "[136]\tvalidation_0-logloss:0.01183\n",
      "[137]\tvalidation_0-logloss:0.01181\n",
      "[138]\tvalidation_0-logloss:0.01178\n",
      "[139]\tvalidation_0-logloss:0.01171\n",
      "[140]\tvalidation_0-logloss:0.01173\n",
      "[141]\tvalidation_0-logloss:0.01174\n",
      "[142]\tvalidation_0-logloss:0.01171\n",
      "[143]\tvalidation_0-logloss:0.01169\n",
      "[144]\tvalidation_0-logloss:0.01166\n",
      "[145]\tvalidation_0-logloss:0.01167\n",
      "[146]\tvalidation_0-logloss:0.01161\n",
      "[147]\tvalidation_0-logloss:0.01159\n",
      "[148]\tvalidation_0-logloss:0.01157\n",
      "[149]\tvalidation_0-logloss:0.01155\n",
      "[150]\tvalidation_0-logloss:0.01151\n",
      "[151]\tvalidation_0-logloss:0.01143\n",
      "[152]\tvalidation_0-logloss:0.01141\n",
      "[153]\tvalidation_0-logloss:0.01143\n",
      "[154]\tvalidation_0-logloss:0.01140\n",
      "[155]\tvalidation_0-logloss:0.01137\n",
      "[156]\tvalidation_0-logloss:0.01138\n",
      "[157]\tvalidation_0-logloss:0.01132\n",
      "[158]\tvalidation_0-logloss:0.01132\n",
      "[159]\tvalidation_0-logloss:0.01130\n",
      "[160]\tvalidation_0-logloss:0.01127\n",
      "[161]\tvalidation_0-logloss:0.01119\n",
      "[162]\tvalidation_0-logloss:0.01117\n",
      "[163]\tvalidation_0-logloss:0.01118\n",
      "[164]\tvalidation_0-logloss:0.01115\n",
      "[165]\tvalidation_0-logloss:0.01116\n",
      "[166]\tvalidation_0-logloss:0.01110\n",
      "[167]\tvalidation_0-logloss:0.01111\n",
      "[168]\tvalidation_0-logloss:0.01108\n",
      "[169]\tvalidation_0-logloss:0.01108\n",
      "[170]\tvalidation_0-logloss:0.01102\n",
      "[171]\tvalidation_0-logloss:0.01100\n",
      "[172]\tvalidation_0-logloss:0.01096\n",
      "[173]\tvalidation_0-logloss:0.01097\n",
      "[174]\tvalidation_0-logloss:0.01098\n",
      "[175]\tvalidation_0-logloss:0.01092\n",
      "[176]\tvalidation_0-logloss:0.01090\n",
      "[177]\tvalidation_0-logloss:0.01090\n",
      "[178]\tvalidation_0-logloss:0.01087\n",
      "[179]\tvalidation_0-logloss:0.01085\n",
      "[180]\tvalidation_0-logloss:0.01086\n",
      "[181]\tvalidation_0-logloss:0.01081\n",
      "[182]\tvalidation_0-logloss:0.01082\n",
      "[183]\tvalidation_0-logloss:0.01080\n",
      "[184]\tvalidation_0-logloss:0.01077\n",
      "[185]\tvalidation_0-logloss:0.01075\n",
      "[186]\tvalidation_0-logloss:0.01073\n",
      "[187]\tvalidation_0-logloss:0.01074\n",
      "[188]\tvalidation_0-logloss:0.01069\n",
      "[189]\tvalidation_0-logloss:0.01070\n",
      "[190]\tvalidation_0-logloss:0.01068\n",
      "[191]\tvalidation_0-logloss:0.01069\n",
      "[192]\tvalidation_0-logloss:0.01067\n",
      "[193]\tvalidation_0-logloss:0.01065\n",
      "[194]\tvalidation_0-logloss:0.01063\n",
      "[195]\tvalidation_0-logloss:0.01061\n",
      "[196]\tvalidation_0-logloss:0.01062\n",
      "[197]\tvalidation_0-logloss:0.01059\n",
      "[198]\tvalidation_0-logloss:0.01060\n",
      "[199]\tvalidation_0-logloss:0.01058\n",
      "[200]\tvalidation_0-logloss:0.01056\n",
      "[201]\tvalidation_0-logloss:0.01057\n",
      "[202]\tvalidation_0-logloss:0.01052\n",
      "[203]\tvalidation_0-logloss:0.01049\n",
      "[204]\tvalidation_0-logloss:0.01047\n",
      "[205]\tvalidation_0-logloss:0.01046\n",
      "[206]\tvalidation_0-logloss:0.01044\n",
      "[207]\tvalidation_0-logloss:0.01043\n",
      "[208]\tvalidation_0-logloss:0.01039\n",
      "[209]\tvalidation_0-logloss:0.01040\n",
      "[210]\tvalidation_0-logloss:0.01038\n",
      "[211]\tvalidation_0-logloss:0.01039\n",
      "[212]\tvalidation_0-logloss:0.01037\n",
      "[213]\tvalidation_0-logloss:0.01034\n",
      "[214]\tvalidation_0-logloss:0.01035\n",
      "[215]\tvalidation_0-logloss:0.01033\n",
      "[216]\tvalidation_0-logloss:0.01029\n",
      "[217]\tvalidation_0-logloss:0.01030\n",
      "[218]\tvalidation_0-logloss:0.01029\n",
      "[219]\tvalidation_0-logloss:0.01027\n",
      "[220]\tvalidation_0-logloss:0.01025\n",
      "[221]\tvalidation_0-logloss:0.01023\n",
      "[222]\tvalidation_0-logloss:0.01022\n",
      "[223]\tvalidation_0-logloss:0.01020\n",
      "[224]\tvalidation_0-logloss:0.01018\n",
      "[225]\tvalidation_0-logloss:0.01019\n",
      "[226]\tvalidation_0-logloss:0.01020\n",
      "[227]\tvalidation_0-logloss:0.01017\n",
      "[228]\tvalidation_0-logloss:0.01015\n",
      "[229]\tvalidation_0-logloss:0.01012\n",
      "[230]\tvalidation_0-logloss:0.01009\n",
      "[231]\tvalidation_0-logloss:0.01010\n",
      "[232]\tvalidation_0-logloss:0.01009\n",
      "[233]\tvalidation_0-logloss:0.01007\n",
      "[234]\tvalidation_0-logloss:0.01006\n",
      "[235]\tvalidation_0-logloss:0.01004\n",
      "[236]\tvalidation_0-logloss:0.01004\n",
      "[237]\tvalidation_0-logloss:0.01005\n"
     ]
    },
    {
     "name": "stdout",
     "output_type": "stream",
     "text": [
      "[238]\tvalidation_0-logloss:0.01000\n",
      "[239]\tvalidation_0-logloss:0.01001\n",
      "[240]\tvalidation_0-logloss:0.00999\n",
      "[241]\tvalidation_0-logloss:0.00998\n",
      "[242]\tvalidation_0-logloss:0.00999\n",
      "[243]\tvalidation_0-logloss:0.00999\n",
      "[244]\tvalidation_0-logloss:0.00997\n",
      "[245]\tvalidation_0-logloss:0.00997\n",
      "[246]\tvalidation_0-logloss:0.00998\n",
      "[247]\tvalidation_0-logloss:0.00994\n",
      "[248]\tvalidation_0-logloss:0.00995\n",
      "[249]\tvalidation_0-logloss:0.00995\n",
      "[250]\tvalidation_0-logloss:0.00993\n",
      "[251]\tvalidation_0-logloss:0.00992\n",
      "[252]\tvalidation_0-logloss:0.00990\n",
      "[253]\tvalidation_0-logloss:0.00989\n",
      "[254]\tvalidation_0-logloss:0.00990\n",
      "[255]\tvalidation_0-logloss:0.00990\n",
      "[256]\tvalidation_0-logloss:0.00988\n",
      "[257]\tvalidation_0-logloss:0.00988\n",
      "[258]\tvalidation_0-logloss:0.00989\n",
      "[259]\tvalidation_0-logloss:0.00985\n",
      "[260]\tvalidation_0-logloss:0.00985\n",
      "[261]\tvalidation_0-logloss:0.00986\n",
      "[262]\tvalidation_0-logloss:0.00985\n",
      "[263]\tvalidation_0-logloss:0.00983\n",
      "[264]\tvalidation_0-logloss:0.00983\n",
      "[265]\tvalidation_0-logloss:0.00984\n",
      "[266]\tvalidation_0-logloss:0.00983\n",
      "[267]\tvalidation_0-logloss:0.00983\n",
      "[268]\tvalidation_0-logloss:0.00984\n",
      "[269]\tvalidation_0-logloss:0.00979\n",
      "[270]\tvalidation_0-logloss:0.00978\n",
      "[271]\tvalidation_0-logloss:0.00976\n",
      "[272]\tvalidation_0-logloss:0.00977\n",
      "[273]\tvalidation_0-logloss:0.00977\n",
      "[274]\tvalidation_0-logloss:0.00978\n",
      "[275]\tvalidation_0-logloss:0.00977\n",
      "[276]\tvalidation_0-logloss:0.00977\n",
      "[277]\tvalidation_0-logloss:0.00976\n",
      "[278]\tvalidation_0-logloss:0.00974\n",
      "[279]\tvalidation_0-logloss:0.00975\n",
      "[280]\tvalidation_0-logloss:0.00975\n",
      "[281]\tvalidation_0-logloss:0.00971\n",
      "[282]\tvalidation_0-logloss:0.00972\n",
      "[283]\tvalidation_0-logloss:0.00972\n",
      "[284]\tvalidation_0-logloss:0.00973\n",
      "[285]\tvalidation_0-logloss:0.00971\n",
      "[286]\tvalidation_0-logloss:0.00970\n",
      "[287]\tvalidation_0-logloss:0.00970\n",
      "[288]\tvalidation_0-logloss:0.00969\n",
      "[289]\tvalidation_0-logloss:0.00969\n",
      "[290]\tvalidation_0-logloss:0.00970\n",
      "[291]\tvalidation_0-logloss:0.00970\n",
      "[292]\tvalidation_0-logloss:0.00969\n",
      "[293]\tvalidation_0-logloss:0.00967\n",
      "[294]\tvalidation_0-logloss:0.00963\n",
      "[295]\tvalidation_0-logloss:0.00962\n",
      "[296]\tvalidation_0-logloss:0.00963\n",
      "[297]\tvalidation_0-logloss:0.00963\n",
      "[298]\tvalidation_0-logloss:0.00962\n",
      "[299]\tvalidation_0-logloss:0.00962\n"
     ]
    },
    {
     "data": {
      "text/plain": [
       "XGBClassifier(base_score=0.5, booster='gbtree', colsample_bylevel=1,\n",
       "              colsample_bynode=1, colsample_bytree=1, enable_categorical=False,\n",
       "              gamma=0, gpu_id=-1, importance_type=None,\n",
       "              interaction_constraints='', learning_rate=0.1, max_delta_step=0,\n",
       "              max_depth=6, min_child_weight=1, missing=nan,\n",
       "              monotone_constraints='()', n_estimators=300, n_jobs=8,\n",
       "              num_parallel_tree=1, predictor='auto', random_state=0,\n",
       "              reg_alpha=0, reg_lambda=1, scale_pos_weight=1, subsample=1,\n",
       "              tree_method='exact', validate_parameters=1, verbosity=None)"
      ]
     },
     "execution_count": 71,
     "metadata": {},
     "output_type": "execute_result"
    }
   ],
   "source": [
    "# sklearn XGBoost 모델의 조기 중단 : fit( )에 파라미터 입력(early_stopping_rounds, eval_metrics, eval_set.)\n",
    "# max_depth, learning_rate(학습률), 반복횟수 등 지정\n",
    "# 오류함수의 평가지표:logloss\n",
    "# 조기중단을 위한 최소 반복횟수는 150\n",
    "\n",
    "xgb_stop = XGBClassifier(n_estimators = 300, learning_rate = 0.1 , max_depth = 6)\n",
    "\n",
    "eval_df = [(df_test_x, df_test_y)]\n",
    "\n",
    "xgb_stop.fit(df_train_x, df_train_y, early_stopping_rounds = 150, \n",
    "                eval_metric=\"logloss\", eval_set = eval_df, verbose=True)"
   ]
  },
  {
   "cell_type": "code",
   "execution_count": 72,
   "id": "bf8be5fe",
   "metadata": {
    "ExecuteTime": {
     "end_time": "2022-03-16T19:18:14.304672Z",
     "start_time": "2022-03-16T19:18:14.269023Z"
    }
   },
   "outputs": [
    {
     "name": "stdout",
     "output_type": "stream",
     "text": [
      "\n",
      " 조기 중단 모델 평가 : Test \n",
      "\n",
      "오차행렬:\n",
      " [[395   0]\n",
      " [  2 362]] \n",
      "\n",
      "정확도: 0.9974\n",
      "정밀도: 1.0000\n",
      "재현율: 0.9945\n",
      "F1    : 0.9972\n",
      "AUC   : 0.9973\n",
      "\n",
      "               precision    recall  f1-score   support\n",
      "\n",
      "           0       0.99      1.00      1.00       395\n",
      "           1       1.00      0.99      1.00       364\n",
      "\n",
      "    accuracy                           1.00       759\n",
      "   macro avg       1.00      1.00      1.00       759\n",
      "weighted avg       1.00      1.00      1.00       759\n",
      "\n"
     ]
    }
   ],
   "source": [
    "# 조기 중단 예측 및 모델 평가:Test  \n",
    "xgb_pred_stop = xgb_stop.predict(df_test_x)\n",
    "\n",
    "print('\\n 조기 중단 모델 평가 : Test \\n')\n",
    "eval_class_model(df_test_y, xgb_pred_stop)\n",
    "print('\\n',classification_report(df_test_y, xgb_pred_stop))"
   ]
  },
  {
   "cell_type": "code",
   "execution_count": 73,
   "id": "aa808c71",
   "metadata": {
    "ExecuteTime": {
     "end_time": "2022-03-16T19:18:25.479800Z",
     "start_time": "2022-03-16T19:18:25.211454Z"
    }
   },
   "outputs": [
    {
     "data": {
      "text/plain": [
       "<AxesSubplot:title={'center':'Feature importance'}, xlabel='F score', ylabel='Features'>"
      ]
     },
     "execution_count": 73,
     "metadata": {},
     "output_type": "execute_result"
    },
    {
     "data": {
      "image/png": "[encoded data removed]",
      "text/plain": [
       "<Figure size 720x864 with 1 Axes>"
      ]
     },
     "metadata": {
      "needs_background": "light"
     },
     "output_type": "display_data"
    }
   ],
   "source": [
    "# 변수 중요도 확인 \n",
    "fig, ax = plt.subplots(figsize=(10, 12))\n",
    "plot_importance(xgb_stop, ax=ax)\n",
    "\n",
    "# importance_type 변경 가능\n",
    "# plot_importance(xgb_stop, importance_type='gain', ax=ax)"
   ]
  },
  {
   "cell_type": "markdown",
   "id": "56f70a60",
   "metadata": {},
   "source": [
    "# SVM모델"
   ]
  },
  {
   "cell_type": "code",
   "execution_count": 88,
   "id": "c1be6853",
   "metadata": {
    "ExecuteTime": {
     "end_time": "2022-03-17T02:01:35.875229Z",
     "start_time": "2022-03-17T02:01:35.801244Z"
    }
   },
   "outputs": [
    {
     "data": {
      "text/html": [
       "<div>\n",
       "<style scoped>\n",
       "    .dataframe tbody tr th:only-of-type {\n",
       "        vertical-align: middle;\n",
       "    }\n",
       "\n",
       "    .dataframe tbody tr th {\n",
       "        vertical-align: top;\n",
       "    }\n",
       "\n",
       "    .dataframe thead th {\n",
       "        text-align: right;\n",
       "    }\n",
       "</style>\n",
       "<table border=\"1\" class=\"dataframe\">\n",
       "  <thead>\n",
       "    <tr style=\"text-align: right;\">\n",
       "      <th></th>\n",
       "      <th>CustomerId</th>\n",
       "      <th>Gender</th>\n",
       "      <th>Age</th>\n",
       "      <th>AgeGroup</th>\n",
       "      <th>Married</th>\n",
       "      <th>Dependents</th>\n",
       "      <th>noDependents</th>\n",
       "      <th>Referrals</th>\n",
       "      <th>noReferrals</th>\n",
       "      <th>PaperlessBilling</th>\n",
       "      <th>...</th>\n",
       "      <th>SatisScore</th>\n",
       "      <th>TotalExtraDataCharge</th>\n",
       "      <th>AvgRoamCharge</th>\n",
       "      <th>TotalRoamCharge</th>\n",
       "      <th>TenureMonths</th>\n",
       "      <th>AvgCharge</th>\n",
       "      <th>TotalCharge</th>\n",
       "      <th>TotalRevenue</th>\n",
       "      <th>MonthRoamCharge</th>\n",
       "      <th>AvgExtraDataCharge</th>\n",
       "    </tr>\n",
       "  </thead>\n",
       "  <tbody>\n",
       "    <tr>\n",
       "      <th>0</th>\n",
       "      <td>C-10001</td>\n",
       "      <td>여성</td>\n",
       "      <td>37</td>\n",
       "      <td>30</td>\n",
       "      <td>Yes</td>\n",
       "      <td>No</td>\n",
       "      <td>0</td>\n",
       "      <td>Yes</td>\n",
       "      <td>2</td>\n",
       "      <td>Yes</td>\n",
       "      <td>...</td>\n",
       "      <td>3</td>\n",
       "      <td>0</td>\n",
       "      <td>47910</td>\n",
       "      <td>431100</td>\n",
       "      <td>21</td>\n",
       "      <td>83590.48</td>\n",
       "      <td>1755400</td>\n",
       "      <td>2186500</td>\n",
       "      <td>20528</td>\n",
       "      <td>0</td>\n",
       "    </tr>\n",
       "    <tr>\n",
       "      <th>1</th>\n",
       "      <td>C-10002</td>\n",
       "      <td>남성</td>\n",
       "      <td>46</td>\n",
       "      <td>40</td>\n",
       "      <td>No</td>\n",
       "      <td>No</td>\n",
       "      <td>0</td>\n",
       "      <td>No</td>\n",
       "      <td>0</td>\n",
       "      <td>No</td>\n",
       "      <td>...</td>\n",
       "      <td>5</td>\n",
       "      <td>11300</td>\n",
       "      <td>12090</td>\n",
       "      <td>108710</td>\n",
       "      <td>21</td>\n",
       "      <td>68928.57</td>\n",
       "      <td>1447500</td>\n",
       "      <td>1567510</td>\n",
       "      <td>5176</td>\n",
       "      <td>538</td>\n",
       "    </tr>\n",
       "    <tr>\n",
       "      <th>2</th>\n",
       "      <td>C-10003</td>\n",
       "      <td>남성</td>\n",
       "      <td>50</td>\n",
       "      <td>50</td>\n",
       "      <td>No</td>\n",
       "      <td>No</td>\n",
       "      <td>0</td>\n",
       "      <td>No</td>\n",
       "      <td>0</td>\n",
       "      <td>Yes</td>\n",
       "      <td>...</td>\n",
       "      <td>1</td>\n",
       "      <td>0</td>\n",
       "      <td>38080</td>\n",
       "      <td>152100</td>\n",
       "      <td>4</td>\n",
       "      <td>98180.00</td>\n",
       "      <td>490900</td>\n",
       "      <td>643000</td>\n",
       "      <td>38025</td>\n",
       "      <td>0</td>\n",
       "    </tr>\n",
       "    <tr>\n",
       "      <th>3</th>\n",
       "      <td>C-10004</td>\n",
       "      <td>남성</td>\n",
       "      <td>78</td>\n",
       "      <td>70</td>\n",
       "      <td>Yes</td>\n",
       "      <td>No</td>\n",
       "      <td>0</td>\n",
       "      <td>Yes</td>\n",
       "      <td>1</td>\n",
       "      <td>Yes</td>\n",
       "      <td>...</td>\n",
       "      <td>1</td>\n",
       "      <td>0</td>\n",
       "      <td>31410</td>\n",
       "      <td>408720</td>\n",
       "      <td>13</td>\n",
       "      <td>112742.86</td>\n",
       "      <td>1578400</td>\n",
       "      <td>1987120</td>\n",
       "      <td>31440</td>\n",
       "      <td>0</td>\n",
       "    </tr>\n",
       "    <tr>\n",
       "      <th>4</th>\n",
       "      <td>C-10005</td>\n",
       "      <td>여성</td>\n",
       "      <td>75</td>\n",
       "      <td>70</td>\n",
       "      <td>Yes</td>\n",
       "      <td>No</td>\n",
       "      <td>0</td>\n",
       "      <td>Yes</td>\n",
       "      <td>3</td>\n",
       "      <td>Yes</td>\n",
       "      <td>...</td>\n",
       "      <td>1</td>\n",
       "      <td>0</td>\n",
       "      <td>8360</td>\n",
       "      <td>24970</td>\n",
       "      <td>3</td>\n",
       "      <td>94500.00</td>\n",
       "      <td>378000</td>\n",
       "      <td>402970</td>\n",
       "      <td>8323</td>\n",
       "      <td>0</td>\n",
       "    </tr>\n",
       "    <tr>\n",
       "      <th>...</th>\n",
       "      <td>...</td>\n",
       "      <td>...</td>\n",
       "      <td>...</td>\n",
       "      <td>...</td>\n",
       "      <td>...</td>\n",
       "      <td>...</td>\n",
       "      <td>...</td>\n",
       "      <td>...</td>\n",
       "      <td>...</td>\n",
       "      <td>...</td>\n",
       "      <td>...</td>\n",
       "      <td>...</td>\n",
       "      <td>...</td>\n",
       "      <td>...</td>\n",
       "      <td>...</td>\n",
       "      <td>...</td>\n",
       "      <td>...</td>\n",
       "      <td>...</td>\n",
       "      <td>...</td>\n",
       "      <td>...</td>\n",
       "      <td>...</td>\n",
       "    </tr>\n",
       "    <tr>\n",
       "      <th>6858</th>\n",
       "      <td>C-17039</td>\n",
       "      <td>여성</td>\n",
       "      <td>20</td>\n",
       "      <td>20</td>\n",
       "      <td>No</td>\n",
       "      <td>No</td>\n",
       "      <td>0</td>\n",
       "      <td>No</td>\n",
       "      <td>0</td>\n",
       "      <td>No</td>\n",
       "      <td>...</td>\n",
       "      <td>4</td>\n",
       "      <td>0</td>\n",
       "      <td>52770</td>\n",
       "      <td>685680</td>\n",
       "      <td>25</td>\n",
       "      <td>64428.00</td>\n",
       "      <td>1610700</td>\n",
       "      <td>2296380</td>\n",
       "      <td>27427</td>\n",
       "      <td>0</td>\n",
       "    </tr>\n",
       "    <tr>\n",
       "      <th>6859</th>\n",
       "      <td>C-17040</td>\n",
       "      <td>남성</td>\n",
       "      <td>40</td>\n",
       "      <td>40</td>\n",
       "      <td>Yes</td>\n",
       "      <td>No</td>\n",
       "      <td>0</td>\n",
       "      <td>Yes</td>\n",
       "      <td>1</td>\n",
       "      <td>Yes</td>\n",
       "      <td>...</td>\n",
       "      <td>1</td>\n",
       "      <td>0</td>\n",
       "      <td>18310</td>\n",
       "      <td>402730</td>\n",
       "      <td>22</td>\n",
       "      <td>101891.30</td>\n",
       "      <td>2343500</td>\n",
       "      <td>2746230</td>\n",
       "      <td>18305</td>\n",
       "      <td>0</td>\n",
       "    </tr>\n",
       "    <tr>\n",
       "      <th>6860</th>\n",
       "      <td>C-17041</td>\n",
       "      <td>남성</td>\n",
       "      <td>22</td>\n",
       "      <td>20</td>\n",
       "      <td>No</td>\n",
       "      <td>No</td>\n",
       "      <td>0</td>\n",
       "      <td>No</td>\n",
       "      <td>0</td>\n",
       "      <td>Yes</td>\n",
       "      <td>...</td>\n",
       "      <td>5</td>\n",
       "      <td>0</td>\n",
       "      <td>21020</td>\n",
       "      <td>42040</td>\n",
       "      <td>14</td>\n",
       "      <td>56600.00</td>\n",
       "      <td>792400</td>\n",
       "      <td>834440</td>\n",
       "      <td>3002</td>\n",
       "      <td>0</td>\n",
       "    </tr>\n",
       "    <tr>\n",
       "      <th>6861</th>\n",
       "      <td>C-17042</td>\n",
       "      <td>남성</td>\n",
       "      <td>21</td>\n",
       "      <td>20</td>\n",
       "      <td>No</td>\n",
       "      <td>No</td>\n",
       "      <td>0</td>\n",
       "      <td>Yes</td>\n",
       "      <td>5</td>\n",
       "      <td>No</td>\n",
       "      <td>...</td>\n",
       "      <td>3</td>\n",
       "      <td>0</td>\n",
       "      <td>2370</td>\n",
       "      <td>160460</td>\n",
       "      <td>79</td>\n",
       "      <td>80107.59</td>\n",
       "      <td>6328500</td>\n",
       "      <td>6488960</td>\n",
       "      <td>2031</td>\n",
       "      <td>0</td>\n",
       "    </tr>\n",
       "    <tr>\n",
       "      <th>6862</th>\n",
       "      <td>C-17043</td>\n",
       "      <td>남성</td>\n",
       "      <td>36</td>\n",
       "      <td>30</td>\n",
       "      <td>Yes</td>\n",
       "      <td>No</td>\n",
       "      <td>0</td>\n",
       "      <td>Yes</td>\n",
       "      <td>1</td>\n",
       "      <td>No</td>\n",
       "      <td>...</td>\n",
       "      <td>3</td>\n",
       "      <td>0</td>\n",
       "      <td>0</td>\n",
       "      <td>0</td>\n",
       "      <td>75</td>\n",
       "      <td>69281.33</td>\n",
       "      <td>5196100</td>\n",
       "      <td>5196100</td>\n",
       "      <td>0</td>\n",
       "      <td>0</td>\n",
       "    </tr>\n",
       "  </tbody>\n",
       "</table>\n",
       "<p>6863 rows × 34 columns</p>\n",
       "</div>"
      ],
      "text/plain": [
       "     CustomerId Gender  Age  AgeGroup Married Dependents  noDependents  \\\n",
       "0       C-10001     여성   37        30     Yes         No             0   \n",
       "1       C-10002     남성   46        40      No         No             0   \n",
       "2       C-10003     남성   50        50      No         No             0   \n",
       "3       C-10004     남성   78        70     Yes         No             0   \n",
       "4       C-10005     여성   75        70     Yes         No             0   \n",
       "...         ...    ...  ...       ...     ...        ...           ...   \n",
       "6858    C-17039     여성   20        20      No         No             0   \n",
       "6859    C-17040     남성   40        40     Yes         No             0   \n",
       "6860    C-17041     남성   22        20      No         No             0   \n",
       "6861    C-17042     남성   21        20      No         No             0   \n",
       "6862    C-17043     남성   36        30     Yes         No             0   \n",
       "\n",
       "     Referrals  noReferrals PaperlessBilling  ... SatisScore  \\\n",
       "0          Yes            2              Yes  ...          3   \n",
       "1           No            0               No  ...          5   \n",
       "2           No            0              Yes  ...          1   \n",
       "3          Yes            1              Yes  ...          1   \n",
       "4          Yes            3              Yes  ...          1   \n",
       "...        ...          ...              ...  ...        ...   \n",
       "6858        No            0               No  ...          4   \n",
       "6859       Yes            1              Yes  ...          1   \n",
       "6860        No            0              Yes  ...          5   \n",
       "6861       Yes            5               No  ...          3   \n",
       "6862       Yes            1               No  ...          3   \n",
       "\n",
       "     TotalExtraDataCharge AvgRoamCharge TotalRoamCharge TenureMonths  \\\n",
       "0                       0         47910          431100           21   \n",
       "1                   11300         12090          108710           21   \n",
       "2                       0         38080          152100            4   \n",
       "3                       0         31410          408720           13   \n",
       "4                       0          8360           24970            3   \n",
       "...                   ...           ...             ...          ...   \n",
       "6858                    0         52770          685680           25   \n",
       "6859                    0         18310          402730           22   \n",
       "6860                    0         21020           42040           14   \n",
       "6861                    0          2370          160460           79   \n",
       "6862                    0             0               0           75   \n",
       "\n",
       "      AvgCharge TotalCharge TotalRevenue MonthRoamCharge  AvgExtraDataCharge  \n",
       "0      83590.48     1755400      2186500           20528                   0  \n",
       "1      68928.57     1447500      1567510            5176                 538  \n",
       "2      98180.00      490900       643000           38025                   0  \n",
       "3     112742.86     1578400      1987120           31440                   0  \n",
       "4      94500.00      378000       402970            8323                   0  \n",
       "...         ...         ...          ...             ...                 ...  \n",
       "6858   64428.00     1610700      2296380           27427                   0  \n",
       "6859  101891.30     2343500      2746230           18305                   0  \n",
       "6860   56600.00      792400       834440            3002                   0  \n",
       "6861   80107.59     6328500      6488960            2031                   0  \n",
       "6862   69281.33     5196100      5196100               0                   0  \n",
       "\n",
       "[6863 rows x 34 columns]"
      ]
     },
     "execution_count": 88,
     "metadata": {},
     "output_type": "execute_result"
    }
   ],
   "source": [
    "df_raw = pd.read_csv('add_variable_customer.csv', encoding='euc-kr')\n",
    "df_raw.drop('Unnamed: 0', axis = 1, inplace=True)\n",
    "\n",
    "df_raw"
   ]
  },
  {
   "cell_type": "code",
   "execution_count": 89,
   "id": "0af3dbb8",
   "metadata": {
    "ExecuteTime": {
     "end_time": "2022-03-17T02:01:36.315354Z",
     "start_time": "2022-03-17T02:01:36.260743Z"
    }
   },
   "outputs": [],
   "source": [
    "##### @Gender : 여성(1), 남성(0)\n",
    "\n",
    "df_raw['Gender'] = df_raw['Gender'].replace(to_replace='여성', value=1)\n",
    "df_raw['Gender'] = df_raw['Gender'].replace(to_replace='남성', value=0)\n",
    "\n",
    "##### @Married : Yes(1), No(0)\n",
    "\n",
    "df_raw['Married'] = df_raw['Married'].replace(to_replace='Yes', value=1)\n",
    "df_raw['Married'] = df_raw['Married'].replace(to_replace='No', value=0)\n",
    "\n",
    "##### @Referrals : Yes(1), No(0)\n",
    "\n",
    "df_raw['Referrals'] = df_raw['Referrals'].replace(to_replace='Yes', value=1)\n",
    "df_raw['Referrals'] = df_raw['Referrals'].replace(to_replace='No', value=0)\n",
    "\n",
    "##### @Dependents: Yes(1), No(0)\n",
    "\n",
    "df_raw['Dependents'] = df_raw['Dependents'].replace(to_replace='Yes', value=1)\n",
    "df_raw['Dependents'] = df_raw['Dependents'].replace(to_replace='No', value=0)\n",
    "\n",
    "##### @PaperlessBilling  : Yes(1), No(0)\n",
    "\n",
    "df_raw['PaperlessBilling'] = df_raw['PaperlessBilling'].replace(to_replace='Yes', value=1)\n",
    "df_raw['PaperlessBilling'] = df_raw['PaperlessBilling'].replace(to_replace='No', value=0)\n",
    "\n",
    "##### @PaymentMethod\n",
    "\n",
    "df_raw['PaymentMethod'] = df_raw['PaymentMethod'].replace(to_replace='신용카드', value=1)\n",
    "df_raw['PaymentMethod'] = df_raw['PaymentMethod'].replace(to_replace='계좌이체', value=0)\n",
    "df_raw['PaymentMethod'] = df_raw['PaymentMethod'].replace(to_replace='이체/메일확인', value=2)\n",
    "\n",
    "##### @OnlineSecurity\n",
    "\n",
    "df_raw['OnlineSecurity'] = df_raw['OnlineSecurity'].replace(to_replace='Yes', value=1)\n",
    "df_raw['OnlineSecurity'] = df_raw['OnlineSecurity'].replace(to_replace='No', value=0)\n",
    "\n",
    "##### @OnlineBackup  : Yes(1), No(0)\n",
    "\n",
    "df_raw['OnlineBackup'] = df_raw['OnlineBackup'].replace(to_replace='Yes', value=1)\n",
    "df_raw['OnlineBackup'] = df_raw['OnlineBackup'].replace(to_replace='No', value=0)\n",
    "\n",
    "##### @TechSupport  : Yes(1), No(0)\n",
    "\n",
    "df_raw['TechSupport'] = df_raw['TechSupport'].replace(to_replace='Yes', value=1)\n",
    "df_raw['TechSupport'] = df_raw['TechSupport'].replace(to_replace='No', value=0)\n",
    "\n",
    "##### @UnlimitedData : Yes(1), No(0)\n",
    "\n",
    "df_raw['UnlimitedData'] = df_raw['UnlimitedData'].replace(to_replace='Yes', value=1)\n",
    "df_raw['UnlimitedData'] = df_raw['UnlimitedData'].replace(to_replace='No', value=0)"
   ]
  },
  {
   "cell_type": "code",
   "execution_count": 90,
   "id": "2ef59b91",
   "metadata": {
    "ExecuteTime": {
     "end_time": "2022-03-17T02:01:36.812389Z",
     "start_time": "2022-03-17T02:01:36.794646Z"
    }
   },
   "outputs": [],
   "source": [
    "df_raw['StartDate'] = pd.to_datetime(df_raw['StartDate'])\n",
    "df_raw = df_raw[(df_raw[\"StartDate\"].dt.year>=2020)]"
   ]
  },
  {
   "cell_type": "code",
   "execution_count": 91,
   "id": "100d1a8b",
   "metadata": {
    "ExecuteTime": {
     "end_time": "2022-03-17T02:01:38.859641Z",
     "start_time": "2022-03-17T02:01:38.821202Z"
    }
   },
   "outputs": [],
   "source": [
    "df_raw.drop(['CustomerId',  'EndDate', 'PaymentMethod', 'StartDate',\n",
    "             'EndDateTmp', 'ChurnCategory', 'ChurnReason'], axis=1, inplace=True)"
   ]
  },
  {
   "cell_type": "code",
   "execution_count": 92,
   "id": "07efa72a",
   "metadata": {
    "ExecuteTime": {
     "end_time": "2022-03-17T02:01:40.522608Z",
     "start_time": "2022-03-17T02:01:40.483474Z"
    }
   },
   "outputs": [
    {
     "data": {
      "text/html": [
       "<div>\n",
       "<style scoped>\n",
       "    .dataframe tbody tr th:only-of-type {\n",
       "        vertical-align: middle;\n",
       "    }\n",
       "\n",
       "    .dataframe tbody tr th {\n",
       "        vertical-align: top;\n",
       "    }\n",
       "\n",
       "    .dataframe thead th {\n",
       "        text-align: right;\n",
       "    }\n",
       "</style>\n",
       "<table border=\"1\" class=\"dataframe\">\n",
       "  <thead>\n",
       "    <tr style=\"text-align: right;\">\n",
       "      <th></th>\n",
       "      <th>Gender</th>\n",
       "      <th>Age</th>\n",
       "      <th>AgeGroup</th>\n",
       "      <th>Married</th>\n",
       "      <th>Dependents</th>\n",
       "      <th>noDependents</th>\n",
       "      <th>Referrals</th>\n",
       "      <th>noReferrals</th>\n",
       "      <th>PaperlessBilling</th>\n",
       "      <th>OnlineSecurity</th>\n",
       "      <th>...</th>\n",
       "      <th>SatisScore</th>\n",
       "      <th>TotalExtraDataCharge</th>\n",
       "      <th>AvgRoamCharge</th>\n",
       "      <th>TotalRoamCharge</th>\n",
       "      <th>TenureMonths</th>\n",
       "      <th>AvgCharge</th>\n",
       "      <th>TotalCharge</th>\n",
       "      <th>TotalRevenue</th>\n",
       "      <th>MonthRoamCharge</th>\n",
       "      <th>AvgExtraDataCharge</th>\n",
       "    </tr>\n",
       "  </thead>\n",
       "  <tbody>\n",
       "    <tr>\n",
       "      <th>0</th>\n",
       "      <td>1.0</td>\n",
       "      <td>0.28</td>\n",
       "      <td>0.17</td>\n",
       "      <td>1.0</td>\n",
       "      <td>0.0</td>\n",
       "      <td>0.0</td>\n",
       "      <td>1.0</td>\n",
       "      <td>0.2</td>\n",
       "      <td>1.0</td>\n",
       "      <td>0.0</td>\n",
       "      <td>...</td>\n",
       "      <td>0.5</td>\n",
       "      <td>0.00</td>\n",
       "      <td>0.85</td>\n",
       "      <td>0.35</td>\n",
       "      <td>0.87</td>\n",
       "      <td>0.52</td>\n",
       "      <td>0.57</td>\n",
       "      <td>0.55</td>\n",
       "      <td>0.36</td>\n",
       "      <td>0.00e+00</td>\n",
       "    </tr>\n",
       "    <tr>\n",
       "      <th>1</th>\n",
       "      <td>0.0</td>\n",
       "      <td>0.43</td>\n",
       "      <td>0.33</td>\n",
       "      <td>0.0</td>\n",
       "      <td>0.0</td>\n",
       "      <td>0.0</td>\n",
       "      <td>0.0</td>\n",
       "      <td>0.0</td>\n",
       "      <td>0.0</td>\n",
       "      <td>0.0</td>\n",
       "      <td>...</td>\n",
       "      <td>1.0</td>\n",
       "      <td>0.07</td>\n",
       "      <td>0.21</td>\n",
       "      <td>0.09</td>\n",
       "      <td>0.87</td>\n",
       "      <td>0.40</td>\n",
       "      <td>0.47</td>\n",
       "      <td>0.39</td>\n",
       "      <td>0.09</td>\n",
       "      <td>5.95e-03</td>\n",
       "    </tr>\n",
       "    <tr>\n",
       "      <th>2</th>\n",
       "      <td>0.0</td>\n",
       "      <td>0.50</td>\n",
       "      <td>0.50</td>\n",
       "      <td>0.0</td>\n",
       "      <td>0.0</td>\n",
       "      <td>0.0</td>\n",
       "      <td>0.0</td>\n",
       "      <td>0.0</td>\n",
       "      <td>1.0</td>\n",
       "      <td>0.0</td>\n",
       "      <td>...</td>\n",
       "      <td>0.0</td>\n",
       "      <td>0.00</td>\n",
       "      <td>0.67</td>\n",
       "      <td>0.12</td>\n",
       "      <td>0.13</td>\n",
       "      <td>0.65</td>\n",
       "      <td>0.15</td>\n",
       "      <td>0.15</td>\n",
       "      <td>0.68</td>\n",
       "      <td>0.00e+00</td>\n",
       "    </tr>\n",
       "    <tr>\n",
       "      <th>3</th>\n",
       "      <td>0.0</td>\n",
       "      <td>0.97</td>\n",
       "      <td>0.83</td>\n",
       "      <td>1.0</td>\n",
       "      <td>0.0</td>\n",
       "      <td>0.0</td>\n",
       "      <td>1.0</td>\n",
       "      <td>0.1</td>\n",
       "      <td>1.0</td>\n",
       "      <td>0.0</td>\n",
       "      <td>...</td>\n",
       "      <td>0.0</td>\n",
       "      <td>0.00</td>\n",
       "      <td>0.56</td>\n",
       "      <td>0.33</td>\n",
       "      <td>0.52</td>\n",
       "      <td>0.77</td>\n",
       "      <td>0.51</td>\n",
       "      <td>0.50</td>\n",
       "      <td>0.56</td>\n",
       "      <td>0.00e+00</td>\n",
       "    </tr>\n",
       "    <tr>\n",
       "      <th>4</th>\n",
       "      <td>1.0</td>\n",
       "      <td>0.92</td>\n",
       "      <td>0.83</td>\n",
       "      <td>1.0</td>\n",
       "      <td>0.0</td>\n",
       "      <td>0.0</td>\n",
       "      <td>1.0</td>\n",
       "      <td>0.3</td>\n",
       "      <td>1.0</td>\n",
       "      <td>0.0</td>\n",
       "      <td>...</td>\n",
       "      <td>0.0</td>\n",
       "      <td>0.00</td>\n",
       "      <td>0.15</td>\n",
       "      <td>0.02</td>\n",
       "      <td>0.09</td>\n",
       "      <td>0.61</td>\n",
       "      <td>0.11</td>\n",
       "      <td>0.09</td>\n",
       "      <td>0.15</td>\n",
       "      <td>0.00e+00</td>\n",
       "    </tr>\n",
       "  </tbody>\n",
       "</table>\n",
       "<p>5 rows × 27 columns</p>\n",
       "</div>"
      ],
      "text/plain": [
       "   Gender   Age  AgeGroup  Married  Dependents  noDependents  Referrals  \\\n",
       "0     1.0  0.28      0.17      1.0         0.0           0.0        1.0   \n",
       "1     0.0  0.43      0.33      0.0         0.0           0.0        0.0   \n",
       "2     0.0  0.50      0.50      0.0         0.0           0.0        0.0   \n",
       "3     0.0  0.97      0.83      1.0         0.0           0.0        1.0   \n",
       "4     1.0  0.92      0.83      1.0         0.0           0.0        1.0   \n",
       "\n",
       "   noReferrals  PaperlessBilling  OnlineSecurity  ...  SatisScore  \\\n",
       "0          0.2               1.0             0.0  ...         0.5   \n",
       "1          0.0               0.0             0.0  ...         1.0   \n",
       "2          0.0               1.0             0.0  ...         0.0   \n",
       "3          0.1               1.0             0.0  ...         0.0   \n",
       "4          0.3               1.0             0.0  ...         0.0   \n",
       "\n",
       "   TotalExtraDataCharge  AvgRoamCharge  TotalRoamCharge  TenureMonths  \\\n",
       "0                  0.00           0.85             0.35          0.87   \n",
       "1                  0.07           0.21             0.09          0.87   \n",
       "2                  0.00           0.67             0.12          0.13   \n",
       "3                  0.00           0.56             0.33          0.52   \n",
       "4                  0.00           0.15             0.02          0.09   \n",
       "\n",
       "   AvgCharge  TotalCharge  TotalRevenue  MonthRoamCharge  AvgExtraDataCharge  \n",
       "0       0.52         0.57          0.55             0.36            0.00e+00  \n",
       "1       0.40         0.47          0.39             0.09            5.95e-03  \n",
       "2       0.65         0.15          0.15             0.68            0.00e+00  \n",
       "3       0.77         0.51          0.50             0.56            0.00e+00  \n",
       "4       0.61         0.11          0.09             0.15            0.00e+00  \n",
       "\n",
       "[5 rows x 27 columns]"
      ]
     },
     "execution_count": 92,
     "metadata": {},
     "output_type": "execute_result"
    }
   ],
   "source": [
    "# 변수명 저장\n",
    "v_feature_names = df_raw.columns\n",
    "# StandardScaler 적용\n",
    "scaler = MinMaxScaler()\n",
    "df_scaled = scaler.fit_transform(df_raw)\n",
    "df_scaled = pd.DataFrame(df_scaled, columns=v_feature_names)\n",
    "df_scaled.head()"
   ]
  },
  {
   "cell_type": "code",
   "execution_count": 93,
   "id": "7801391d",
   "metadata": {
    "ExecuteTime": {
     "end_time": "2022-03-17T02:01:48.547927Z",
     "start_time": "2022-03-17T02:01:48.532598Z"
    }
   },
   "outputs": [],
   "source": [
    "# 설명변수, 목표변수 데이터 지정\n",
    "df_raw_x = df_scaled.drop(\"ChurnLabel\", axis = 1, inplace = False)\n",
    "df_raw_y = df_scaled[\"ChurnLabel\"] \n",
    "\n",
    "# train_test_split(X: 설명변수 데이터, Y: 목표변수 데이터, test_size = test 데이터 비율, random_state: 랜덤)\n",
    "df_train_x, df_test_x, df_train_y, df_test_y = train_test_split(df_raw_x, # 설명변수 데이터\n",
    "                                                                df_raw_y, # 목표변수 데이터\n",
    "                                                                test_size = 0.3, # test 데이터의 비율\n",
    "                                                                random_state = 42)  # random state"
   ]
  },
  {
   "cell_type": "code",
   "execution_count": 95,
   "id": "70d9baf8",
   "metadata": {
    "ExecuteTime": {
     "end_time": "2022-03-17T02:02:04.076995Z",
     "start_time": "2022-03-17T02:02:03.984584Z"
    }
   },
   "outputs": [
    {
     "name": "stdout",
     "output_type": "stream",
     "text": [
      "Accuracy on training set: 0.997\n",
      "Accuracy on test set: 0.992\n"
     ]
    }
   ],
   "source": [
    "svm_uncustomized = SVC(random_state=42)\n",
    "svm_uncustomized.fit(df_train_x, df_train_y)\n",
    "# train 데이터 셋 정확도\n",
    "print(\"Accuracy on training set: {:.3f}\".format(svm_uncustomized.score(df_train_x, df_train_y)))\n",
    "# test 데이터 셋 정확도\n",
    "print(\"Accuracy on test set: {:.3f}\".format(svm_uncustomized.score(df_test_x, df_test_y)))"
   ]
  },
  {
   "cell_type": "code",
   "execution_count": 110,
   "id": "4abd499a",
   "metadata": {
    "ExecuteTime": {
     "end_time": "2022-03-17T02:04:36.219250Z",
     "start_time": "2022-03-17T02:04:35.261793Z"
    }
   },
   "outputs": [],
   "source": [
    "# train 및 test 정확도 결과 저장용\n",
    "train_accuracy = []; test_accuracy = []\n",
    "# c: 규제(0.01, 0.1, 1, 10)\n",
    "# para_c = [10 **c for c in range(-2, 3)]\n",
    "para_c = [100 **c for c in range(-2, 4)]\n",
    "\n",
    "for v_C in para_c:\n",
    "    svm = SVC(C = v_C, random_state = 42)\n",
    "    svm.fit(df_train_x, df_train_y)\n",
    "    train_accuracy.append(svm.score(df_train_x, df_train_y))\n",
    "    test_accuracy.append(svm.score(df_test_x, df_test_y))\n",
    "\n",
    "# 데이터 테이블로 저장\n",
    "df_accuracy_c = pd.DataFrame()\n",
    "df_accuracy_c[\"C\"] = para_c\n",
    "df_accuracy_c[\"TrainAccuracy\"] = train_accuracy\n",
    "df_accuracy_c[\"TestAccuracy\"] = test_accuracy"
   ]
  },
  {
   "cell_type": "code",
   "execution_count": 111,
   "id": "f8ce5f58",
   "metadata": {
    "ExecuteTime": {
     "end_time": "2022-03-17T02:04:36.849983Z",
     "start_time": "2022-03-17T02:04:36.844621Z"
    }
   },
   "outputs": [
    {
     "data": {
      "text/plain": [
       "[0.0001, 0.01, 1, 100, 10000, 1000000]"
      ]
     },
     "execution_count": 111,
     "metadata": {},
     "output_type": "execute_result"
    }
   ],
   "source": [
    "para_c"
   ]
  },
  {
   "cell_type": "code",
   "execution_count": 112,
   "id": "5be63507",
   "metadata": {
    "ExecuteTime": {
     "end_time": "2022-03-17T02:04:37.460125Z",
     "start_time": "2022-03-17T02:04:37.441692Z"
    },
    "scrolled": true
   },
   "outputs": [
    {
     "data": {
      "text/html": [
       "<div>\n",
       "<style scoped>\n",
       "    .dataframe tbody tr th:only-of-type {\n",
       "        vertical-align: middle;\n",
       "    }\n",
       "\n",
       "    .dataframe tbody tr th {\n",
       "        vertical-align: top;\n",
       "    }\n",
       "\n",
       "    .dataframe thead th {\n",
       "        text-align: right;\n",
       "    }\n",
       "</style>\n",
       "<table border=\"1\" class=\"dataframe\">\n",
       "  <thead>\n",
       "    <tr style=\"text-align: right;\">\n",
       "      <th></th>\n",
       "      <th>C</th>\n",
       "      <th>TrainAccuracy</th>\n",
       "      <th>TestAccuracy</th>\n",
       "    </tr>\n",
       "  </thead>\n",
       "  <tbody>\n",
       "    <tr>\n",
       "      <th>0</th>\n",
       "      <td>0.00</td>\n",
       "      <td>0.52</td>\n",
       "      <td>0.53</td>\n",
       "    </tr>\n",
       "    <tr>\n",
       "      <th>1</th>\n",
       "      <td>0.01</td>\n",
       "      <td>0.93</td>\n",
       "      <td>0.93</td>\n",
       "    </tr>\n",
       "    <tr>\n",
       "      <th>2</th>\n",
       "      <td>1.00</td>\n",
       "      <td>1.00</td>\n",
       "      <td>0.99</td>\n",
       "    </tr>\n",
       "    <tr>\n",
       "      <th>3</th>\n",
       "      <td>100.00</td>\n",
       "      <td>1.00</td>\n",
       "      <td>0.99</td>\n",
       "    </tr>\n",
       "    <tr>\n",
       "      <th>4</th>\n",
       "      <td>10000.00</td>\n",
       "      <td>1.00</td>\n",
       "      <td>0.99</td>\n",
       "    </tr>\n",
       "    <tr>\n",
       "      <th>5</th>\n",
       "      <td>1000000.00</td>\n",
       "      <td>1.00</td>\n",
       "      <td>0.99</td>\n",
       "    </tr>\n",
       "  </tbody>\n",
       "</table>\n",
       "</div>"
      ],
      "text/plain": [
       "            C  TrainAccuracy  TestAccuracy\n",
       "0        0.00           0.52          0.53\n",
       "1        0.01           0.93          0.93\n",
       "2        1.00           1.00          0.99\n",
       "3      100.00           1.00          0.99\n",
       "4    10000.00           1.00          0.99\n",
       "5  1000000.00           1.00          0.99"
      ]
     },
     "execution_count": 112,
     "metadata": {},
     "output_type": "execute_result"
    }
   ],
   "source": [
    "# C별 정확도 테이블\n",
    "df_accuracy_c.round(3)"
   ]
  },
  {
   "cell_type": "code",
   "execution_count": 113,
   "id": "ba4cbd5c",
   "metadata": {
    "ExecuteTime": {
     "end_time": "2022-03-17T02:04:40.153790Z",
     "start_time": "2022-03-17T02:04:40.047807Z"
    }
   },
   "outputs": [
    {
     "data": {
      "text/plain": [
       "<matplotlib.legend.Legend at 0x15016ea60>"
      ]
     },
     "execution_count": 113,
     "metadata": {},
     "output_type": "execute_result"
    },
    {
     "data": {
      "image/png": "[encoded data removed]",
      "text/plain": [
       "<Figure size 432x288 with 1 Axes>"
      ]
     },
     "metadata": {
      "needs_background": "light"
     },
     "output_type": "display_data"
    }
   ],
   "source": [
    "# 정확도를 그래프로 표현\n",
    "plt.plot(para_c, train_accuracy, linestyle = \"-\", label = \"Train Accuracy\")\n",
    "plt.plot(para_c, test_accuracy, linestyle = \"--\", label = \"Test Accuracy\")\n",
    "plt.ylabel(\"accuracy\"); plt.xlabel(\"C\")\n",
    "plt.legend()"
   ]
  },
  {
   "cell_type": "code",
   "execution_count": 124,
   "id": "92b6c3a9",
   "metadata": {
    "ExecuteTime": {
     "end_time": "2022-03-17T02:07:47.258242Z",
     "start_time": "2022-03-17T02:07:47.252572Z"
    }
   },
   "outputs": [],
   "source": [
    "cost = 100"
   ]
  },
  {
   "cell_type": "code",
   "execution_count": 126,
   "id": "dee8062e",
   "metadata": {
    "ExecuteTime": {
     "end_time": "2022-03-17T02:08:03.856893Z",
     "start_time": "2022-03-17T02:08:01.486619Z"
    }
   },
   "outputs": [],
   "source": [
    "# train 및 test 정확도 결과 저장용\n",
    "train_accuracy = []; test_accuracy = []\n",
    "# gamma: 규제(0.01, 0.1, 1, 10)\n",
    "para_gamma = [1000 **gamma for gamma in range(-2, 6)]\n",
    "\n",
    "for v_gamma in para_gamma:\n",
    "    svm = SVC(gamma = v_gamma, C = cost, random_state = 42)\n",
    "    svm.fit(df_train_x, df_train_y)\n",
    "    train_accuracy.append(svm.score(df_train_x, df_train_y))\n",
    "    test_accuracy.append(svm.score(df_test_x, df_test_y))\n",
    "\n",
    "# 데이터 테이블로 저장\n",
    "df_accuracy_gamma = pd.DataFrame()\n",
    "df_accuracy_gamma[\"gamma\"] = para_gamma\n",
    "df_accuracy_gamma[\"TrainAccuracy\"] = train_accuracy\n",
    "df_accuracy_gamma[\"TestAccuracy\"] = test_accuracy"
   ]
  },
  {
   "cell_type": "code",
   "execution_count": 127,
   "id": "4266583f",
   "metadata": {
    "ExecuteTime": {
     "end_time": "2022-03-17T02:08:05.147082Z",
     "start_time": "2022-03-17T02:08:05.139776Z"
    }
   },
   "outputs": [
    {
     "data": {
      "text/plain": [
       "[1e-06, 0.001, 1, 1000, 1000000, 1000000000, 1000000000000, 1000000000000000]"
      ]
     },
     "execution_count": 127,
     "metadata": {},
     "output_type": "execute_result"
    }
   ],
   "source": [
    "para_gamma"
   ]
  },
  {
   "cell_type": "code",
   "execution_count": 117,
   "id": "614d2ccf",
   "metadata": {
    "ExecuteTime": {
     "end_time": "2022-03-17T02:04:58.376773Z",
     "start_time": "2022-03-17T02:04:58.357601Z"
    }
   },
   "outputs": [
    {
     "data": {
      "text/html": [
       "<div>\n",
       "<style scoped>\n",
       "    .dataframe tbody tr th:only-of-type {\n",
       "        vertical-align: middle;\n",
       "    }\n",
       "\n",
       "    .dataframe tbody tr th {\n",
       "        vertical-align: top;\n",
       "    }\n",
       "\n",
       "    .dataframe thead th {\n",
       "        text-align: right;\n",
       "    }\n",
       "</style>\n",
       "<table border=\"1\" class=\"dataframe\">\n",
       "  <thead>\n",
       "    <tr style=\"text-align: right;\">\n",
       "      <th></th>\n",
       "      <th>gamma</th>\n",
       "      <th>TrainAccuracy</th>\n",
       "      <th>TestAccuracy</th>\n",
       "    </tr>\n",
       "  </thead>\n",
       "  <tbody>\n",
       "    <tr>\n",
       "      <th>0</th>\n",
       "      <td>0.00e+00</td>\n",
       "      <td>0.52</td>\n",
       "      <td>0.53</td>\n",
       "    </tr>\n",
       "    <tr>\n",
       "      <th>1</th>\n",
       "      <td>1.00e-03</td>\n",
       "      <td>0.97</td>\n",
       "      <td>0.98</td>\n",
       "    </tr>\n",
       "    <tr>\n",
       "      <th>2</th>\n",
       "      <td>1.00e+00</td>\n",
       "      <td>1.00</td>\n",
       "      <td>0.99</td>\n",
       "    </tr>\n",
       "    <tr>\n",
       "      <th>3</th>\n",
       "      <td>1.00e+03</td>\n",
       "      <td>1.00</td>\n",
       "      <td>0.53</td>\n",
       "    </tr>\n",
       "    <tr>\n",
       "      <th>4</th>\n",
       "      <td>1.00e+06</td>\n",
       "      <td>1.00</td>\n",
       "      <td>0.53</td>\n",
       "    </tr>\n",
       "    <tr>\n",
       "      <th>5</th>\n",
       "      <td>1.00e+09</td>\n",
       "      <td>1.00</td>\n",
       "      <td>0.53</td>\n",
       "    </tr>\n",
       "    <tr>\n",
       "      <th>6</th>\n",
       "      <td>1.00e+12</td>\n",
       "      <td>1.00</td>\n",
       "      <td>0.53</td>\n",
       "    </tr>\n",
       "    <tr>\n",
       "      <th>7</th>\n",
       "      <td>1.00e+15</td>\n",
       "      <td>1.00</td>\n",
       "      <td>0.53</td>\n",
       "    </tr>\n",
       "  </tbody>\n",
       "</table>\n",
       "</div>"
      ],
      "text/plain": [
       "      gamma  TrainAccuracy  TestAccuracy\n",
       "0  0.00e+00           0.52          0.53\n",
       "1  1.00e-03           0.97          0.98\n",
       "2  1.00e+00           1.00          0.99\n",
       "3  1.00e+03           1.00          0.53\n",
       "4  1.00e+06           1.00          0.53\n",
       "5  1.00e+09           1.00          0.53\n",
       "6  1.00e+12           1.00          0.53\n",
       "7  1.00e+15           1.00          0.53"
      ]
     },
     "execution_count": 117,
     "metadata": {},
     "output_type": "execute_result"
    }
   ],
   "source": [
    "# Gamma별 정확도 테이블\n",
    "df_accuracy_gamma.round(4)"
   ]
  },
  {
   "cell_type": "code",
   "execution_count": 128,
   "id": "0835e98b",
   "metadata": {
    "ExecuteTime": {
     "end_time": "2022-03-17T02:08:09.646664Z",
     "start_time": "2022-03-17T02:08:09.532565Z"
    }
   },
   "outputs": [
    {
     "data": {
      "text/plain": [
       "<matplotlib.legend.Legend at 0x1502c9040>"
      ]
     },
     "execution_count": 128,
     "metadata": {},
     "output_type": "execute_result"
    },
    {
     "data": {
      "image/png": "[encoded data removed]",
      "text/plain": [
       "<Figure size 432x288 with 1 Axes>"
      ]
     },
     "metadata": {
      "needs_background": "light"
     },
     "output_type": "display_data"
    }
   ],
   "source": [
    "import numpy as np\n",
    "# 정확도를 그래프로 표현\n",
    "plt.plot(para_gamma, train_accuracy, linestyle = \"-\", label = \"Train Accuracy\")\n",
    "plt.plot(para_gamma, test_accuracy, linestyle = \"--\", label = \"Test Accuracy\")\n",
    "plt.ylabel(\"accuracy\"); plt.xlabel(\"log10(gamma)\")\n",
    "plt.legend()"
   ]
  },
  {
   "cell_type": "code",
   "execution_count": 129,
   "id": "b273b7cc",
   "metadata": {
    "ExecuteTime": {
     "end_time": "2022-03-17T02:08:11.500166Z",
     "start_time": "2022-03-17T02:08:11.495181Z"
    }
   },
   "outputs": [],
   "source": [
    "gamma=0.001"
   ]
  },
  {
   "cell_type": "markdown",
   "id": "7c4e2edd",
   "metadata": {},
   "source": [
    "##### @SVM 최종"
   ]
  },
  {
   "cell_type": "code",
   "execution_count": 130,
   "id": "56359abb",
   "metadata": {
    "ExecuteTime": {
     "end_time": "2022-03-17T02:08:12.142653Z",
     "start_time": "2022-03-17T02:08:12.045889Z"
    }
   },
   "outputs": [
    {
     "name": "stdout",
     "output_type": "stream",
     "text": [
      "Accucary on training set: 0.996\n",
      "Accuracy on test set: 0.994\n",
      "\n",
      "Confusion matrix: \n",
      "[[344   0]\n",
      " [  4 302]]\n",
      "              precision    recall  f1-score   support\n",
      "\n",
      "         0.0      0.989     1.000     0.994       344\n",
      "         1.0      1.000     0.987     0.993       306\n",
      "\n",
      "    accuracy                          0.994       650\n",
      "   macro avg      0.994     0.993     0.994       650\n",
      "weighted avg      0.994     0.994     0.994       650\n",
      "\n"
     ]
    }
   ],
   "source": [
    "# 최종 모델\n",
    "svc_final = SVC(gamma = gamma, C = cost, random_state=42)\n",
    "svc_final.fit(df_train_x, df_train_y)\n",
    "# 평가\n",
    "y_pred = svc_final.predict(df_test_x)\n",
    "\n",
    "# train 데이터 셋 정확도\n",
    "print(\"Accucary on training set: {:.3f}\".format(svc_final.score(df_train_x, df_train_y)))\n",
    "# test 데이터 셋 정확도\n",
    "print(\"Accuracy on test set: {:.3f}\\n\".format(svc_final.score(df_test_x, df_test_y)))\n",
    "# confusion matrix\n",
    "print(\"Confusion matrix: \\n{}\".format(confusion_matrix(df_test_y, y_pred)))\n",
    "\n",
    "# 목표변수의 빈도 불균형 : f1 score로 모델 평가 \n",
    "print(classification_report(df_test_y, y_pred, digits=3))"
   ]
  },
  {
   "cell_type": "code",
   "execution_count": 121,
   "id": "5f4c2d4a",
   "metadata": {
    "ExecuteTime": {
     "end_time": "2022-03-17T02:05:38.086560Z",
     "start_time": "2022-03-17T02:05:33.084743Z"
    }
   },
   "outputs": [
    {
     "name": "stdout",
     "output_type": "stream",
     "text": [
      "best estimator model: \n",
      "SVC(C=10000, gamma=0.001, random_state=42)\n",
      "\n",
      "best parameter: \n",
      "{'C': 10000, 'gamma': 0.001}\n",
      "\n",
      "best score: \n",
      "0.997\n"
     ]
    }
   ],
   "source": [
    "estimator = SVC(random_state=42)\n",
    "# 구하고자 하는 parameter와 범위\n",
    "param_grid = {\"C\": para_c,\n",
    "              \"gamma\": para_gamma}\n",
    "# 정확도가 높은 최적 parameter 찾기\n",
    "grid_rf = GridSearchCV(estimator, param_grid, scoring=\"accuracy\", n_jobs = -1)\n",
    "grid_rf.fit(df_train_x, df_train_y)\n",
    "print(\"best estimator model: \\n{}\".format(grid_rf.best_estimator_))\n",
    "print(\"\\nbest parameter: \\n{}\".format(grid_rf.best_params_))\n",
    "print(\"\\nbest score: \\n{}\".format(grid_rf.best_score_.round(3)))"
   ]
  },
  {
   "cell_type": "code",
   "execution_count": 123,
   "id": "b6ddfbf2",
   "metadata": {
    "ExecuteTime": {
     "end_time": "2022-03-17T02:06:18.074788Z",
     "start_time": "2022-03-17T02:06:17.684227Z"
    }
   },
   "outputs": [
    {
     "name": "stdout",
     "output_type": "stream",
     "text": [
      "Accucary on training set: 0.975\n",
      "Accuracy on test set: 0.982\n",
      "\n",
      "Confusion matrix: \n",
      "[[343   1]\n",
      " [ 11 295]]\n",
      "              precision    recall  f1-score   support\n",
      "\n",
      "         0.0      0.969     0.997     0.983       344\n",
      "         1.0      0.997     0.964     0.980       306\n",
      "\n",
      "    accuracy                          0.982       650\n",
      "   macro avg      0.983     0.981     0.981       650\n",
      "weighted avg      0.982     0.982     0.982       650\n",
      "\n"
     ]
    }
   ],
   "source": [
    "# 최종 모델\n",
    "svc_gv = SVC(gamma = 0.001, C = 10000, random_state=42)\n",
    "svc_gv.fit(df_train_x, df_train_y)\n",
    "# 평가\n",
    "y_pred = svc_final.predict(df_test_x)\n",
    "\n",
    "# train 데이터 셋 정확도\n",
    "print(\"Accucary on training set: {:.3f}\".format(svc_final.score(df_train_x, df_train_y)))\n",
    "# test 데이터 셋 정확도\n",
    "print(\"Accuracy on test set: {:.3f}\\n\".format(svc_final.score(df_test_x, df_test_y)))\n",
    "# confusion matrix\n",
    "print(\"Confusion matrix: \\n{}\".format(confusion_matrix(df_test_y, y_pred)))\n",
    "\n",
    "# 목표변수의 빈도 불균형 : f1 score로 모델 평가 \n",
    "print(classification_report(df_test_y, y_pred, digits=3))"
   ]
  },
  {
   "cell_type": "markdown",
   "id": "c8c0de42",
   "metadata": {},
   "source": [
    "# NN분류"
   ]
  },
  {
   "cell_type": "code",
   "execution_count": 135,
   "id": "668c87e0",
   "metadata": {
    "ExecuteTime": {
     "end_time": "2022-03-17T02:10:12.719478Z",
     "start_time": "2022-03-17T02:10:12.704543Z"
    }
   },
   "outputs": [],
   "source": [
    "# 분류 NN (MLPClassifier)\n",
    "from sklearn.neural_network import MLPClassifier"
   ]
  },
  {
   "cell_type": "code",
   "execution_count": 140,
   "id": "31253494",
   "metadata": {
    "ExecuteTime": {
     "end_time": "2022-03-17T02:17:58.241737Z",
     "start_time": "2022-03-17T02:17:58.168107Z"
    }
   },
   "outputs": [
    {
     "ename": "TypeError",
     "evalue": "drop() got an unexpected keyword argument 'axi'",
     "output_type": "error",
     "traceback": [
      "\u001b[0;31m---------------------------------------------------------------------------\u001b[0m",
      "\u001b[0;31mTypeError\u001b[0m                                 Traceback (most recent call last)",
      "Input \u001b[0;32mIn [140]\u001b[0m, in \u001b[0;36m<module>\u001b[0;34m\u001b[0m\n\u001b[0;32m----> 1\u001b[0m df_raw_x \u001b[38;5;241m=\u001b[39m \u001b[43mdf_scaled\u001b[49m\u001b[38;5;241;43m.\u001b[39;49m\u001b[43mdrop\u001b[49m\u001b[43m(\u001b[49m\u001b[38;5;124;43m'\u001b[39;49m\u001b[38;5;124;43mChurnLabel\u001b[39;49m\u001b[38;5;124;43m'\u001b[39;49m\u001b[43m,\u001b[49m\u001b[43m \u001b[49m\u001b[43maxi\u001b[49m\u001b[38;5;241;43m=\u001b[39;49m\u001b[38;5;241;43m1\u001b[39;49m\u001b[43m,\u001b[49m\u001b[43m \u001b[49m\u001b[43minplace\u001b[49m\u001b[38;5;241;43m=\u001b[39;49m\u001b[38;5;28;43;01mTrue\u001b[39;49;00m\u001b[43m)\u001b[49m\n\u001b[1;32m      2\u001b[0m df_raw_y \u001b[38;5;241m=\u001b[39m df_scaled[\u001b[38;5;124m'\u001b[39m\u001b[38;5;124mChurnLabel\u001b[39m\u001b[38;5;124m'\u001b[39m]\n",
      "File \u001b[0;32m~/.pyenv/versions/3.9.9/lib/python3.9/site-packages/pandas/util/_decorators.py:311\u001b[0m, in \u001b[0;36mdeprecate_nonkeyword_arguments.<locals>.decorate.<locals>.wrapper\u001b[0;34m(*args, **kwargs)\u001b[0m\n\u001b[1;32m    305\u001b[0m \u001b[38;5;28;01mif\u001b[39;00m \u001b[38;5;28mlen\u001b[39m(args) \u001b[38;5;241m>\u001b[39m num_allow_args:\n\u001b[1;32m    306\u001b[0m     warnings\u001b[38;5;241m.\u001b[39mwarn(\n\u001b[1;32m    307\u001b[0m         msg\u001b[38;5;241m.\u001b[39mformat(arguments\u001b[38;5;241m=\u001b[39marguments),\n\u001b[1;32m    308\u001b[0m         \u001b[38;5;167;01mFutureWarning\u001b[39;00m,\n\u001b[1;32m    309\u001b[0m         stacklevel\u001b[38;5;241m=\u001b[39mstacklevel,\n\u001b[1;32m    310\u001b[0m     )\n\u001b[0;32m--> 311\u001b[0m \u001b[38;5;28;01mreturn\u001b[39;00m \u001b[43mfunc\u001b[49m\u001b[43m(\u001b[49m\u001b[38;5;241;43m*\u001b[39;49m\u001b[43margs\u001b[49m\u001b[43m,\u001b[49m\u001b[43m \u001b[49m\u001b[38;5;241;43m*\u001b[39;49m\u001b[38;5;241;43m*\u001b[39;49m\u001b[43mkwargs\u001b[49m\u001b[43m)\u001b[49m\n",
      "\u001b[0;31mTypeError\u001b[0m: drop() got an unexpected keyword argument 'axi'"
     ]
    }
   ],
   "source": [
    "df_raw_x = df_scaled.drop('ChurnLabel', axis=1, inplace=True)\n",
    "df_raw_y = df_scaled['ChurnLabel']"
   ]
  },
  {
   "cell_type": "code",
   "execution_count": 136,
   "id": "5533032e",
   "metadata": {
    "ExecuteTime": {
     "end_time": "2022-03-17T02:10:13.352376Z",
     "start_time": "2022-03-17T02:10:13.342092Z"
    }
   },
   "outputs": [],
   "source": [
    "# train_test_split(X: 설명변수 데이터, Y: 목표변수 데이터, test_size = test 데이터 비율, random_state: 랜덤)\n",
    "df_train_x, df_test_x, df_train_y, df_test_y = train_test_split(df_raw_x, # 설명변수 데이터\n",
    "                                                                df_raw_y, # 목표변수 데이터\n",
    "                                                                test_size = 0.3, # test 데이터의 비율\n",
    "                                                                random_state = 42)  # random state"
   ]
  },
  {
   "cell_type": "code",
   "execution_count": 137,
   "id": "e7f5acdf",
   "metadata": {
    "ExecuteTime": {
     "end_time": "2022-03-17T02:10:13.666107Z",
     "start_time": "2022-03-17T02:10:13.656550Z"
    }
   },
   "outputs": [
    {
     "name": "stdout",
     "output_type": "stream",
     "text": [
      "train data X size : (1516, 26)\n",
      "train data Y size : (650, 26)\n"
     ]
    }
   ],
   "source": [
    "# 데이터 분할\n",
    "df_scaled_train_x, df_scaled_test_x = train_test_split(df_raw_x, test_size = 0.3,random_state = 1234)\n",
    "print(\"train data X size : {}\".format(df_scaled_train_x.shape))\n",
    "print(\"train data Y size : {}\".format(df_scaled_test_x.shape))"
   ]
  },
  {
   "cell_type": "code",
   "execution_count": 139,
   "id": "e9d99ccf",
   "metadata": {
    "ExecuteTime": {
     "end_time": "2022-03-17T02:10:27.071166Z",
     "start_time": "2022-03-17T02:10:25.916000Z"
    }
   },
   "outputs": [
    {
     "name": "stdout",
     "output_type": "stream",
     "text": [
      "Accuracy on training set: 0.747\n",
      "Accuracy on test set: 0.511\n"
     ]
    }
   ],
   "source": [
    "nn_scaled = MLPClassifier(random_state=42)\n",
    "nn_scaled.fit(df_scaled_train_x, df_train_y)\n",
    "# train 데이터 셋 정확도\n",
    "print(\"Accuracy on training set: {:.3f}\".format(nn_scaled.score(df_scaled_train_x, df_train_y)))\n",
    "# test 데이터 셋 정확도\n",
    "print(\"Accuracy on test set: {:.3f}\".format(nn_scaled.score(df_scaled_test_x, df_test_y)))"
   ]
  },
  {
   "cell_type": "code",
   "execution_count": null,
   "id": "dbce92fa",
   "metadata": {},
   "outputs": [],
   "source": []
  }
 ],
 "metadata": {
  "kernelspec": {
   "display_name": "Python 3.9.9 64-bit ('3.9.9')",
   "language": "python",
   "name": "python399jvsc74a57bd092085505c77bac33bca97ac2695f771c18ad643b190a30b2df4da7a10d970d5c"
  },
  "language_info": {
   "codemirror_mode": {
    "name": "ipython",
    "version": 3
   },
   "file_extension": ".py",
   "mimetype": "text/x-python",
   "name": "python",
   "nbconvert_exporter": "python",
   "pygments_lexer": "ipython3",
   "version": "3.9.9"
  },
  "toc": {
   "base_numbering": 1,
   "nav_menu": {},
   "number_sections": true,
   "sideBar": true,
   "skip_h1_title": false,
   "title_cell": "Table of Contents",
   "title_sidebar": "Contents",
   "toc_cell": false,
   "toc_position": {},
   "toc_section_display": true,
   "toc_window_display": false
  }
 },
 "nbformat": 4,
 "nbformat_minor": 5
}
