{
 "cells": [
  {
   "cell_type": "code",
   "execution_count": 1,
   "id": "709ad279",
   "metadata": {
    "ExecuteTime": {
     "end_time": "2022-03-15T00:32:55.532260Z",
     "start_time": "2022-03-15T00:32:53.322035Z"
    }
   },
   "outputs": [],
   "source": [
    "import pandas as pd\n",
    "import numpy as np\n",
    "import seaborn as sns\n",
    "import matplotlib\n",
    "import matplotlib.pyplot as plt"
   ]
  },
  {
   "cell_type": "code",
   "execution_count": 2,
   "id": "d9d944cd",
   "metadata": {
    "ExecuteTime": {
     "end_time": "2022-03-15T00:32:56.652859Z",
     "start_time": "2022-03-15T00:32:56.644912Z"
    }
   },
   "outputs": [],
   "source": [
    "# 데이터 소수점 지정\n",
    "pd.options.display.precision = 2\n",
    "\n",
    "# 한글 깨짐 방지\n",
    "plt.rcParams['axes.unicode_minus'] = False\n",
    "plt.rcParams['font.family'] = 'AppleGothic'\n",
    "# plt.rcParams['font.family'] = 'Malgun Gothic'\n",
    "\n",
    "\n",
    "\n",
    "\n",
    "# 불필요한 경고 메시지를 나오지 않도록 한다.\n",
    "import warnings\n",
    "warnings.filterwarnings('ignore')"
   ]
  },
  {
   "cell_type": "code",
   "execution_count": 3,
   "id": "bb30fe3e",
   "metadata": {
    "ExecuteTime": {
     "end_time": "2022-03-15T00:32:58.225245Z",
     "start_time": "2022-03-15T00:32:58.154384Z"
    }
   },
   "outputs": [],
   "source": [
    "df_raw = pd.read_csv('add_variable_customer.csv', encoding='euc-kr')"
   ]
  },
  {
   "cell_type": "code",
   "execution_count": 4,
   "id": "debdffb8",
   "metadata": {
    "ExecuteTime": {
     "end_time": "2022-03-15T00:32:58.911346Z",
     "start_time": "2022-03-15T00:32:58.892935Z"
    }
   },
   "outputs": [],
   "source": [
    "df_raw.drop('Unnamed: 0', axis = 1, inplace=True)"
   ]
  },
  {
   "cell_type": "code",
   "execution_count": 5,
   "id": "b27afd76",
   "metadata": {
    "ExecuteTime": {
     "end_time": "2022-03-15T00:32:59.428448Z",
     "start_time": "2022-03-15T00:32:59.393652Z"
    }
   },
   "outputs": [
    {
     "data": {
      "text/html": [
       "<div>\n",
       "<style scoped>\n",
       "    .dataframe tbody tr th:only-of-type {\n",
       "        vertical-align: middle;\n",
       "    }\n",
       "\n",
       "    .dataframe tbody tr th {\n",
       "        vertical-align: top;\n",
       "    }\n",
       "\n",
       "    .dataframe thead th {\n",
       "        text-align: right;\n",
       "    }\n",
       "</style>\n",
       "<table border=\"1\" class=\"dataframe\">\n",
       "  <thead>\n",
       "    <tr style=\"text-align: right;\">\n",
       "      <th></th>\n",
       "      <th>CustomerId</th>\n",
       "      <th>Gender</th>\n",
       "      <th>Age</th>\n",
       "      <th>AgeGroup</th>\n",
       "      <th>Married</th>\n",
       "      <th>Dependents</th>\n",
       "      <th>noDependents</th>\n",
       "      <th>Referrals</th>\n",
       "      <th>noReferrals</th>\n",
       "      <th>PaperlessBilling</th>\n",
       "      <th>...</th>\n",
       "      <th>SatisScore</th>\n",
       "      <th>TotalExtraDataCharge</th>\n",
       "      <th>AvgRoamCharge</th>\n",
       "      <th>TotalRoamCharge</th>\n",
       "      <th>TenureMonths</th>\n",
       "      <th>AvgCharge</th>\n",
       "      <th>TotalCharge</th>\n",
       "      <th>TotalRevenue</th>\n",
       "      <th>MonthRoamCharge</th>\n",
       "      <th>AvgExtraDataCharge</th>\n",
       "    </tr>\n",
       "  </thead>\n",
       "  <tbody>\n",
       "    <tr>\n",
       "      <th>0</th>\n",
       "      <td>C-10001</td>\n",
       "      <td>여성</td>\n",
       "      <td>37</td>\n",
       "      <td>30</td>\n",
       "      <td>Yes</td>\n",
       "      <td>No</td>\n",
       "      <td>0</td>\n",
       "      <td>Yes</td>\n",
       "      <td>2</td>\n",
       "      <td>Yes</td>\n",
       "      <td>...</td>\n",
       "      <td>3</td>\n",
       "      <td>0</td>\n",
       "      <td>47910</td>\n",
       "      <td>431100</td>\n",
       "      <td>21</td>\n",
       "      <td>83590.48</td>\n",
       "      <td>1755400</td>\n",
       "      <td>2186500</td>\n",
       "      <td>20528</td>\n",
       "      <td>0</td>\n",
       "    </tr>\n",
       "    <tr>\n",
       "      <th>1</th>\n",
       "      <td>C-10002</td>\n",
       "      <td>남성</td>\n",
       "      <td>46</td>\n",
       "      <td>40</td>\n",
       "      <td>No</td>\n",
       "      <td>No</td>\n",
       "      <td>0</td>\n",
       "      <td>No</td>\n",
       "      <td>0</td>\n",
       "      <td>No</td>\n",
       "      <td>...</td>\n",
       "      <td>5</td>\n",
       "      <td>11300</td>\n",
       "      <td>12090</td>\n",
       "      <td>108710</td>\n",
       "      <td>21</td>\n",
       "      <td>68928.57</td>\n",
       "      <td>1447500</td>\n",
       "      <td>1567510</td>\n",
       "      <td>5176</td>\n",
       "      <td>538</td>\n",
       "    </tr>\n",
       "    <tr>\n",
       "      <th>2</th>\n",
       "      <td>C-10003</td>\n",
       "      <td>남성</td>\n",
       "      <td>50</td>\n",
       "      <td>50</td>\n",
       "      <td>No</td>\n",
       "      <td>No</td>\n",
       "      <td>0</td>\n",
       "      <td>No</td>\n",
       "      <td>0</td>\n",
       "      <td>Yes</td>\n",
       "      <td>...</td>\n",
       "      <td>1</td>\n",
       "      <td>0</td>\n",
       "      <td>38080</td>\n",
       "      <td>152100</td>\n",
       "      <td>4</td>\n",
       "      <td>98180.00</td>\n",
       "      <td>490900</td>\n",
       "      <td>643000</td>\n",
       "      <td>38025</td>\n",
       "      <td>0</td>\n",
       "    </tr>\n",
       "    <tr>\n",
       "      <th>3</th>\n",
       "      <td>C-10004</td>\n",
       "      <td>남성</td>\n",
       "      <td>78</td>\n",
       "      <td>70</td>\n",
       "      <td>Yes</td>\n",
       "      <td>No</td>\n",
       "      <td>0</td>\n",
       "      <td>Yes</td>\n",
       "      <td>1</td>\n",
       "      <td>Yes</td>\n",
       "      <td>...</td>\n",
       "      <td>1</td>\n",
       "      <td>0</td>\n",
       "      <td>31410</td>\n",
       "      <td>408720</td>\n",
       "      <td>13</td>\n",
       "      <td>112742.86</td>\n",
       "      <td>1578400</td>\n",
       "      <td>1987120</td>\n",
       "      <td>31440</td>\n",
       "      <td>0</td>\n",
       "    </tr>\n",
       "    <tr>\n",
       "      <th>4</th>\n",
       "      <td>C-10005</td>\n",
       "      <td>여성</td>\n",
       "      <td>75</td>\n",
       "      <td>70</td>\n",
       "      <td>Yes</td>\n",
       "      <td>No</td>\n",
       "      <td>0</td>\n",
       "      <td>Yes</td>\n",
       "      <td>3</td>\n",
       "      <td>Yes</td>\n",
       "      <td>...</td>\n",
       "      <td>1</td>\n",
       "      <td>0</td>\n",
       "      <td>8360</td>\n",
       "      <td>24970</td>\n",
       "      <td>3</td>\n",
       "      <td>94500.00</td>\n",
       "      <td>378000</td>\n",
       "      <td>402970</td>\n",
       "      <td>8323</td>\n",
       "      <td>0</td>\n",
       "    </tr>\n",
       "    <tr>\n",
       "      <th>...</th>\n",
       "      <td>...</td>\n",
       "      <td>...</td>\n",
       "      <td>...</td>\n",
       "      <td>...</td>\n",
       "      <td>...</td>\n",
       "      <td>...</td>\n",
       "      <td>...</td>\n",
       "      <td>...</td>\n",
       "      <td>...</td>\n",
       "      <td>...</td>\n",
       "      <td>...</td>\n",
       "      <td>...</td>\n",
       "      <td>...</td>\n",
       "      <td>...</td>\n",
       "      <td>...</td>\n",
       "      <td>...</td>\n",
       "      <td>...</td>\n",
       "      <td>...</td>\n",
       "      <td>...</td>\n",
       "      <td>...</td>\n",
       "      <td>...</td>\n",
       "    </tr>\n",
       "    <tr>\n",
       "      <th>6858</th>\n",
       "      <td>C-17039</td>\n",
       "      <td>여성</td>\n",
       "      <td>20</td>\n",
       "      <td>20</td>\n",
       "      <td>No</td>\n",
       "      <td>No</td>\n",
       "      <td>0</td>\n",
       "      <td>No</td>\n",
       "      <td>0</td>\n",
       "      <td>No</td>\n",
       "      <td>...</td>\n",
       "      <td>4</td>\n",
       "      <td>0</td>\n",
       "      <td>52770</td>\n",
       "      <td>685680</td>\n",
       "      <td>25</td>\n",
       "      <td>64428.00</td>\n",
       "      <td>1610700</td>\n",
       "      <td>2296380</td>\n",
       "      <td>27427</td>\n",
       "      <td>0</td>\n",
       "    </tr>\n",
       "    <tr>\n",
       "      <th>6859</th>\n",
       "      <td>C-17040</td>\n",
       "      <td>남성</td>\n",
       "      <td>40</td>\n",
       "      <td>40</td>\n",
       "      <td>Yes</td>\n",
       "      <td>No</td>\n",
       "      <td>0</td>\n",
       "      <td>Yes</td>\n",
       "      <td>1</td>\n",
       "      <td>Yes</td>\n",
       "      <td>...</td>\n",
       "      <td>1</td>\n",
       "      <td>0</td>\n",
       "      <td>18310</td>\n",
       "      <td>402730</td>\n",
       "      <td>22</td>\n",
       "      <td>101891.30</td>\n",
       "      <td>2343500</td>\n",
       "      <td>2746230</td>\n",
       "      <td>18305</td>\n",
       "      <td>0</td>\n",
       "    </tr>\n",
       "    <tr>\n",
       "      <th>6860</th>\n",
       "      <td>C-17041</td>\n",
       "      <td>남성</td>\n",
       "      <td>22</td>\n",
       "      <td>20</td>\n",
       "      <td>No</td>\n",
       "      <td>No</td>\n",
       "      <td>0</td>\n",
       "      <td>No</td>\n",
       "      <td>0</td>\n",
       "      <td>Yes</td>\n",
       "      <td>...</td>\n",
       "      <td>5</td>\n",
       "      <td>0</td>\n",
       "      <td>21020</td>\n",
       "      <td>42040</td>\n",
       "      <td>14</td>\n",
       "      <td>56600.00</td>\n",
       "      <td>792400</td>\n",
       "      <td>834440</td>\n",
       "      <td>3002</td>\n",
       "      <td>0</td>\n",
       "    </tr>\n",
       "    <tr>\n",
       "      <th>6861</th>\n",
       "      <td>C-17042</td>\n",
       "      <td>남성</td>\n",
       "      <td>21</td>\n",
       "      <td>20</td>\n",
       "      <td>No</td>\n",
       "      <td>No</td>\n",
       "      <td>0</td>\n",
       "      <td>Yes</td>\n",
       "      <td>5</td>\n",
       "      <td>No</td>\n",
       "      <td>...</td>\n",
       "      <td>3</td>\n",
       "      <td>0</td>\n",
       "      <td>2370</td>\n",
       "      <td>160460</td>\n",
       "      <td>79</td>\n",
       "      <td>80107.59</td>\n",
       "      <td>6328500</td>\n",
       "      <td>6488960</td>\n",
       "      <td>2031</td>\n",
       "      <td>0</td>\n",
       "    </tr>\n",
       "    <tr>\n",
       "      <th>6862</th>\n",
       "      <td>C-17043</td>\n",
       "      <td>남성</td>\n",
       "      <td>36</td>\n",
       "      <td>30</td>\n",
       "      <td>Yes</td>\n",
       "      <td>No</td>\n",
       "      <td>0</td>\n",
       "      <td>Yes</td>\n",
       "      <td>1</td>\n",
       "      <td>No</td>\n",
       "      <td>...</td>\n",
       "      <td>3</td>\n",
       "      <td>0</td>\n",
       "      <td>0</td>\n",
       "      <td>0</td>\n",
       "      <td>75</td>\n",
       "      <td>69281.33</td>\n",
       "      <td>5196100</td>\n",
       "      <td>5196100</td>\n",
       "      <td>0</td>\n",
       "      <td>0</td>\n",
       "    </tr>\n",
       "  </tbody>\n",
       "</table>\n",
       "<p>6863 rows × 34 columns</p>\n",
       "</div>"
      ],
      "text/plain": [
       "     CustomerId Gender  Age  AgeGroup Married Dependents  noDependents  \\\n",
       "0       C-10001     여성   37        30     Yes         No             0   \n",
       "1       C-10002     남성   46        40      No         No             0   \n",
       "2       C-10003     남성   50        50      No         No             0   \n",
       "3       C-10004     남성   78        70     Yes         No             0   \n",
       "4       C-10005     여성   75        70     Yes         No             0   \n",
       "...         ...    ...  ...       ...     ...        ...           ...   \n",
       "6858    C-17039     여성   20        20      No         No             0   \n",
       "6859    C-17040     남성   40        40     Yes         No             0   \n",
       "6860    C-17041     남성   22        20      No         No             0   \n",
       "6861    C-17042     남성   21        20      No         No             0   \n",
       "6862    C-17043     남성   36        30     Yes         No             0   \n",
       "\n",
       "     Referrals  noReferrals PaperlessBilling  ... SatisScore  \\\n",
       "0          Yes            2              Yes  ...          3   \n",
       "1           No            0               No  ...          5   \n",
       "2           No            0              Yes  ...          1   \n",
       "3          Yes            1              Yes  ...          1   \n",
       "4          Yes            3              Yes  ...          1   \n",
       "...        ...          ...              ...  ...        ...   \n",
       "6858        No            0               No  ...          4   \n",
       "6859       Yes            1              Yes  ...          1   \n",
       "6860        No            0              Yes  ...          5   \n",
       "6861       Yes            5               No  ...          3   \n",
       "6862       Yes            1               No  ...          3   \n",
       "\n",
       "     TotalExtraDataCharge AvgRoamCharge TotalRoamCharge TenureMonths  \\\n",
       "0                       0         47910          431100           21   \n",
       "1                   11300         12090          108710           21   \n",
       "2                       0         38080          152100            4   \n",
       "3                       0         31410          408720           13   \n",
       "4                       0          8360           24970            3   \n",
       "...                   ...           ...             ...          ...   \n",
       "6858                    0         52770          685680           25   \n",
       "6859                    0         18310          402730           22   \n",
       "6860                    0         21020           42040           14   \n",
       "6861                    0          2370          160460           79   \n",
       "6862                    0             0               0           75   \n",
       "\n",
       "      AvgCharge TotalCharge TotalRevenue MonthRoamCharge  AvgExtraDataCharge  \n",
       "0      83590.48     1755400      2186500           20528                   0  \n",
       "1      68928.57     1447500      1567510            5176                 538  \n",
       "2      98180.00      490900       643000           38025                   0  \n",
       "3     112742.86     1578400      1987120           31440                   0  \n",
       "4      94500.00      378000       402970            8323                   0  \n",
       "...         ...         ...          ...             ...                 ...  \n",
       "6858   64428.00     1610700      2296380           27427                   0  \n",
       "6859  101891.30     2343500      2746230           18305                   0  \n",
       "6860   56600.00      792400       834440            3002                   0  \n",
       "6861   80107.59     6328500      6488960            2031                   0  \n",
       "6862   69281.33     5196100      5196100               0                   0  \n",
       "\n",
       "[6863 rows x 34 columns]"
      ]
     },
     "execution_count": 5,
     "metadata": {},
     "output_type": "execute_result"
    }
   ],
   "source": [
    "df_raw"
   ]
  },
  {
   "cell_type": "markdown",
   "id": "026a13e2",
   "metadata": {},
   "source": [
    "##### @Gender : 여성(1), 남성(0)"
   ]
  },
  {
   "cell_type": "code",
   "execution_count": 6,
   "id": "c1d36a13",
   "metadata": {
    "ExecuteTime": {
     "end_time": "2022-03-15T00:33:02.021001Z",
     "start_time": "2022-03-15T00:33:02.005569Z"
    }
   },
   "outputs": [],
   "source": [
    "df_raw['Gender'] = df_raw['Gender'].replace(to_replace='여성', value=1)\n",
    "df_raw['Gender'] = df_raw['Gender'].replace(to_replace='남성', value=0)"
   ]
  },
  {
   "cell_type": "markdown",
   "id": "51117ec0",
   "metadata": {},
   "source": [
    "##### @Married : Yes(1), No(0)"
   ]
  },
  {
   "cell_type": "code",
   "execution_count": 7,
   "id": "b15b1372",
   "metadata": {
    "ExecuteTime": {
     "end_time": "2022-03-15T00:33:02.867443Z",
     "start_time": "2022-03-15T00:33:02.855232Z"
    }
   },
   "outputs": [],
   "source": [
    "df_raw['Married'] = df_raw['Married'].replace(to_replace='Yes', value=1)\n",
    "df_raw['Married'] = df_raw['Married'].replace(to_replace='No', value=0)"
   ]
  },
  {
   "cell_type": "markdown",
   "id": "f33fa8bd",
   "metadata": {},
   "source": [
    "##### @Referrals : Yes(1), No(0)"
   ]
  },
  {
   "cell_type": "code",
   "execution_count": 8,
   "id": "9b40f4e9",
   "metadata": {
    "ExecuteTime": {
     "end_time": "2022-03-15T00:33:03.603492Z",
     "start_time": "2022-03-15T00:33:03.591867Z"
    }
   },
   "outputs": [],
   "source": [
    "df_raw['Referrals'] = df_raw['Referrals'].replace(to_replace='Yes', value=1)\n",
    "df_raw['Referrals'] = df_raw['Referrals'].replace(to_replace='No', value=0)"
   ]
  },
  {
   "cell_type": "markdown",
   "id": "49f36b31",
   "metadata": {
    "ExecuteTime": {
     "end_time": "2022-03-13T09:00:42.804650Z",
     "start_time": "2022-03-13T09:00:42.768109Z"
    }
   },
   "source": [
    "##### @Dependents: Yes(1), No(0)"
   ]
  },
  {
   "cell_type": "code",
   "execution_count": 9,
   "id": "c2894f1a",
   "metadata": {
    "ExecuteTime": {
     "end_time": "2022-03-15T00:33:04.392089Z",
     "start_time": "2022-03-15T00:33:04.380083Z"
    }
   },
   "outputs": [],
   "source": [
    "df_raw['Dependents'] = df_raw['Dependents'].replace(to_replace='Yes', value=1)\n",
    "df_raw['Dependents'] = df_raw['Dependents'].replace(to_replace='No', value=0)"
   ]
  },
  {
   "cell_type": "markdown",
   "id": "4fda3f29",
   "metadata": {},
   "source": [
    "##### @PaperlessBilling  : Yes(1), No(0)"
   ]
  },
  {
   "cell_type": "code",
   "execution_count": 10,
   "id": "0c27fecb",
   "metadata": {
    "ExecuteTime": {
     "end_time": "2022-03-15T00:33:05.506480Z",
     "start_time": "2022-03-15T00:33:05.492859Z"
    }
   },
   "outputs": [],
   "source": [
    "df_raw['PaperlessBilling'] = df_raw['PaperlessBilling'].replace(to_replace='Yes', value=1)\n",
    "df_raw['PaperlessBilling'] = df_raw['PaperlessBilling'].replace(to_replace='No', value=0)"
   ]
  },
  {
   "cell_type": "markdown",
   "id": "ba4f1a95",
   "metadata": {},
   "source": [
    "##### @PaymentMethod"
   ]
  },
  {
   "cell_type": "code",
   "execution_count": 11,
   "id": "fa37662f",
   "metadata": {
    "ExecuteTime": {
     "end_time": "2022-03-15T00:33:06.146690Z",
     "start_time": "2022-03-15T00:33:06.128813Z"
    }
   },
   "outputs": [],
   "source": [
    "df_raw['PaymentMethod'] = df_raw['PaymentMethod'].replace(to_replace='신용카드', value=1)\n",
    "df_raw['PaymentMethod'] = df_raw['PaymentMethod'].replace(to_replace='계좌이체', value=0)\n",
    "df_raw['PaymentMethod'] = df_raw['PaymentMethod'].replace(to_replace='이체/메일확인', value=2)"
   ]
  },
  {
   "cell_type": "markdown",
   "id": "86ab7ca3",
   "metadata": {},
   "source": [
    "##### @OnlineSecurity"
   ]
  },
  {
   "cell_type": "code",
   "execution_count": 12,
   "id": "e9fc8c85",
   "metadata": {
    "ExecuteTime": {
     "end_time": "2022-03-15T00:33:06.969729Z",
     "start_time": "2022-03-15T00:33:06.955589Z"
    }
   },
   "outputs": [],
   "source": [
    "df_raw['OnlineSecurity'] = df_raw['OnlineSecurity'].replace(to_replace='Yes', value=1)\n",
    "df_raw['OnlineSecurity'] = df_raw['OnlineSecurity'].replace(to_replace='No', value=0)"
   ]
  },
  {
   "cell_type": "markdown",
   "id": "7c844b98",
   "metadata": {},
   "source": [
    "##### @OnlineBackup  : Yes(1), No(0)"
   ]
  },
  {
   "cell_type": "code",
   "execution_count": 13,
   "id": "c049d4c3",
   "metadata": {
    "ExecuteTime": {
     "end_time": "2022-03-15T00:33:07.635250Z",
     "start_time": "2022-03-15T00:33:07.620601Z"
    }
   },
   "outputs": [],
   "source": [
    "df_raw['OnlineBackup'] = df_raw['OnlineBackup'].replace(to_replace='Yes', value=1)\n",
    "df_raw['OnlineBackup'] = df_raw['OnlineBackup'].replace(to_replace='No', value=0)"
   ]
  },
  {
   "cell_type": "markdown",
   "id": "6bb94f0f",
   "metadata": {},
   "source": [
    "##### @TechSupport  : Yes(1), No(0)"
   ]
  },
  {
   "cell_type": "code",
   "execution_count": 14,
   "id": "791f8c71",
   "metadata": {
    "ExecuteTime": {
     "end_time": "2022-03-15T00:33:08.357847Z",
     "start_time": "2022-03-15T00:33:08.342665Z"
    }
   },
   "outputs": [],
   "source": [
    "df_raw['TechSupport'] = df_raw['TechSupport'].replace(to_replace='Yes', value=1)\n",
    "df_raw['TechSupport'] = df_raw['TechSupport'].replace(to_replace='No', value=0)"
   ]
  },
  {
   "cell_type": "markdown",
   "id": "91b3c02f",
   "metadata": {},
   "source": [
    "##### @UnlimitedData : Yes(1), No(0)"
   ]
  },
  {
   "cell_type": "code",
   "execution_count": 15,
   "id": "b4d03e31",
   "metadata": {
    "ExecuteTime": {
     "end_time": "2022-03-15T00:33:09.257008Z",
     "start_time": "2022-03-15T00:33:09.244267Z"
    }
   },
   "outputs": [],
   "source": [
    "df_raw['UnlimitedData'] = df_raw['UnlimitedData'].replace(to_replace='Yes', value=1)\n",
    "df_raw['UnlimitedData'] = df_raw['UnlimitedData'].replace(to_replace='No', value=0)"
   ]
  },
  {
   "cell_type": "markdown",
   "id": "1bd4cd11",
   "metadata": {},
   "source": [
    "# EDA"
   ]
  },
  {
   "cell_type": "markdown",
   "id": "12685e71",
   "metadata": {},
   "source": [
    "## CountPlot"
   ]
  },
  {
   "cell_type": "markdown",
   "id": "5b961b5c",
   "metadata": {},
   "source": [
    "###### @목표변수 : ChurnLabel"
   ]
  },
  {
   "cell_type": "code",
   "execution_count": 16,
   "id": "69e8a40e",
   "metadata": {
    "ExecuteTime": {
     "end_time": "2022-03-15T00:33:14.088177Z",
     "start_time": "2022-03-15T00:33:13.969815Z"
    }
   },
   "outputs": [
    {
     "data": {
      "text/plain": [
       "<AxesSubplot:xlabel='ChurnLabel', ylabel='count'>"
      ]
     },
     "execution_count": 16,
     "metadata": {},
     "output_type": "execute_result"
    },
    {
     "data": {
      "image/png": "[encoded data removed]",
      "text/plain": [
       "<Figure size 432x288 with 1 Axes>"
      ]
     },
     "metadata": {
      "needs_background": "light"
     },
     "output_type": "display_data"
    }
   ],
   "source": [
    "sns.countplot(x = df_raw['ChurnLabel'])"
   ]
  },
  {
   "cell_type": "code",
   "execution_count": 17,
   "id": "d55afa6a",
   "metadata": {
    "ExecuteTime": {
     "end_time": "2022-03-15T00:33:14.456189Z",
     "start_time": "2022-03-15T00:33:14.449127Z"
    }
   },
   "outputs": [
    {
     "name": "stdout",
     "output_type": "stream",
     "text": [
      "이탈 :  5161   0.7520034970129681\n"
     ]
    }
   ],
   "source": [
    "print('이탈 : ',len(df_raw[df_raw['ChurnLabel'] == 0]), ' ', (5161 / (5161+1702)))"
   ]
  },
  {
   "cell_type": "code",
   "execution_count": 18,
   "id": "d79ce2e6",
   "metadata": {
    "ExecuteTime": {
     "end_time": "2022-03-15T00:33:14.897913Z",
     "start_time": "2022-03-15T00:33:14.886965Z"
    }
   },
   "outputs": [
    {
     "name": "stdout",
     "output_type": "stream",
     "text": [
      "유지 :  1702   0.2479965029870319\n"
     ]
    }
   ],
   "source": [
    "print('유지 : ',len(df_raw[df_raw['ChurnLabel'] == 1]), ' ', (1702 / (5161+1702)))"
   ]
  },
  {
   "cell_type": "markdown",
   "id": "73d86f7c",
   "metadata": {},
   "source": [
    "##### @Gender"
   ]
  },
  {
   "cell_type": "code",
   "execution_count": 19,
   "id": "0c92815d",
   "metadata": {
    "ExecuteTime": {
     "end_time": "2022-03-15T00:33:15.865023Z",
     "start_time": "2022-03-15T00:33:15.756263Z"
    }
   },
   "outputs": [
    {
     "data": {
      "text/plain": [
       "<AxesSubplot:xlabel='Gender', ylabel='count'>"
      ]
     },
     "execution_count": 19,
     "metadata": {},
     "output_type": "execute_result"
    },
    {
     "data": {
      "image/png": "[encoded data removed]",
      "text/plain": [
       "<Figure size 432x288 with 1 Axes>"
      ]
     },
     "metadata": {
      "needs_background": "light"
     },
     "output_type": "display_data"
    }
   ],
   "source": [
    "sns.countplot(x= df_raw['Gender'])"
   ]
  },
  {
   "cell_type": "code",
   "execution_count": 20,
   "id": "d0bfb45e",
   "metadata": {
    "ExecuteTime": {
     "end_time": "2022-03-15T00:33:16.347149Z",
     "start_time": "2022-03-15T00:33:16.187847Z"
    }
   },
   "outputs": [
    {
     "data": {
      "text/plain": [
       "<AxesSubplot:xlabel='Gender', ylabel='ChurnLabel'>"
      ]
     },
     "execution_count": 20,
     "metadata": {},
     "output_type": "execute_result"
    },
    {
     "data": {
      "image/png": "[encoded data removed]",
      "text/plain": [
       "<Figure size 432x288 with 1 Axes>"
      ]
     },
     "metadata": {
      "needs_background": "light"
     },
     "output_type": "display_data"
    }
   ],
   "source": [
    "sns.barplot(x='Gender', y='ChurnLabel', data=df_raw)"
   ]
  },
  {
   "cell_type": "markdown",
   "id": "d9b10c8a",
   "metadata": {},
   "source": [
    "=> 성별에 따른 이탈은 의미가 없는 데이터로 나옴"
   ]
  },
  {
   "cell_type": "markdown",
   "id": "43d3a922",
   "metadata": {},
   "source": [
    "##### @Age"
   ]
  },
  {
   "cell_type": "code",
   "execution_count": 21,
   "id": "f1d588f8",
   "metadata": {
    "ExecuteTime": {
     "end_time": "2022-03-15T00:33:17.884916Z",
     "start_time": "2022-03-15T00:33:17.521711Z"
    }
   },
   "outputs": [
    {
     "data": {
      "text/plain": [
       "<AxesSubplot:xlabel='Age', ylabel='count'>"
      ]
     },
     "execution_count": 21,
     "metadata": {},
     "output_type": "execute_result"
    },
    {
     "data": {
      "image/png": "[encoded data removed]",
      "text/plain": [
       "<Figure size 432x288 with 1 Axes>"
      ]
     },
     "metadata": {
      "needs_background": "light"
     },
     "output_type": "display_data"
    }
   ],
   "source": [
    "sns.countplot(x= df_raw['Age'])"
   ]
  },
  {
   "cell_type": "code",
   "execution_count": 22,
   "id": "daca0def",
   "metadata": {
    "ExecuteTime": {
     "end_time": "2022-03-15T00:33:19.684032Z",
     "start_time": "2022-03-15T00:33:18.250825Z"
    }
   },
   "outputs": [
    {
     "data": {
      "text/plain": [
       "<AxesSubplot:xlabel='Age', ylabel='ChurnLabel'>"
      ]
     },
     "execution_count": 22,
     "metadata": {},
     "output_type": "execute_result"
    },
    {
     "data": {
      "image/png": "[encoded data removed]",
      "text/plain": [
       "<Figure size 432x288 with 1 Axes>"
      ]
     },
     "metadata": {
      "needs_background": "light"
     },
     "output_type": "display_data"
    }
   ],
   "source": [
    "sns.barplot(x='Age', y='ChurnLabel', data=df_raw)"
   ]
  },
  {
   "cell_type": "markdown",
   "id": "16866ad6",
   "metadata": {},
   "source": [
    "Histogram을 통해 다시 확인"
   ]
  },
  {
   "cell_type": "markdown",
   "id": "fab7a46e",
   "metadata": {},
   "source": [
    "##### @AgeGroup"
   ]
  },
  {
   "cell_type": "code",
   "execution_count": 23,
   "id": "60f2d12a",
   "metadata": {
    "ExecuteTime": {
     "end_time": "2022-03-15T00:33:21.059824Z",
     "start_time": "2022-03-15T00:33:20.956497Z"
    }
   },
   "outputs": [
    {
     "data": {
      "text/plain": [
       "<AxesSubplot:xlabel='AgeGroup', ylabel='count'>"
      ]
     },
     "execution_count": 23,
     "metadata": {},
     "output_type": "execute_result"
    },
    {
     "data": {
      "image/png": "[encoded data removed]",
      "text/plain": [
       "<Figure size 432x288 with 1 Axes>"
      ]
     },
     "metadata": {
      "needs_background": "light"
     },
     "output_type": "display_data"
    }
   ],
   "source": [
    "sns.countplot(x= df_raw['AgeGroup'])"
   ]
  },
  {
   "cell_type": "markdown",
   "id": "c4d3810f",
   "metadata": {},
   "source": [
    "##### @Married"
   ]
  },
  {
   "cell_type": "code",
   "execution_count": 24,
   "id": "e581b6ce",
   "metadata": {
    "ExecuteTime": {
     "end_time": "2022-03-15T00:33:21.962218Z",
     "start_time": "2022-03-15T00:33:21.882172Z"
    }
   },
   "outputs": [
    {
     "data": {
      "text/plain": [
       "<AxesSubplot:xlabel='Married', ylabel='count'>"
      ]
     },
     "execution_count": 24,
     "metadata": {},
     "output_type": "execute_result"
    },
    {
     "data": {
      "image/png": "[encoded data removed]",
      "text/plain": [
       "<Figure size 432x288 with 1 Axes>"
      ]
     },
     "metadata": {
      "needs_background": "light"
     },
     "output_type": "display_data"
    }
   ],
   "source": [
    "sns.countplot(x= df_raw['Married'])"
   ]
  },
  {
   "cell_type": "markdown",
   "id": "f6a824ae",
   "metadata": {},
   "source": [
    "##### @Dependts"
   ]
  },
  {
   "cell_type": "code",
   "execution_count": 25,
   "id": "56157a14",
   "metadata": {
    "ExecuteTime": {
     "end_time": "2022-03-15T00:33:22.821033Z",
     "start_time": "2022-03-15T00:33:22.746240Z"
    }
   },
   "outputs": [
    {
     "data": {
      "text/plain": [
       "<AxesSubplot:xlabel='Dependents', ylabel='count'>"
      ]
     },
     "execution_count": 25,
     "metadata": {},
     "output_type": "execute_result"
    },
    {
     "data": {
      "image/png": "[encoded data removed]",
      "text/plain": [
       "<Figure size 432x288 with 1 Axes>"
      ]
     },
     "metadata": {
      "needs_background": "light"
     },
     "output_type": "display_data"
    }
   ],
   "source": [
    "sns.countplot(x= df_raw['Dependents'])"
   ]
  },
  {
   "cell_type": "markdown",
   "id": "d2881032",
   "metadata": {},
   "source": [
    "##### @noDependents"
   ]
  },
  {
   "cell_type": "code",
   "execution_count": 26,
   "id": "7f62bb3a",
   "metadata": {
    "ExecuteTime": {
     "end_time": "2022-03-15T00:33:23.524666Z",
     "start_time": "2022-03-15T00:33:23.393991Z"
    }
   },
   "outputs": [
    {
     "data": {
      "text/plain": [
       "<AxesSubplot:xlabel='noDependents', ylabel='count'>"
      ]
     },
     "execution_count": 26,
     "metadata": {},
     "output_type": "execute_result"
    },
    {
     "data": {
      "image/png": "[encoded data removed]",
      "text/plain": [
       "<Figure size 432x288 with 1 Axes>"
      ]
     },
     "metadata": {
      "needs_background": "light"
     },
     "output_type": "display_data"
    }
   ],
   "source": [
    "sns.countplot(x= df_raw['noDependents'])"
   ]
  },
  {
   "cell_type": "markdown",
   "id": "7a2b07d4",
   "metadata": {},
   "source": [
    "#####"
   ]
  },
  {
   "cell_type": "markdown",
   "id": "a06805aa",
   "metadata": {
    "ExecuteTime": {
     "end_time": "2022-03-14T06:59:24.941113Z",
     "start_time": "2022-03-14T06:59:24.937656Z"
    }
   },
   "source": [
    "##### @Referrals : 추천횟수"
   ]
  },
  {
   "cell_type": "code",
   "execution_count": 27,
   "id": "830884f1",
   "metadata": {
    "ExecuteTime": {
     "end_time": "2022-03-15T00:33:24.623236Z",
     "start_time": "2022-03-15T00:33:24.542834Z"
    }
   },
   "outputs": [
    {
     "data": {
      "text/plain": [
       "<AxesSubplot:xlabel='Referrals', ylabel='count'>"
      ]
     },
     "execution_count": 27,
     "metadata": {},
     "output_type": "execute_result"
    },
    {
     "data": {
      "image/png": "[encoded data removed]",
      "text/plain": [
       "<Figure size 432x288 with 1 Axes>"
      ]
     },
     "metadata": {
      "needs_background": "light"
     },
     "output_type": "display_data"
    }
   ],
   "source": [
    "sns.countplot(x= df_raw['Referrals'])"
   ]
  },
  {
   "cell_type": "markdown",
   "id": "f2f5c579",
   "metadata": {
    "ExecuteTime": {
     "end_time": "2022-03-14T07:22:20.372247Z",
     "start_time": "2022-03-14T07:22:20.292642Z"
    }
   },
   "source": [
    "##### @noReferrals"
   ]
  },
  {
   "cell_type": "code",
   "execution_count": 28,
   "id": "19862057",
   "metadata": {
    "ExecuteTime": {
     "end_time": "2022-03-15T00:33:25.645942Z",
     "start_time": "2022-03-15T00:33:25.534709Z"
    }
   },
   "outputs": [
    {
     "data": {
      "text/plain": [
       "<AxesSubplot:xlabel='noReferrals', ylabel='count'>"
      ]
     },
     "execution_count": 28,
     "metadata": {},
     "output_type": "execute_result"
    },
    {
     "data": {
      "image/png": "[encoded data removed]",
      "text/plain": [
       "<Figure size 432x288 with 1 Axes>"
      ]
     },
     "metadata": {
      "needs_background": "light"
     },
     "output_type": "display_data"
    }
   ],
   "source": [
    "sns.countplot(x= df_raw['noReferrals'])"
   ]
  },
  {
   "cell_type": "markdown",
   "id": "ae4fb96a",
   "metadata": {},
   "source": [
    "##### @PaperlessBilling"
   ]
  },
  {
   "cell_type": "code",
   "execution_count": 29,
   "id": "850e2f76",
   "metadata": {
    "ExecuteTime": {
     "end_time": "2022-03-15T00:33:26.428667Z",
     "start_time": "2022-03-15T00:33:26.342517Z"
    }
   },
   "outputs": [
    {
     "data": {
      "text/plain": [
       "<AxesSubplot:xlabel='PaperlessBilling', ylabel='count'>"
      ]
     },
     "execution_count": 29,
     "metadata": {},
     "output_type": "execute_result"
    },
    {
     "data": {
      "image/png": "[encoded data removed]",
      "text/plain": [
       "<Figure size 432x288 with 1 Axes>"
      ]
     },
     "metadata": {
      "needs_background": "light"
     },
     "output_type": "display_data"
    }
   ],
   "source": [
    "sns.countplot(x= df_raw['PaperlessBilling'])"
   ]
  },
  {
   "cell_type": "markdown",
   "id": "d1926699",
   "metadata": {},
   "source": [
    "##### @PaymentMethod"
   ]
  },
  {
   "cell_type": "code",
   "execution_count": 30,
   "id": "c42585dc",
   "metadata": {
    "ExecuteTime": {
     "end_time": "2022-03-15T00:33:27.163329Z",
     "start_time": "2022-03-15T00:33:27.080283Z"
    }
   },
   "outputs": [
    {
     "data": {
      "text/plain": [
       "<AxesSubplot:xlabel='PaymentMethod', ylabel='count'>"
      ]
     },
     "execution_count": 30,
     "metadata": {},
     "output_type": "execute_result"
    },
    {
     "data": {
      "image/png": "[encoded data removed]",
      "text/plain": [
       "<Figure size 432x288 with 1 Axes>"
      ]
     },
     "metadata": {
      "needs_background": "light"
     },
     "output_type": "display_data"
    }
   ],
   "source": [
    "sns.countplot(x= df_raw['PaymentMethod'])"
   ]
  },
  {
   "cell_type": "markdown",
   "id": "efaa8992",
   "metadata": {
    "ExecuteTime": {
     "end_time": "2022-03-14T07:22:20.372247Z",
     "start_time": "2022-03-14T07:22:20.292642Z"
    }
   },
   "source": [
    "##### @OnlineSecurity"
   ]
  },
  {
   "cell_type": "code",
   "execution_count": 31,
   "id": "9bfce8ca",
   "metadata": {
    "ExecuteTime": {
     "end_time": "2022-03-15T00:33:27.864743Z",
     "start_time": "2022-03-15T00:33:27.784076Z"
    }
   },
   "outputs": [
    {
     "data": {
      "text/plain": [
       "<AxesSubplot:xlabel='OnlineSecurity', ylabel='count'>"
      ]
     },
     "execution_count": 31,
     "metadata": {},
     "output_type": "execute_result"
    },
    {
     "data": {
      "image/png": "[encoded data removed]",
      "text/plain": [
       "<Figure size 432x288 with 1 Axes>"
      ]
     },
     "metadata": {
      "needs_background": "light"
     },
     "output_type": "display_data"
    }
   ],
   "source": [
    "sns.countplot(x= df_raw['OnlineSecurity'])"
   ]
  },
  {
   "cell_type": "markdown",
   "id": "fd96aa63",
   "metadata": {},
   "source": [
    "##### @OnlineBackup"
   ]
  },
  {
   "cell_type": "code",
   "execution_count": 32,
   "id": "11c55996",
   "metadata": {
    "ExecuteTime": {
     "end_time": "2022-03-15T00:33:28.377336Z",
     "start_time": "2022-03-15T00:33:28.298781Z"
    }
   },
   "outputs": [
    {
     "data": {
      "text/plain": [
       "<AxesSubplot:xlabel='OnlineBackup', ylabel='count'>"
      ]
     },
     "execution_count": 32,
     "metadata": {},
     "output_type": "execute_result"
    },
    {
     "data": {
      "image/png": "[encoded data removed]",
      "text/plain": [
       "<Figure size 432x288 with 1 Axes>"
      ]
     },
     "metadata": {
      "needs_background": "light"
     },
     "output_type": "display_data"
    }
   ],
   "source": [
    "sns.countplot(x= df_raw['OnlineBackup'])"
   ]
  },
  {
   "cell_type": "markdown",
   "id": "c592208b",
   "metadata": {
    "ExecuteTime": {
     "end_time": "2022-03-14T07:22:20.372247Z",
     "start_time": "2022-03-14T07:22:20.292642Z"
    }
   },
   "source": [
    "##### @TechSupport"
   ]
  },
  {
   "cell_type": "code",
   "execution_count": 33,
   "id": "5c776b76",
   "metadata": {
    "ExecuteTime": {
     "end_time": "2022-03-15T00:33:28.880180Z",
     "start_time": "2022-03-15T00:33:28.798770Z"
    }
   },
   "outputs": [
    {
     "data": {
      "text/plain": [
       "<AxesSubplot:xlabel='TechSupport', ylabel='count'>"
      ]
     },
     "execution_count": 33,
     "metadata": {},
     "output_type": "execute_result"
    },
    {
     "data": {
      "image/png": "[encoded data removed]",
      "text/plain": [
       "<Figure size 432x288 with 1 Axes>"
      ]
     },
     "metadata": {
      "needs_background": "light"
     },
     "output_type": "display_data"
    }
   ],
   "source": [
    "sns.countplot(x= df_raw['TechSupport'])"
   ]
  },
  {
   "cell_type": "markdown",
   "id": "d232b362",
   "metadata": {},
   "source": [
    "##### @UnlimitedData"
   ]
  },
  {
   "cell_type": "code",
   "execution_count": 34,
   "id": "2388236c",
   "metadata": {
    "ExecuteTime": {
     "end_time": "2022-03-15T00:33:29.432506Z",
     "start_time": "2022-03-15T00:33:29.354900Z"
    }
   },
   "outputs": [
    {
     "data": {
      "text/plain": [
       "<AxesSubplot:xlabel='UnlimitedData', ylabel='count'>"
      ]
     },
     "execution_count": 34,
     "metadata": {},
     "output_type": "execute_result"
    },
    {
     "data": {
      "image/png": "[encoded data removed]",
      "text/plain": [
       "<Figure size 432x288 with 1 Axes>"
      ]
     },
     "metadata": {
      "needs_background": "light"
     },
     "output_type": "display_data"
    }
   ],
   "source": [
    "sns.countplot(x= df_raw['UnlimitedData'])"
   ]
  },
  {
   "cell_type": "markdown",
   "id": "d8aba793",
   "metadata": {},
   "source": [
    "##### @AvgDownloadGB"
   ]
  },
  {
   "cell_type": "code",
   "execution_count": 35,
   "id": "ee0898e9",
   "metadata": {
    "ExecuteTime": {
     "end_time": "2022-03-15T00:33:30.157091Z",
     "start_time": "2022-03-15T00:33:29.851558Z"
    }
   },
   "outputs": [
    {
     "data": {
      "text/plain": [
       "<AxesSubplot:xlabel='AvgDownloadGB', ylabel='count'>"
      ]
     },
     "execution_count": 35,
     "metadata": {},
     "output_type": "execute_result"
    },
    {
     "data": {
      "image/png": "[encoded data removed]",
      "text/plain": [
       "<Figure size 432x288 with 1 Axes>"
      ]
     },
     "metadata": {
      "needs_background": "light"
     },
     "output_type": "display_data"
    }
   ],
   "source": [
    "sns.countplot(x= df_raw['AvgDownloadGB'])"
   ]
  },
  {
   "cell_type": "markdown",
   "id": "75b6eca2",
   "metadata": {},
   "source": [
    "##### @ChurnCategory"
   ]
  },
  {
   "cell_type": "code",
   "execution_count": 39,
   "id": "ac2aecd7",
   "metadata": {
    "ExecuteTime": {
     "end_time": "2022-03-15T00:33:44.913098Z",
     "start_time": "2022-03-15T00:33:44.813999Z"
    }
   },
   "outputs": [
    {
     "data": {
      "text/plain": [
       "<AxesSubplot:xlabel='ChurnCategory', ylabel='count'>"
      ]
     },
     "execution_count": 39,
     "metadata": {},
     "output_type": "execute_result"
    },
    {
     "data": {
      "image/png": "[encoded data removed]",
      "text/plain": [
       "<Figure size 432x288 with 1 Axes>"
      ]
     },
     "metadata": {
      "needs_background": "light"
     },
     "output_type": "display_data"
    }
   ],
   "source": [
    "sns.countplot(x= df_raw['ChurnCategory'])"
   ]
  },
  {
   "cell_type": "markdown",
   "id": "14bc134e",
   "metadata": {},
   "source": [
    "##### @ChurnReason"
   ]
  },
  {
   "cell_type": "code",
   "execution_count": 40,
   "id": "b2edc824",
   "metadata": {
    "ExecuteTime": {
     "end_time": "2022-03-15T00:33:46.013592Z",
     "start_time": "2022-03-15T00:33:45.804911Z"
    }
   },
   "outputs": [
    {
     "data": {
      "text/plain": [
       "<AxesSubplot:xlabel='ChurnReason', ylabel='count'>"
      ]
     },
     "execution_count": 40,
     "metadata": {},
     "output_type": "execute_result"
    },
    {
     "data": {
      "image/png": "[encoded data removed]",
      "text/plain": [
       "<Figure size 432x288 with 1 Axes>"
      ]
     },
     "metadata": {
      "needs_background": "light"
     },
     "output_type": "display_data"
    }
   ],
   "source": [
    "sns.countplot(x= df_raw['ChurnReason'])"
   ]
  },
  {
   "cell_type": "markdown",
   "id": "3534deed",
   "metadata": {},
   "source": [
    "##### @TotalExtraDataCharge"
   ]
  },
  {
   "cell_type": "code",
   "execution_count": 41,
   "id": "31ae7905",
   "metadata": {
    "ExecuteTime": {
     "end_time": "2022-03-15T00:33:47.098248Z",
     "start_time": "2022-03-15T00:33:46.966699Z"
    }
   },
   "outputs": [
    {
     "data": {
      "text/plain": [
       "<AxesSubplot:xlabel='TotalExtraDataCharge', ylabel='count'>"
      ]
     },
     "execution_count": 41,
     "metadata": {},
     "output_type": "execute_result"
    },
    {
     "data": {
      "image/png": "[encoded data removed]",
      "text/plain": [
       "<Figure size 432x288 with 1 Axes>"
      ]
     },
     "metadata": {
      "needs_background": "light"
     },
     "output_type": "display_data"
    }
   ],
   "source": [
    "sns.countplot(x= df_raw['TotalExtraDataCharge'])"
   ]
  },
  {
   "cell_type": "markdown",
   "id": "cbccc338",
   "metadata": {},
   "source": [
    "## 상관관계"
   ]
  },
  {
   "cell_type": "code",
   "execution_count": 44,
   "id": "86e41515",
   "metadata": {
    "ExecuteTime": {
     "end_time": "2022-03-14T14:04:34.837628Z",
     "start_time": "2022-03-14T14:04:34.835782Z"
    }
   },
   "outputs": [],
   "source": [
    "# # hue : 결과 데이터에 해당하는 컬럼을 지정한다.\n",
    "# # 지정된 컬럼의 값이 똑같은 것 끼리 같은 색으로 표시한다.\n",
    "# sns.pairplot(df_raw,hue='ChurnLabel')\n",
    "# plt.suptitle('pair plot', y=1.02)\n",
    "# plt.show()"
   ]
  },
  {
   "cell_type": "markdown",
   "id": "e27b6c5b",
   "metadata": {},
   "source": [
    "## histogram"
   ]
  },
  {
   "cell_type": "markdown",
   "id": "272b6909",
   "metadata": {},
   "source": [
    "##### @히스토그램 유지/이탈 기준"
   ]
  },
  {
   "cell_type": "code",
   "execution_count": 42,
   "id": "8d854f56",
   "metadata": {
    "ExecuteTime": {
     "end_time": "2022-03-15T00:33:52.062998Z",
     "start_time": "2022-03-15T00:33:52.056260Z"
    }
   },
   "outputs": [],
   "source": [
    "def fun_plot_hist(data, var):\n",
    "    plt.hist(df_raw[df_raw[\"ChurnLabel\"] == 0][var], label = '유지', alpha = 0.5)\n",
    "    plt.hist(df_raw[df_raw[\"ChurnLabel\"] == 1][var], label = \"이탈\", alpha = 0.5)\n",
    "    plt.legend()"
   ]
  },
  {
   "cell_type": "markdown",
   "id": "485c54be",
   "metadata": {},
   "source": [
    "##### @Gender"
   ]
  },
  {
   "cell_type": "code",
   "execution_count": 43,
   "id": "23890305",
   "metadata": {
    "ExecuteTime": {
     "end_time": "2022-03-15T00:33:52.913647Z",
     "start_time": "2022-03-15T00:33:52.766877Z"
    }
   },
   "outputs": [
    {
     "data": {
      "image/png": "[encoded data removed]",
      "text/plain": [
       "<Figure size 432x288 with 1 Axes>"
      ]
     },
     "metadata": {
      "needs_background": "light"
     },
     "output_type": "display_data"
    }
   ],
   "source": [
    "fun_plot_hist(df_raw, 'Gender')"
   ]
  },
  {
   "cell_type": "markdown",
   "id": "d15ca367",
   "metadata": {},
   "source": [
    "남성과 여성으로 이탈을 보는것은 의미가 없어 보임"
   ]
  },
  {
   "cell_type": "markdown",
   "id": "6b99e850",
   "metadata": {},
   "source": [
    "##### @Age"
   ]
  },
  {
   "cell_type": "code",
   "execution_count": 44,
   "id": "828f082e",
   "metadata": {
    "ExecuteTime": {
     "end_time": "2022-03-15T00:33:53.374420Z",
     "start_time": "2022-03-15T00:33:53.263845Z"
    }
   },
   "outputs": [
    {
     "data": {
      "image/png": "[encoded data removed]",
      "text/plain": [
       "<Figure size 432x288 with 1 Axes>"
      ]
     },
     "metadata": {
      "needs_background": "light"
     },
     "output_type": "display_data"
    }
   ],
   "source": [
    "fun_plot_hist(df_raw, 'Age')"
   ]
  },
  {
   "cell_type": "markdown",
   "id": "3a027e5b",
   "metadata": {
    "ExecuteTime": {
     "end_time": "2022-03-14T07:35:31.846651Z",
     "start_time": "2022-03-14T07:35:31.837856Z"
    }
   },
   "source": [
    "70, 80대 고객들이 상대적으로 비율로 봤을때 이탈을 하는 비율이 많아보임"
   ]
  },
  {
   "cell_type": "markdown",
   "id": "d234b712",
   "metadata": {},
   "source": [
    "##### @AgeGroup"
   ]
  },
  {
   "cell_type": "code",
   "execution_count": 45,
   "id": "f403d111",
   "metadata": {
    "ExecuteTime": {
     "end_time": "2022-03-15T00:33:53.930436Z",
     "start_time": "2022-03-15T00:33:53.812509Z"
    }
   },
   "outputs": [
    {
     "data": {
      "image/png": "[encoded data removed]",
      "text/plain": [
       "<Figure size 432x288 with 1 Axes>"
      ]
     },
     "metadata": {
      "needs_background": "light"
     },
     "output_type": "display_data"
    }
   ],
   "source": [
    "fun_plot_hist(df_raw, 'AgeGroup')"
   ]
  },
  {
   "cell_type": "markdown",
   "id": "3d254715",
   "metadata": {},
   "source": [
    "70~80대 그룹의 사람들이 이탈을 할 확률이 많아 보임 "
   ]
  },
  {
   "cell_type": "code",
   "execution_count": 85,
   "id": "1426e0cc",
   "metadata": {
    "ExecuteTime": {
     "end_time": "2022-03-15T02:13:45.316055Z",
     "start_time": "2022-03-15T02:13:45.299050Z"
    },
    "scrolled": true
   },
   "outputs": [
    {
     "data": {
      "text/html": [
       "<div>\n",
       "<style scoped>\n",
       "    .dataframe tbody tr th:only-of-type {\n",
       "        vertical-align: middle;\n",
       "    }\n",
       "\n",
       "    .dataframe tbody tr th {\n",
       "        vertical-align: top;\n",
       "    }\n",
       "\n",
       "    .dataframe thead th {\n",
       "        text-align: right;\n",
       "    }\n",
       "</style>\n",
       "<table border=\"1\" class=\"dataframe\">\n",
       "  <thead>\n",
       "    <tr style=\"text-align: right;\">\n",
       "      <th></th>\n",
       "      <th>AvgCharge</th>\n",
       "    </tr>\n",
       "    <tr>\n",
       "      <th>AgeGroup</th>\n",
       "      <th></th>\n",
       "    </tr>\n",
       "  </thead>\n",
       "  <tbody>\n",
       "    <tr>\n",
       "      <th>20</th>\n",
       "      <td>1344</td>\n",
       "    </tr>\n",
       "    <tr>\n",
       "      <th>30</th>\n",
       "      <td>1258</td>\n",
       "    </tr>\n",
       "    <tr>\n",
       "      <th>40</th>\n",
       "      <td>1308</td>\n",
       "    </tr>\n",
       "    <tr>\n",
       "      <th>50</th>\n",
       "      <td>1217</td>\n",
       "    </tr>\n",
       "    <tr>\n",
       "      <th>60</th>\n",
       "      <td>982</td>\n",
       "    </tr>\n",
       "    <tr>\n",
       "      <th>70</th>\n",
       "      <td>691</td>\n",
       "    </tr>\n",
       "    <tr>\n",
       "      <th>80</th>\n",
       "      <td>63</td>\n",
       "    </tr>\n",
       "  </tbody>\n",
       "</table>\n",
       "</div>"
      ],
      "text/plain": [
       "          AvgCharge\n",
       "AgeGroup           \n",
       "20             1344\n",
       "30             1258\n",
       "40             1308\n",
       "50             1217\n",
       "60              982\n",
       "70              691\n",
       "80               63"
      ]
     },
     "execution_count": 85,
     "metadata": {},
     "output_type": "execute_result"
    }
   ],
   "source": [
    "df_raw.groupby(df_raw['AgeGroup'])[['AvgCharge']].count()"
   ]
  },
  {
   "cell_type": "markdown",
   "id": "98b18886",
   "metadata": {},
   "source": [
    "##### - 70~80대 사람들의 요금은 어떨까?"
   ]
  },
  {
   "cell_type": "code",
   "execution_count": 46,
   "id": "e6671994",
   "metadata": {
    "ExecuteTime": {
     "end_time": "2022-03-15T00:33:54.246864Z",
     "start_time": "2022-03-15T00:33:54.235951Z"
    }
   },
   "outputs": [
    {
     "data": {
      "text/html": [
       "<div>\n",
       "<style scoped>\n",
       "    .dataframe tbody tr th:only-of-type {\n",
       "        vertical-align: middle;\n",
       "    }\n",
       "\n",
       "    .dataframe tbody tr th {\n",
       "        vertical-align: top;\n",
       "    }\n",
       "\n",
       "    .dataframe thead th {\n",
       "        text-align: right;\n",
       "    }\n",
       "</style>\n",
       "<table border=\"1\" class=\"dataframe\">\n",
       "  <thead>\n",
       "    <tr style=\"text-align: right;\">\n",
       "      <th></th>\n",
       "      <th>AvgCharge</th>\n",
       "    </tr>\n",
       "    <tr>\n",
       "      <th>AgeGroup</th>\n",
       "      <th></th>\n",
       "    </tr>\n",
       "  </thead>\n",
       "  <tbody>\n",
       "    <tr>\n",
       "      <th>20</th>\n",
       "      <td>73318.76</td>\n",
       "    </tr>\n",
       "    <tr>\n",
       "      <th>30</th>\n",
       "      <td>73692.39</td>\n",
       "    </tr>\n",
       "    <tr>\n",
       "      <th>40</th>\n",
       "      <td>71503.61</td>\n",
       "    </tr>\n",
       "    <tr>\n",
       "      <th>50</th>\n",
       "      <td>74065.92</td>\n",
       "    </tr>\n",
       "    <tr>\n",
       "      <th>60</th>\n",
       "      <td>80261.37</td>\n",
       "    </tr>\n",
       "    <tr>\n",
       "      <th>70</th>\n",
       "      <td>94441.97</td>\n",
       "    </tr>\n",
       "    <tr>\n",
       "      <th>80</th>\n",
       "      <td>93936.10</td>\n",
       "    </tr>\n",
       "  </tbody>\n",
       "</table>\n",
       "</div>"
      ],
      "text/plain": [
       "          AvgCharge\n",
       "AgeGroup           \n",
       "20         73318.76\n",
       "30         73692.39\n",
       "40         71503.61\n",
       "50         74065.92\n",
       "60         80261.37\n",
       "70         94441.97\n",
       "80         93936.10"
      ]
     },
     "execution_count": 46,
     "metadata": {},
     "output_type": "execute_result"
    }
   ],
   "source": [
    "df_raw.groupby(df_raw['AgeGroup'])[['AvgCharge']].mean()"
   ]
  },
  {
   "cell_type": "markdown",
   "id": "7c595465",
   "metadata": {},
   "source": [
    "각 나이대별 평균과금액을 확인했을 때, 70, 80대가 현저히 높은 것을 확인 할 수 있다. => 요금제가 비싸서,,! 그래서 이탈?  \n",
    "그렇다면 무제한 요금제도 사용하고 있는가?"
   ]
  },
  {
   "cell_type": "code",
   "execution_count": 47,
   "id": "695f281c",
   "metadata": {
    "ExecuteTime": {
     "end_time": "2022-03-15T00:33:54.312690Z",
     "start_time": "2022-03-15T00:33:54.305635Z"
    }
   },
   "outputs": [
    {
     "data": {
      "text/html": [
       "<div>\n",
       "<style scoped>\n",
       "    .dataframe tbody tr th:only-of-type {\n",
       "        vertical-align: middle;\n",
       "    }\n",
       "\n",
       "    .dataframe tbody tr th {\n",
       "        vertical-align: top;\n",
       "    }\n",
       "\n",
       "    .dataframe thead th {\n",
       "        text-align: right;\n",
       "    }\n",
       "</style>\n",
       "<table border=\"1\" class=\"dataframe\">\n",
       "  <thead>\n",
       "    <tr style=\"text-align: right;\">\n",
       "      <th></th>\n",
       "      <th>AvgCharge</th>\n",
       "    </tr>\n",
       "    <tr>\n",
       "      <th>AgeGroup</th>\n",
       "      <th></th>\n",
       "    </tr>\n",
       "  </thead>\n",
       "  <tbody>\n",
       "    <tr>\n",
       "      <th>20</th>\n",
       "      <td>1344</td>\n",
       "    </tr>\n",
       "    <tr>\n",
       "      <th>30</th>\n",
       "      <td>1258</td>\n",
       "    </tr>\n",
       "    <tr>\n",
       "      <th>40</th>\n",
       "      <td>1308</td>\n",
       "    </tr>\n",
       "    <tr>\n",
       "      <th>50</th>\n",
       "      <td>1217</td>\n",
       "    </tr>\n",
       "    <tr>\n",
       "      <th>60</th>\n",
       "      <td>982</td>\n",
       "    </tr>\n",
       "    <tr>\n",
       "      <th>70</th>\n",
       "      <td>691</td>\n",
       "    </tr>\n",
       "    <tr>\n",
       "      <th>80</th>\n",
       "      <td>63</td>\n",
       "    </tr>\n",
       "  </tbody>\n",
       "</table>\n",
       "</div>"
      ],
      "text/plain": [
       "          AvgCharge\n",
       "AgeGroup           \n",
       "20             1344\n",
       "30             1258\n",
       "40             1308\n",
       "50             1217\n",
       "60              982\n",
       "70              691\n",
       "80               63"
      ]
     },
     "execution_count": 47,
     "metadata": {},
     "output_type": "execute_result"
    }
   ],
   "source": [
    "df_raw.groupby(df_raw['AgeGroup'])[['AvgCharge']].count()"
   ]
  },
  {
   "cell_type": "code",
   "execution_count": 48,
   "id": "19c22834",
   "metadata": {
    "ExecuteTime": {
     "end_time": "2022-03-15T00:33:54.348733Z",
     "start_time": "2022-03-15T00:33:54.339065Z"
    },
    "scrolled": true
   },
   "outputs": [
    {
     "data": {
      "text/plain": [
       "AgeGroup\n",
       "20    0.64\n",
       "30    0.67\n",
       "40    0.64\n",
       "50    0.63\n",
       "60    0.69\n",
       "70    0.83\n",
       "80    0.83\n",
       "Name: UnlimitedData, dtype: float64"
      ]
     },
     "execution_count": 48,
     "metadata": {},
     "output_type": "execute_result"
    }
   ],
   "source": [
    "df_raw.groupby('AgeGroup').mean()[\"UnlimitedData\"]"
   ]
  },
  {
   "cell_type": "markdown",
   "id": "b2fc5c33",
   "metadata": {
    "ExecuteTime": {
     "end_time": "2022-03-14T08:01:44.004008Z",
     "start_time": "2022-03-14T08:01:43.993250Z"
    }
   },
   "source": [
    "70, 80대의 무제한 데이터 요금 사용률이 높다~!\n"
   ]
  },
  {
   "cell_type": "markdown",
   "id": "f30236e1",
   "metadata": {},
   "source": [
    "=> 대리점에서 고연령층의 고객들에게 덤탱이 씌우는거 금지~!"
   ]
  },
  {
   "cell_type": "code",
   "execution_count": 49,
   "id": "c60f81a1",
   "metadata": {
    "ExecuteTime": {
     "end_time": "2022-03-15T00:33:54.455291Z",
     "start_time": "2022-03-15T00:33:54.439015Z"
    }
   },
   "outputs": [
    {
     "data": {
      "text/plain": [
       "AgeGroup\n",
       "20    3.38\n",
       "30    3.30\n",
       "40    3.32\n",
       "50    3.34\n",
       "60    3.21\n",
       "70    2.98\n",
       "80    2.97\n",
       "Name: SatisScore, dtype: float64"
      ]
     },
     "execution_count": 49,
     "metadata": {},
     "output_type": "execute_result"
    }
   ],
   "source": [
    "df_raw.groupby('AgeGroup').mean()[\"SatisScore\"]"
   ]
  },
  {
   "cell_type": "markdown",
   "id": "7001dba4",
   "metadata": {},
   "source": [
    "-> 굉장히 낮은 점수의 만족도!!!"
   ]
  },
  {
   "cell_type": "code",
   "execution_count": 50,
   "id": "b2d72061",
   "metadata": {
    "ExecuteTime": {
     "end_time": "2022-03-15T00:33:54.529158Z",
     "start_time": "2022-03-15T00:33:54.509897Z"
    },
    "scrolled": true
   },
   "outputs": [
    {
     "data": {
      "text/plain": [
       "AgeGroup\n",
       "20    0.55\n",
       "30    0.59\n",
       "40    0.54\n",
       "50    0.56\n",
       "60    0.63\n",
       "70    0.76\n",
       "80    0.76\n",
       "Name: PaperlessBilling, dtype: float64"
      ]
     },
     "execution_count": 50,
     "metadata": {},
     "output_type": "execute_result"
    }
   ],
   "source": [
    "df_raw.groupby('AgeGroup').mean()[\"PaperlessBilling\"]"
   ]
  },
  {
   "cell_type": "markdown",
   "id": "6cc38eb1",
   "metadata": {},
   "source": [
    "영수증을 많이 받는 사람들도 70, 80대 사람들"
   ]
  },
  {
   "cell_type": "code",
   "execution_count": 51,
   "id": "b9e08c7a",
   "metadata": {
    "ExecuteTime": {
     "end_time": "2022-03-15T00:33:54.595378Z",
     "start_time": "2022-03-15T00:33:54.577857Z"
    }
   },
   "outputs": [
    {
     "data": {
      "text/plain": [
       "AgeGroup\n",
       "20    26521.58\n",
       "30    26102.39\n",
       "40    25863.81\n",
       "50    25152.42\n",
       "60    26179.71\n",
       "70    25735.95\n",
       "80    28454.92\n",
       "Name: AvgRoamCharge, dtype: float64"
      ]
     },
     "execution_count": 51,
     "metadata": {},
     "output_type": "execute_result"
    }
   ],
   "source": [
    "df_raw.groupby('AgeGroup').mean()[\"AvgRoamCharge\"]"
   ]
  },
  {
   "cell_type": "markdown",
   "id": "c72afa4b",
   "metadata": {},
   "source": [
    "평균로밍금액은 연령대별로 비슷하기 때문에 연관성이 없어보인다"
   ]
  },
  {
   "cell_type": "code",
   "execution_count": 52,
   "id": "eaad197e",
   "metadata": {
    "ExecuteTime": {
     "end_time": "2022-03-15T00:33:54.654643Z",
     "start_time": "2022-03-15T00:33:54.637900Z"
    }
   },
   "outputs": [
    {
     "data": {
      "text/plain": [
       "AgeGroup\n",
       "20    4395.10\n",
       "30    4447.02\n",
       "40    4422.49\n",
       "50    4383.63\n",
       "60    4397.52\n",
       "70    4433.71\n",
       "80    4439.52\n",
       "Name: CustomerLTV, dtype: float64"
      ]
     },
     "execution_count": 52,
     "metadata": {},
     "output_type": "execute_result"
    }
   ],
   "source": [
    "df_raw.groupby('AgeGroup').mean()[\"CustomerLTV\"]"
   ]
  },
  {
   "cell_type": "markdown",
   "id": "6b488167",
   "metadata": {},
   "source": [
    "고객생애가치와도 연관이 없어보인다."
   ]
  },
  {
   "cell_type": "code",
   "execution_count": 53,
   "id": "e3470ba9",
   "metadata": {
    "ExecuteTime": {
     "end_time": "2022-03-15T00:33:54.721575Z",
     "start_time": "2022-03-15T00:33:54.704050Z"
    }
   },
   "outputs": [
    {
     "data": {
      "text/plain": [
       "AgeGroup\n",
       "20    19014.12\n",
       "30    18909.69\n",
       "40    19030.74\n",
       "50    18646.10\n",
       "60    20334.59\n",
       "70    21152.97\n",
       "80    23367.05\n",
       "Name: MonthRoamCharge, dtype: float64"
      ]
     },
     "execution_count": 53,
     "metadata": {},
     "output_type": "execute_result"
    }
   ],
   "source": [
    "df_raw.groupby('AgeGroup').mean()[\"MonthRoamCharge\"]"
   ]
  },
  {
   "cell_type": "markdown",
   "id": "ddfc9314",
   "metadata": {},
   "source": [
    "파생변수로만든 평균로밍데이터(월별)을 봤을 때, 다른 사람에 비해 많이 사용하는 것을 알 수 있었다. 이 니즈에 맞춰 로딩 데이터의 서비스가 추가된 요금제 추천이 필요해보임"
   ]
  },
  {
   "cell_type": "code",
   "execution_count": 54,
   "id": "049abe66",
   "metadata": {
    "ExecuteTime": {
     "end_time": "2022-03-15T00:33:54.786508Z",
     "start_time": "2022-03-15T00:33:54.770527Z"
    }
   },
   "outputs": [
    {
     "data": {
      "text/plain": [
       "AgeGroup\n",
       "20    41.89\n",
       "30    17.97\n",
       "40    13.99\n",
       "50    14.21\n",
       "60    14.34\n",
       "70    16.20\n",
       "80    15.43\n",
       "Name: AvgDownloadGB, dtype: float64"
      ]
     },
     "execution_count": 54,
     "metadata": {},
     "output_type": "execute_result"
    }
   ],
   "source": [
    "df_raw.groupby('AgeGroup').mean()[\"AvgDownloadGB\"]"
   ]
  },
  {
   "cell_type": "code",
   "execution_count": 55,
   "id": "c7f7e88c",
   "metadata": {
    "ExecuteTime": {
     "end_time": "2022-03-15T00:33:54.812832Z",
     "start_time": "2022-03-15T00:33:54.804294Z"
    }
   },
   "outputs": [
    {
     "data": {
      "text/plain": [
       "AgeGroup\n",
       "20    333.24\n",
       "30    274.93\n",
       "40    265.96\n",
       "50    359.38\n",
       "60    372.32\n",
       "70    654.80\n",
       "80    678.33\n",
       "Name: AvgExtraDataCharge, dtype: float64"
      ]
     },
     "execution_count": 55,
     "metadata": {},
     "output_type": "execute_result"
    }
   ],
   "source": [
    "df_raw.groupby('AgeGroup').mean()[\"AvgExtraDataCharge\"]"
   ]
  },
  {
   "cell_type": "code",
   "execution_count": 56,
   "id": "3bd53736",
   "metadata": {
    "ExecuteTime": {
     "end_time": "2022-03-15T00:33:54.994681Z",
     "start_time": "2022-03-15T00:33:54.842820Z"
    }
   },
   "outputs": [
    {
     "data": {
      "text/html": [
       "<div>\n",
       "<style scoped>\n",
       "    .dataframe tbody tr th:only-of-type {\n",
       "        vertical-align: middle;\n",
       "    }\n",
       "\n",
       "    .dataframe tbody tr th {\n",
       "        vertical-align: top;\n",
       "    }\n",
       "\n",
       "    .dataframe thead th {\n",
       "        text-align: right;\n",
       "    }\n",
       "</style>\n",
       "<table border=\"1\" class=\"dataframe\">\n",
       "  <thead>\n",
       "    <tr style=\"text-align: right;\">\n",
       "      <th></th>\n",
       "      <th></th>\n",
       "      <th>AvgDownloadGB</th>\n",
       "      <th>AvgCharge</th>\n",
       "      <th>AvgExtraDataCharge</th>\n",
       "      <th>SatisScore</th>\n",
       "      <th>ChurnLabel</th>\n",
       "    </tr>\n",
       "    <tr>\n",
       "      <th>AgeGroup</th>\n",
       "      <th>UnlimitedData</th>\n",
       "      <th></th>\n",
       "      <th></th>\n",
       "      <th></th>\n",
       "      <th></th>\n",
       "      <th></th>\n",
       "    </tr>\n",
       "  </thead>\n",
       "  <tbody>\n",
       "    <tr>\n",
       "      <th rowspan=\"2\" valign=\"top\">20</th>\n",
       "      <th>0</th>\n",
       "      <td>17.38</td>\n",
       "      <td>45000.22</td>\n",
       "      <td>931.14</td>\n",
       "      <td>3.73</td>\n",
       "      <td>0.11</td>\n",
       "    </tr>\n",
       "    <tr>\n",
       "      <th>1</th>\n",
       "      <td>55.56</td>\n",
       "      <td>89102.33</td>\n",
       "      <td>0.00</td>\n",
       "      <td>3.18</td>\n",
       "      <td>0.25</td>\n",
       "    </tr>\n",
       "    <tr>\n",
       "      <th rowspan=\"2\" valign=\"top\">30</th>\n",
       "      <th>0</th>\n",
       "      <td>7.20</td>\n",
       "      <td>42301.51</td>\n",
       "      <td>843.55</td>\n",
       "      <td>3.62</td>\n",
       "      <td>0.13</td>\n",
       "    </tr>\n",
       "    <tr>\n",
       "      <th>1</th>\n",
       "      <td>23.17</td>\n",
       "      <td>88869.59</td>\n",
       "      <td>0.00</td>\n",
       "      <td>3.15</td>\n",
       "      <td>0.27</td>\n",
       "    </tr>\n",
       "    <tr>\n",
       "      <th rowspan=\"2\" valign=\"top\">40</th>\n",
       "      <th>0</th>\n",
       "      <td>5.08</td>\n",
       "      <td>41087.02</td>\n",
       "      <td>732.36</td>\n",
       "      <td>3.70</td>\n",
       "      <td>0.12</td>\n",
       "    </tr>\n",
       "    <tr>\n",
       "      <th>1</th>\n",
       "      <td>19.07</td>\n",
       "      <td>88848.00</td>\n",
       "      <td>0.00</td>\n",
       "      <td>3.10</td>\n",
       "      <td>0.28</td>\n",
       "    </tr>\n",
       "    <tr>\n",
       "      <th rowspan=\"2\" valign=\"top\">50</th>\n",
       "      <th>0</th>\n",
       "      <td>5.99</td>\n",
       "      <td>45513.82</td>\n",
       "      <td>969.76</td>\n",
       "      <td>3.71</td>\n",
       "      <td>0.14</td>\n",
       "    </tr>\n",
       "    <tr>\n",
       "      <th>1</th>\n",
       "      <td>19.05</td>\n",
       "      <td>90876.62</td>\n",
       "      <td>0.00</td>\n",
       "      <td>3.13</td>\n",
       "      <td>0.28</td>\n",
       "    </tr>\n",
       "    <tr>\n",
       "      <th rowspan=\"2\" valign=\"top\">60</th>\n",
       "      <th>0</th>\n",
       "      <td>6.48</td>\n",
       "      <td>52569.85</td>\n",
       "      <td>1218.72</td>\n",
       "      <td>3.54</td>\n",
       "      <td>0.17</td>\n",
       "    </tr>\n",
       "    <tr>\n",
       "      <th>1</th>\n",
       "      <td>17.79</td>\n",
       "      <td>92442.39</td>\n",
       "      <td>0.00</td>\n",
       "      <td>3.06</td>\n",
       "      <td>0.34</td>\n",
       "    </tr>\n",
       "    <tr>\n",
       "      <th rowspan=\"2\" valign=\"top\">70</th>\n",
       "      <th>0</th>\n",
       "      <td>13.97</td>\n",
       "      <td>79548.51</td>\n",
       "      <td>3770.53</td>\n",
       "      <td>3.05</td>\n",
       "      <td>0.37</td>\n",
       "    </tr>\n",
       "    <tr>\n",
       "      <th>1</th>\n",
       "      <td>16.67</td>\n",
       "      <td>97571.94</td>\n",
       "      <td>0.00</td>\n",
       "      <td>2.96</td>\n",
       "      <td>0.40</td>\n",
       "    </tr>\n",
       "    <tr>\n",
       "      <th rowspan=\"2\" valign=\"top\">80</th>\n",
       "      <th>0</th>\n",
       "      <td>11.64</td>\n",
       "      <td>81304.22</td>\n",
       "      <td>3885.00</td>\n",
       "      <td>4.00</td>\n",
       "      <td>0.27</td>\n",
       "    </tr>\n",
       "    <tr>\n",
       "      <th>1</th>\n",
       "      <td>16.23</td>\n",
       "      <td>96608.22</td>\n",
       "      <td>0.00</td>\n",
       "      <td>2.75</td>\n",
       "      <td>0.44</td>\n",
       "    </tr>\n",
       "  </tbody>\n",
       "</table>\n",
       "</div>"
      ],
      "text/plain": [
       "                        AvgDownloadGB  AvgCharge  AvgExtraDataCharge  \\\n",
       "AgeGroup UnlimitedData                                                 \n",
       "20       0                      17.38   45000.22              931.14   \n",
       "         1                      55.56   89102.33                0.00   \n",
       "30       0                       7.20   42301.51              843.55   \n",
       "         1                      23.17   88869.59                0.00   \n",
       "40       0                       5.08   41087.02              732.36   \n",
       "         1                      19.07   88848.00                0.00   \n",
       "50       0                       5.99   45513.82              969.76   \n",
       "         1                      19.05   90876.62                0.00   \n",
       "60       0                       6.48   52569.85             1218.72   \n",
       "         1                      17.79   92442.39                0.00   \n",
       "70       0                      13.97   79548.51             3770.53   \n",
       "         1                      16.67   97571.94                0.00   \n",
       "80       0                      11.64   81304.22             3885.00   \n",
       "         1                      16.23   96608.22                0.00   \n",
       "\n",
       "                        SatisScore  ChurnLabel  \n",
       "AgeGroup UnlimitedData                          \n",
       "20       0                    3.73        0.11  \n",
       "         1                    3.18        0.25  \n",
       "30       0                    3.62        0.13  \n",
       "         1                    3.15        0.27  \n",
       "40       0                    3.70        0.12  \n",
       "         1                    3.10        0.28  \n",
       "50       0                    3.71        0.14  \n",
       "         1                    3.13        0.28  \n",
       "60       0                    3.54        0.17  \n",
       "         1                    3.06        0.34  \n",
       "70       0                    3.05        0.37  \n",
       "         1                    2.96        0.40  \n",
       "80       0                    4.00        0.27  \n",
       "         1                    2.75        0.44  "
      ]
     },
     "execution_count": 56,
     "metadata": {},
     "output_type": "execute_result"
    }
   ],
   "source": [
    "df_raw.groupby(['AgeGroup', 'UnlimitedData'])['AvgDownloadGB','AvgCharge','AvgExtraDataCharge', 'SatisScore', 'ChurnLabel'].mean()"
   ]
  },
  {
   "cell_type": "code",
   "execution_count": 83,
   "id": "aefe1924",
   "metadata": {
    "ExecuteTime": {
     "end_time": "2022-03-15T01:55:16.852528Z",
     "start_time": "2022-03-15T01:55:16.840983Z"
    }
   },
   "outputs": [
    {
     "data": {
      "text/plain": [
       "20    1344\n",
       "40    1308\n",
       "30    1258\n",
       "50    1217\n",
       "60     982\n",
       "70     691\n",
       "80      63\n",
       "Name: AgeGroup, dtype: int64"
      ]
     },
     "execution_count": 83,
     "metadata": {},
     "output_type": "execute_result"
    }
   ],
   "source": [
    "df_raw['AgeGroup'].value_counts()"
   ]
  },
  {
   "cell_type": "code",
   "execution_count": 84,
   "id": "3f61570a",
   "metadata": {
    "ExecuteTime": {
     "end_time": "2022-03-15T01:57:51.499301Z",
     "start_time": "2022-03-15T01:57:51.493986Z"
    }
   },
   "outputs": [
    {
     "data": {
      "text/plain": [
       "0.25295060469182573"
      ]
     },
     "execution_count": 84,
     "metadata": {},
     "output_type": "execute_result"
    }
   ],
   "source": [
    "(982+691+63)/ 6863"
   ]
  },
  {
   "cell_type": "code",
   "execution_count": null,
   "id": "3f7bbc74",
   "metadata": {},
   "outputs": [],
   "source": []
  },
  {
   "cell_type": "code",
   "execution_count": null,
   "id": "b357336c",
   "metadata": {},
   "outputs": [],
   "source": []
  },
  {
   "cell_type": "code",
   "execution_count": 57,
   "id": "809b5bcc",
   "metadata": {
    "ExecuteTime": {
     "end_time": "2022-03-15T00:33:55.001248Z",
     "start_time": "2022-03-15T00:33:54.996203Z"
    }
   },
   "outputs": [
    {
     "data": {
      "text/plain": [
       "('OnlineSecurity', 'OnlineBackup', 'TechSupport')"
      ]
     },
     "execution_count": 57,
     "metadata": {},
     "output_type": "execute_result"
    }
   ],
   "source": [
    "'OnlineSecurity', 'OnlineBackup', 'TechSupport',"
   ]
  },
  {
   "cell_type": "markdown",
   "id": "f296a345",
   "metadata": {
    "ExecuteTime": {
     "end_time": "2022-03-14T17:54:13.256039Z",
     "start_time": "2022-03-14T17:54:13.216600Z"
    }
   },
   "source": [
    "##### @OnlineSecurity"
   ]
  },
  {
   "cell_type": "code",
   "execution_count": 58,
   "id": "e990cd7d",
   "metadata": {
    "ExecuteTime": {
     "end_time": "2022-03-15T00:33:55.117280Z",
     "start_time": "2022-03-15T00:33:55.002367Z"
    }
   },
   "outputs": [
    {
     "data": {
      "image/png": "[encoded data removed]",
      "text/plain": [
       "<Figure size 432x288 with 1 Axes>"
      ]
     },
     "metadata": {
      "needs_background": "light"
     },
     "output_type": "display_data"
    }
   ],
   "source": [
    "fun_plot_hist(df_raw, 'OnlineSecurity')"
   ]
  },
  {
   "cell_type": "code",
   "execution_count": 59,
   "id": "140d49c5",
   "metadata": {
    "ExecuteTime": {
     "end_time": "2022-03-15T00:33:55.150324Z",
     "start_time": "2022-03-15T00:33:55.119439Z"
    },
    "scrolled": true
   },
   "outputs": [
    {
     "data": {
      "text/plain": [
       "0.2910401647785788"
      ]
     },
     "execution_count": 59,
     "metadata": {},
     "output_type": "execute_result"
    }
   ],
   "source": [
    "df_raw[df_raw['OnlineSecurity']==0].mean()['ChurnLabel']"
   ]
  },
  {
   "cell_type": "markdown",
   "id": "b8ff8982",
   "metadata": {},
   "source": [
    "OnlineSeurity를 이용하지 않는 고객의 이탈율은 29.1%"
   ]
  },
  {
   "cell_type": "code",
   "execution_count": 60,
   "id": "283b9c05",
   "metadata": {
    "ExecuteTime": {
     "end_time": "2022-03-15T00:33:55.156574Z",
     "start_time": "2022-03-15T00:33:55.151548Z"
    }
   },
   "outputs": [
    {
     "data": {
      "text/plain": [
       "1.8372257607926399"
      ]
     },
     "execution_count": 60,
     "metadata": {},
     "output_type": "execute_result"
    }
   ],
   "source": [
    "df_raw[(df_raw['OnlineSecurity']==0) & (df_raw['ChurnLabel'] == 1)]['SatisScore'].mean()"
   ]
  },
  {
   "cell_type": "markdown",
   "id": "df84734c",
   "metadata": {
    "ExecuteTime": {
     "end_time": "2022-03-14T18:00:10.324925Z",
     "start_time": "2022-03-14T18:00:10.319488Z"
    }
   },
   "source": [
    "온라인보안서비스를 이용하지 않은 사람들 중에서 이탈한 사람의 만족도 점수가 1.84"
   ]
  },
  {
   "cell_type": "code",
   "execution_count": 61,
   "id": "cd971f6d",
   "metadata": {
    "ExecuteTime": {
     "end_time": "2022-03-15T00:33:55.163786Z",
     "start_time": "2022-03-15T00:33:55.158226Z"
    }
   },
   "outputs": [
    {
     "data": {
      "text/plain": [
       "3.9898314933178383"
      ]
     },
     "execution_count": 61,
     "metadata": {},
     "output_type": "execute_result"
    }
   ],
   "source": [
    "df_raw[(df_raw['OnlineSecurity']==0) & (df_raw['ChurnLabel'] == 0)]['SatisScore'].mean()"
   ]
  },
  {
   "cell_type": "markdown",
   "id": "4dd5851e",
   "metadata": {},
   "source": [
    "온라인보안서비스를 이용하지 않은 사람들 중에서 유지고객의 만족도 점수가 3.99"
   ]
  },
  {
   "cell_type": "code",
   "execution_count": 62,
   "id": "0cdba1ac",
   "metadata": {
    "ExecuteTime": {
     "end_time": "2022-03-15T00:33:55.184752Z",
     "start_time": "2022-03-15T00:33:55.169601Z"
    },
    "scrolled": true
   },
   "outputs": [
    {
     "data": {
      "text/plain": [
       "0.14392430278884463"
      ]
     },
     "execution_count": 62,
     "metadata": {},
     "output_type": "execute_result"
    }
   ],
   "source": [
    "df_raw[df_raw['OnlineSecurity']==1].mean()['ChurnLabel']"
   ]
  },
  {
   "cell_type": "markdown",
   "id": "d5dc498c",
   "metadata": {},
   "source": [
    "온라인보안서비스를 가입한 사람중에서 이탈한 사람의 비율은 14.4%"
   ]
  },
  {
   "cell_type": "markdown",
   "id": "3a596139",
   "metadata": {},
   "source": [
    "-> 온라인보안 서비스도 만족되지 만족되지 않는다."
   ]
  },
  {
   "cell_type": "markdown",
   "id": "d8bf62d8",
   "metadata": {
    "ExecuteTime": {
     "end_time": "2022-03-14T14:42:07.097262Z",
     "start_time": "2022-03-14T14:42:07.061738Z"
    }
   },
   "source": [
    "##### @OnlineBackup"
   ]
  },
  {
   "cell_type": "code",
   "execution_count": 63,
   "id": "40847195",
   "metadata": {
    "ExecuteTime": {
     "end_time": "2022-03-15T00:33:55.412105Z",
     "start_time": "2022-03-15T00:33:55.304509Z"
    }
   },
   "outputs": [
    {
     "data": {
      "image/png": "[encoded data removed]",
      "text/plain": [
       "<Figure size 432x288 with 1 Axes>"
      ]
     },
     "metadata": {
      "needs_background": "light"
     },
     "output_type": "display_data"
    }
   ],
   "source": [
    "fun_plot_hist(df_raw, 'OnlineBackup')"
   ]
  },
  {
   "cell_type": "markdown",
   "id": "6e468de4",
   "metadata": {},
   "source": [
    "onlineBackup 서비스를 이용하지 않는 고객에서의 이동통신 이탈율(26.86%)이 상대적으로 높게 나왔는데   \n",
    "그렇다면 onlineBackup 서비스를 이용하게 하면 이탈률이 감소할까?"
   ]
  },
  {
   "cell_type": "code",
   "execution_count": 64,
   "id": "a4fe8705",
   "metadata": {
    "ExecuteTime": {
     "end_time": "2022-03-15T00:33:55.439423Z",
     "start_time": "2022-03-15T00:33:55.413862Z"
    }
   },
   "outputs": [
    {
     "data": {
      "text/plain": [
       "0.26856630020192956"
      ]
     },
     "execution_count": 64,
     "metadata": {},
     "output_type": "execute_result"
    }
   ],
   "source": [
    "df_raw[df_raw['OnlineBackup'] == 0].mean()['ChurnLabel']"
   ]
  },
  {
   "cell_type": "markdown",
   "id": "592f88f7",
   "metadata": {},
   "source": [
    "만족도 점수를 통해서 알아보자"
   ]
  },
  {
   "cell_type": "code",
   "execution_count": 65,
   "id": "416b1ad2",
   "metadata": {
    "ExecuteTime": {
     "end_time": "2022-03-15T00:33:55.448064Z",
     "start_time": "2022-03-15T00:33:55.442267Z"
    }
   },
   "outputs": [
    {
     "data": {
      "text/plain": [
       "OnlineBackup\n",
       "0    3.29\n",
       "1    3.26\n",
       "Name: SatisScore, dtype: float64"
      ]
     },
     "execution_count": 65,
     "metadata": {},
     "output_type": "execute_result"
    }
   ],
   "source": [
    "# 온라인 백업 서비스를 신청한 경우, 만족도 점수를 봤을때\n",
    "df_raw.groupby('OnlineBackup')['SatisScore'].mean()"
   ]
  },
  {
   "cell_type": "markdown",
   "id": "42c17fda",
   "metadata": {},
   "source": [
    "이탈한 사람과 이탈하지 않은 사람의 만족도 점수의 차이가 유의미한 구간이 아니다."
   ]
  },
  {
   "cell_type": "code",
   "execution_count": 66,
   "id": "a87e3e05",
   "metadata": {
    "ExecuteTime": {
     "end_time": "2022-03-15T00:33:55.531886Z",
     "start_time": "2022-03-15T00:33:55.507081Z"
    }
   },
   "outputs": [
    {
     "data": {
      "text/plain": [
       "0.20989193682460516"
      ]
     },
     "execution_count": 66,
     "metadata": {},
     "output_type": "execute_result"
    }
   ],
   "source": [
    "df_raw[df_raw['OnlineBackup'] == 1].mean()['ChurnLabel']"
   ]
  },
  {
   "cell_type": "markdown",
   "id": "134ee40a",
   "metadata": {
    "ExecuteTime": {
     "end_time": "2022-03-14T17:32:54.492026Z",
     "start_time": "2022-03-14T17:32:54.481071Z"
    }
   },
   "source": [
    "온라인 백업을 신청했는데, 이탈한 사람의 비율을 21%"
   ]
  },
  {
   "cell_type": "code",
   "execution_count": 67,
   "id": "e072c9db",
   "metadata": {
    "ExecuteTime": {
     "end_time": "2022-03-15T00:33:55.578664Z",
     "start_time": "2022-03-15T00:33:55.573786Z"
    },
    "scrolled": true
   },
   "outputs": [
    {
     "data": {
      "text/plain": [
       "3.287637424276419"
      ]
     },
     "execution_count": 67,
     "metadata": {},
     "output_type": "execute_result"
    }
   ],
   "source": [
    "df_raw[df_raw['OnlineBackup'] == 0]['SatisScore'].mean()"
   ]
  },
  {
   "cell_type": "markdown",
   "id": "f41ae9a7",
   "metadata": {},
   "source": [
    "온라인 백업을 신청하지 않은 사람의 만족도는 3.28"
   ]
  },
  {
   "cell_type": "code",
   "execution_count": 68,
   "id": "3fd6936a",
   "metadata": {
    "ExecuteTime": {
     "end_time": "2022-03-15T00:33:55.641393Z",
     "start_time": "2022-03-15T00:33:55.636411Z"
    }
   },
   "outputs": [
    {
     "data": {
      "text/plain": [
       "3.8561349693251534"
      ]
     },
     "execution_count": 68,
     "metadata": {},
     "output_type": "execute_result"
    }
   ],
   "source": [
    "df_raw[(df_raw['OnlineBackup'] == 0) & (df_raw['ChurnLabel'] == 0)]['SatisScore'].mean()"
   ]
  },
  {
   "cell_type": "markdown",
   "id": "c31a16ee",
   "metadata": {},
   "source": [
    "온라인 백업 신청을 하지 않은 고객 중에서 이탈을 하지 않은 고객의 만족도 3.86"
   ]
  },
  {
   "cell_type": "code",
   "execution_count": 69,
   "id": "8e1f3b71",
   "metadata": {
    "ExecuteTime": {
     "end_time": "2022-03-15T00:33:55.707825Z",
     "start_time": "2022-03-15T00:33:55.703059Z"
    }
   },
   "outputs": [
    {
     "data": {
      "text/plain": [
       "1.7393483709273183"
      ]
     },
     "execution_count": 69,
     "metadata": {},
     "output_type": "execute_result"
    }
   ],
   "source": [
    "df_raw[(df_raw['OnlineBackup'] == 0) & (df_raw['ChurnLabel'] == 1)]['SatisScore'].mean()"
   ]
  },
  {
   "cell_type": "markdown",
   "id": "2767ad87",
   "metadata": {},
   "source": [
    "온라인 백업을 신청하지 않은 고객 중에서 이탈을 한 사람의 만족도는 1.74"
   ]
  },
  {
   "cell_type": "markdown",
   "id": "3d42f0a8",
   "metadata": {},
   "source": [
    "-> 따라서 이건 의미가 없는 변수라고 판단"
   ]
  },
  {
   "cell_type": "code",
   "execution_count": 70,
   "id": "a8538089",
   "metadata": {
    "ExecuteTime": {
     "end_time": "2022-03-15T00:33:56.948493Z",
     "start_time": "2022-03-15T00:33:55.808316Z"
    }
   },
   "outputs": [
    {
     "data": {
      "image/png": "[encoded data removed]",
      "text/plain": [
       "<Figure size 563.13x792 with 10 Axes>"
      ]
     },
     "metadata": {
      "needs_background": "light"
     },
     "output_type": "display_data"
    }
   ],
   "source": [
    "# 열을 생존 여부, 행(row)과 색깔(hue)을 객실 등급으로 나눔, width = height * aspect\n",
    "grid = sns.FacetGrid(df_raw, col='ChurnLabel', row='SatisScore', hue=\"SatisScore\", height=2.2, aspect=1.6)\n",
    "grid.map(plt.hist, 'OnlineBackup', alpha=.5, bins=20) # 투명도(alpha): 0.5\n",
    "# 범례 추가\n",
    "grid.add_legend();"
   ]
  },
  {
   "cell_type": "code",
   "execution_count": 71,
   "id": "b19ea07b",
   "metadata": {
    "ExecuteTime": {
     "end_time": "2022-03-15T00:33:56.954608Z",
     "start_time": "2022-03-15T00:33:56.950217Z"
    }
   },
   "outputs": [
    {
     "data": {
      "text/plain": [
       "78.14796905222437"
      ]
     },
     "execution_count": 71,
     "metadata": {},
     "output_type": "execute_result"
    }
   ],
   "source": [
    "df_raw[(df_raw['OnlineBackup'] == 0) & (df_raw['ChurnScore'] >= 65)]['ChurnScore'].mean()"
   ]
  },
  {
   "cell_type": "code",
   "execution_count": 72,
   "id": "05856369",
   "metadata": {
    "ExecuteTime": {
     "end_time": "2022-03-15T00:33:58.592747Z",
     "start_time": "2022-03-15T00:33:56.955755Z"
    }
   },
   "outputs": [
    {
     "data": {
      "image/png": "[encoded data removed]",
      "text/plain": [
       "<Figure size 561.13x1108.8 with 14 Axes>"
      ]
     },
     "metadata": {
      "needs_background": "light"
     },
     "output_type": "display_data"
    }
   ],
   "source": [
    "# 열을 생존 여부, 행(row)과 색깔(hue)을 객실 등급으로 나눔, width = height * aspect\n",
    "grid = sns.FacetGrid(df_raw, col='ChurnLabel', row='AgeGroup', hue=\"AgeGroup\", height=2.2, aspect=1.6)\n",
    "grid.map(plt.hist, 'CustomerLTV', alpha=.5, bins=20) # 투명도(alpha): 0.5\n",
    "# 범례 추가\n",
    "grid.add_legend();"
   ]
  },
  {
   "cell_type": "code",
   "execution_count": 73,
   "id": "7dcec4e8",
   "metadata": {
    "ExecuteTime": {
     "end_time": "2022-03-15T00:33:59.722348Z",
     "start_time": "2022-03-15T00:33:58.594467Z"
    }
   },
   "outputs": [
    {
     "data": {
      "image/png": "[encoded data removed]",
      "text/plain": [
       "<Figure size 563.13x792 with 10 Axes>"
      ]
     },
     "metadata": {
      "needs_background": "light"
     },
     "output_type": "display_data"
    }
   ],
   "source": [
    "# 열을 생존 여부, 행(row)과 색깔(hue)을 객실 등급으로 나눔, width = height * aspect\n",
    "grid = sns.FacetGrid(df_raw, col='ChurnLabel', row='SatisScore', hue=\"SatisScore\", height=2.2, aspect=1.6)\n",
    "grid.map(plt.hist, 'AvgExtraDataCharge', alpha=.5, bins=20) # 투명도(alpha): 0.5\n",
    "# 범례 추가\n",
    "grid.add_legend();"
   ]
  },
  {
   "cell_type": "code",
   "execution_count": 74,
   "id": "ab85c315",
   "metadata": {
    "ExecuteTime": {
     "end_time": "2022-03-15T00:34:00.740541Z",
     "start_time": "2022-03-15T00:33:59.723768Z"
    }
   },
   "outputs": [
    {
     "data": {
      "image/png": "[encoded data removed]",
      "text/plain": [
       "<Figure size 563.13x792 with 10 Axes>"
      ]
     },
     "metadata": {
      "needs_background": "light"
     },
     "output_type": "display_data"
    }
   ],
   "source": [
    "# 열을 생존 여부, 행(row)과 색깔(hue)을 객실 등급으로 나눔, width = height * aspect\n",
    "grid = sns.FacetGrid(df_raw, col='ChurnLabel', row='SatisScore', hue=\"SatisScore\", height=2.2, aspect=1.6)\n",
    "grid.map(plt.hist, 'AvgExtraDataCharge', alpha=.5, bins=20) # 투명도(alpha): 0.5\n",
    "# 범례 추가\n",
    "grid.add_legend();"
   ]
  },
  {
   "cell_type": "code",
   "execution_count": 75,
   "id": "aa54ca83",
   "metadata": {
    "ExecuteTime": {
     "end_time": "2022-03-15T00:34:00.746133Z",
     "start_time": "2022-03-15T00:34:00.741866Z"
    }
   },
   "outputs": [
    {
     "data": {
      "text/plain": [
       "Index(['CustomerId', 'Gender', 'Age', 'AgeGroup', 'Married', 'Dependents',\n",
       "       'noDependents', 'Referrals', 'noReferrals', 'PaperlessBilling',\n",
       "       'PaymentMethod', 'OnlineSecurity', 'OnlineBackup', 'TechSupport',\n",
       "       'UnlimitedData', 'AvgDownloadGB', 'StartDate', 'EndDate', 'EndDateTmp',\n",
       "       'ChurnLabel', 'ChurnScore', 'ChurnCategory', 'ChurnReason',\n",
       "       'CustomerLTV', 'SatisScore', 'TotalExtraDataCharge', 'AvgRoamCharge',\n",
       "       'TotalRoamCharge', 'TenureMonths', 'AvgCharge', 'TotalCharge',\n",
       "       'TotalRevenue', 'MonthRoamCharge', 'AvgExtraDataCharge'],\n",
       "      dtype='object')"
      ]
     },
     "execution_count": 75,
     "metadata": {},
     "output_type": "execute_result"
    }
   ],
   "source": [
    "df_raw.columns"
   ]
  },
  {
   "cell_type": "markdown",
   "id": "bb7286b1",
   "metadata": {},
   "source": [
    "##### @Married"
   ]
  },
  {
   "cell_type": "code",
   "execution_count": 76,
   "id": "9b6d762b",
   "metadata": {
    "ExecuteTime": {
     "end_time": "2022-03-15T00:34:00.854501Z",
     "start_time": "2022-03-15T00:34:00.748104Z"
    }
   },
   "outputs": [
    {
     "data": {
      "image/png": "[encoded data removed]",
      "text/plain": [
       "<Figure size 432x288 with 1 Axes>"
      ]
     },
     "metadata": {
      "needs_background": "light"
     },
     "output_type": "display_data"
    }
   ],
   "source": [
    "fun_plot_hist(df_raw, 'Married')"
   ]
  },
  {
   "cell_type": "code",
   "execution_count": 77,
   "id": "67371875",
   "metadata": {
    "ExecuteTime": {
     "end_time": "2022-03-15T00:34:00.861510Z",
     "start_time": "2022-03-15T00:34:00.856687Z"
    }
   },
   "outputs": [
    {
     "ename": "SyntaxError",
     "evalue": "invalid syntax (4193889812.py, line 1)",
     "output_type": "error",
     "traceback": [
      "\u001b[0;36m  Input \u001b[0;32mIn [77]\u001b[0;36m\u001b[0m\n\u001b[0;31m    결혼을 사람중에서\u001b[0m\n\u001b[0m        ^\u001b[0m\n\u001b[0;31mSyntaxError\u001b[0m\u001b[0;31m:\u001b[0m invalid syntax\n"
     ]
    }
   ],
   "source": [
    "결혼을 사람중에서 "
   ]
  },
  {
   "cell_type": "markdown",
   "id": "c24baf27",
   "metadata": {},
   "source": [
    "##### @noDependents"
   ]
  },
  {
   "cell_type": "code",
   "execution_count": null,
   "id": "f842b1f7",
   "metadata": {
    "ExecuteTime": {
     "end_time": "2022-03-15T00:34:00.863350Z",
     "start_time": "2022-03-15T00:34:00.863341Z"
    }
   },
   "outputs": [],
   "source": [
    "fun_plot_hist(df_raw, 'noDependents')"
   ]
  },
  {
   "cell_type": "markdown",
   "id": "f3689279",
   "metadata": {},
   "source": [
    "부양자수가 0인 경우 다른 부양자 수에 비해 이탈률이 많다."
   ]
  },
  {
   "cell_type": "code",
   "execution_count": null,
   "id": "2e54a799",
   "metadata": {
    "ExecuteTime": {
     "end_time": "2022-03-15T00:34:00.864087Z",
     "start_time": "2022-03-15T00:34:00.864078Z"
    }
   },
   "outputs": [],
   "source": [
    "df_raw[(df_raw['noDependents'] == 0) & (df_raw['Married'] == 0)]"
   ]
  },
  {
   "cell_type": "code",
   "execution_count": null,
   "id": "dfa00f9f",
   "metadata": {
    "ExecuteTime": {
     "end_time": "2022-03-15T00:34:00.865241Z",
     "start_time": "2022-03-15T00:34:00.865232Z"
    }
   },
   "outputs": [],
   "source": [
    "df_raw[(df_raw['noDependents'] == 0) & (df_raw['Married'] == 1)]"
   ]
  },
  {
   "cell_type": "code",
   "execution_count": null,
   "id": "5d552068",
   "metadata": {
    "ExecuteTime": {
     "end_time": "2022-03-15T00:34:00.866517Z",
     "start_time": "2022-03-15T00:34:00.866505Z"
    }
   },
   "outputs": [],
   "source": [
    "df_raw[(df_raw['noDependents'] == 0) & (df_raw['Married'] == 1)]['ChurnScore'].mean()"
   ]
  },
  {
   "cell_type": "code",
   "execution_count": null,
   "id": "7ec73849",
   "metadata": {
    "ExecuteTime": {
     "end_time": "2022-03-15T00:34:00.867368Z",
     "start_time": "2022-03-15T00:34:00.867360Z"
    }
   },
   "outputs": [],
   "source": [
    "df_raw[(df_raw['noDependents'] == 0) & (df_raw['Married'] == 0)]['ChurnScore'].mean()"
   ]
  },
  {
   "cell_type": "markdown",
   "id": "4497b2eb",
   "metadata": {},
   "source": [
    "결혼과 부양자 수의 관계는 의미 없음..!"
   ]
  },
  {
   "cell_type": "markdown",
   "id": "1047b90f",
   "metadata": {},
   "source": [
    "###### @시계열 분석"
   ]
  },
  {
   "cell_type": "code",
   "execution_count": 102,
   "id": "b7c691e9",
   "metadata": {
    "ExecuteTime": {
     "end_time": "2022-03-15T02:23:08.252581Z",
     "start_time": "2022-03-15T02:23:08.231442Z"
    }
   },
   "outputs": [
    {
     "data": {
      "text/plain": [
       "C-10001    1\n",
       "C-14708    1\n",
       "C-14706    1\n",
       "C-14705    1\n",
       "C-14704    1\n",
       "          ..\n",
       "C-12343    1\n",
       "C-12342    1\n",
       "C-12341    1\n",
       "C-12340    1\n",
       "C-17043    1\n",
       "Name: CustomerId, Length: 6863, dtype: int64"
      ]
     },
     "execution_count": 102,
     "metadata": {},
     "output_type": "execute_result"
    }
   ],
   "source": [
    "df_raw['CustomerId'].value_counts()"
   ]
  },
  {
   "cell_type": "code",
   "execution_count": 88,
   "id": "fc0cda5e",
   "metadata": {
    "ExecuteTime": {
     "end_time": "2022-03-15T02:20:38.398316Z",
     "start_time": "2022-03-15T02:20:38.287351Z"
    },
    "scrolled": true
   },
   "outputs": [
    {
     "data": {
      "text/plain": [
       "<AxesSubplot:>"
      ]
     },
     "execution_count": 88,
     "metadata": {},
     "output_type": "execute_result"
    },
    {
     "data": {
      "image/png": "[encoded data removed]",
      "text/plain": [
       "<Figure size 432x288 with 1 Axes>"
      ]
     },
     "metadata": {
      "needs_background": "light"
     },
     "output_type": "display_data"
    }
   ],
   "source": [
    "# 월별로 고객 수\n"
   ]
  },
  {
   "cell_type": "code",
   "execution_count": 89,
   "id": "7b9a863b",
   "metadata": {
    "ExecuteTime": {
     "end_time": "2022-03-15T02:20:47.354186Z",
     "start_time": "2022-03-15T02:20:47.217410Z"
    }
   },
   "outputs": [
    {
     "data": {
      "text/plain": [
       "<AxesSubplot:>"
      ]
     },
     "execution_count": 89,
     "metadata": {},
     "output_type": "execute_result"
    },
    {
     "data": {
      "image/png": "[encoded data removed]",
      "text/plain": [
       "<Figure size 432x288 with 1 Axes>"
      ]
     },
     "metadata": {
      "needs_background": "light"
     },
     "output_type": "display_data"
    }
   ],
   "source": [
    "df_raw[df_raw['ChurnLabel'] == 0]['AvgCharge'].plot()"
   ]
  },
  {
   "cell_type": "code",
   "execution_count": 105,
   "id": "53cdded8",
   "metadata": {
    "ExecuteTime": {
     "end_time": "2022-03-15T02:26:43.237637Z",
     "start_time": "2022-03-15T02:26:43.003120Z"
    }
   },
   "outputs": [
    {
     "data": {
      "text/plain": [
       "<AxesSubplot:xlabel='StartDate'>"
      ]
     },
     "execution_count": 105,
     "metadata": {},
     "output_type": "execute_result"
    },
    {
     "data": {
      "image/png": "[encoded data removed]",
      "text/plain": [
       "<Figure size 1080x504 with 1 Axes>"
      ]
     },
     "metadata": {
      "needs_background": "light"
     },
     "output_type": "display_data"
    }
   ],
   "source": [
    "# 시계열 그래프\n",
    "df_raw.plot.line(y=['AvgCharge'], x='StartDate', figsize=(15,7))\n"
   ]
  },
  {
   "cell_type": "code",
   "execution_count": 113,
   "id": "16a7bf05",
   "metadata": {
    "ExecuteTime": {
     "end_time": "2022-03-15T04:14:15.950964Z",
     "start_time": "2022-03-15T04:14:15.909710Z"
    }
   },
   "outputs": [],
   "source": [
    "df_raw['StartDate'] = pd.to_datetime(df_raw.StartDate)"
   ]
  },
  {
   "cell_type": "code",
   "execution_count": 118,
   "id": "e5014d42",
   "metadata": {
    "ExecuteTime": {
     "end_time": "2022-03-15T04:15:27.780695Z",
     "start_time": "2022-03-15T04:15:27.772206Z"
    }
   },
   "outputs": [],
   "source": [
    "df_raw.sort_values(by='StartDate', inplace=True)"
   ]
  },
  {
   "cell_type": "code",
   "execution_count": 125,
   "id": "55adecf8",
   "metadata": {
    "ExecuteTime": {
     "end_time": "2022-03-15T04:22:04.699363Z",
     "start_time": "2022-03-15T04:22:04.691600Z"
    }
   },
   "outputs": [],
   "source": [
    "df_raw.reset_index(inplace=True)"
   ]
  },
  {
   "cell_type": "code",
   "execution_count": 127,
   "id": "f8346454",
   "metadata": {
    "ExecuteTime": {
     "end_time": "2022-03-15T04:22:19.471704Z",
     "start_time": "2022-03-15T04:22:19.459324Z"
    }
   },
   "outputs": [],
   "source": [
    "df_raw.drop('index', axis=1, inplace=True)"
   ]
  },
  {
   "cell_type": "code",
   "execution_count": 143,
   "id": "bd7e12ff",
   "metadata": {
    "ExecuteTime": {
     "end_time": "2022-03-15T04:31:59.395318Z",
     "start_time": "2022-03-15T04:31:59.362446Z"
    }
   },
   "outputs": [
    {
     "data": {
      "text/html": [
       "<div>\n",
       "<style scoped>\n",
       "    .dataframe tbody tr th:only-of-type {\n",
       "        vertical-align: middle;\n",
       "    }\n",
       "\n",
       "    .dataframe tbody tr th {\n",
       "        vertical-align: top;\n",
       "    }\n",
       "\n",
       "    .dataframe thead th {\n",
       "        text-align: right;\n",
       "    }\n",
       "</style>\n",
       "<table border=\"1\" class=\"dataframe\">\n",
       "  <thead>\n",
       "    <tr style=\"text-align: right;\">\n",
       "      <th></th>\n",
       "      <th>CustomerId</th>\n",
       "      <th>Gender</th>\n",
       "      <th>Age</th>\n",
       "      <th>AgeGroup</th>\n",
       "      <th>Married</th>\n",
       "      <th>Dependents</th>\n",
       "      <th>noDependents</th>\n",
       "      <th>Referrals</th>\n",
       "      <th>noReferrals</th>\n",
       "      <th>PaperlessBilling</th>\n",
       "      <th>...</th>\n",
       "      <th>SatisScore</th>\n",
       "      <th>TotalExtraDataCharge</th>\n",
       "      <th>AvgRoamCharge</th>\n",
       "      <th>TotalRoamCharge</th>\n",
       "      <th>TenureMonths</th>\n",
       "      <th>AvgCharge</th>\n",
       "      <th>TotalCharge</th>\n",
       "      <th>TotalRevenue</th>\n",
       "      <th>MonthRoamCharge</th>\n",
       "      <th>AvgExtraDataCharge</th>\n",
       "    </tr>\n",
       "  </thead>\n",
       "  <tbody>\n",
       "    <tr>\n",
       "      <th>1286</th>\n",
       "      <td>C-14077</td>\n",
       "      <td>0</td>\n",
       "      <td>73</td>\n",
       "      <td>70</td>\n",
       "      <td>1</td>\n",
       "      <td>0</td>\n",
       "      <td>0</td>\n",
       "      <td>1</td>\n",
       "      <td>9</td>\n",
       "      <td>0</td>\n",
       "      <td>...</td>\n",
       "      <td>4</td>\n",
       "      <td>0</td>\n",
       "      <td>38650</td>\n",
       "      <td>2360120</td>\n",
       "      <td>73</td>\n",
       "      <td>75727.40</td>\n",
       "      <td>5528100</td>\n",
       "      <td>7888220</td>\n",
       "      <td>32330</td>\n",
       "      <td>0</td>\n",
       "    </tr>\n",
       "    <tr>\n",
       "      <th>1287</th>\n",
       "      <td>C-11050</td>\n",
       "      <td>1</td>\n",
       "      <td>34</td>\n",
       "      <td>30</td>\n",
       "      <td>1</td>\n",
       "      <td>1</td>\n",
       "      <td>2</td>\n",
       "      <td>1</td>\n",
       "      <td>2</td>\n",
       "      <td>1</td>\n",
       "      <td>...</td>\n",
       "      <td>3</td>\n",
       "      <td>0</td>\n",
       "      <td>48480</td>\n",
       "      <td>2953710</td>\n",
       "      <td>73</td>\n",
       "      <td>58279.45</td>\n",
       "      <td>4254400</td>\n",
       "      <td>7208110</td>\n",
       "      <td>40461</td>\n",
       "      <td>0</td>\n",
       "    </tr>\n",
       "    <tr>\n",
       "      <th>1288</th>\n",
       "      <td>C-12956</td>\n",
       "      <td>1</td>\n",
       "      <td>41</td>\n",
       "      <td>40</td>\n",
       "      <td>1</td>\n",
       "      <td>0</td>\n",
       "      <td>0</td>\n",
       "      <td>1</td>\n",
       "      <td>3</td>\n",
       "      <td>1</td>\n",
       "      <td>...</td>\n",
       "      <td>5</td>\n",
       "      <td>0</td>\n",
       "      <td>31190</td>\n",
       "      <td>1904500</td>\n",
       "      <td>73</td>\n",
       "      <td>125879.45</td>\n",
       "      <td>9189200</td>\n",
       "      <td>11093700</td>\n",
       "      <td>26089</td>\n",
       "      <td>0</td>\n",
       "    </tr>\n",
       "    <tr>\n",
       "      <th>1289</th>\n",
       "      <td>C-16406</td>\n",
       "      <td>0</td>\n",
       "      <td>21</td>\n",
       "      <td>20</td>\n",
       "      <td>0</td>\n",
       "      <td>0</td>\n",
       "      <td>0</td>\n",
       "      <td>1</td>\n",
       "      <td>10</td>\n",
       "      <td>0</td>\n",
       "      <td>...</td>\n",
       "      <td>4</td>\n",
       "      <td>0</td>\n",
       "      <td>32540</td>\n",
       "      <td>1985180</td>\n",
       "      <td>73</td>\n",
       "      <td>88379.45</td>\n",
       "      <td>6451700</td>\n",
       "      <td>8436880</td>\n",
       "      <td>27194</td>\n",
       "      <td>0</td>\n",
       "    </tr>\n",
       "    <tr>\n",
       "      <th>1290</th>\n",
       "      <td>C-10928</td>\n",
       "      <td>0</td>\n",
       "      <td>63</td>\n",
       "      <td>60</td>\n",
       "      <td>1</td>\n",
       "      <td>0</td>\n",
       "      <td>0</td>\n",
       "      <td>1</td>\n",
       "      <td>1</td>\n",
       "      <td>0</td>\n",
       "      <td>...</td>\n",
       "      <td>3</td>\n",
       "      <td>0</td>\n",
       "      <td>20000</td>\n",
       "      <td>1222100</td>\n",
       "      <td>73</td>\n",
       "      <td>111234.25</td>\n",
       "      <td>8120100</td>\n",
       "      <td>9342200</td>\n",
       "      <td>16741</td>\n",
       "      <td>0</td>\n",
       "    </tr>\n",
       "    <tr>\n",
       "      <th>...</th>\n",
       "      <td>...</td>\n",
       "      <td>...</td>\n",
       "      <td>...</td>\n",
       "      <td>...</td>\n",
       "      <td>...</td>\n",
       "      <td>...</td>\n",
       "      <td>...</td>\n",
       "      <td>...</td>\n",
       "      <td>...</td>\n",
       "      <td>...</td>\n",
       "      <td>...</td>\n",
       "      <td>...</td>\n",
       "      <td>...</td>\n",
       "      <td>...</td>\n",
       "      <td>...</td>\n",
       "      <td>...</td>\n",
       "      <td>...</td>\n",
       "      <td>...</td>\n",
       "      <td>...</td>\n",
       "      <td>...</td>\n",
       "      <td>...</td>\n",
       "    </tr>\n",
       "    <tr>\n",
       "      <th>1356</th>\n",
       "      <td>C-16400</td>\n",
       "      <td>1</td>\n",
       "      <td>22</td>\n",
       "      <td>20</td>\n",
       "      <td>0</td>\n",
       "      <td>0</td>\n",
       "      <td>0</td>\n",
       "      <td>1</td>\n",
       "      <td>3</td>\n",
       "      <td>1</td>\n",
       "      <td>...</td>\n",
       "      <td>3</td>\n",
       "      <td>0</td>\n",
       "      <td>52320</td>\n",
       "      <td>3189430</td>\n",
       "      <td>61</td>\n",
       "      <td>22324.19</td>\n",
       "      <td>1384100</td>\n",
       "      <td>4573530</td>\n",
       "      <td>52285</td>\n",
       "      <td>0</td>\n",
       "    </tr>\n",
       "    <tr>\n",
       "      <th>1357</th>\n",
       "      <td>C-14286</td>\n",
       "      <td>1</td>\n",
       "      <td>51</td>\n",
       "      <td>50</td>\n",
       "      <td>1</td>\n",
       "      <td>0</td>\n",
       "      <td>0</td>\n",
       "      <td>1</td>\n",
       "      <td>1</td>\n",
       "      <td>1</td>\n",
       "      <td>...</td>\n",
       "      <td>3</td>\n",
       "      <td>0</td>\n",
       "      <td>0</td>\n",
       "      <td>0</td>\n",
       "      <td>72</td>\n",
       "      <td>64527.40</td>\n",
       "      <td>4710500</td>\n",
       "      <td>4710500</td>\n",
       "      <td>0</td>\n",
       "      <td>0</td>\n",
       "    </tr>\n",
       "    <tr>\n",
       "      <th>1358</th>\n",
       "      <td>C-10622</td>\n",
       "      <td>0</td>\n",
       "      <td>53</td>\n",
       "      <td>50</td>\n",
       "      <td>1</td>\n",
       "      <td>0</td>\n",
       "      <td>0</td>\n",
       "      <td>1</td>\n",
       "      <td>1</td>\n",
       "      <td>1</td>\n",
       "      <td>...</td>\n",
       "      <td>4</td>\n",
       "      <td>0</td>\n",
       "      <td>49160</td>\n",
       "      <td>2997100</td>\n",
       "      <td>73</td>\n",
       "      <td>94145.21</td>\n",
       "      <td>6872600</td>\n",
       "      <td>9869700</td>\n",
       "      <td>41056</td>\n",
       "      <td>0</td>\n",
       "    </tr>\n",
       "    <tr>\n",
       "      <th>1359</th>\n",
       "      <td>C-15565</td>\n",
       "      <td>1</td>\n",
       "      <td>27</td>\n",
       "      <td>20</td>\n",
       "      <td>1</td>\n",
       "      <td>1</td>\n",
       "      <td>1</td>\n",
       "      <td>1</td>\n",
       "      <td>1</td>\n",
       "      <td>0</td>\n",
       "      <td>...</td>\n",
       "      <td>3</td>\n",
       "      <td>113000</td>\n",
       "      <td>30170</td>\n",
       "      <td>1840430</td>\n",
       "      <td>73</td>\n",
       "      <td>71293.15</td>\n",
       "      <td>5204400</td>\n",
       "      <td>7157830</td>\n",
       "      <td>25211</td>\n",
       "      <td>1547</td>\n",
       "    </tr>\n",
       "    <tr>\n",
       "      <th>1360</th>\n",
       "      <td>C-13874</td>\n",
       "      <td>1</td>\n",
       "      <td>74</td>\n",
       "      <td>70</td>\n",
       "      <td>1</td>\n",
       "      <td>1</td>\n",
       "      <td>1</td>\n",
       "      <td>1</td>\n",
       "      <td>9</td>\n",
       "      <td>1</td>\n",
       "      <td>...</td>\n",
       "      <td>4</td>\n",
       "      <td>0</td>\n",
       "      <td>44410</td>\n",
       "      <td>2709630</td>\n",
       "      <td>73</td>\n",
       "      <td>76849.32</td>\n",
       "      <td>5610000</td>\n",
       "      <td>8319630</td>\n",
       "      <td>37118</td>\n",
       "      <td>0</td>\n",
       "    </tr>\n",
       "  </tbody>\n",
       "</table>\n",
       "<p>75 rows × 34 columns</p>\n",
       "</div>"
      ],
      "text/plain": [
       "     CustomerId  Gender  Age  AgeGroup  Married  Dependents  noDependents  \\\n",
       "1286    C-14077       0   73        70        1           0             0   \n",
       "1287    C-11050       1   34        30        1           1             2   \n",
       "1288    C-12956       1   41        40        1           0             0   \n",
       "1289    C-16406       0   21        20        0           0             0   \n",
       "1290    C-10928       0   63        60        1           0             0   \n",
       "...         ...     ...  ...       ...      ...         ...           ...   \n",
       "1356    C-16400       1   22        20        0           0             0   \n",
       "1357    C-14286       1   51        50        1           0             0   \n",
       "1358    C-10622       0   53        50        1           0             0   \n",
       "1359    C-15565       1   27        20        1           1             1   \n",
       "1360    C-13874       1   74        70        1           1             1   \n",
       "\n",
       "      Referrals  noReferrals  PaperlessBilling  ...  SatisScore  \\\n",
       "1286          1            9                 0  ...           4   \n",
       "1287          1            2                 1  ...           3   \n",
       "1288          1            3                 1  ...           5   \n",
       "1289          1           10                 0  ...           4   \n",
       "1290          1            1                 0  ...           3   \n",
       "...         ...          ...               ...  ...         ...   \n",
       "1356          1            3                 1  ...           3   \n",
       "1357          1            1                 1  ...           3   \n",
       "1358          1            1                 1  ...           4   \n",
       "1359          1            1                 0  ...           3   \n",
       "1360          1            9                 1  ...           4   \n",
       "\n",
       "      TotalExtraDataCharge  AvgRoamCharge  TotalRoamCharge  TenureMonths  \\\n",
       "1286                     0          38650          2360120            73   \n",
       "1287                     0          48480          2953710            73   \n",
       "1288                     0          31190          1904500            73   \n",
       "1289                     0          32540          1985180            73   \n",
       "1290                     0          20000          1222100            73   \n",
       "...                    ...            ...              ...           ...   \n",
       "1356                     0          52320          3189430            61   \n",
       "1357                     0              0                0            72   \n",
       "1358                     0          49160          2997100            73   \n",
       "1359                113000          30170          1840430            73   \n",
       "1360                     0          44410          2709630            73   \n",
       "\n",
       "      AvgCharge TotalCharge TotalRevenue MonthRoamCharge  AvgExtraDataCharge  \n",
       "1286   75727.40     5528100      7888220           32330                   0  \n",
       "1287   58279.45     4254400      7208110           40461                   0  \n",
       "1288  125879.45     9189200     11093700           26089                   0  \n",
       "1289   88379.45     6451700      8436880           27194                   0  \n",
       "1290  111234.25     8120100      9342200           16741                   0  \n",
       "...         ...         ...          ...             ...                 ...  \n",
       "1356   22324.19     1384100      4573530           52285                   0  \n",
       "1357   64527.40     4710500      4710500               0                   0  \n",
       "1358   94145.21     6872600      9869700           41056                   0  \n",
       "1359   71293.15     5204400      7157830           25211                1547  \n",
       "1360   76849.32     5610000      8319630           37118                   0  \n",
       "\n",
       "[75 rows x 34 columns]"
      ]
     },
     "execution_count": 143,
     "metadata": {},
     "output_type": "execute_result"
    }
   ],
   "source": [
    "df_raw[df_raw['StartDate'] == '2015-12-01']"
   ]
  },
  {
   "cell_type": "code",
   "execution_count": 135,
   "id": "67e8072a",
   "metadata": {
    "ExecuteTime": {
     "end_time": "2022-03-15T04:27:31.635320Z",
     "start_time": "2022-03-15T04:27:31.600828Z"
    }
   },
   "outputs": [
    {
     "data": {
      "text/html": [
       "<div>\n",
       "<style scoped>\n",
       "    .dataframe tbody tr th:only-of-type {\n",
       "        vertical-align: middle;\n",
       "    }\n",
       "\n",
       "    .dataframe tbody tr th {\n",
       "        vertical-align: top;\n",
       "    }\n",
       "\n",
       "    .dataframe thead th {\n",
       "        text-align: right;\n",
       "    }\n",
       "</style>\n",
       "<table border=\"1\" class=\"dataframe\">\n",
       "  <thead>\n",
       "    <tr style=\"text-align: right;\">\n",
       "      <th></th>\n",
       "      <th>CustomerId</th>\n",
       "      <th>Gender</th>\n",
       "      <th>Age</th>\n",
       "      <th>AgeGroup</th>\n",
       "      <th>Married</th>\n",
       "      <th>Dependents</th>\n",
       "      <th>noDependents</th>\n",
       "      <th>Referrals</th>\n",
       "      <th>noReferrals</th>\n",
       "      <th>PaperlessBilling</th>\n",
       "      <th>...</th>\n",
       "      <th>SatisScore</th>\n",
       "      <th>TotalExtraDataCharge</th>\n",
       "      <th>AvgRoamCharge</th>\n",
       "      <th>TotalRoamCharge</th>\n",
       "      <th>TenureMonths</th>\n",
       "      <th>AvgCharge</th>\n",
       "      <th>TotalCharge</th>\n",
       "      <th>TotalRevenue</th>\n",
       "      <th>MonthRoamCharge</th>\n",
       "      <th>AvgExtraDataCharge</th>\n",
       "    </tr>\n",
       "  </thead>\n",
       "  <tbody>\n",
       "    <tr>\n",
       "      <th>0</th>\n",
       "      <td>C-15445</td>\n",
       "      <td>1</td>\n",
       "      <td>33</td>\n",
       "      <td>30</td>\n",
       "      <td>1</td>\n",
       "      <td>0</td>\n",
       "      <td>0</td>\n",
       "      <td>1</td>\n",
       "      <td>10</td>\n",
       "      <td>1</td>\n",
       "      <td>...</td>\n",
       "      <td>3</td>\n",
       "      <td>79100</td>\n",
       "      <td>50060</td>\n",
       "      <td>3601760</td>\n",
       "      <td>84</td>\n",
       "      <td>122057.14</td>\n",
       "      <td>10252800</td>\n",
       "      <td>13933660</td>\n",
       "      <td>42878</td>\n",
       "      <td>941</td>\n",
       "    </tr>\n",
       "    <tr>\n",
       "      <th>3</th>\n",
       "      <td>C-16790</td>\n",
       "      <td>0</td>\n",
       "      <td>64</td>\n",
       "      <td>60</td>\n",
       "      <td>1</td>\n",
       "      <td>0</td>\n",
       "      <td>0</td>\n",
       "      <td>1</td>\n",
       "      <td>6</td>\n",
       "      <td>1</td>\n",
       "      <td>...</td>\n",
       "      <td>3</td>\n",
       "      <td>0</td>\n",
       "      <td>26330</td>\n",
       "      <td>1893200</td>\n",
       "      <td>84</td>\n",
       "      <td>134971.43</td>\n",
       "      <td>11337600</td>\n",
       "      <td>13230800</td>\n",
       "      <td>22538</td>\n",
       "      <td>0</td>\n",
       "    </tr>\n",
       "    <tr>\n",
       "      <th>5</th>\n",
       "      <td>C-11381</td>\n",
       "      <td>0</td>\n",
       "      <td>51</td>\n",
       "      <td>50</td>\n",
       "      <td>1</td>\n",
       "      <td>1</td>\n",
       "      <td>1</td>\n",
       "      <td>0</td>\n",
       "      <td>0</td>\n",
       "      <td>0</td>\n",
       "      <td>...</td>\n",
       "      <td>3</td>\n",
       "      <td>0</td>\n",
       "      <td>28250</td>\n",
       "      <td>2029930</td>\n",
       "      <td>84</td>\n",
       "      <td>133009.52</td>\n",
       "      <td>11172800</td>\n",
       "      <td>13202730</td>\n",
       "      <td>24165</td>\n",
       "      <td>0</td>\n",
       "    </tr>\n",
       "    <tr>\n",
       "      <th>7</th>\n",
       "      <td>C-13059</td>\n",
       "      <td>0</td>\n",
       "      <td>52</td>\n",
       "      <td>50</td>\n",
       "      <td>1</td>\n",
       "      <td>0</td>\n",
       "      <td>0</td>\n",
       "      <td>1</td>\n",
       "      <td>5</td>\n",
       "      <td>1</td>\n",
       "      <td>...</td>\n",
       "      <td>3</td>\n",
       "      <td>0</td>\n",
       "      <td>34800</td>\n",
       "      <td>2501820</td>\n",
       "      <td>84</td>\n",
       "      <td>136104.76</td>\n",
       "      <td>11432800</td>\n",
       "      <td>13934620</td>\n",
       "      <td>29783</td>\n",
       "      <td>0</td>\n",
       "    </tr>\n",
       "    <tr>\n",
       "      <th>9</th>\n",
       "      <td>C-13066</td>\n",
       "      <td>1</td>\n",
       "      <td>25</td>\n",
       "      <td>20</td>\n",
       "      <td>1</td>\n",
       "      <td>0</td>\n",
       "      <td>0</td>\n",
       "      <td>0</td>\n",
       "      <td>0</td>\n",
       "      <td>1</td>\n",
       "      <td>...</td>\n",
       "      <td>3</td>\n",
       "      <td>0</td>\n",
       "      <td>24860</td>\n",
       "      <td>1786640</td>\n",
       "      <td>84</td>\n",
       "      <td>123450.00</td>\n",
       "      <td>10369800</td>\n",
       "      <td>12156440</td>\n",
       "      <td>21269</td>\n",
       "      <td>0</td>\n",
       "    </tr>\n",
       "    <tr>\n",
       "      <th>...</th>\n",
       "      <td>...</td>\n",
       "      <td>...</td>\n",
       "      <td>...</td>\n",
       "      <td>...</td>\n",
       "      <td>...</td>\n",
       "      <td>...</td>\n",
       "      <td>...</td>\n",
       "      <td>...</td>\n",
       "      <td>...</td>\n",
       "      <td>...</td>\n",
       "      <td>...</td>\n",
       "      <td>...</td>\n",
       "      <td>...</td>\n",
       "      <td>...</td>\n",
       "      <td>...</td>\n",
       "      <td>...</td>\n",
       "      <td>...</td>\n",
       "      <td>...</td>\n",
       "      <td>...</td>\n",
       "      <td>...</td>\n",
       "      <td>...</td>\n",
       "    </tr>\n",
       "    <tr>\n",
       "      <th>346</th>\n",
       "      <td>C-14721</td>\n",
       "      <td>1</td>\n",
       "      <td>43</td>\n",
       "      <td>40</td>\n",
       "      <td>1</td>\n",
       "      <td>0</td>\n",
       "      <td>0</td>\n",
       "      <td>1</td>\n",
       "      <td>1</td>\n",
       "      <td>1</td>\n",
       "      <td>...</td>\n",
       "      <td>3</td>\n",
       "      <td>0</td>\n",
       "      <td>28140</td>\n",
       "      <td>2025070</td>\n",
       "      <td>84</td>\n",
       "      <td>138989.29</td>\n",
       "      <td>11675100</td>\n",
       "      <td>13700170</td>\n",
       "      <td>24107</td>\n",
       "      <td>0</td>\n",
       "    </tr>\n",
       "    <tr>\n",
       "      <th>347</th>\n",
       "      <td>C-11210</td>\n",
       "      <td>1</td>\n",
       "      <td>73</td>\n",
       "      <td>70</td>\n",
       "      <td>1</td>\n",
       "      <td>0</td>\n",
       "      <td>0</td>\n",
       "      <td>1</td>\n",
       "      <td>1</td>\n",
       "      <td>1</td>\n",
       "      <td>...</td>\n",
       "      <td>3</td>\n",
       "      <td>0</td>\n",
       "      <td>5200</td>\n",
       "      <td>373470</td>\n",
       "      <td>84</td>\n",
       "      <td>135650.00</td>\n",
       "      <td>11394600</td>\n",
       "      <td>11768070</td>\n",
       "      <td>4446</td>\n",
       "      <td>0</td>\n",
       "    </tr>\n",
       "    <tr>\n",
       "      <th>348</th>\n",
       "      <td>C-10012</td>\n",
       "      <td>1</td>\n",
       "      <td>25</td>\n",
       "      <td>20</td>\n",
       "      <td>1</td>\n",
       "      <td>1</td>\n",
       "      <td>2</td>\n",
       "      <td>1</td>\n",
       "      <td>2</td>\n",
       "      <td>1</td>\n",
       "      <td>...</td>\n",
       "      <td>3</td>\n",
       "      <td>0</td>\n",
       "      <td>18080</td>\n",
       "      <td>1302550</td>\n",
       "      <td>84</td>\n",
       "      <td>136686.90</td>\n",
       "      <td>11481700</td>\n",
       "      <td>12784250</td>\n",
       "      <td>15506</td>\n",
       "      <td>0</td>\n",
       "    </tr>\n",
       "    <tr>\n",
       "      <th>353</th>\n",
       "      <td>C-14267</td>\n",
       "      <td>1</td>\n",
       "      <td>57</td>\n",
       "      <td>50</td>\n",
       "      <td>1</td>\n",
       "      <td>1</td>\n",
       "      <td>2</td>\n",
       "      <td>1</td>\n",
       "      <td>9</td>\n",
       "      <td>1</td>\n",
       "      <td>...</td>\n",
       "      <td>3</td>\n",
       "      <td>0</td>\n",
       "      <td>13900</td>\n",
       "      <td>999940</td>\n",
       "      <td>84</td>\n",
       "      <td>136103.57</td>\n",
       "      <td>11432700</td>\n",
       "      <td>12432640</td>\n",
       "      <td>11904</td>\n",
       "      <td>0</td>\n",
       "    </tr>\n",
       "    <tr>\n",
       "      <th>355</th>\n",
       "      <td>C-16908</td>\n",
       "      <td>1</td>\n",
       "      <td>27</td>\n",
       "      <td>20</td>\n",
       "      <td>1</td>\n",
       "      <td>1</td>\n",
       "      <td>3</td>\n",
       "      <td>1</td>\n",
       "      <td>9</td>\n",
       "      <td>0</td>\n",
       "      <td>...</td>\n",
       "      <td>4</td>\n",
       "      <td>135600</td>\n",
       "      <td>37740</td>\n",
       "      <td>2716630</td>\n",
       "      <td>84</td>\n",
       "      <td>129282.14</td>\n",
       "      <td>10859700</td>\n",
       "      <td>13711930</td>\n",
       "      <td>32340</td>\n",
       "      <td>1614</td>\n",
       "    </tr>\n",
       "  </tbody>\n",
       "</table>\n",
       "<p>124 rows × 34 columns</p>\n",
       "</div>"
      ],
      "text/plain": [
       "    CustomerId  Gender  Age  AgeGroup  Married  Dependents  noDependents  \\\n",
       "0      C-15445       1   33        30        1           0             0   \n",
       "3      C-16790       0   64        60        1           0             0   \n",
       "5      C-11381       0   51        50        1           1             1   \n",
       "7      C-13059       0   52        50        1           0             0   \n",
       "9      C-13066       1   25        20        1           0             0   \n",
       "..         ...     ...  ...       ...      ...         ...           ...   \n",
       "346    C-14721       1   43        40        1           0             0   \n",
       "347    C-11210       1   73        70        1           0             0   \n",
       "348    C-10012       1   25        20        1           1             2   \n",
       "353    C-14267       1   57        50        1           1             2   \n",
       "355    C-16908       1   27        20        1           1             3   \n",
       "\n",
       "     Referrals  noReferrals  PaperlessBilling  ...  SatisScore  \\\n",
       "0            1           10                 1  ...           3   \n",
       "3            1            6                 1  ...           3   \n",
       "5            0            0                 0  ...           3   \n",
       "7            1            5                 1  ...           3   \n",
       "9            0            0                 1  ...           3   \n",
       "..         ...          ...               ...  ...         ...   \n",
       "346          1            1                 1  ...           3   \n",
       "347          1            1                 1  ...           3   \n",
       "348          1            2                 1  ...           3   \n",
       "353          1            9                 1  ...           3   \n",
       "355          1            9                 0  ...           4   \n",
       "\n",
       "     TotalExtraDataCharge  AvgRoamCharge  TotalRoamCharge  TenureMonths  \\\n",
       "0                   79100          50060          3601760            84   \n",
       "3                       0          26330          1893200            84   \n",
       "5                       0          28250          2029930            84   \n",
       "7                       0          34800          2501820            84   \n",
       "9                       0          24860          1786640            84   \n",
       "..                    ...            ...              ...           ...   \n",
       "346                     0          28140          2025070            84   \n",
       "347                     0           5200           373470            84   \n",
       "348                     0          18080          1302550            84   \n",
       "353                     0          13900           999940            84   \n",
       "355                135600          37740          2716630            84   \n",
       "\n",
       "     AvgCharge TotalCharge TotalRevenue MonthRoamCharge  AvgExtraDataCharge  \n",
       "0    122057.14    10252800     13933660           42878                 941  \n",
       "3    134971.43    11337600     13230800           22538                   0  \n",
       "5    133009.52    11172800     13202730           24165                   0  \n",
       "7    136104.76    11432800     13934620           29783                   0  \n",
       "9    123450.00    10369800     12156440           21269                   0  \n",
       "..         ...         ...          ...             ...                 ...  \n",
       "346  138989.29    11675100     13700170           24107                   0  \n",
       "347  135650.00    11394600     11768070            4446                   0  \n",
       "348  136686.90    11481700     12784250           15506                   0  \n",
       "353  136103.57    11432700     12432640           11904                   0  \n",
       "355  129282.14    10859700     13711930           32340                1614  \n",
       "\n",
       "[124 rows x 34 columns]"
      ]
     },
     "execution_count": 135,
     "metadata": {},
     "output_type": "execute_result"
    }
   ],
   "source": [
    "df_raw[(df_raw['StartDate'] == '2015-01-01') & (df_raw['AvgCharge'] > 120000)]"
   ]
  },
  {
   "cell_type": "code",
   "execution_count": 136,
   "id": "c290979a",
   "metadata": {
    "ExecuteTime": {
     "end_time": "2022-03-15T04:28:10.245221Z",
     "start_time": "2022-03-15T04:28:10.214189Z"
    }
   },
   "outputs": [
    {
     "data": {
      "text/html": [
       "<div>\n",
       "<style scoped>\n",
       "    .dataframe tbody tr th:only-of-type {\n",
       "        vertical-align: middle;\n",
       "    }\n",
       "\n",
       "    .dataframe tbody tr th {\n",
       "        vertical-align: top;\n",
       "    }\n",
       "\n",
       "    .dataframe thead th {\n",
       "        text-align: right;\n",
       "    }\n",
       "</style>\n",
       "<table border=\"1\" class=\"dataframe\">\n",
       "  <thead>\n",
       "    <tr style=\"text-align: right;\">\n",
       "      <th></th>\n",
       "      <th>CustomerId</th>\n",
       "      <th>Gender</th>\n",
       "      <th>Age</th>\n",
       "      <th>AgeGroup</th>\n",
       "      <th>Married</th>\n",
       "      <th>Dependents</th>\n",
       "      <th>noDependents</th>\n",
       "      <th>Referrals</th>\n",
       "      <th>noReferrals</th>\n",
       "      <th>PaperlessBilling</th>\n",
       "      <th>...</th>\n",
       "      <th>SatisScore</th>\n",
       "      <th>TotalExtraDataCharge</th>\n",
       "      <th>AvgRoamCharge</th>\n",
       "      <th>TotalRoamCharge</th>\n",
       "      <th>TenureMonths</th>\n",
       "      <th>AvgCharge</th>\n",
       "      <th>TotalCharge</th>\n",
       "      <th>TotalRevenue</th>\n",
       "      <th>MonthRoamCharge</th>\n",
       "      <th>AvgExtraDataCharge</th>\n",
       "    </tr>\n",
       "  </thead>\n",
       "  <tbody>\n",
       "    <tr>\n",
       "      <th>0</th>\n",
       "      <td>C-15445</td>\n",
       "      <td>1</td>\n",
       "      <td>33</td>\n",
       "      <td>30</td>\n",
       "      <td>1</td>\n",
       "      <td>0</td>\n",
       "      <td>0</td>\n",
       "      <td>1</td>\n",
       "      <td>10</td>\n",
       "      <td>1</td>\n",
       "      <td>...</td>\n",
       "      <td>3</td>\n",
       "      <td>79100</td>\n",
       "      <td>50060</td>\n",
       "      <td>3601760</td>\n",
       "      <td>84</td>\n",
       "      <td>122057.14</td>\n",
       "      <td>10252800</td>\n",
       "      <td>13933660</td>\n",
       "      <td>42878</td>\n",
       "      <td>941</td>\n",
       "    </tr>\n",
       "    <tr>\n",
       "      <th>3</th>\n",
       "      <td>C-16790</td>\n",
       "      <td>0</td>\n",
       "      <td>64</td>\n",
       "      <td>60</td>\n",
       "      <td>1</td>\n",
       "      <td>0</td>\n",
       "      <td>0</td>\n",
       "      <td>1</td>\n",
       "      <td>6</td>\n",
       "      <td>1</td>\n",
       "      <td>...</td>\n",
       "      <td>3</td>\n",
       "      <td>0</td>\n",
       "      <td>26330</td>\n",
       "      <td>1893200</td>\n",
       "      <td>84</td>\n",
       "      <td>134971.43</td>\n",
       "      <td>11337600</td>\n",
       "      <td>13230800</td>\n",
       "      <td>22538</td>\n",
       "      <td>0</td>\n",
       "    </tr>\n",
       "    <tr>\n",
       "      <th>5</th>\n",
       "      <td>C-11381</td>\n",
       "      <td>0</td>\n",
       "      <td>51</td>\n",
       "      <td>50</td>\n",
       "      <td>1</td>\n",
       "      <td>1</td>\n",
       "      <td>1</td>\n",
       "      <td>0</td>\n",
       "      <td>0</td>\n",
       "      <td>0</td>\n",
       "      <td>...</td>\n",
       "      <td>3</td>\n",
       "      <td>0</td>\n",
       "      <td>28250</td>\n",
       "      <td>2029930</td>\n",
       "      <td>84</td>\n",
       "      <td>133009.52</td>\n",
       "      <td>11172800</td>\n",
       "      <td>13202730</td>\n",
       "      <td>24165</td>\n",
       "      <td>0</td>\n",
       "    </tr>\n",
       "    <tr>\n",
       "      <th>7</th>\n",
       "      <td>C-13059</td>\n",
       "      <td>0</td>\n",
       "      <td>52</td>\n",
       "      <td>50</td>\n",
       "      <td>1</td>\n",
       "      <td>0</td>\n",
       "      <td>0</td>\n",
       "      <td>1</td>\n",
       "      <td>5</td>\n",
       "      <td>1</td>\n",
       "      <td>...</td>\n",
       "      <td>3</td>\n",
       "      <td>0</td>\n",
       "      <td>34800</td>\n",
       "      <td>2501820</td>\n",
       "      <td>84</td>\n",
       "      <td>136104.76</td>\n",
       "      <td>11432800</td>\n",
       "      <td>13934620</td>\n",
       "      <td>29783</td>\n",
       "      <td>0</td>\n",
       "    </tr>\n",
       "    <tr>\n",
       "      <th>9</th>\n",
       "      <td>C-13066</td>\n",
       "      <td>1</td>\n",
       "      <td>25</td>\n",
       "      <td>20</td>\n",
       "      <td>1</td>\n",
       "      <td>0</td>\n",
       "      <td>0</td>\n",
       "      <td>0</td>\n",
       "      <td>0</td>\n",
       "      <td>1</td>\n",
       "      <td>...</td>\n",
       "      <td>3</td>\n",
       "      <td>0</td>\n",
       "      <td>24860</td>\n",
       "      <td>1786640</td>\n",
       "      <td>84</td>\n",
       "      <td>123450.00</td>\n",
       "      <td>10369800</td>\n",
       "      <td>12156440</td>\n",
       "      <td>21269</td>\n",
       "      <td>0</td>\n",
       "    </tr>\n",
       "    <tr>\n",
       "      <th>...</th>\n",
       "      <td>...</td>\n",
       "      <td>...</td>\n",
       "      <td>...</td>\n",
       "      <td>...</td>\n",
       "      <td>...</td>\n",
       "      <td>...</td>\n",
       "      <td>...</td>\n",
       "      <td>...</td>\n",
       "      <td>...</td>\n",
       "      <td>...</td>\n",
       "      <td>...</td>\n",
       "      <td>...</td>\n",
       "      <td>...</td>\n",
       "      <td>...</td>\n",
       "      <td>...</td>\n",
       "      <td>...</td>\n",
       "      <td>...</td>\n",
       "      <td>...</td>\n",
       "      <td>...</td>\n",
       "      <td>...</td>\n",
       "      <td>...</td>\n",
       "    </tr>\n",
       "    <tr>\n",
       "      <th>6616</th>\n",
       "      <td>C-10603</td>\n",
       "      <td>0</td>\n",
       "      <td>21</td>\n",
       "      <td>20</td>\n",
       "      <td>0</td>\n",
       "      <td>0</td>\n",
       "      <td>0</td>\n",
       "      <td>1</td>\n",
       "      <td>3</td>\n",
       "      <td>0</td>\n",
       "      <td>...</td>\n",
       "      <td>1</td>\n",
       "      <td>0</td>\n",
       "      <td>10850</td>\n",
       "      <td>43170</td>\n",
       "      <td>4</td>\n",
       "      <td>120840.00</td>\n",
       "      <td>604200</td>\n",
       "      <td>647370</td>\n",
       "      <td>10792</td>\n",
       "      <td>0</td>\n",
       "    </tr>\n",
       "    <tr>\n",
       "      <th>6631</th>\n",
       "      <td>C-12762</td>\n",
       "      <td>1</td>\n",
       "      <td>29</td>\n",
       "      <td>20</td>\n",
       "      <td>0</td>\n",
       "      <td>0</td>\n",
       "      <td>0</td>\n",
       "      <td>0</td>\n",
       "      <td>0</td>\n",
       "      <td>1</td>\n",
       "      <td>...</td>\n",
       "      <td>2</td>\n",
       "      <td>0</td>\n",
       "      <td>49160</td>\n",
       "      <td>196390</td>\n",
       "      <td>4</td>\n",
       "      <td>123180.00</td>\n",
       "      <td>615900</td>\n",
       "      <td>812290</td>\n",
       "      <td>49097</td>\n",
       "      <td>0</td>\n",
       "    </tr>\n",
       "    <tr>\n",
       "      <th>6679</th>\n",
       "      <td>C-13853</td>\n",
       "      <td>1</td>\n",
       "      <td>65</td>\n",
       "      <td>60</td>\n",
       "      <td>0</td>\n",
       "      <td>0</td>\n",
       "      <td>0</td>\n",
       "      <td>0</td>\n",
       "      <td>0</td>\n",
       "      <td>1</td>\n",
       "      <td>...</td>\n",
       "      <td>1</td>\n",
       "      <td>0</td>\n",
       "      <td>14350</td>\n",
       "      <td>57290</td>\n",
       "      <td>4</td>\n",
       "      <td>125300.00</td>\n",
       "      <td>626500</td>\n",
       "      <td>683790</td>\n",
       "      <td>14322</td>\n",
       "      <td>0</td>\n",
       "    </tr>\n",
       "    <tr>\n",
       "      <th>6685</th>\n",
       "      <td>C-14278</td>\n",
       "      <td>0</td>\n",
       "      <td>32</td>\n",
       "      <td>30</td>\n",
       "      <td>0</td>\n",
       "      <td>0</td>\n",
       "      <td>0</td>\n",
       "      <td>0</td>\n",
       "      <td>0</td>\n",
       "      <td>1</td>\n",
       "      <td>...</td>\n",
       "      <td>1</td>\n",
       "      <td>11300</td>\n",
       "      <td>13450</td>\n",
       "      <td>40450</td>\n",
       "      <td>3</td>\n",
       "      <td>120775.00</td>\n",
       "      <td>483100</td>\n",
       "      <td>534850</td>\n",
       "      <td>13483</td>\n",
       "      <td>3766</td>\n",
       "    </tr>\n",
       "    <tr>\n",
       "      <th>6701</th>\n",
       "      <td>C-13855</td>\n",
       "      <td>0</td>\n",
       "      <td>32</td>\n",
       "      <td>30</td>\n",
       "      <td>0</td>\n",
       "      <td>0</td>\n",
       "      <td>0</td>\n",
       "      <td>0</td>\n",
       "      <td>0</td>\n",
       "      <td>1</td>\n",
       "      <td>...</td>\n",
       "      <td>1</td>\n",
       "      <td>0</td>\n",
       "      <td>11750</td>\n",
       "      <td>11750</td>\n",
       "      <td>1</td>\n",
       "      <td>140700.00</td>\n",
       "      <td>281400</td>\n",
       "      <td>293150</td>\n",
       "      <td>11750</td>\n",
       "      <td>0</td>\n",
       "    </tr>\n",
       "  </tbody>\n",
       "</table>\n",
       "<p>749 rows × 34 columns</p>\n",
       "</div>"
      ],
      "text/plain": [
       "     CustomerId  Gender  Age  AgeGroup  Married  Dependents  noDependents  \\\n",
       "0       C-15445       1   33        30        1           0             0   \n",
       "3       C-16790       0   64        60        1           0             0   \n",
       "5       C-11381       0   51        50        1           1             1   \n",
       "7       C-13059       0   52        50        1           0             0   \n",
       "9       C-13066       1   25        20        1           0             0   \n",
       "...         ...     ...  ...       ...      ...         ...           ...   \n",
       "6616    C-10603       0   21        20        0           0             0   \n",
       "6631    C-12762       1   29        20        0           0             0   \n",
       "6679    C-13853       1   65        60        0           0             0   \n",
       "6685    C-14278       0   32        30        0           0             0   \n",
       "6701    C-13855       0   32        30        0           0             0   \n",
       "\n",
       "      Referrals  noReferrals  PaperlessBilling  ...  SatisScore  \\\n",
       "0             1           10                 1  ...           3   \n",
       "3             1            6                 1  ...           3   \n",
       "5             0            0                 0  ...           3   \n",
       "7             1            5                 1  ...           3   \n",
       "9             0            0                 1  ...           3   \n",
       "...         ...          ...               ...  ...         ...   \n",
       "6616          1            3                 0  ...           1   \n",
       "6631          0            0                 1  ...           2   \n",
       "6679          0            0                 1  ...           1   \n",
       "6685          0            0                 1  ...           1   \n",
       "6701          0            0                 1  ...           1   \n",
       "\n",
       "      TotalExtraDataCharge  AvgRoamCharge  TotalRoamCharge  TenureMonths  \\\n",
       "0                    79100          50060          3601760            84   \n",
       "3                        0          26330          1893200            84   \n",
       "5                        0          28250          2029930            84   \n",
       "7                        0          34800          2501820            84   \n",
       "9                        0          24860          1786640            84   \n",
       "...                    ...            ...              ...           ...   \n",
       "6616                     0          10850            43170             4   \n",
       "6631                     0          49160           196390             4   \n",
       "6679                     0          14350            57290             4   \n",
       "6685                 11300          13450            40450             3   \n",
       "6701                     0          11750            11750             1   \n",
       "\n",
       "      AvgCharge TotalCharge TotalRevenue MonthRoamCharge  AvgExtraDataCharge  \n",
       "0     122057.14    10252800     13933660           42878                 941  \n",
       "3     134971.43    11337600     13230800           22538                   0  \n",
       "5     133009.52    11172800     13202730           24165                   0  \n",
       "7     136104.76    11432800     13934620           29783                   0  \n",
       "9     123450.00    10369800     12156440           21269                   0  \n",
       "...         ...         ...          ...             ...                 ...  \n",
       "6616  120840.00      604200       647370           10792                   0  \n",
       "6631  123180.00      615900       812290           49097                   0  \n",
       "6679  125300.00      626500       683790           14322                   0  \n",
       "6685  120775.00      483100       534850           13483                3766  \n",
       "6701  140700.00      281400       293150           11750                   0  \n",
       "\n",
       "[749 rows x 34 columns]"
      ]
     },
     "execution_count": 136,
     "metadata": {},
     "output_type": "execute_result"
    }
   ],
   "source": [
    "df_raw[df_raw['AvgCharge'] > 120000]"
   ]
  },
  {
   "cell_type": "code",
   "execution_count": 141,
   "id": "f15ef199",
   "metadata": {
    "ExecuteTime": {
     "end_time": "2022-03-15T04:30:46.148014Z",
     "start_time": "2022-03-15T04:30:46.132606Z"
    }
   },
   "outputs": [
    {
     "data": {
      "text/plain": [
       "count       356.00\n",
       "mean      94615.54\n",
       "std       37726.48\n",
       "min       22586.90\n",
       "25%       76374.11\n",
       "50%      104442.26\n",
       "75%      127289.29\n",
       "max      138989.29\n",
       "Name: AvgCharge, dtype: float64"
      ]
     },
     "execution_count": 141,
     "metadata": {},
     "output_type": "execute_result"
    }
   ],
   "source": [
    "df_raw[df_raw['StartDate'] == '2015-01-01']['AvgCharge'].describe()"
   ]
  },
  {
   "cell_type": "code",
   "execution_count": 149,
   "id": "f5b9c840",
   "metadata": {
    "ExecuteTime": {
     "end_time": "2022-03-15T04:34:45.526009Z",
     "start_time": "2022-03-15T04:34:45.494424Z"
    }
   },
   "outputs": [
    {
     "data": {
      "text/html": [
       "<div>\n",
       "<style scoped>\n",
       "    .dataframe tbody tr th:only-of-type {\n",
       "        vertical-align: middle;\n",
       "    }\n",
       "\n",
       "    .dataframe tbody tr th {\n",
       "        vertical-align: top;\n",
       "    }\n",
       "\n",
       "    .dataframe thead th {\n",
       "        text-align: right;\n",
       "    }\n",
       "</style>\n",
       "<table border=\"1\" class=\"dataframe\">\n",
       "  <thead>\n",
       "    <tr style=\"text-align: right;\">\n",
       "      <th></th>\n",
       "      <th>CustomerId</th>\n",
       "      <th>Gender</th>\n",
       "      <th>Age</th>\n",
       "      <th>AgeGroup</th>\n",
       "      <th>Married</th>\n",
       "      <th>Dependents</th>\n",
       "      <th>noDependents</th>\n",
       "      <th>Referrals</th>\n",
       "      <th>noReferrals</th>\n",
       "      <th>PaperlessBilling</th>\n",
       "      <th>...</th>\n",
       "      <th>SatisScore</th>\n",
       "      <th>TotalExtraDataCharge</th>\n",
       "      <th>AvgRoamCharge</th>\n",
       "      <th>TotalRoamCharge</th>\n",
       "      <th>TenureMonths</th>\n",
       "      <th>AvgCharge</th>\n",
       "      <th>TotalCharge</th>\n",
       "      <th>TotalRevenue</th>\n",
       "      <th>MonthRoamCharge</th>\n",
       "      <th>AvgExtraDataCharge</th>\n",
       "    </tr>\n",
       "  </thead>\n",
       "  <tbody>\n",
       "    <tr>\n",
       "      <th>0</th>\n",
       "      <td>C-15445</td>\n",
       "      <td>1</td>\n",
       "      <td>33</td>\n",
       "      <td>30</td>\n",
       "      <td>1</td>\n",
       "      <td>0</td>\n",
       "      <td>0</td>\n",
       "      <td>1</td>\n",
       "      <td>10</td>\n",
       "      <td>1</td>\n",
       "      <td>...</td>\n",
       "      <td>3</td>\n",
       "      <td>79100</td>\n",
       "      <td>50060</td>\n",
       "      <td>3601760</td>\n",
       "      <td>84</td>\n",
       "      <td>122057.14</td>\n",
       "      <td>10252800</td>\n",
       "      <td>13933660</td>\n",
       "      <td>42878</td>\n",
       "      <td>941</td>\n",
       "    </tr>\n",
       "    <tr>\n",
       "      <th>1</th>\n",
       "      <td>C-10540</td>\n",
       "      <td>0</td>\n",
       "      <td>29</td>\n",
       "      <td>20</td>\n",
       "      <td>1</td>\n",
       "      <td>1</td>\n",
       "      <td>1</td>\n",
       "      <td>1</td>\n",
       "      <td>9</td>\n",
       "      <td>0</td>\n",
       "      <td>...</td>\n",
       "      <td>3</td>\n",
       "      <td>0</td>\n",
       "      <td>30740</td>\n",
       "      <td>2209720</td>\n",
       "      <td>84</td>\n",
       "      <td>23733.33</td>\n",
       "      <td>1993600</td>\n",
       "      <td>4203320</td>\n",
       "      <td>26306</td>\n",
       "      <td>0</td>\n",
       "    </tr>\n",
       "    <tr>\n",
       "      <th>2</th>\n",
       "      <td>C-13015</td>\n",
       "      <td>0</td>\n",
       "      <td>61</td>\n",
       "      <td>60</td>\n",
       "      <td>1</td>\n",
       "      <td>0</td>\n",
       "      <td>0</td>\n",
       "      <td>1</td>\n",
       "      <td>2</td>\n",
       "      <td>0</td>\n",
       "      <td>...</td>\n",
       "      <td>3</td>\n",
       "      <td>0</td>\n",
       "      <td>38760</td>\n",
       "      <td>2789860</td>\n",
       "      <td>84</td>\n",
       "      <td>30245.24</td>\n",
       "      <td>2540600</td>\n",
       "      <td>5330460</td>\n",
       "      <td>33212</td>\n",
       "      <td>0</td>\n",
       "    </tr>\n",
       "    <tr>\n",
       "      <th>3</th>\n",
       "      <td>C-16790</td>\n",
       "      <td>0</td>\n",
       "      <td>64</td>\n",
       "      <td>60</td>\n",
       "      <td>1</td>\n",
       "      <td>0</td>\n",
       "      <td>0</td>\n",
       "      <td>1</td>\n",
       "      <td>6</td>\n",
       "      <td>1</td>\n",
       "      <td>...</td>\n",
       "      <td>3</td>\n",
       "      <td>0</td>\n",
       "      <td>26330</td>\n",
       "      <td>1893200</td>\n",
       "      <td>84</td>\n",
       "      <td>134971.43</td>\n",
       "      <td>11337600</td>\n",
       "      <td>13230800</td>\n",
       "      <td>22538</td>\n",
       "      <td>0</td>\n",
       "    </tr>\n",
       "    <tr>\n",
       "      <th>4</th>\n",
       "      <td>C-10534</td>\n",
       "      <td>0</td>\n",
       "      <td>22</td>\n",
       "      <td>20</td>\n",
       "      <td>0</td>\n",
       "      <td>1</td>\n",
       "      <td>1</td>\n",
       "      <td>0</td>\n",
       "      <td>0</td>\n",
       "      <td>0</td>\n",
       "      <td>...</td>\n",
       "      <td>4</td>\n",
       "      <td>0</td>\n",
       "      <td>36050</td>\n",
       "      <td>2597870</td>\n",
       "      <td>84</td>\n",
       "      <td>23478.57</td>\n",
       "      <td>1972200</td>\n",
       "      <td>4570070</td>\n",
       "      <td>30927</td>\n",
       "      <td>0</td>\n",
       "    </tr>\n",
       "    <tr>\n",
       "      <th>...</th>\n",
       "      <td>...</td>\n",
       "      <td>...</td>\n",
       "      <td>...</td>\n",
       "      <td>...</td>\n",
       "      <td>...</td>\n",
       "      <td>...</td>\n",
       "      <td>...</td>\n",
       "      <td>...</td>\n",
       "      <td>...</td>\n",
       "      <td>...</td>\n",
       "      <td>...</td>\n",
       "      <td>...</td>\n",
       "      <td>...</td>\n",
       "      <td>...</td>\n",
       "      <td>...</td>\n",
       "      <td>...</td>\n",
       "      <td>...</td>\n",
       "      <td>...</td>\n",
       "      <td>...</td>\n",
       "      <td>...</td>\n",
       "      <td>...</td>\n",
       "    </tr>\n",
       "    <tr>\n",
       "      <th>6858</th>\n",
       "      <td>C-15572</td>\n",
       "      <td>0</td>\n",
       "      <td>49</td>\n",
       "      <td>40</td>\n",
       "      <td>0</td>\n",
       "      <td>0</td>\n",
       "      <td>0</td>\n",
       "      <td>0</td>\n",
       "      <td>0</td>\n",
       "      <td>1</td>\n",
       "      <td>...</td>\n",
       "      <td>1</td>\n",
       "      <td>0</td>\n",
       "      <td>0</td>\n",
       "      <td>0</td>\n",
       "      <td>1</td>\n",
       "      <td>48750.00</td>\n",
       "      <td>97500</td>\n",
       "      <td>97500</td>\n",
       "      <td>0</td>\n",
       "      <td>0</td>\n",
       "    </tr>\n",
       "    <tr>\n",
       "      <th>6859</th>\n",
       "      <td>C-11643</td>\n",
       "      <td>0</td>\n",
       "      <td>22</td>\n",
       "      <td>20</td>\n",
       "      <td>0</td>\n",
       "      <td>0</td>\n",
       "      <td>0</td>\n",
       "      <td>0</td>\n",
       "      <td>0</td>\n",
       "      <td>1</td>\n",
       "      <td>...</td>\n",
       "      <td>1</td>\n",
       "      <td>0</td>\n",
       "      <td>16500</td>\n",
       "      <td>16500</td>\n",
       "      <td>1</td>\n",
       "      <td>70150.00</td>\n",
       "      <td>140300</td>\n",
       "      <td>156800</td>\n",
       "      <td>16500</td>\n",
       "      <td>0</td>\n",
       "    </tr>\n",
       "    <tr>\n",
       "      <th>6860</th>\n",
       "      <td>C-12050</td>\n",
       "      <td>1</td>\n",
       "      <td>48</td>\n",
       "      <td>40</td>\n",
       "      <td>0</td>\n",
       "      <td>0</td>\n",
       "      <td>0</td>\n",
       "      <td>0</td>\n",
       "      <td>0</td>\n",
       "      <td>1</td>\n",
       "      <td>...</td>\n",
       "      <td>2</td>\n",
       "      <td>0</td>\n",
       "      <td>49160</td>\n",
       "      <td>49160</td>\n",
       "      <td>1</td>\n",
       "      <td>22800.00</td>\n",
       "      <td>45600</td>\n",
       "      <td>94760</td>\n",
       "      <td>49160</td>\n",
       "      <td>0</td>\n",
       "    </tr>\n",
       "    <tr>\n",
       "      <th>6861</th>\n",
       "      <td>C-10979</td>\n",
       "      <td>1</td>\n",
       "      <td>68</td>\n",
       "      <td>60</td>\n",
       "      <td>0</td>\n",
       "      <td>0</td>\n",
       "      <td>0</td>\n",
       "      <td>0</td>\n",
       "      <td>0</td>\n",
       "      <td>1</td>\n",
       "      <td>...</td>\n",
       "      <td>1</td>\n",
       "      <td>0</td>\n",
       "      <td>34130</td>\n",
       "      <td>34130</td>\n",
       "      <td>1</td>\n",
       "      <td>99800.00</td>\n",
       "      <td>199600</td>\n",
       "      <td>233730</td>\n",
       "      <td>34130</td>\n",
       "      <td>0</td>\n",
       "    </tr>\n",
       "    <tr>\n",
       "      <th>6862</th>\n",
       "      <td>C-11371</td>\n",
       "      <td>1</td>\n",
       "      <td>47</td>\n",
       "      <td>40</td>\n",
       "      <td>0</td>\n",
       "      <td>0</td>\n",
       "      <td>0</td>\n",
       "      <td>0</td>\n",
       "      <td>0</td>\n",
       "      <td>1</td>\n",
       "      <td>...</td>\n",
       "      <td>3</td>\n",
       "      <td>0</td>\n",
       "      <td>11870</td>\n",
       "      <td>23840</td>\n",
       "      <td>2</td>\n",
       "      <td>113833.33</td>\n",
       "      <td>341500</td>\n",
       "      <td>365340</td>\n",
       "      <td>11920</td>\n",
       "      <td>0</td>\n",
       "    </tr>\n",
       "  </tbody>\n",
       "</table>\n",
       "<p>6863 rows × 34 columns</p>\n",
       "</div>"
      ],
      "text/plain": [
       "     CustomerId  Gender  Age  AgeGroup  Married  Dependents  noDependents  \\\n",
       "0       C-15445       1   33        30        1           0             0   \n",
       "1       C-10540       0   29        20        1           1             1   \n",
       "2       C-13015       0   61        60        1           0             0   \n",
       "3       C-16790       0   64        60        1           0             0   \n",
       "4       C-10534       0   22        20        0           1             1   \n",
       "...         ...     ...  ...       ...      ...         ...           ...   \n",
       "6858    C-15572       0   49        40        0           0             0   \n",
       "6859    C-11643       0   22        20        0           0             0   \n",
       "6860    C-12050       1   48        40        0           0             0   \n",
       "6861    C-10979       1   68        60        0           0             0   \n",
       "6862    C-11371       1   47        40        0           0             0   \n",
       "\n",
       "      Referrals  noReferrals  PaperlessBilling  ...  SatisScore  \\\n",
       "0             1           10                 1  ...           3   \n",
       "1             1            9                 0  ...           3   \n",
       "2             1            2                 0  ...           3   \n",
       "3             1            6                 1  ...           3   \n",
       "4             0            0                 0  ...           4   \n",
       "...         ...          ...               ...  ...         ...   \n",
       "6858          0            0                 1  ...           1   \n",
       "6859          0            0                 1  ...           1   \n",
       "6860          0            0                 1  ...           2   \n",
       "6861          0            0                 1  ...           1   \n",
       "6862          0            0                 1  ...           3   \n",
       "\n",
       "      TotalExtraDataCharge  AvgRoamCharge  TotalRoamCharge  TenureMonths  \\\n",
       "0                    79100          50060          3601760            84   \n",
       "1                        0          30740          2209720            84   \n",
       "2                        0          38760          2789860            84   \n",
       "3                        0          26330          1893200            84   \n",
       "4                        0          36050          2597870            84   \n",
       "...                    ...            ...              ...           ...   \n",
       "6858                     0              0                0             1   \n",
       "6859                     0          16500            16500             1   \n",
       "6860                     0          49160            49160             1   \n",
       "6861                     0          34130            34130             1   \n",
       "6862                     0          11870            23840             2   \n",
       "\n",
       "      AvgCharge TotalCharge TotalRevenue MonthRoamCharge  AvgExtraDataCharge  \n",
       "0     122057.14    10252800     13933660           42878                 941  \n",
       "1      23733.33     1993600      4203320           26306                   0  \n",
       "2      30245.24     2540600      5330460           33212                   0  \n",
       "3     134971.43    11337600     13230800           22538                   0  \n",
       "4      23478.57     1972200      4570070           30927                   0  \n",
       "...         ...         ...          ...             ...                 ...  \n",
       "6858   48750.00       97500        97500               0                   0  \n",
       "6859   70150.00      140300       156800           16500                   0  \n",
       "6860   22800.00       45600        94760           49160                   0  \n",
       "6861   99800.00      199600       233730           34130                   0  \n",
       "6862  113833.33      341500       365340           11920                   0  \n",
       "\n",
       "[6863 rows x 34 columns]"
      ]
     },
     "execution_count": 149,
     "metadata": {},
     "output_type": "execute_result"
    }
   ],
   "source": [
    "df_raw"
   ]
  },
  {
   "cell_type": "code",
   "execution_count": 150,
   "id": "5bdc3093",
   "metadata": {
    "ExecuteTime": {
     "end_time": "2022-03-15T04:36:06.420757Z",
     "start_time": "2022-03-15T04:36:06.256500Z"
    }
   },
   "outputs": [
    {
     "data": {
      "text/plain": [
       "<AxesSubplot:xlabel='StartDate'>"
      ]
     },
     "execution_count": 150,
     "metadata": {},
     "output_type": "execute_result"
    },
    {
     "data": {
      "image/png": "[encoded data removed]",
      "text/plain": [
       "<Figure size 1080x504 with 1 Axes>"
      ]
     },
     "metadata": {
      "needs_background": "light"
     },
     "output_type": "display_data"
    }
   ],
   "source": [
    "df_raw.loc[:1360].plot.line(y=['TotalRevenue'], x='StartDate', figsize=(15,7))"
   ]
  },
  {
   "cell_type": "code",
   "execution_count": 148,
   "id": "88163828",
   "metadata": {
    "ExecuteTime": {
     "end_time": "2022-03-15T04:34:26.447732Z",
     "start_time": "2022-03-15T04:34:26.285663Z"
    }
   },
   "outputs": [
    {
     "data": {
      "text/plain": [
       "<AxesSubplot:xlabel='StartDate'>"
      ]
     },
     "execution_count": 148,
     "metadata": {},
     "output_type": "execute_result"
    },
    {
     "data": {
      "image/png": "[encoded data removed]",
      "text/plain": [
       "<Figure size 1080x504 with 1 Axes>"
      ]
     },
     "metadata": {
      "needs_background": "light"
     },
     "output_type": "display_data"
    }
   ],
   "source": [
    "df_raw.loc[:1360].plot.line(y=['AvgCharge'], x='StartDate', figsize=(15,7))"
   ]
  },
  {
   "cell_type": "code",
   "execution_count": 140,
   "id": "a4557111",
   "metadata": {
    "ExecuteTime": {
     "end_time": "2022-03-15T04:29:20.125176Z",
     "start_time": "2022-03-15T04:29:19.960697Z"
    }
   },
   "outputs": [
    {
     "data": {
      "text/plain": [
       "<AxesSubplot:xlabel='StartDate'>"
      ]
     },
     "execution_count": 140,
     "metadata": {},
     "output_type": "execute_result"
    },
    {
     "data": {
      "image/png": "[encoded data removed]",
      "text/plain": [
       "<Figure size 1080x504 with 1 Axes>"
      ]
     },
     "metadata": {
      "needs_background": "light"
     },
     "output_type": "display_data"
    }
   ],
   "source": [
    "# 시계열 그래프\n",
    "df_raw[ (df_raw['StartDate'] == '2015-01-01')].plot.line(y=['AvgCharge'], x='StartDate', figsize=(15,7))"
   ]
  },
  {
   "cell_type": "code",
   "execution_count": 157,
   "id": "b446db94",
   "metadata": {
    "ExecuteTime": {
     "end_time": "2022-03-15T04:41:59.917394Z",
     "start_time": "2022-03-15T04:41:59.759328Z"
    }
   },
   "outputs": [],
   "source": [
    "df_raw2 = pd.read_csv('telco_charge.csv', encoding='euc-kr', parse_dates=['ChargeDate'])"
   ]
  },
  {
   "cell_type": "code",
   "execution_count": 163,
   "id": "62aad6ee",
   "metadata": {
    "ExecuteTime": {
     "end_time": "2022-03-15T05:09:24.388451Z",
     "start_time": "2022-03-15T05:09:24.358742Z"
    }
   },
   "outputs": [],
   "source": [
    "total_chargeAmt = df_raw2.groupby('ChargeDate')[\"ChargeAmt\"].agg(**{'TotalChargeAmt':'sum'}).reset_index()"
   ]
  },
  {
   "cell_type": "code",
   "execution_count": 168,
   "id": "a42eb79f",
   "metadata": {
    "ExecuteTime": {
     "end_time": "2022-03-15T05:10:14.424630Z",
     "start_time": "2022-03-15T05:10:14.399490Z"
    },
    "scrolled": true
   },
   "outputs": [
    {
     "name": "stdout",
     "output_type": "stream",
     "text": [
      "<class 'pandas.core.frame.DataFrame'>\n",
      "RangeIndex: 84 entries, 0 to 83\n",
      "Data columns (total 2 columns):\n",
      " #   Column          Non-Null Count  Dtype         \n",
      "---  ------          --------------  -----         \n",
      " 0   ChargeDate      84 non-null     datetime64[ns]\n",
      " 1   TotalChargeAmt  84 non-null     int64         \n",
      "dtypes: datetime64[ns](1), int64(1)\n",
      "memory usage: 1.4 KB\n"
     ]
    }
   ],
   "source": [
    "total_chargeAmt.info()"
   ]
  },
  {
   "cell_type": "code",
   "execution_count": 169,
   "id": "ad6e2f48",
   "metadata": {
    "ExecuteTime": {
     "end_time": "2022-03-15T05:11:22.544557Z",
     "start_time": "2022-03-15T05:11:22.340963Z"
    }
   },
   "outputs": [
    {
     "data": {
      "text/plain": [
       "<AxesSubplot:xlabel='ChargeDate'>"
      ]
     },
     "execution_count": 169,
     "metadata": {},
     "output_type": "execute_result"
    },
    {
     "data": {
      "image/png": "[encoded data removed]",
      "text/plain": [
       "<Figure size 1080x504 with 1 Axes>"
      ]
     },
     "metadata": {
      "needs_background": "light"
     },
     "output_type": "display_data"
    }
   ],
   "source": [
    "# 시계열 그래프\n",
    "total_chargeAmt.plot.line(y=['TotalChargeAmt'], x='ChargeDate', figsize=(15,7))"
   ]
  },
  {
   "cell_type": "code",
   "execution_count": 170,
   "id": "2b50b855",
   "metadata": {
    "ExecuteTime": {
     "end_time": "2022-03-15T05:16:53.014916Z",
     "start_time": "2022-03-15T05:16:52.978060Z"
    }
   },
   "outputs": [],
   "source": [
    "active_user = df_raw2.groupby('ChargeDate')[\"ChargeAmt\"].agg(**{'ActiveUser':'count'}).reset_index()"
   ]
  },
  {
   "cell_type": "code",
   "execution_count": 171,
   "id": "061f1e38",
   "metadata": {
    "ExecuteTime": {
     "end_time": "2022-03-15T05:16:56.894546Z",
     "start_time": "2022-03-15T05:16:56.872686Z"
    }
   },
   "outputs": [
    {
     "data": {
      "text/html": [
       "<div>\n",
       "<style scoped>\n",
       "    .dataframe tbody tr th:only-of-type {\n",
       "        vertical-align: middle;\n",
       "    }\n",
       "\n",
       "    .dataframe tbody tr th {\n",
       "        vertical-align: top;\n",
       "    }\n",
       "\n",
       "    .dataframe thead th {\n",
       "        text-align: right;\n",
       "    }\n",
       "</style>\n",
       "<table border=\"1\" class=\"dataframe\">\n",
       "  <thead>\n",
       "    <tr style=\"text-align: right;\">\n",
       "      <th></th>\n",
       "      <th>ChargeDate</th>\n",
       "      <th>ActiveUser</th>\n",
       "    </tr>\n",
       "  </thead>\n",
       "  <tbody>\n",
       "    <tr>\n",
       "      <th>0</th>\n",
       "      <td>2015-01-01</td>\n",
       "      <td>356</td>\n",
       "    </tr>\n",
       "    <tr>\n",
       "      <th>1</th>\n",
       "      <td>2015-02-01</td>\n",
       "      <td>520</td>\n",
       "    </tr>\n",
       "    <tr>\n",
       "      <th>2</th>\n",
       "      <td>2015-03-01</td>\n",
       "      <td>629</td>\n",
       "    </tr>\n",
       "    <tr>\n",
       "      <th>3</th>\n",
       "      <td>2015-04-01</td>\n",
       "      <td>718</td>\n",
       "    </tr>\n",
       "    <tr>\n",
       "      <th>4</th>\n",
       "      <td>2015-05-01</td>\n",
       "      <td>815</td>\n",
       "    </tr>\n",
       "    <tr>\n",
       "      <th>...</th>\n",
       "      <td>...</td>\n",
       "      <td>...</td>\n",
       "    </tr>\n",
       "    <tr>\n",
       "      <th>79</th>\n",
       "      <td>2021-08-01</td>\n",
       "      <td>5887</td>\n",
       "    </tr>\n",
       "    <tr>\n",
       "      <th>80</th>\n",
       "      <td>2021-09-01</td>\n",
       "      <td>5747</td>\n",
       "    </tr>\n",
       "    <tr>\n",
       "      <th>81</th>\n",
       "      <td>2021-10-01</td>\n",
       "      <td>5638</td>\n",
       "    </tr>\n",
       "    <tr>\n",
       "      <th>82</th>\n",
       "      <td>2021-11-01</td>\n",
       "      <td>5403</td>\n",
       "    </tr>\n",
       "    <tr>\n",
       "      <th>83</th>\n",
       "      <td>2021-12-01</td>\n",
       "      <td>5265</td>\n",
       "    </tr>\n",
       "  </tbody>\n",
       "</table>\n",
       "<p>84 rows × 2 columns</p>\n",
       "</div>"
      ],
      "text/plain": [
       "   ChargeDate  ActiveUser\n",
       "0  2015-01-01         356\n",
       "1  2015-02-01         520\n",
       "2  2015-03-01         629\n",
       "3  2015-04-01         718\n",
       "4  2015-05-01         815\n",
       "..        ...         ...\n",
       "79 2021-08-01        5887\n",
       "80 2021-09-01        5747\n",
       "81 2021-10-01        5638\n",
       "82 2021-11-01        5403\n",
       "83 2021-12-01        5265\n",
       "\n",
       "[84 rows x 2 columns]"
      ]
     },
     "execution_count": 171,
     "metadata": {},
     "output_type": "execute_result"
    }
   ],
   "source": [
    "active_user"
   ]
  },
  {
   "cell_type": "code",
   "execution_count": 173,
   "id": "e671cd28",
   "metadata": {
    "ExecuteTime": {
     "end_time": "2022-03-15T05:17:14.890109Z",
     "start_time": "2022-03-15T05:17:14.716363Z"
    }
   },
   "outputs": [
    {
     "data": {
      "text/plain": [
       "<AxesSubplot:xlabel='ChargeDate'>"
      ]
     },
     "execution_count": 173,
     "metadata": {},
     "output_type": "execute_result"
    },
    {
     "data": {
      "image/png": "[encoded data removed]",
      "text/plain": [
       "<Figure size 1080x504 with 1 Axes>"
      ]
     },
     "metadata": {
      "needs_background": "light"
     },
     "output_type": "display_data"
    }
   ],
   "source": [
    "# 시계열 그래프\n",
    "active_user.plot.line(y=['ActiveUser'], x='ChargeDate', figsize=(15,7))"
   ]
  },
  {
   "cell_type": "code",
   "execution_count": 179,
   "id": "b846c269",
   "metadata": {
    "ExecuteTime": {
     "end_time": "2022-03-15T05:35:42.262422Z",
     "start_time": "2022-03-15T05:35:42.251862Z"
    }
   },
   "outputs": [
    {
     "data": {
      "text/plain": [
       "0              NaN\n",
       "1              NaN\n",
       "2              NaN\n",
       "3              NaN\n",
       "4              NaN\n",
       "           ...    \n",
       "6858    2021-11-01\n",
       "6859    2021-11-01\n",
       "6860    2021-11-01\n",
       "6861    2021-11-01\n",
       "6862    2021-12-01\n",
       "Name: EndDate, Length: 6863, dtype: object"
      ]
     },
     "execution_count": 179,
     "metadata": {},
     "output_type": "execute_result"
    }
   ],
   "source": [
    "df_raw['EndDate'] = df_raw['EndDate']"
   ]
  },
  {
   "cell_type": "code",
   "execution_count": 180,
   "id": "bd324d48",
   "metadata": {
    "ExecuteTime": {
     "end_time": "2022-03-15T05:36:35.218262Z",
     "start_time": "2022-03-15T05:36:35.200423Z"
    }
   },
   "outputs": [],
   "source": [
    "df_raw['EndDate'] = pd.to_datetime(df_raw.EndDate)"
   ]
  },
  {
   "cell_type": "code",
   "execution_count": 186,
   "id": "5c2c70ae",
   "metadata": {
    "ExecuteTime": {
     "end_time": "2022-03-15T05:37:34.035139Z",
     "start_time": "2022-03-15T05:37:33.997399Z"
    }
   },
   "outputs": [
    {
     "data": {
      "text/html": [
       "<div>\n",
       "<style scoped>\n",
       "    .dataframe tbody tr th:only-of-type {\n",
       "        vertical-align: middle;\n",
       "    }\n",
       "\n",
       "    .dataframe tbody tr th {\n",
       "        vertical-align: top;\n",
       "    }\n",
       "\n",
       "    .dataframe thead th {\n",
       "        text-align: right;\n",
       "    }\n",
       "</style>\n",
       "<table border=\"1\" class=\"dataframe\">\n",
       "  <thead>\n",
       "    <tr style=\"text-align: right;\">\n",
       "      <th></th>\n",
       "      <th>CustomerId</th>\n",
       "      <th>Gender</th>\n",
       "      <th>Age</th>\n",
       "      <th>AgeGroup</th>\n",
       "      <th>Married</th>\n",
       "      <th>Dependents</th>\n",
       "      <th>noDependents</th>\n",
       "      <th>Referrals</th>\n",
       "      <th>noReferrals</th>\n",
       "      <th>PaperlessBilling</th>\n",
       "      <th>...</th>\n",
       "      <th>SatisScore</th>\n",
       "      <th>TotalExtraDataCharge</th>\n",
       "      <th>AvgRoamCharge</th>\n",
       "      <th>TotalRoamCharge</th>\n",
       "      <th>TenureMonths</th>\n",
       "      <th>AvgCharge</th>\n",
       "      <th>TotalCharge</th>\n",
       "      <th>TotalRevenue</th>\n",
       "      <th>MonthRoamCharge</th>\n",
       "      <th>AvgExtraDataCharge</th>\n",
       "    </tr>\n",
       "  </thead>\n",
       "  <tbody>\n",
       "    <tr>\n",
       "      <th>535</th>\n",
       "      <td>C-14649</td>\n",
       "      <td>0</td>\n",
       "      <td>44</td>\n",
       "      <td>40</td>\n",
       "      <td>1</td>\n",
       "      <td>0</td>\n",
       "      <td>0</td>\n",
       "      <td>1</td>\n",
       "      <td>1</td>\n",
       "      <td>0</td>\n",
       "      <td>...</td>\n",
       "      <td>1</td>\n",
       "      <td>113000</td>\n",
       "      <td>0</td>\n",
       "      <td>0</td>\n",
       "      <td>71</td>\n",
       "      <td>57738.89</td>\n",
       "      <td>4157200</td>\n",
       "      <td>4270200</td>\n",
       "      <td>0</td>\n",
       "      <td>1591</td>\n",
       "    </tr>\n",
       "    <tr>\n",
       "      <th>709</th>\n",
       "      <td>C-15080</td>\n",
       "      <td>0</td>\n",
       "      <td>79</td>\n",
       "      <td>70</td>\n",
       "      <td>0</td>\n",
       "      <td>0</td>\n",
       "      <td>0</td>\n",
       "      <td>0</td>\n",
       "      <td>0</td>\n",
       "      <td>1</td>\n",
       "      <td>...</td>\n",
       "      <td>2</td>\n",
       "      <td>0</td>\n",
       "      <td>0</td>\n",
       "      <td>0</td>\n",
       "      <td>70</td>\n",
       "      <td>52853.52</td>\n",
       "      <td>3752600</td>\n",
       "      <td>3752600</td>\n",
       "      <td>0</td>\n",
       "      <td>0</td>\n",
       "    </tr>\n",
       "    <tr>\n",
       "      <th>712</th>\n",
       "      <td>C-10671</td>\n",
       "      <td>0</td>\n",
       "      <td>30</td>\n",
       "      <td>30</td>\n",
       "      <td>1</td>\n",
       "      <td>0</td>\n",
       "      <td>0</td>\n",
       "      <td>1</td>\n",
       "      <td>2</td>\n",
       "      <td>1</td>\n",
       "      <td>...</td>\n",
       "      <td>3</td>\n",
       "      <td>0</td>\n",
       "      <td>55140</td>\n",
       "      <td>3804940</td>\n",
       "      <td>69</td>\n",
       "      <td>118152.86</td>\n",
       "      <td>8270700</td>\n",
       "      <td>12075640</td>\n",
       "      <td>55144</td>\n",
       "      <td>0</td>\n",
       "    </tr>\n",
       "    <tr>\n",
       "      <th>742</th>\n",
       "      <td>C-12283</td>\n",
       "      <td>0</td>\n",
       "      <td>60</td>\n",
       "      <td>60</td>\n",
       "      <td>1</td>\n",
       "      <td>0</td>\n",
       "      <td>0</td>\n",
       "      <td>1</td>\n",
       "      <td>3</td>\n",
       "      <td>1</td>\n",
       "      <td>...</td>\n",
       "      <td>3</td>\n",
       "      <td>0</td>\n",
       "      <td>53450</td>\n",
       "      <td>3798040</td>\n",
       "      <td>71</td>\n",
       "      <td>124909.72</td>\n",
       "      <td>8993500</td>\n",
       "      <td>12791540</td>\n",
       "      <td>53493</td>\n",
       "      <td>0</td>\n",
       "    </tr>\n",
       "    <tr>\n",
       "      <th>764</th>\n",
       "      <td>C-12976</td>\n",
       "      <td>0</td>\n",
       "      <td>24</td>\n",
       "      <td>20</td>\n",
       "      <td>0</td>\n",
       "      <td>0</td>\n",
       "      <td>0</td>\n",
       "      <td>0</td>\n",
       "      <td>0</td>\n",
       "      <td>0</td>\n",
       "      <td>...</td>\n",
       "      <td>3</td>\n",
       "      <td>0</td>\n",
       "      <td>24520</td>\n",
       "      <td>1670480</td>\n",
       "      <td>68</td>\n",
       "      <td>128617.39</td>\n",
       "      <td>8874600</td>\n",
       "      <td>10545080</td>\n",
       "      <td>24565</td>\n",
       "      <td>0</td>\n",
       "    </tr>\n",
       "    <tr>\n",
       "      <th>...</th>\n",
       "      <td>...</td>\n",
       "      <td>...</td>\n",
       "      <td>...</td>\n",
       "      <td>...</td>\n",
       "      <td>...</td>\n",
       "      <td>...</td>\n",
       "      <td>...</td>\n",
       "      <td>...</td>\n",
       "      <td>...</td>\n",
       "      <td>...</td>\n",
       "      <td>...</td>\n",
       "      <td>...</td>\n",
       "      <td>...</td>\n",
       "      <td>...</td>\n",
       "      <td>...</td>\n",
       "      <td>...</td>\n",
       "      <td>...</td>\n",
       "      <td>...</td>\n",
       "      <td>...</td>\n",
       "      <td>...</td>\n",
       "      <td>...</td>\n",
       "    </tr>\n",
       "    <tr>\n",
       "      <th>6858</th>\n",
       "      <td>C-15572</td>\n",
       "      <td>0</td>\n",
       "      <td>49</td>\n",
       "      <td>40</td>\n",
       "      <td>0</td>\n",
       "      <td>0</td>\n",
       "      <td>0</td>\n",
       "      <td>0</td>\n",
       "      <td>0</td>\n",
       "      <td>1</td>\n",
       "      <td>...</td>\n",
       "      <td>1</td>\n",
       "      <td>0</td>\n",
       "      <td>0</td>\n",
       "      <td>0</td>\n",
       "      <td>1</td>\n",
       "      <td>48750.00</td>\n",
       "      <td>97500</td>\n",
       "      <td>97500</td>\n",
       "      <td>0</td>\n",
       "      <td>0</td>\n",
       "    </tr>\n",
       "    <tr>\n",
       "      <th>6859</th>\n",
       "      <td>C-11643</td>\n",
       "      <td>0</td>\n",
       "      <td>22</td>\n",
       "      <td>20</td>\n",
       "      <td>0</td>\n",
       "      <td>0</td>\n",
       "      <td>0</td>\n",
       "      <td>0</td>\n",
       "      <td>0</td>\n",
       "      <td>1</td>\n",
       "      <td>...</td>\n",
       "      <td>1</td>\n",
       "      <td>0</td>\n",
       "      <td>16500</td>\n",
       "      <td>16500</td>\n",
       "      <td>1</td>\n",
       "      <td>70150.00</td>\n",
       "      <td>140300</td>\n",
       "      <td>156800</td>\n",
       "      <td>16500</td>\n",
       "      <td>0</td>\n",
       "    </tr>\n",
       "    <tr>\n",
       "      <th>6860</th>\n",
       "      <td>C-12050</td>\n",
       "      <td>1</td>\n",
       "      <td>48</td>\n",
       "      <td>40</td>\n",
       "      <td>0</td>\n",
       "      <td>0</td>\n",
       "      <td>0</td>\n",
       "      <td>0</td>\n",
       "      <td>0</td>\n",
       "      <td>1</td>\n",
       "      <td>...</td>\n",
       "      <td>2</td>\n",
       "      <td>0</td>\n",
       "      <td>49160</td>\n",
       "      <td>49160</td>\n",
       "      <td>1</td>\n",
       "      <td>22800.00</td>\n",
       "      <td>45600</td>\n",
       "      <td>94760</td>\n",
       "      <td>49160</td>\n",
       "      <td>0</td>\n",
       "    </tr>\n",
       "    <tr>\n",
       "      <th>6861</th>\n",
       "      <td>C-10979</td>\n",
       "      <td>1</td>\n",
       "      <td>68</td>\n",
       "      <td>60</td>\n",
       "      <td>0</td>\n",
       "      <td>0</td>\n",
       "      <td>0</td>\n",
       "      <td>0</td>\n",
       "      <td>0</td>\n",
       "      <td>1</td>\n",
       "      <td>...</td>\n",
       "      <td>1</td>\n",
       "      <td>0</td>\n",
       "      <td>34130</td>\n",
       "      <td>34130</td>\n",
       "      <td>1</td>\n",
       "      <td>99800.00</td>\n",
       "      <td>199600</td>\n",
       "      <td>233730</td>\n",
       "      <td>34130</td>\n",
       "      <td>0</td>\n",
       "    </tr>\n",
       "    <tr>\n",
       "      <th>6862</th>\n",
       "      <td>C-11371</td>\n",
       "      <td>1</td>\n",
       "      <td>47</td>\n",
       "      <td>40</td>\n",
       "      <td>0</td>\n",
       "      <td>0</td>\n",
       "      <td>0</td>\n",
       "      <td>0</td>\n",
       "      <td>0</td>\n",
       "      <td>1</td>\n",
       "      <td>...</td>\n",
       "      <td>3</td>\n",
       "      <td>0</td>\n",
       "      <td>11870</td>\n",
       "      <td>23840</td>\n",
       "      <td>2</td>\n",
       "      <td>113833.33</td>\n",
       "      <td>341500</td>\n",
       "      <td>365340</td>\n",
       "      <td>11920</td>\n",
       "      <td>0</td>\n",
       "    </tr>\n",
       "  </tbody>\n",
       "</table>\n",
       "<p>1702 rows × 34 columns</p>\n",
       "</div>"
      ],
      "text/plain": [
       "     CustomerId  Gender  Age  AgeGroup  Married  Dependents  noDependents  \\\n",
       "535     C-14649       0   44        40        1           0             0   \n",
       "709     C-15080       0   79        70        0           0             0   \n",
       "712     C-10671       0   30        30        1           0             0   \n",
       "742     C-12283       0   60        60        1           0             0   \n",
       "764     C-12976       0   24        20        0           0             0   \n",
       "...         ...     ...  ...       ...      ...         ...           ...   \n",
       "6858    C-15572       0   49        40        0           0             0   \n",
       "6859    C-11643       0   22        20        0           0             0   \n",
       "6860    C-12050       1   48        40        0           0             0   \n",
       "6861    C-10979       1   68        60        0           0             0   \n",
       "6862    C-11371       1   47        40        0           0             0   \n",
       "\n",
       "      Referrals  noReferrals  PaperlessBilling  ...  SatisScore  \\\n",
       "535           1            1                 0  ...           1   \n",
       "709           0            0                 1  ...           2   \n",
       "712           1            2                 1  ...           3   \n",
       "742           1            3                 1  ...           3   \n",
       "764           0            0                 0  ...           3   \n",
       "...         ...          ...               ...  ...         ...   \n",
       "6858          0            0                 1  ...           1   \n",
       "6859          0            0                 1  ...           1   \n",
       "6860          0            0                 1  ...           2   \n",
       "6861          0            0                 1  ...           1   \n",
       "6862          0            0                 1  ...           3   \n",
       "\n",
       "      TotalExtraDataCharge  AvgRoamCharge  TotalRoamCharge  TenureMonths  \\\n",
       "535                 113000              0                0            71   \n",
       "709                      0              0                0            70   \n",
       "712                      0          55140          3804940            69   \n",
       "742                      0          53450          3798040            71   \n",
       "764                      0          24520          1670480            68   \n",
       "...                    ...            ...              ...           ...   \n",
       "6858                     0              0                0             1   \n",
       "6859                     0          16500            16500             1   \n",
       "6860                     0          49160            49160             1   \n",
       "6861                     0          34130            34130             1   \n",
       "6862                     0          11870            23840             2   \n",
       "\n",
       "      AvgCharge TotalCharge TotalRevenue MonthRoamCharge  AvgExtraDataCharge  \n",
       "535    57738.89     4157200      4270200               0                1591  \n",
       "709    52853.52     3752600      3752600               0                   0  \n",
       "712   118152.86     8270700     12075640           55144                   0  \n",
       "742   124909.72     8993500     12791540           53493                   0  \n",
       "764   128617.39     8874600     10545080           24565                   0  \n",
       "...         ...         ...          ...             ...                 ...  \n",
       "6858   48750.00       97500        97500               0                   0  \n",
       "6859   70150.00      140300       156800           16500                   0  \n",
       "6860   22800.00       45600        94760           49160                   0  \n",
       "6861   99800.00      199600       233730           34130                   0  \n",
       "6862  113833.33      341500       365340           11920                   0  \n",
       "\n",
       "[1702 rows x 34 columns]"
      ]
     },
     "execution_count": 186,
     "metadata": {},
     "output_type": "execute_result"
    }
   ],
   "source": [
    "df_raw[df_raw['EndDate'].dt.year == 2021]"
   ]
  },
  {
   "cell_type": "code",
   "execution_count": null,
   "id": "ce38be2a",
   "metadata": {},
   "outputs": [],
   "source": []
  }
 ],
 "metadata": {
  "kernelspec": {
   "display_name": "Python 3.9.9 64-bit ('3.9.9')",
   "language": "python",
   "name": "python399jvsc74a57bd092085505c77bac33bca97ac2695f771c18ad643b190a30b2df4da7a10d970d5c"
  },
  "language_info": {
   "codemirror_mode": {
    "name": "ipython",
    "version": 3
   },
   "file_extension": ".py",
   "mimetype": "text/x-python",
   "name": "python",
   "nbconvert_exporter": "python",
   "pygments_lexer": "ipython3",
   "version": "3.9.9"
  },
  "toc": {
   "base_numbering": 1,
   "nav_menu": {},
   "number_sections": true,
   "sideBar": true,
   "skip_h1_title": false,
   "title_cell": "Table of Contents",
   "title_sidebar": "Contents",
   "toc_cell": false,
   "toc_position": {
    "height": "calc(100% - 180px)",
    "left": "10px",
    "top": "150px",
    "width": "384px"
   },
   "toc_section_display": true,
   "toc_window_display": false
  }
 },
 "nbformat": 4,
 "nbformat_minor": 5
}
