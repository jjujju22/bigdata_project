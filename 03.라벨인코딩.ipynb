{
 "cells": [
  {
   "cell_type": "markdown",
   "id": "6d2cb856",
   "metadata": {},
   "source": [
    "범주형 변수 모두 라벨인코딩으로 변환하기."
   ]
  },
  {
   "cell_type": "code",
   "execution_count": 72,
   "id": "c1d36a13",
   "metadata": {
    "ExecuteTime": {
     "end_time": "2022-03-14T01:08:30.730050Z",
     "start_time": "2022-03-14T01:08:30.716568Z"
    }
   },
   "outputs": [],
   "source": [
    "df_raw['Gender'] = df_raw['Gender'].replace(to_replace='여성', value=1)\n",
    "df_raw['Gender'] = df_raw['Gender'].replace(to_replace='남성', value=0)"
   ]
  },
  {
   "cell_type": "markdown",
   "id": "51117ec0",
   "metadata": {},
   "source": [
    "##### @Married : Yes(1), No(0)"
   ]
  },
  {
   "cell_type": "code",
   "execution_count": 73,
   "id": "b15b1372",
   "metadata": {
    "ExecuteTime": {
     "end_time": "2022-03-14T01:08:31.029265Z",
     "start_time": "2022-03-14T01:08:31.015614Z"
    }
   },
   "outputs": [],
   "source": [
    "df_raw['Married'] = df_raw['Married'].replace(to_replace='Yes', value=1)\n",
    "df_raw['Married'] = df_raw['Married'].replace(to_replace='No', value=0)"
   ]
  },
  {
   "cell_type": "markdown",
   "id": "f33fa8bd",
   "metadata": {},
   "source": [
    "##### @Referrals : Yes(1), No(0)"
   ]
  },
  {
   "cell_type": "code",
   "execution_count": 74,
   "id": "9b40f4e9",
   "metadata": {
    "ExecuteTime": {
     "end_time": "2022-03-14T01:08:31.292543Z",
     "start_time": "2022-03-14T01:08:31.277295Z"
    }
   },
   "outputs": [],
   "source": [
    "df_raw['Referrals'] = df_raw['Referrals'].replace(to_replace='Yes', value=1)\n",
    "df_raw['Referrals'] = df_raw['Referrals'].replace(to_replace='No', value=0)"
   ]
  },
  {
   "cell_type": "markdown",
   "id": "49f36b31",
   "metadata": {
    "ExecuteTime": {
     "end_time": "2022-03-13T09:00:42.804650Z",
     "start_time": "2022-03-13T09:00:42.768109Z"
    }
   },
   "source": [
    "##### @Dependents: Yes(1), No(0)"
   ]
  },
  {
   "cell_type": "code",
   "execution_count": 75,
   "id": "c2894f1a",
   "metadata": {
    "ExecuteTime": {
     "end_time": "2022-03-14T01:08:31.546742Z",
     "start_time": "2022-03-14T01:08:31.529325Z"
    }
   },
   "outputs": [],
   "source": [
    "df_raw['Dependents'] = df_raw['Dependents'].replace(to_replace='Yes', value=1)\n",
    "df_raw['Dependents'] = df_raw['Dependents'].replace(to_replace='No', value=0)"
   ]
  },
  {
   "cell_type": "markdown",
   "id": "4fda3f29",
   "metadata": {},
   "source": [
    "##### @PaperlessBilling  : Yes(1), No(0)"
   ]
  },
  {
   "cell_type": "code",
   "execution_count": 76,
   "id": "0c27fecb",
   "metadata": {
    "ExecuteTime": {
     "end_time": "2022-03-14T01:08:31.792824Z",
     "start_time": "2022-03-14T01:08:31.778547Z"
    }
   },
   "outputs": [],
   "source": [
    "df_raw['PaperlessBilling'] = df_raw['PaperlessBilling'].replace(to_replace='Yes', value=1)\n",
    "df_raw['PaperlessBilling'] = df_raw['PaperlessBilling'].replace(to_replace='No', value=0)"
   ]
  },
  {
   "cell_type": "markdown",
   "id": "ba4f1a95",
   "metadata": {},
   "source": [
    "##### @PaymentMethod"
   ]
  },
  {
   "cell_type": "code",
   "execution_count": 77,
   "id": "fa37662f",
   "metadata": {
    "ExecuteTime": {
     "end_time": "2022-03-14T01:08:32.171642Z",
     "start_time": "2022-03-14T01:08:32.154161Z"
    }
   },
   "outputs": [],
   "source": [
    "df_raw['PaymentMethod'] = df_raw['PaymentMethod'].replace(to_replace='신용카드', value=1)\n",
    "df_raw['PaymentMethod'] = df_raw['PaymentMethod'].replace(to_replace='계좌이체', value=0)\n",
    "df_raw['PaymentMethod'] = df_raw['PaymentMethod'].replace(to_replace='이체/메일확인', value=2)"
   ]
  },
  {
   "cell_type": "markdown",
   "id": "86ab7ca3",
   "metadata": {},
   "source": [
    "##### @OnlineSecurity"
   ]
  },
  {
   "cell_type": "code",
   "execution_count": 78,
   "id": "e9fc8c85",
   "metadata": {
    "ExecuteTime": {
     "end_time": "2022-03-14T01:08:32.461785Z",
     "start_time": "2022-03-14T01:08:32.441999Z"
    }
   },
   "outputs": [],
   "source": [
    "df_raw['OnlineSecurity'] = df_raw['OnlineSecurity'].replace(to_replace='Yes', value=1)\n",
    "df_raw['OnlineSecurity'] = df_raw['OnlineSecurity'].replace(to_replace='No', value=0)"
   ]
  },
  {
   "cell_type": "markdown",
   "id": "7c844b98",
   "metadata": {},
   "source": [
    "##### @OnlineBackup  : Yes(1), No(0)"
   ]
  },
  {
   "cell_type": "code",
   "execution_count": 79,
   "id": "c049d4c3",
   "metadata": {
    "ExecuteTime": {
     "end_time": "2022-03-14T01:08:32.755140Z",
     "start_time": "2022-03-14T01:08:32.741755Z"
    }
   },
   "outputs": [],
   "source": [
    "df_raw['OnlineBackup'] = df_raw['OnlineBackup'].replace(to_replace='Yes', value=1)\n",
    "df_raw['OnlineBackup'] = df_raw['OnlineBackup'].replace(to_replace='No', value=0)"
   ]
  },
  {
   "cell_type": "markdown",
   "id": "6bb94f0f",
   "metadata": {},
   "source": [
    "##### @TechSupport  : Yes(1), No(0)"
   ]
  },
  {
   "cell_type": "code",
   "execution_count": 80,
   "id": "791f8c71",
   "metadata": {
    "ExecuteTime": {
     "end_time": "2022-03-14T01:08:33.093173Z",
     "start_time": "2022-03-14T01:08:33.081190Z"
    }
   },
   "outputs": [],
   "source": [
    "df_raw['TechSupport'] = df_raw['TechSupport'].replace(to_replace='Yes', value=1)\n",
    "df_raw['TechSupport'] = df_raw['TechSupport'].replace(to_replace='No', value=0)"
   ]
  },
  {
   "cell_type": "markdown",
   "id": "91b3c02f",
   "metadata": {},
   "source": [
    "##### @UnlimitedData : Yes(1), No(0)"
   ]
  },
  {
   "cell_type": "code",
   "execution_count": 81,
   "id": "b4d03e31",
   "metadata": {
    "ExecuteTime": {
     "end_time": "2022-03-14T01:08:33.411452Z",
     "start_time": "2022-03-14T01:08:33.391564Z"
    }
   },
   "outputs": [],
   "source": [
    "df_raw['UnlimitedData'] = df_raw['UnlimitedData'].replace(to_replace='Yes', value=1)\n",
    "df_raw['UnlimitedData'] = df_raw['UnlimitedData'].replace(to_replace='No', value=0)"
   ]
  }
 ],
 "metadata": {
  "kernelspec": {
   "display_name": "Python 3.9.9 64-bit ('3.9.9')",
   "language": "python",
   "name": "python399jvsc74a57bd092085505c77bac33bca97ac2695f771c18ad643b190a30b2df4da7a10d970d5c"
  },
  "language_info": {
   "codemirror_mode": {
    "name": "ipython",
    "version": 3
   },
   "file_extension": ".py",
   "mimetype": "text/x-python",
   "name": "python",
   "nbconvert_exporter": "python",
   "pygments_lexer": "ipython3",
   "version": "3.9.9"
  },
  "toc": {
   "base_numbering": 1,
   "nav_menu": {},
   "number_sections": true,
   "sideBar": true,
   "skip_h1_title": false,
   "title_cell": "Table of Contents",
   "title_sidebar": "Contents",
   "toc_cell": false,
   "toc_position": {},
   "toc_section_display": true,
   "toc_window_display": false
  }
 },
 "nbformat": 4,
 "nbformat_minor": 5
}
